{
  "nbformat": 4,
  "nbformat_minor": 0,
  "metadata": {
    "colab": {
      "private_outputs": true,
      "provenance": [],
      "toc_visible": true,
      "include_colab_link": true
    },
    "kernelspec": {
      "name": "python3",
      "display_name": "Python 3"
    },
    "language_info": {
      "name": "python"
    }
  },
  "cells": [
    {
      "cell_type": "markdown",
      "metadata": {
        "id": "view-in-github",
        "colab_type": "text"
      },
      "source": [
        "<a href=\"https://colab.research.google.com/github/nferrucho/PythonUNAL/blob/main/4_1_Funciones_con_Python.ipynb\" target=\"_parent\"><img src=\"https://colab.research.google.com/assets/colab-badge.svg\" alt=\"Open In Colab\"/></a>"
      ]
    },
    {
      "cell_type": "markdown",
      "source": [
        "<img src = \"https://drive.google.com/uc?export=view&id=1dNSL0nQotvGp7hqVymwmxlfN-6cEQSIe\" alt = \"Si no puede ver este encabezado le recomendamos que utilice un navegador distinto. Los navegadores probados son Google Chrome, Opera y Microsoft Edge.\" width = \"80%\">  </img>"
      ],
      "metadata": {
        "id": "0xw3MBSaRRh4"
      }
    },
    {
      "cell_type": "markdown",
      "metadata": {
        "id": "86bnSzVH3I1N"
      },
      "source": [
        "# **Funciones con _Python_**\n",
        "---\n",
        "¡Le damos la bienvenida a la cuarta unidad del módulo de **Introducción a la programación con _Python_**!\n",
        "\n",
        "En este primer material se discutirá el concepto de función, componente fundamental del paradigma de la programación funcional, considerando las reglas en su definición y manipulación en el lenguaje de programación _Python_."
      ]
    },
    {
      "cell_type": "markdown",
      "metadata": {
        "id": "nA0TNSmRk39r"
      },
      "source": [
        "## **1. Programación funcional**\n",
        "---\n",
        "\n",
        "En este punto ya se han discutido la mayoría de los componentes básicos que componen todos los programas que se pueden escribir en _Python_, con flujos complejos y estructuras para el almacenamiento y manejo de datos. En esta unidad se presentarán algunos conceptos adicionales básicos que permiten reutilizar código repetitivo y flexibilizar la estructura de nuestros programas, así como conocer los detalles de los conceptos que hemos utilizado desde el inicio del curso.\n",
        "\n",
        "Cuando un proyecto de código se complejiza, se vuelve una prioridad considerar estrategias para unificar código idéntico que se ejecute en múltiples puntos del programa, para minimizar la tarea de mantenimiento del código. Por ejemplo, un sistema de gestión de información académica debe permitir a sus usuarios realizar la consulta de datos distintos que pueden estar almacenados de forma independiente. Para facilitar tareas repetitivas como la obtención de un curso de la base de datos, o la obtención de información específica como la nota de un estudiante, su horario, profesor o salón, sería conveniente definir ciertos componentes de código una única vez y permitir que sean ejecutados las veces que sean necesarias por los múltiples procesos involucrados en el sistema.\n",
        "\n",
        "<center>\n",
        "<img src = \"https://drive.google.com/uc?export=view&id=1JGFKQkwQnH2nmXLBbS2Tnnl4ti_-kKHA\" width = \"60%\">  </img>\n",
        "</center>\n",
        "\n",
        "</br>\n",
        "\n",
        "\n",
        "\n",
        "En este material se profundizará en el concepto de **función**, que se ha usado desde el inicio del curso. Como veremos más adelante, la definición de nuestras propias funciones nos permite crear bloques de código que podemos ejecutar múltiples veces en un programa, y en cualquier punto del mismo con mucho menos código. Además, veremos una introducción al uso de funciones como un tipo de dato especial que puede ser manipulado y relacionado para construir código más flexible.\n"
      ]
    },
    {
      "cell_type": "markdown",
      "metadata": {
        "id": "zvTtPl6tk9JE"
      },
      "source": [
        "## **2. Funciones**\n",
        "---\n",
        "En el transcurso del curso se ha discutido el uso de las distintas **funciones** disponibles en el lenguaje de programación _Python_. Hemos visto como imprimir en pantalla con la función **`print`**, obtener un valor de la entrada del programa con la función **`input`**, obtener el tamaño de una colección con la función **`len`**, y obtener los máximos o mínimos de una colección con las funciones **`max`** y **`min`**, entre otras."
      ]
    },
    {
      "cell_type": "code",
      "metadata": {
        "id": "k9kvt2xElm1V"
      },
      "source": [
        "# Función print\n",
        "print(\"Esta cadena se mostrará en la salida.\")"
      ],
      "execution_count": null,
      "outputs": []
    },
    {
      "cell_type": "code",
      "metadata": {
        "id": "jGp5RQgkltIU"
      },
      "source": [
        "# Función input\n",
        "entrada = input()\n",
        "entrada"
      ],
      "execution_count": null,
      "outputs": []
    },
    {
      "cell_type": "code",
      "metadata": {
        "id": "uU-I09Qml0_s"
      },
      "source": [
        "# Función len\n",
        "len(\"12345\")"
      ],
      "execution_count": null,
      "outputs": []
    },
    {
      "cell_type": "code",
      "metadata": {
        "id": "SahGAsfTmRRM"
      },
      "source": [
        "# Función max (con valores separados por comas)\n",
        "max(1, 10, 100)"
      ],
      "execution_count": null,
      "outputs": []
    },
    {
      "cell_type": "code",
      "metadata": {
        "id": "FTfYBZ1nmeuI"
      },
      "source": [
        "# Función min (con una lista)\n",
        "min([0, 10, -10])"
      ],
      "execution_count": null,
      "outputs": []
    },
    {
      "cell_type": "markdown",
      "metadata": {
        "id": "20EYmj-3mQI0"
      },
      "source": [
        "Todas estas funciones nos han permitido realizar tareas sin la necesidad de definir ni saber cómo se van a realizar, y las hemos podido utilizar múltiples veces con valores diferentes.\n",
        "\n",
        "En _Python_, una **función** es una secuencia de instrucciones con un nombre asociado que se pueden ejecutar en cualquier momento. Su propósito principal es ayudarnos a organizar los programas en partes reutilizables que coincidan con la forma en que pensamos acerca de la solución de un problema.\n",
        "\n",
        "En su forma más general, una función recibe cero o más **argumentos**, realiza un proceso determinado con sus valores y finaliza **retornando** un valor. Esto se ilustra en el siguiente diagrama, el cual muestra una función que suma sus dos argumentos:\n",
        "\n",
        "<center>\n",
        "<img src = \"https://drive.google.com/uc?export=view&id=1mv3qIcka3T8Gnx6qJNtp9eZSLYRqVdSb\" width = \"60%\">  </img>\n",
        "</center>\n",
        "</br>\n",
        "\n",
        "Este tipo de diagrama a menudo se denomina diagrama de **caja negra** porque sólo establece los requisitos desde la perspectiva del usuario. El usuario puede conocer el nombre de la función y los argumentos que deben pasarse, pero no necesita conocer los detalles de cómo funciona la función, que de cierta manera están ocultos \"dentro de la caja negra\".\n",
        "\n",
        "\n",
        "\n",
        "_Python_ dispone de funciones, que pueden venir por defecto con el lenguaje (como las descritas anteriormente) o creadas por el programador. A continuación, veremos cómo crear funciones en _Python_."
      ]
    },
    {
      "cell_type": "markdown",
      "metadata": {
        "id": "uAXoSVcimBMz"
      },
      "source": [
        "### **2.1. Definición de funciones**\n",
        "---\n",
        "Para definir una función personalizada en _Python_ se debe usar una sentencia de definición de variables, compuesta por lo siguiente:\n",
        "* La palabra reservada **`def`**.\n",
        "* Un nombre válido de variable (usando las mismas reglas usadas al nombrar variables).\n",
        "* Paréntesis de apertura y de cierre, dentro de los cuales se pueden indicar cero o más **argumentos** separados por coma.\n",
        "\n",
        "Tras esta definición inicial, se continúa la escritura con un bloque de código, indentado de la misma manera que al utilizar sentencias como **`if`**, **`while`** o **`for`**. En resúmen, tendríamos la siguiente estructura:\n",
        "\n",
        "\n",
        "```python\n",
        "def nombre_de_la_función(...):\n",
        "\n",
        "  # Bloque de código de la función.\n",
        "  # < ---- Debe estar correctamente indentado.\n",
        "  # < ----\n",
        "\n",
        "# < --------\n",
        "# El código escrito a partir de acá no\n",
        "# está contenido en el bloque de la función.\n",
        "```\n",
        "\n",
        "Se recomienda que los nombres de nuestras funciones sean escritos en la forma de **verbos**, es decir, **acciones** que nuestro programa puede realizar como **`registrar_usuario`** o **`determinar_ganador`**. Esto hará que nuestro código sea más fácil de leer.\n",
        "\n",
        "Veamos un ejemplo:"
      ]
    },
    {
      "cell_type": "code",
      "metadata": {
        "id": "McfNSTwjy8eL"
      },
      "source": [
        "def saludar():\n",
        "   print(\"¡Hola!\")\n",
        "# Fin de la función"
      ],
      "execution_count": null,
      "outputs": []
    },
    {
      "cell_type": "markdown",
      "metadata": {
        "id": "PBz0ExSuzKao"
      },
      "source": [
        "Esta función **`saludar`** es un ejemplo sencillo de una función que imprime en pantalla un saludo personalizado. Note que tras ejecutar esta celda no se imprimió nada en pantalla. Esto se debe a que la función aún no ha sido **llamada** o **invocada**. El **llamado** de una función es el momento en el código en el cual le indicamos a _Python_ que ejecute las instrucciones del bloque de código de una función.\n",
        "\n",
        "Una vez ejecutado el bloque de definición de nuestra función, podemos **llamarla** utilizando la notación con paréntesis (símbolos **`(`** y  **`)`** ), como llamaríamos a las funciones definidas por defecto en _Python_.\n",
        "\n",
        "Dado que no fue definida para recibir ningún argumento, al ejecutarla no indicamos ningún valor dentro de los paréntesis:"
      ]
    },
    {
      "cell_type": "code",
      "metadata": {
        "id": "IFaS7i3-0FQA"
      },
      "source": [
        "# Llamamos la función\n",
        "saludar()"
      ],
      "execution_count": null,
      "outputs": []
    },
    {
      "cell_type": "markdown",
      "metadata": {
        "id": "vCzS_p9K0axS"
      },
      "source": [
        "Es muy importante conocer de antemano qué argumentos se pueden pasar a la función. Como la función **`saludar`** no tiene argumentos en su definición, indicar un valor como una cadena de texto o similares generará un error de tipo o **`TypeError`** indicando que se entregó un argumento inesperado."
      ]
    },
    {
      "cell_type": "code",
      "metadata": {
        "id": "knVomTfG0bfa"
      },
      "source": [
        "# Llamamos la función con un argumento.\n",
        "saludar(\"Hola, muy buenas tardes.\")"
      ],
      "execution_count": null,
      "outputs": []
    },
    {
      "cell_type": "markdown",
      "metadata": {
        "id": "g_HNwIC00_xB"
      },
      "source": [
        "A este tipo de funciones que no reciben argumentos se les conoce también por el nombre de **procedimientos**. Resulta útil llamar a un procedimiento para ejecutar una determinada secuencia de acciones en vez de hacerlo repitiendo código, porque esto permite escribir código mantenible y más entendible para quien lo lea y para quien lo programa.\n",
        "\n",
        "<center>\n",
        "<img src = \"https://drive.google.com/uc?export=view&id=1b6LYexqo4pyxVEA7NscYKu6Uwroegj9p\" width = \"60%\">  </img>\n",
        "</center>\n",
        "\n",
        "</br>\n",
        "\n",
        "Veamos un procedimiento con múltiples líneas:\n",
        "\n"
      ]
    },
    {
      "cell_type": "code",
      "metadata": {
        "id": "oNX5X1Zx41rJ"
      },
      "source": [
        "# Con funciones/procedimientos\n",
        "def saludar_usuario():\n",
        "  print(\"___________________________________________\")\n",
        "  print(\"¡Hola!\")\n",
        "  print(\"Le damos la bienvenida.\")\n",
        "  print(\"Esperamos que el programa sea de su agrado.\")\n",
        "  print(\"___________________________________________\")\n",
        "\n",
        "saludar_usuario()  # Primer llamado.\n",
        "saludar_usuario()  # Segundo llamado.\n",
        "saludar_usuario()  # Tercer llamado.\n",
        "saludar_usuario()  # Cuarto llamado."
      ],
      "execution_count": null,
      "outputs": []
    },
    {
      "cell_type": "markdown",
      "metadata": {
        "id": "7l1BFS3A5GLf"
      },
      "source": [
        "> **Nota:** al igual que con las variables, se recomienda separar las palabras con el símbolo de guion bajo y empezar con minúsculas todas las palabras.\n",
        "  \n",
        "  | **Recomendado** &check; | **No recomendado** &cross; |\n",
        "  |---|---|\n",
        "  |**`saludar_usuario`** | **`saludarUsuario, SaludarUsuario, saludarusuario`**|\n",
        "\n",
        "\n",
        "Si no pudiéramos definir funciones, tendríamos que ejecutar una a una las instrucciones que se deberían ejecutar cada vez que se realice código repetitivo:"
      ]
    },
    {
      "cell_type": "code",
      "metadata": {
        "id": "8TSSIC_84__m"
      },
      "source": [
        "# Sentencias del primer llamado.\n",
        "print(\"___________________________________________\")\n",
        "print(\"¡Hola!\")\n",
        "print(\"Le damos la bienvenida.\")\n",
        "print(\"Esperamos que el programa sea de su agrado.\")\n",
        "print(\"___________________________________________\")\n",
        "\n",
        "# Sentencias del segundo llamado.\n",
        "print(\"___________________________________________\")\n",
        "print(\"¡Hola!\")\n",
        "print(\"Le damos la bienvenida.\")\n",
        "print(\"Esperamos que el programa sea de su agrado.\")\n",
        "print(\"___________________________________________\")\n",
        "\n",
        "# Sentencias del tercer llamado.\n",
        "print(\"___________________________________________\")\n",
        "print(\"¡Hola!\")\n",
        "print(\"Le damos la bienvenida.\")\n",
        "print(\"Esperamos que el programa sea de su agrado.\")\n",
        "print(\"___________________________________________\")\n",
        "\n",
        "# Sentencias del cuarto llamado.\n",
        "print(\"___________________________________________\")\n",
        "print(\"¡Hola!\")\n",
        "print(\"Le damos la bienvenida.\")\n",
        "print(\"Esperamos que el programa sea de su agrado.\")\n",
        "print(\"___________________________________________\")\n",
        "# ..."
      ],
      "execution_count": null,
      "outputs": []
    },
    {
      "cell_type": "markdown",
      "metadata": {
        "id": "cMj1h0Qm5hIP"
      },
      "source": [
        "> **Nota:** dado que esta función es un procedimiento simple que no recibe argumentos ni tiene valores de retorno, esta misma idea se podría recrear con un ciclo. Sin embargo, la cosa se complica cuando debemos utilizar el mismo código en escenarios distintos, como cuando se cumplen condiciones específicas.\n",
        "\n",
        "\n",
        "Utilizar funciones nos permite realizar cambios únicamente en la definición de la función, y nos quita la necesidad de realizar el cambio en cada punto en el que se ejecuta el mismo proceso.\n",
        "\n",
        "En _Python_, las funciones pueden ser **modificadas**. Esto quiere decir que, si se realiza una nueva definición con el mismo nombre se sobreescribe la\n",
        "anterior. Vamos a sobreescribir la función anterior:"
      ]
    },
    {
      "cell_type": "code",
      "metadata": {
        "id": "6aUydFWcBjGO"
      },
      "source": [
        "# Llamamos la función.\n",
        "saludar_usuario()\n",
        "\n",
        "# Volvemos a declarar una función con ese nombre.\n",
        "def saludar_usuario():\n",
        "  print(\"*********************\")\n",
        "  print(\"Buen día. Le damos la bienvenida a...\")\n",
        "  print(\"*********************\")\n",
        "\n",
        "# Ejecutamos la función modificada.\n",
        "saludar_usuario()"
      ],
      "execution_count": null,
      "outputs": []
    },
    {
      "cell_type": "markdown",
      "metadata": {
        "id": "MyGhSw2F8yqX"
      },
      "source": [
        "Veamos el ejemplo con la ayuda de _Python Tutor_:"
      ]
    },
    {
      "cell_type": "code",
      "metadata": {
        "cellView": "form",
        "id": "4NbWC23flnnX"
      },
      "source": [
        "#@markdown * **Ejecute esta celda para instalar _Python Tutor_.**\n",
        "!pip3 -q install tutormagic\n",
        "%load_ext tutormagic"
      ],
      "execution_count": null,
      "outputs": []
    },
    {
      "cell_type": "code",
      "metadata": {
        "id": "_yICm7H_1ehe"
      },
      "source": [
        "%%tutor -s -h 500\n",
        "\n",
        "# Con funciones/procedimientos\n",
        "def saludar_usuario():\n",
        "  print(\"¡Hola!\")\n",
        "  print(\"Le damos la bienvenida.\")\n",
        "  print(\"Esperamos que el programa sea de su agrado.\")\n",
        "\n",
        "saludar_usuario()\n",
        "saludar_usuario()\n",
        "\n",
        "\n",
        "def saludar_usuario():\n",
        "  print(\"*********************\")\n",
        "  print(\"Buen día. Le damos la bienvenida a...\")\n",
        "  print(\"*********************\")\n",
        "\n",
        "saludar_usuario()\n",
        "saludar_usuario()\n",
        "saludar_usuario()"
      ],
      "execution_count": null,
      "outputs": []
    },
    {
      "cell_type": "markdown",
      "metadata": {
        "id": "EUrhopl81fFf"
      },
      "source": [
        "Como puede notar en el ejemplo mostrado con _Python Tutor_, cuando se realiza una invocación de una función, el programa se dirige a la definición de la función y ejecuta las instrucciones de su bloque de código en orden, y finalmente regresa al punto del programa en el que fue llamada inicialmente.\n",
        "\n",
        "Por ejemplo, en la línea $8$ se realiza el primer llamado a la función. Cuando se terminan sus instrucciones, en vez de continuar con el código ubicado inmediatamente después como en el resto de sentencias, el programa se asegura de volver a la instrucción de su invocación y continua. Por esta razón, una vez se imprimen las líneas del primer llamado, el programa continúa con la línea $9$, y así sucesivamente."
      ]
    },
    {
      "cell_type": "markdown",
      "metadata": {
        "id": "jH6r0vLC2j1R"
      },
      "source": [
        "Los bloques de código de la función pueden tener cualquier tipo de sentencias válidas, incluyendo asignaciones, sentencias condicionales, ciclos **`while`** o **`for`**, entre otros. En particular, una función puede **llamar** a otra función dentro de sus instrucciones."
      ]
    },
    {
      "cell_type": "code",
      "metadata": {
        "cellView": "form",
        "id": "7Y41LIzyefzs"
      },
      "source": [
        "#@markdown * **Ejecute esta celda para instalar _Python Tutor_.**\n",
        "!pip3 -q install tutormagic\n",
        "%load_ext tutormagic"
      ],
      "execution_count": null,
      "outputs": []
    },
    {
      "cell_type": "code",
      "metadata": {
        "id": "W8gSPzzj3CIv"
      },
      "source": [
        "%%tutor -s -h 500\n",
        "\n",
        "# Definimos la función 1.\n",
        "def funcion1():\n",
        "  print(\"Estoy en la función 1.\")\n",
        "  # La función 1 llama a la función 2.\n",
        "  funcion2()\n",
        "\n",
        "# Definimos la función 2.\n",
        "def funcion2():\n",
        "  print(\"Estoy en la función 2.\")\n",
        "\n",
        "# Llamamos a la función 1.\n",
        "funcion1()\n",
        "\n",
        "print(\"Termina la ejecución\")"
      ],
      "execution_count": null,
      "outputs": []
    },
    {
      "cell_type": "markdown",
      "metadata": {
        "id": "08nZeKVI5J4x"
      },
      "source": [
        "Este tipo de código  puede generar ciclos infinitos si no se tiene cuidado y el código no deja de llamar a otras funciones:"
      ]
    },
    {
      "cell_type": "code",
      "metadata": {
        "cellView": "form",
        "id": "C41fNk-Ieg6B"
      },
      "source": [
        "#@markdown * **Ejecute esta celda para instalar _Python Tutor_.**\n",
        "!pip3 -q install tutormagic\n",
        "%load_ext tutormagic"
      ],
      "execution_count": null,
      "outputs": []
    },
    {
      "cell_type": "code",
      "metadata": {
        "id": "EYKKA6PW5J4y"
      },
      "source": [
        "%%tutor -s -h 500\n",
        "def funcion1():\n",
        "  print(\"Estoy en la función 1\")\n",
        "  # Llamamos a la función 1 desde la misma función 1.\n",
        "  # CUIDADO: Código infinito...\n",
        "  funcion1()\n",
        "\n",
        "funcion1()\n",
        "print(\"Nunca termina - Esto no se imprimirá\")"
      ],
      "execution_count": null,
      "outputs": []
    },
    {
      "cell_type": "markdown",
      "metadata": {
        "id": "ePa0fx277bWZ"
      },
      "source": [
        "### **2.2. Parámetros y argumentos**\n",
        "---\n",
        "Como se mencionó al inicio de este material, las funciones pueden recibir como **argumento** valores que son pasados a la función, que tiene acceso a su contenido. Un ejemplo de esto es la función **`print`**, que recibe como argumento un valor que debe ser impreso en la salida del programa."
      ]
    },
    {
      "cell_type": "code",
      "metadata": {
        "id": "Ht-4KYZv8Iae"
      },
      "source": [
        "print(\"Esta es una cadena.\")"
      ],
      "execution_count": null,
      "outputs": []
    },
    {
      "cell_type": "markdown",
      "metadata": {
        "id": "p_dAb9E-ItCe"
      },
      "source": [
        "Al definir funciones, podemos especificar un nombre para estos argumentos, conocido como **parámetro**. Los parámetros de una función se indican separados por coma dentro del paréntesis de la sentencia de definición:\n",
        "\n",
        "```python\n",
        "def nombre_de_la_función(par_a, par_b, par_c):\n",
        "  # Bloque de código de la función.\n",
        "  # < ---- Debe estár correctamente indentado.\n",
        "  # < ----\n",
        "\n",
        "# < --------\n",
        "# El código escrito a partir de acá no\n",
        "# está contenido en el bloque de la función.\n",
        "```\n",
        "\n",
        "Si bien se suelen usar los términos **parámetro** y **argumento** de forma intercambiable, la documentación oficial de _Python_ distingue ambos conceptos. En este documento se describe que:\n",
        "* Un **parámetro** es el nombre definido que espera la función.\n",
        "* Un **argumento** es el valor que recibe en el llamado de la función.\n",
        "\n",
        "  ```python\n",
        "  # En la definición de la función\n",
        "  # se indican sus parámetros.\n",
        "  def f(parámetroA, parámetroB):\n",
        "    # Bloque de código de la función.\n",
        "\n",
        "  # En el llamado de la función\n",
        "  # se pasan sus argumentos.\n",
        "  f(argumentoA, argumentoB)\n",
        "  ```\n",
        "\n",
        "El orden en el que se definen los parámetros es importante, pues determina el orden en el que el programador debe indicar los argumentos en el llamado de la función.\n",
        "\n",
        "Con la ayuda de parámetros, podemos mejorar nuestra función de saludo con el nombre del usuario:\n"
      ]
    },
    {
      "cell_type": "code",
      "metadata": {
        "id": "bG2ABxyYgfHq"
      },
      "source": [
        "# Definimos una función con dos parámetros:\n",
        "  # 1. nombre\n",
        "  # 2. apellido\n",
        "def saludar_de_nombre(nombre):\n",
        "  print(f\"¡Hola {nombre}!\")\n",
        "\n",
        "# Invocamos la función con el nombre 'Fulano' como argumento.\n",
        "saludar_de_nombre(\"Fulano\")\n",
        "\n",
        "# Invocamos de nuevo la función, pero con el nombre 'Sutano' como argumento.\n",
        "saludar_de_nombre(\"Sutano\")\n",
        "\n",
        "# El tipo de dato no es estricto.\n",
        "saludar_de_nombre(['Juanito', 'Pepito'])"
      ],
      "execution_count": null,
      "outputs": []
    },
    {
      "cell_type": "markdown",
      "metadata": {
        "id": "hjz7JXZ8ieGL"
      },
      "source": [
        "Dado que _Python_ es débilmente tipado, es responsabilidad del programador asegurarse de que las entradas obtenidas correspondan a un tipo concreto, o que se tiene un control apropiado de las posibles excepciones.\n",
        "\n",
        "Al igual que en la escritura de listas y tuplas, los parámetros de una función pueden indicarse en múltiples líneas, para una mayor claridad:"
      ]
    },
    {
      "cell_type": "code",
      "metadata": {
        "cellView": "form",
        "id": "Egxi2OFQtozY"
      },
      "source": [
        "#@markdown * **Ejecute esta celda para instalar _Python Tutor_.**\n",
        "!pip3 -q install tutormagic\n",
        "%load_ext tutormagic"
      ],
      "execution_count": null,
      "outputs": []
    },
    {
      "cell_type": "code",
      "metadata": {
        "id": "xPZKAZu7k38o"
      },
      "source": [
        "%%tutor -s -h 500\n",
        "\n",
        "# Creamos una función con múltiples argumentos en líneas distintas.\n",
        "def crear_usuario(nombre,\n",
        "                  apellido,\n",
        "                  ciudad):\n",
        "  print(\"Nuevo usuario:\")\n",
        "  print(f\"Creando usuario {nombre} {apellido} de {ciudad}...\")\n",
        "\n",
        "# Invocamos las funciones\n",
        "crear_usuario('Aquiles', 'Pinto', 'Bogotá')\n",
        "crear_usuario('Armando', 'Esteban', 'Quito')"
      ],
      "execution_count": null,
      "outputs": []
    },
    {
      "cell_type": "markdown",
      "metadata": {
        "id": "x2UTNqwx1rY3"
      },
      "source": [
        "Note que la visualización del código es similar a la que obtendríamos si se declararan variables con los nombres de los parámetros indicados. Esto es porque, el programa realiza este proceso al evaluar una función invocada, tomando los argumentos indicados en su llamado y asignándolos a las variables correspondientes al nombre de cada parámetro.\n",
        "\n",
        "<center>\n",
        "<img src = \"https://drive.google.com/uc?export=view&id=19nf2CN_xJ2jlZXtJ6RloFVj9xMAkD9xX\" width = \"50%\">  </img>\n",
        "</center>\n",
        "\n",
        "</br>\n",
        "\n",
        "Por esta razón, los nombres dados a los argumentos tienen que seguir las mismas reglas de escritura de las variables y las funciones, discutidas en la primera unidad del curso."
      ]
    },
    {
      "cell_type": "code",
      "metadata": {
        "cellView": "form",
        "id": "5-aef7uWIYu8"
      },
      "source": [
        "#@markdown * **Ejecute esta celda para instalar _Python Tutor_.**\n",
        "!pip3 -q install tutormagic\n",
        "%load_ext tutormagic"
      ],
      "execution_count": null,
      "outputs": []
    },
    {
      "cell_type": "code",
      "metadata": {
        "id": "Xu_kvtRs6sP_"
      },
      "source": [
        "%%tutor -s -h 500\n",
        "\n",
        "def ____este_n0mbre_es_v4lid000(__est3_también, _ESTE_IGUAL___):\n",
        "  print(__est3_también + _ESTE_IGUAL___)\n",
        "\n",
        "____este_n0mbre_es_v4lid000(0,  # Valor del primer argumento.\n",
        "                            2)  # Valor del segundo argumento."
      ],
      "execution_count": null,
      "outputs": []
    },
    {
      "cell_type": "markdown",
      "metadata": {
        "id": "7Xx62m__7Tnq"
      },
      "source": [
        "#### **2.2.1. Parámetros opcionales**\n",
        "---\n",
        "\n",
        "Para una mayor flexibilidad, _Python_ permite que en las definiciones de las funciones se indiquen **parámetros opcionales**. Estos parámetros permiten que no sea necesario usar un argumento en el llamado de la función, utilizando un **valor por defecto** en su lugar.\n",
        "\n",
        "```python\n",
        "def función(par0, par1,   # Parámetros obligatorios o posicionales.\n",
        "            par2 =  ARG2  # Parámetros opcionales con argumentos por defecto.     \n",
        "            par3 =  ARG3):\n",
        "    ## Bloque de código de la función.\n",
        "```\n",
        "\n",
        "\n",
        "\n",
        "<center>\n",
        "<img src = \"https://drive.google.com/uc?export=view&id=1ouxGdj7yMFGznCcPcixuh4eodVNhIc3U\" width = \"40%\">  </img>\n",
        "</center>\n",
        "\n",
        "</br>\n",
        "\n",
        "\n",
        "Es importante que los parámetros opcionales estén ubicados después de los parámetros obligatorios.\n"
      ]
    },
    {
      "cell_type": "code",
      "metadata": {
        "id": "qdAyl8qTDHI0"
      },
      "source": [
        "# Esta función no es válida.\n",
        "def función(p1 = 0, p2):\n",
        "  print(p1)"
      ],
      "execution_count": null,
      "outputs": []
    },
    {
      "cell_type": "markdown",
      "metadata": {
        "id": "1pV6jp_6DC08"
      },
      "source": [
        "\n",
        "En el siguiente ejemplo definimos una función para saludar al usuario de acuerdo con el momento del día. Este momento puede no ser indicado, definiendo la **`'mañana'`** como el valor por defecto de la hora asociada:\n"
      ]
    },
    {
      "cell_type": "code",
      "metadata": {
        "id": "DN-9XcyA71w_"
      },
      "source": [
        "%%tutor -s -h 500\n",
        "# Definimos la función de saludo por hora.\n",
        "def saludar_por_hora(nombre, # Este parámetro es obligatorio al no tener valor por defecto..\n",
        "                     hora='mañana'):  # Este parámetro es opcional, con un valor opcional de 'mañana'.\n",
        "  if hora == 'mañana':\n",
        "    print(f'¡Buenos días {nombre}!')\n",
        "  elif hora == 'tarde':\n",
        "    print(f'¡Buenas tardes {nombre}!')\n",
        "  elif hora == 'noche':\n",
        "    print(f'¡Buenas noches {nombre}!')\n",
        "#Fin de función\n",
        "\n",
        "# Invocamos la función con todos los argumentos.\n",
        "saludar_por_hora('Alberto', \"tarde\")\n",
        "\n",
        "# Invocamos la función solo con los argumentos obligatorios.\n",
        "saludar_por_hora('Bárbara')"
      ],
      "execution_count": null,
      "outputs": []
    },
    {
      "cell_type": "markdown",
      "metadata": {
        "id": "KAFz5kAoEN9n"
      },
      "source": [
        "> **¿Y qué pasa si queremos indicar únicamente un parámetro opcional definido en una posición cerca del final?**\n",
        "\n",
        "De momento, la indicación de argumentos se realiza de acuerdo con la posición de los parámetros en la definición de la función."
      ]
    },
    {
      "cell_type": "code",
      "metadata": {
        "id": "ZEaDCIFUEtqK"
      },
      "source": [
        "# Definimos una función con tres parámetros opcionales.\n",
        "def fun(a, b,\n",
        "        c = 'c', d= 'd', e = 'e'):\n",
        "  # Bloque de código de la función.\n",
        "  print(a, b, c, d, e)\n",
        "\n",
        "# Llamamos la función con los argumentos obligatorios.\n",
        "fun('A', 'B')"
      ],
      "execution_count": null,
      "outputs": []
    },
    {
      "cell_type": "markdown",
      "metadata": {
        "id": "pNESP1AbFQeY"
      },
      "source": [
        "Si tenemos múltiples argumentos por defecto, tendríamos que indicar los argumentos opcionales intermedios para cambiar un argumento específico indicado más adelante.\n",
        "\n",
        "Por ejemplo, si queremos indicar un argumento para el parámetro **`e`**:"
      ]
    },
    {
      "cell_type": "code",
      "metadata": {
        "id": "IBGHjBgFFfaB"
      },
      "source": [
        "# Este llamado indica el valor 100 al parámetro 'c'.\n",
        "fun('A','B', 'E')\n",
        "\n",
        "# Para indicar el valor 100 para el parámetro 'e',\n",
        "# indicamos los valores por defecto de los demás.\n",
        "\n",
        "fun('A', 'B', 'c', 'd', 'E')"
      ],
      "execution_count": null,
      "outputs": []
    },
    {
      "cell_type": "markdown",
      "metadata": {
        "id": "Ypetwv6aGT-g"
      },
      "source": [
        "Para evitar este tipo de invocaciones, _Python_ permite indicar **argumentos nombrados** en la evaluación de las funciones. Estos se escriben como una asignación, usando el nombre del parámetro y el valor del argumento de la siguiente forma:\n",
        "\n",
        "```python\n",
        "# Invocamos la función con argumentos nombrados.\n",
        "función('argA', 'argB', parC = argC)\n",
        "```\n",
        "\n",
        "Retomando el ejemplo anterior, podemos usar el nombre del parámetro deseado (parámetro **`e`**) en la invocación de la función."
      ]
    },
    {
      "cell_type": "code",
      "metadata": {
        "id": "g7stPv4GHM4H"
      },
      "source": [
        "# Indicamos un argumento nombrado para el parámetro 'e'.\n",
        "fun('A', 'B', e = 'E')"
      ],
      "execution_count": null,
      "outputs": []
    },
    {
      "cell_type": "markdown",
      "metadata": {
        "id": "JDHqTF2bHuBu"
      },
      "source": [
        "Podemos usar argumentos nombrados para todos los parámetros de una función, incluyendo los parámetros obligatorios posicionales. Al ser nombrados, y por tanto estar identificados por un nombre de variable, podemos indicarlos en cualquier orden:"
      ]
    },
    {
      "cell_type": "code",
      "metadata": {
        "id": "5ag6dYNSIAKl"
      },
      "source": [
        "# Argumentos nombrados para los parámetros 'a', 'b' y 'e'.\n",
        "fun(e = 'E', b = 'B', a = 'A')"
      ],
      "execution_count": null,
      "outputs": []
    },
    {
      "cell_type": "markdown",
      "metadata": {
        "id": "7MBO2-hLJDcG"
      },
      "source": [
        "Veamos su aplicación con el ejemplo de saludo de acuerdo con la hora del día:"
      ]
    },
    {
      "cell_type": "code",
      "metadata": {
        "cellView": "form",
        "id": "9mWXJtW5IadM"
      },
      "source": [
        "#@markdown * **Ejecute esta celda para instalar _Python Tutor_.**\n",
        "!pip3 -q install tutormagic\n",
        "%load_ext tutormagic"
      ],
      "execution_count": null,
      "outputs": []
    },
    {
      "cell_type": "code",
      "metadata": {
        "id": "vbRd6EqMIbFz"
      },
      "source": [
        "%%tutor -s -h 500\n",
        "# Definimos la función de saludo por hora.\n",
        "def saludar_por_hora(nombre, # Este parámetro es obligatorio al no tener valor por defecto..\n",
        "                     hora='mañana'):  # Este parámetro es opcional, con un valor opcional de 'mañana'.\n",
        "  if hora == 'mañana':\n",
        "    print(f'¡Buenos días {nombre}!')\n",
        "  elif hora == 'tarde':\n",
        "    print(f'¡Buenas tardes {nombre}!')\n",
        "  elif hora == 'noche':\n",
        "    print(f'¡Buenas noches {nombre}!')\n",
        "#Fin de función\n",
        "\n",
        "saludar_por_hora(\"Daniel\", \"noche\")               # Indicamos los argumentos por posición.\n",
        "saludar_por_hora(\"Esteban\", hora=\"mañana\")        # Usamos argumentos nombrados.\n",
        "saludar_por_hora(hora=\"tarde\", nombre = 'Fabián') # Usamos argumentos nombrados en un orden distinto."
      ],
      "execution_count": null,
      "outputs": []
    },
    {
      "cell_type": "markdown",
      "metadata": {
        "id": "PGjSCNErvGdG"
      },
      "source": [
        "#### **2.2.2. Parámetros adicionales (Opcional)**\n",
        "---\n",
        "\n",
        "_Python_ permite al programador otras funcionalidades de utilidad menos comunes. Es el caso de los dos tipos de parámetros de relleno que reciben una cantidad arbitraria de argumentos adicionales y permiten al programador definir una forma apropiada de obtener sus valores.\n",
        "\n",
        "Si no se define lo contrario, las funciones reportarán un error cuando la cantidad de argumentos recibidos no correspondan con la cantidad de parámetros de la función.\n",
        "\n",
        "\n",
        "\n"
      ]
    },
    {
      "cell_type": "code",
      "metadata": {
        "id": "QplkSdar5-Dy"
      },
      "source": [
        "# Función con 1 parámetro.\n",
        "def imprimir_mensaje(mensaje):\n",
        "  print(mensaje)\n",
        "\n",
        "\n",
        "# Llamado inválido con 5 parámetros\n",
        "imprimir_mensaje(\"Hola a todos\", \"1. Esta es una línea\", \"2. Esta es otra línea.\")"
      ],
      "execution_count": null,
      "outputs": []
    },
    {
      "cell_type": "markdown",
      "metadata": {
        "id": "kMn9I9016oHe"
      },
      "source": [
        "Para evitar este problema, se podría utilizar una secuencia, como una tupla o una lista, como argumento de la función. De esta manera siempre se recibirá como argumento esta colección, que debió ser construido antes del llamado de la función."
      ]
    },
    {
      "cell_type": "code",
      "metadata": {
        "id": "r2vMQ7d1vNzm"
      },
      "source": [
        "# Función con una colección como parámetro.\n",
        "def imprimir_mensaje(mensajes):\n",
        "  for mensaje in mensajes:\n",
        "    print(mensaje)\n",
        "\n",
        "# Llamado a la función con una\n",
        "# colección como argumento.\n",
        "m1 = \"Hola a todos\"\n",
        "m2 = \"1. Esta es una línea\"\n",
        "m3 = \"2. Esta es otra línea.\"\n",
        "\n",
        "l = [m1, m2, m3]\n",
        "imprimir_mensaje(l)"
      ],
      "execution_count": null,
      "outputs": []
    },
    {
      "cell_type": "markdown",
      "metadata": {
        "id": "m-PVJALH7pvV"
      },
      "source": [
        "Otra forma de hacerlo es definir un **parámetro de relleno**, tal como se realizaba al desempaquetar tuplas con longitud arbitraria."
      ]
    },
    {
      "cell_type": "code",
      "metadata": {
        "id": "gBAg9H6p8ttu"
      },
      "source": [
        "# Usamos una variable de relleno llamada 'etc'.\n",
        "a, b, *etc = (0, 10, 20, 30, 40, 50)\n",
        "\n",
        "etc"
      ],
      "execution_count": null,
      "outputs": []
    },
    {
      "cell_type": "markdown",
      "metadata": {
        "id": "oLbxxMKa85Wa"
      },
      "source": [
        "Para definir un parámetro de relleno, usamos el prefijo **`*`** en la definición de la función.\n",
        "\n",
        "```python\n",
        "# Función con parámetro de relleno\n",
        "def función(par_a, par_b, *relleno):\n",
        "  # Bloque de código de la función.\n",
        "```\n",
        "\n",
        "La variable correspondiente a este parámetro contendrá una **tupla** con los argumentos posicionales indicados que no correspondan a ningún parámetro de la función.\n",
        "\n",
        "Veamos un ejemplo:"
      ]
    },
    {
      "cell_type": "code",
      "metadata": {
        "cellView": "form",
        "id": "jM_Cl951_Ega"
      },
      "source": [
        "#@markdown * **Ejecute esta celda para instalar _Python Tutor_.**\n",
        "!pip3 -q install tutormagic\n",
        "%load_ext tutormagic"
      ],
      "execution_count": null,
      "outputs": []
    },
    {
      "cell_type": "code",
      "metadata": {
        "id": "QwfLBAlC9sh-"
      },
      "source": [
        "%%tutor -s -h 500\n",
        "# Definición de una función con parámetros arbitrarios.\n",
        "def imprimir_mensaje(inicio, *cont):\n",
        "  print(\"Inicio:\", inicio)\n",
        "  for mensaje in cont:\n",
        "    print(mensaje)\n",
        "\n",
        "# Llamado a la función con múltiples argumentos.\n",
        "imprimir_mensaje(\"Hola a todos\",\n",
        "                 \"1. Esta es una línea.\",\n",
        "                 \"2. Esta es otra línea.\",\n",
        "                 \"3. Esta es la última línea.\")"
      ],
      "execution_count": null,
      "outputs": []
    },
    {
      "cell_type": "markdown",
      "metadata": {
        "id": "RzMZBTGi-ffQ"
      },
      "source": [
        "Este tipo de parámetro debe estar ubicado después de todos los parámetros posicionales:"
      ]
    },
    {
      "cell_type": "code",
      "metadata": {
        "id": "w-FyRauH-vYO"
      },
      "source": [
        "# Definición inválida\n",
        "def función(a, b, c, *l, d):\n",
        "  print(l)\n",
        "\n",
        "función(0,1,2,3,4,5)"
      ],
      "execution_count": null,
      "outputs": []
    },
    {
      "cell_type": "markdown",
      "metadata": {
        "id": "HM7bVJGs-5jz"
      },
      "source": [
        "Como puede notar en el error retornado, los argumentos indicados después de una función de relleno tienen que ser **parámetros con argumentos nombrados**."
      ]
    },
    {
      "cell_type": "code",
      "metadata": {
        "id": "QlFpDLrZ_Zrg"
      },
      "source": [
        "# Uso del argumento nombrado d.\n",
        "# Los valores que sobran antes de 'd'\n",
        "# se añaden a la variable de relleno.\n",
        "#       a  b  c |---l---|   d\n",
        "función(0, 1, 2, 3, 4, 5, d = 'd')"
      ],
      "execution_count": null,
      "outputs": []
    },
    {
      "cell_type": "markdown",
      "metadata": {
        "id": "30vt9Z-yAIl1"
      },
      "source": [
        "Finalmente, también se puede indicar un parámetro de relleno especial para los argumentos nombrados. Este recibirá los argumentos nombrados cuyo nombre no corresponda con ninguno de los parámetros de la función y los guardará en un **diccionario**. Para diferenciarlo del parámetro de relleno posicional (**`*arg`**) se indica con el prefijo de doble asterisco (__`**`__).\n",
        "\n",
        "```python\n",
        "def fun(a, b, c, *d, x = arg_x, y = arg_y, **z):\n",
        "  # d es un parámetro de relleno posicional (tupla).\n",
        "  # z es un parámetro de relleno nombrado (diccionario).\n",
        "```\n",
        "\n",
        "De esta manera, los argumentos inesperados ingresados por posición se ubicarán en una tupla y los argumentos inesperados ingresados por nombre se ubicarán en un diccionario. Veamos un ejemplo con una función que aplica todos estos conceptos:\n",
        "\n",
        "\n"
      ]
    },
    {
      "cell_type": "code",
      "metadata": {
        "cellView": "form",
        "id": "Z3-dmll4Z2cD"
      },
      "source": [
        "#@markdown * **Ejecute esta celda para instalar _Python Tutor_.**\n",
        "!pip3 -q install tutormagic\n",
        "%load_ext tutormagic"
      ],
      "execution_count": null,
      "outputs": []
    },
    {
      "cell_type": "code",
      "metadata": {
        "id": "VuCFp99cWcPF"
      },
      "source": [
        "%%tutor -s -h 600\n",
        "def fun(a, b, c, *d, x = '', y = '', **z):\n",
        "  # Parámetros posicionales\n",
        "  print(a, b, c)\n",
        "  # Parámetro de relleno posicional\n",
        "  print(d)\n",
        "  # Parámetros para argumentos nombrados\n",
        "  print(x, y)\n",
        "  # Parámetro de relleno nombrado\n",
        "  print(z)\n",
        "\n",
        "# Llamado con solo argumentos posicionales obligatorios.\n",
        "fun('A', 'B', 'C')       # Solo argumentos posicionales obligatorios.\n",
        "\n",
        "# Llamado con argumentos posicionales obligatorios y adicionales.\n",
        "fun('A', 'B', 'C',       # Argumentos posicionales.\n",
        "    'D', 'E', 'F', 'G')  # Argumentos posicionales adicionales.\n",
        "\n",
        "# Llamado con argumentos posicionales y nombrados.\n",
        "fun('A', 'B', 'C',       # Argumentos posicionales.\n",
        "     x = 'X', y = 'Y')   # Argumentos nombrados.\n",
        "\n",
        "# Llamado con argumentos posicionales obligatorios y adicionales\n",
        "# además de argumentos nombrados.\n",
        "fun('A', 'B', 'C',       # Argumentos posicionales.\n",
        "    'D', 'E', 'F', 'G',  # Argumentos posicionales adicionales.\n",
        "     x = 'X', y = 'Y')   # Argumentos nombrados.\n",
        "\n",
        "# Llamado con argumentos posicionales obligatorios y adicionales,\n",
        "# además de argumentos nombrados regulares y adicionales.\n",
        "fun('A', 'B', 'C',       # Argumentos posicionales.\n",
        "    'D', 'E', 'F', 'G',  # Argumentos posicionales adicionales.\n",
        "     x = 'X', y = 'Y',   # Argumentos nombrados.\n",
        "     w = 'W', v = 'V')   # Argumentos nombrados adicionales."
      ],
      "execution_count": null,
      "outputs": []
    },
    {
      "cell_type": "markdown",
      "metadata": {
        "id": "jYKvwzKtJsat"
      },
      "source": [
        "### **2.3. Valores de retorno**\n",
        "---\n",
        "\n",
        "Otra de las características más importantes del concepto de función en programación es la posibilidad de usarlas en expresiones junto a otros valores. Para esto, la función definida debería tener un **valor de retorno**, que se indicaría en su bloque de código y que, por lo general, tiene el resultado de una operación específica. En _Python_, se tienen múltiples funciones por defecto que traen consigo valores de retorno. Por ejemplo, la función **`len`** recibe como argumento una colección y genera un valor de retorno con el valor numérico de la longitud de dicha colección.\n"
      ]
    },
    {
      "cell_type": "code",
      "metadata": {
        "id": "2kMsIOcDp5Dc"
      },
      "source": [
        "# Esta función tiene un valor.\n",
        "len('abc')"
      ],
      "execution_count": null,
      "outputs": []
    },
    {
      "cell_type": "code",
      "metadata": {
        "id": "VCvkZKZqqBD0"
      },
      "source": [
        "# Podemos usar su valor en una expresión.\n",
        "(len('abc') * 100) - 35**2"
      ],
      "execution_count": null,
      "outputs": []
    },
    {
      "cell_type": "markdown",
      "metadata": {
        "id": "uGqlxFLeqeeh"
      },
      "source": [
        "En _Python_, **todas las funciones tienen valor de retorno**. Cuando este no es especificado, el valor retornado es el tipo especial **`None`**.\n",
        "\n",
        "</br>\n",
        "\n",
        "<center>\n",
        "<img src = \"https://drive.google.com/uc?export=view&id=1f69Q7iFuwUXdazzS_qUEoh1cBRd-WBR9\" width = \"40%\">  </img>\n",
        "</center>\n",
        "\n",
        "\n"
      ]
    },
    {
      "cell_type": "code",
      "metadata": {
        "cellView": "form",
        "id": "2skikP_wikGD"
      },
      "source": [
        "#@markdown * **Ejecute esta celda para instalar _Python Tutor_.**\n",
        "!pip3 -q install tutormagic\n",
        "%load_ext tutormagic"
      ],
      "execution_count": null,
      "outputs": []
    },
    {
      "cell_type": "code",
      "metadata": {
        "id": "zxRB_4tBqplq"
      },
      "source": [
        "%%tutor -s -h 500\n",
        "def saludar(nombre):\n",
        "  print(f\"¡Hola {nombre}!\")\n",
        "\n",
        "valor_de_retorno = saludar(\"Guido\")\n",
        "print(valor_de_retorno)"
      ],
      "execution_count": null,
      "outputs": []
    },
    {
      "cell_type": "markdown",
      "metadata": {
        "id": "jBl9oRSRq4FC"
      },
      "source": [
        "> **Nota:** cuando se habla de funciones, el **valor de retorno** no es lo mismo que la **salida del programa**.  Si bien se pueden realizar sentencias **`print`** dentro de una función, estas corresponden a la salida general del programa que la llama. Por el contrario, cuando asignamos el valor del llamado de una función a una variable, el valor que queda guardado es distinto al texto que se haya impreso dentro de la función."
      ]
    },
    {
      "cell_type": "code",
      "metadata": {
        "id": "EC2_QVvEGObS"
      },
      "source": [
        "def saludar(nombre):\n",
        "  print(f\"¡Hola {nombre}!\")\n",
        "\n",
        "valor_de_retorno = saludar(\"Guido\")"
      ],
      "execution_count": null,
      "outputs": []
    },
    {
      "cell_type": "code",
      "metadata": {
        "id": "Wp-fpUuMrgG3"
      },
      "source": [
        "# El saludo no se imprime al imprimir el valor de retorno\n",
        "# almacenado porque la función no se vuelve a llamar.\n",
        "print(valor_de_retorno)"
      ],
      "execution_count": null,
      "outputs": []
    },
    {
      "cell_type": "markdown",
      "metadata": {
        "id": "zk0wpej6rvXk"
      },
      "source": [
        "Para indicar un valor de retorno, es necesario utilizar la sentencia **`return`**.\n",
        "\n",
        "</br>\n",
        "\n",
        "<center>\n",
        "<img src = \"https://drive.google.com/uc?export=view&id=12jkDJJrMLt7u9aQt3qUop5s9LTGD_oNK\" width = \"45%\">  </img>\n",
        "</center>\n",
        "\n",
        "</br>\n",
        "\n",
        "```python\n",
        "# Función con valor de retorno.\n",
        "def fun(parA):\n",
        "  # Bloque de código de la función.\n",
        "  return valor_de_retorno\n",
        "```\n",
        "\n",
        "\n",
        "\n",
        "\n",
        "Esta funciona de manera similar a las sentencias **`break`** y **`continue`**, dado que termina la ejecución del bloque de código de la función y devuelve el valor indicado al punto en el que se llamó la función. Veamos un ejemplo:"
      ]
    },
    {
      "cell_type": "code",
      "metadata": {
        "cellView": "form",
        "id": "aVKAg3VAi0a7"
      },
      "source": [
        "#@markdown * **Ejecute esta celda para instalar _Python Tutor_.**\n",
        "!pip3 -q install tutormagic\n",
        "%load_ext tutormagic"
      ],
      "execution_count": null,
      "outputs": []
    },
    {
      "cell_type": "code",
      "metadata": {
        "id": "1nke1h97vAvf"
      },
      "source": [
        "%%tutor -s -h 500\n",
        "# Función con un valor de retorno.\n",
        "def fun(a):\n",
        "  return a * 10\n",
        "\n",
        "retorno = fun(100)\n",
        "print(retorno)"
      ],
      "execution_count": null,
      "outputs": []
    },
    {
      "cell_type": "markdown",
      "metadata": {
        "id": "l-PCJZvZwvnJ"
      },
      "source": [
        "En este caso, la función retorna el valor **`a * 10`**, con **`a`** como el único parámetro de la función. Esto nos permite recordar que es importante considerar el tipo de los valores usados y de las conversiones correspondientes, pues la operación también es válida con cadenas de texto y listas, entre otros. Además, las funciones pueden retornar cualquier tipo de dato, a diferencia de la salida del programa que tiene como valor exclusivamente cadenas de texto."
      ]
    },
    {
      "cell_type": "code",
      "metadata": {
        "id": "a9fOFw3NGkSF"
      },
      "source": [
        "def fun(a):\n",
        "  return a * 10"
      ],
      "execution_count": null,
      "outputs": []
    },
    {
      "cell_type": "code",
      "metadata": {
        "id": "iGrAko162Smo"
      },
      "source": [
        "# Misma función con cadenas.\n",
        "fun('-')"
      ],
      "execution_count": null,
      "outputs": []
    },
    {
      "cell_type": "code",
      "metadata": {
        "id": "9iFDCwog2f6P"
      },
      "source": [
        "# Misma función con listas.\n",
        "fun([0])"
      ],
      "execution_count": null,
      "outputs": []
    },
    {
      "cell_type": "markdown",
      "metadata": {
        "id": "J7TIr1QQxVsv"
      },
      "source": [
        "Una vez se llega a la sentencia **`return`**, la función termina, sin importar si quedan más sentencias. Este problema es comúnmente detectado en herramientas de desarrollo de código como **código inalcanzable**, que no será ejecutado bajo ninguna condición y por tanto no es necesario conservarlo en el código."
      ]
    },
    {
      "cell_type": "code",
      "metadata": {
        "id": "4L3l9U_jxVsv"
      },
      "source": [
        "def fun():\n",
        "  print(\"hola...\")\n",
        "  return\n",
        "  print(\"¿soy invisible?\") # Código inalcanzable\n",
        "\n",
        "fun()"
      ],
      "execution_count": null,
      "outputs": []
    },
    {
      "cell_type": "markdown",
      "metadata": {
        "id": "bnA36AOWzCBH"
      },
      "source": [
        "Note que en la función anterior no se escribió ningún valor que acompañe la sentencia **`return`**. En este caso, el valor retornado es **`None`**. Este tipo de código es común para terminar la ejecución de la función bajo condiciones específicas."
      ]
    },
    {
      "cell_type": "code",
      "metadata": {
        "cellView": "form",
        "id": "vUoGmwJ90YWt"
      },
      "source": [
        "#@markdown * **Ejecute esta celda para instalar _Python Tutor_.**\n",
        "!pip3 -q install tutormagic\n",
        "%load_ext tutormagic"
      ],
      "execution_count": null,
      "outputs": []
    },
    {
      "cell_type": "code",
      "metadata": {
        "id": "1DzmhjSVzT-x"
      },
      "source": [
        "%%tutor -s -h 500\n",
        "def add(x):\n",
        "  if type(x) != int:\n",
        "    print(\"El valor retornado no es un número entero.\")\n",
        "    return\n",
        "  # No es necesario usar una sentencia 'else'\n",
        "  return x + 1\n",
        "\n",
        "print(add(0))\n",
        "print(add('1'))"
      ],
      "execution_count": null,
      "outputs": []
    },
    {
      "cell_type": "markdown",
      "metadata": {
        "id": "VLoQtQhj0m6_"
      },
      "source": [
        "En una función pueden haber tantas sentencias **`return`** como sea necesario. Es muy común definir sentencias condicionales con valores de retorno al final de cada camino.\n",
        "\n",
        "<center>\n",
        "<img src = \"https://drive.google.com/uc?export=view&id=1P4FF6lJAHDuFjWBeXoZO7Ma_9g5ixgih\" width = \"40%\">  </img>\n",
        "</center>\n",
        "\n",
        "</br>\n",
        "\n",
        "\n",
        "Por ejemplo, en la siguiente función se identifica el tipo de un valor dado, retornando una cadena de texto. En esta función no se realiza ninguna impresión en la salida del programa, sino que se imprime el valor retornado en el flujo normal del programa."
      ]
    },
    {
      "cell_type": "code",
      "metadata": {
        "cellView": "form",
        "id": "D_paPNirej7I"
      },
      "source": [
        "#@markdown * **Ejecute esta celda para instalar _Python Tutor_.**\n",
        "!pip3 -q install tutormagic\n",
        "%load_ext tutormagic"
      ],
      "execution_count": null,
      "outputs": []
    },
    {
      "cell_type": "code",
      "metadata": {
        "id": "dQyUZUWY07mn"
      },
      "source": [
        "%%tutor -s -h 500\n",
        "def tipo(val):\n",
        "  if type(val) == int:\n",
        "     return \"El valor es un entero.\"\n",
        "  elif type(val) == float:\n",
        "    return \"El valor es un decimal.\"\n",
        "  elif type(val) == str:\n",
        "    return \"El valor es una cadena.\"\n",
        "  # Caso base (no es necesario el 'else')\n",
        "  return f\"El valor es de tipo {type(val)}\"\n",
        "\n",
        "res = tipo(0)\n",
        "print(res)\n",
        "\n",
        "res = tipo(10e10)\n",
        "print(res)\n",
        "\n",
        "res = tipo(\"0x100\")\n",
        "print(res)\n",
        "\n",
        "res = tipo(True)\n",
        "print(res)"
      ],
      "execution_count": null,
      "outputs": []
    },
    {
      "cell_type": "markdown",
      "metadata": {
        "id": "FlnLD9Al25zO"
      },
      "source": [
        "Podemos escribir funciones que representen operaciones y funciones matemáticas. Por ejemplo, para obtener la función matemática:\n",
        "\n",
        "$$y = f(x) = x^2 - x$$\n",
        "\n",
        "Podríamos escribir la siguiente función en _Python_:"
      ]
    },
    {
      "cell_type": "code",
      "metadata": {
        "id": "cv3eVDwP3Z-S"
      },
      "source": [
        "def f(x):\n",
        "  return x**2 - x"
      ],
      "execution_count": null,
      "outputs": []
    },
    {
      "cell_type": "markdown",
      "metadata": {
        "id": "ynPhnlbn3fBc"
      },
      "source": [
        "Finalmente, podríamos utilizar un ciclo y una lista para obtener los valores de $y$ obtenidos al evaluar la función en múltiples valores de $x$."
      ]
    },
    {
      "cell_type": "code",
      "metadata": {
        "id": "-oCB8T8l38P8"
      },
      "source": [
        "# Declaramos 'x' e inicializamos 'y'\n",
        "x = list(range(20))\n",
        "y = []\n",
        "\n",
        "# Recorremos cada valor de 'y' y evaluamos la función.\n",
        "for xi in x:\n",
        "  y.append( f(xi) )\n",
        "\n",
        "# Imprimimos los valores obtenidos.\n",
        "print('x:', x)\n",
        "print('y:', y)"
      ],
      "execution_count": null,
      "outputs": []
    },
    {
      "cell_type": "markdown",
      "metadata": {
        "id": "lpm1Rt1ujUpP"
      },
      "source": [
        "Las funciones en _Python_ por definición siempre retornan un único valor, incluso cuando no es indicado en su declaración. Sin embargo, el uso de tuplas como valores de retorno permite simular el retorno de múltiples valores en una sola evaluación de la función.\n",
        "\n",
        "\n",
        "\n",
        " Para esto, indicamos los valores separados por comas como valor de retorno de la sentencia **`return`**.\n",
        "\n",
        "```python\n",
        "def fun():\n",
        "  # Retornamos múltiples valores separados por comas.\n",
        "  return a, b, c, ...\n",
        "```\n",
        "\n",
        "<center>\n",
        "<img src = \"https://drive.google.com/uc?export=view&id=1-AUnK2q8Oo2bn23hrErpLjusX0t85tR0\" width = \"55%\">  </img>\n",
        "</center>\n",
        "\n",
        "</br>\n",
        "\n",
        "Veamos un ejemplo:"
      ]
    },
    {
      "cell_type": "code",
      "metadata": {
        "id": "Yuu4hpIhRJSV"
      },
      "source": [
        "# Función para retornar el máximo y mínimo de una lista.\n",
        "def minmax(lista):\n",
        "  return min(lista), max(lista)"
      ],
      "execution_count": null,
      "outputs": []
    },
    {
      "cell_type": "markdown",
      "metadata": {
        "id": "IxXbesiqUBgF"
      },
      "source": [
        "Esta función retorna como único valor una **tupla** con cada uno de los elementos separados por coma en la sentencia **`return`**."
      ]
    },
    {
      "cell_type": "code",
      "metadata": {
        "id": "1LU31nwyS8kr"
      },
      "source": [
        "tupla = minmax([0, 1, 2, 3, 4, 5])\n",
        "\n",
        "type(tupla)"
      ],
      "execution_count": null,
      "outputs": []
    },
    {
      "cell_type": "markdown",
      "metadata": {
        "id": "1RDobe2EjUBm"
      },
      "source": [
        "No obstante, gracias al deseempaquetado de tuplas, el programador puede interpretar este tipo de funciones como funciones con múltiples valores de retorno."
      ]
    },
    {
      "cell_type": "code",
      "metadata": {
        "id": "NCoBGHnxjhif"
      },
      "source": [
        "# Se puede afirmar que esta función retorna\n",
        "# 2 valores, que fueron empaquetados y desempaquetados\n",
        "# en un objeto de tipo tupla.\n",
        "a, b = minmax([0, 1, 2, 3, 4, 5])\n",
        "\n",
        "print(\"Min:\", a)\n",
        "print(\"Max:\", b)"
      ],
      "execution_count": null,
      "outputs": []
    },
    {
      "cell_type": "markdown",
      "metadata": {
        "id": "MOI_V0APn1Bb"
      },
      "source": [
        "### **2.4. _Docstrings_**\n",
        "---\n",
        "Al momento de definir una función, si lo primero después del encabezado es una cadena de texto, está es tratada de forma especial en _Python_ y otras herramientas de programación.  Este tipo de cadenas se conocen como **_Docstrings_**, del inglés **cadenas de documentación**.\n",
        "\n",
        "Como su nombre lo indica, estas cadenas le permiten al programador especificar la documentación de la función, que incluye detalles como los parámetros que recibe, una descripción del proceso realizado en la función y de sus valores de retorno.\n",
        "\n",
        "Todas las funciones que vienen con _Python_ tienen este tipo de cadenas. Por ejemplo, cuando escribimos el nombre de una función con un paréntesis no cerrado en _Colab_, aparece un cuadro de diálogo que nos indica qué argumentos toma la función y nos muestra cualquier otro texto contenido en el _Docstring_ (en _inglés_).\n",
        "<center>\n",
        "<img src = \"https://drive.google.com/uc?export=view&id=19lUcB2HvyiWNrB5jPjhHiy74Xcmcp3CK\" width = \"60%\">  </img>\n",
        "</center>\n"
      ]
    },
    {
      "cell_type": "code",
      "metadata": {
        "id": "tSBg3Zggp_Le"
      },
      "source": [
        "# Complete el código para ver el docstring de la función.\n",
        "print"
      ],
      "execution_count": null,
      "outputs": []
    },
    {
      "cell_type": "markdown",
      "metadata": {
        "id": "oiwlK0jyqToX"
      },
      "source": [
        "Igualmente, cuando invocamos la función **`help`** con el nombre de nuestra función, es retornada la cadena de documentación:"
      ]
    },
    {
      "cell_type": "code",
      "metadata": {
        "id": "4J6cl84KuQDk"
      },
      "source": [
        "help(print)"
      ],
      "execution_count": null,
      "outputs": []
    },
    {
      "cell_type": "markdown",
      "metadata": {
        "id": "g2GOtcM2uPU6"
      },
      "source": [
        "Las cadenas de documentación son la forma clave de documentar nuestras funciones en *Python*. Recuerde que quien llame a nuestra función no debería tener que saber qué está sucediendo dentro la función o cómo funciona; sólo necesitan saber qué argumentos toma nuestra función, qué hace y cuál es el resultado esperado. Esta información es suficiente para poder usar la función sin tener que mirar por dentro de su definición (como una caja negra).\n",
        "\n",
        "Las cadenas de caracteres se forman generalmente utilizando cadenas de múltiples líneas (con triple comilla), ya que nos permiten expandir fácilmente el _Docstring_ más adelante. Veamos un ejemplo:"
      ]
    },
    {
      "cell_type": "code",
      "metadata": {
        "id": "xPbQGn-an1Bd"
      },
      "source": [
        "def dibujar_cuadrado(sz):\n",
        "  \"\"\"\n",
        "  Dibuja un cuadrado con lado de tamaño 'sz'.\n",
        "\n",
        "  :param sz: número entero que corresponde al lado del cuadrado.\n",
        "  \"\"\"\n",
        "  print(\"*\" * sz)\n",
        "  for i in range(sz-2):\n",
        "    print(\"*\" + \" \" * (sz-2) + \"*\")\n",
        "  print(\"*\" * sz)\n",
        "\n",
        "dibujar_cuadrado(10)"
      ],
      "execution_count": null,
      "outputs": []
    },
    {
      "cell_type": "code",
      "metadata": {
        "id": "BDPXYo1Yn1Bf"
      },
      "source": [
        "# Imprimimos la cadena de documentación de la función.\n",
        "help(dibujar_cuadrado)"
      ],
      "execution_count": null,
      "outputs": []
    },
    {
      "cell_type": "markdown",
      "metadata": {
        "id": "052W1NvcwlnR"
      },
      "source": [
        "Es muy recomendado documentar y comentar todas las funciones que se escriben en _Python_, en especial cuando alguien más va a tener que interactuar con el mismo código. Por lo general, y dado que gran parte de la comunidad de _Python_ es angloparlante, las documentaciones de módulos científicos y librerías especializadas se realiza en el idioma inglés."
      ]
    },
    {
      "cell_type": "markdown",
      "metadata": {
        "id": "akl7W3Q8mjMS"
      },
      "source": [
        "##**3. Ámbito (_scope_) de variables**\n",
        "---\n",
        "Para garantizar que una función es definida antes de ser usada, debemos conocer el orden en que se ejecutan las instrucciones, denominado **flujo de ejecución**. Como se ha discutido en unidades anteriores, la ejecución siempre comienza en la primera sentencia del programa, y las sentencias se ejecutan una a una, de arriba a abajo.\n",
        "\n",
        "Las definiciones de funciones no alteran el flujo de ejecución del programa, dado que las sentencias dentro de la función no se ejecutan hasta que se llama a la función. Simplemente es declarada la función y es asociada al nombre correspondiente.\n",
        "\n",
        "Las llamadas a funciones por su parte funcionan como un desvío en el flujo de ejecución. En lugar de pasar a la siguiente instrucción, el flujo salta a la primera línea de la función llamada, ejecuta todas las instrucciones y luego regresa para retomar a la instrucción siguiente a la llamada, recordando el punto desde donde se llamó."
      ]
    },
    {
      "cell_type": "code",
      "metadata": {
        "id": "FyWMYTMBx18S",
        "cellView": "form"
      },
      "source": [
        "#@markdown * **Ejecute esta celda para instalar _Python Tutor_.**\n",
        "!pip3 -q install tutormagic\n",
        "%load_ext tutormagic"
      ],
      "execution_count": null,
      "outputs": []
    },
    {
      "cell_type": "code",
      "metadata": {
        "id": "FRcL4YlmxUnL"
      },
      "source": [
        "%%tutor -s -h 500\n",
        "# Función 2\n",
        "def fun2():\n",
        "  print(\"ahora estoy en la funcion 2\")\n",
        "\n",
        "# Función 1\n",
        "def fun1():\n",
        "  print(\"estoy en la función 1\")\n",
        "  fun2()\n",
        "  print(\"regresé a la función 1\")\n",
        "\n",
        "# Flujo normal del programa.\n",
        "print(\"No se ha llamado la función 1\")\n",
        "fun1()\n",
        "print(\"Ya se llamó la función 1\")"
      ],
      "execution_count": null,
      "outputs": []
    },
    {
      "cell_type": "markdown",
      "metadata": {
        "id": "pD2C2W9OMpUN"
      },
      "source": [
        "\n",
        "Este cambio en el flujo de ejecución trae consigo un **cambio de contexto**, que implica el uso de reglas distintas en la ejecución de un bloque de código.  Uno de los detalles a considerar en este cambio de contexto es el **ámbito** o **_scope_** de las variables declaradas, que determina qué variables pueden ser accedidas desde qué parte del código, permitiendo conservar el estado del programa tras encadenar llamados desde puntos distintos.\n",
        "\n",
        "El ámbito (o scope) de una variable depende de donde fue declarada:\n",
        "\n",
        "* Las variables declaradas en el primer nivel de indentación, serán tomadas como **variables globales**, las cuales, como su nombre indica, son accesibles desde cualquier lugar del programa.\n",
        "\n",
        "* Si una variable fue declarada dentro de una función es considerada como una **variable local** (desde un **_scope_ local**) y sólo es accesible dentro de la misma función; si se intenta acceder desde cualquier otra función, o desde el **_scope_ global**, se producirá un error en tiempo de ejecución.\n",
        "\n",
        "* Los **parámetros** que reciben las funciones también son tratados como **variables locales** de dichas funciones.\n",
        "\n",
        "\n",
        "\n",
        "Una vez se termina de ejecutar el ámbito de ejecución de una variable local ésta **será destruida**. En el siguiente ejemplo, la variable global **`a`** es declarada antes del llamado a la función de manera que está disponible para ser usada como **variable global**."
      ]
    },
    {
      "cell_type": "code",
      "metadata": {
        "cellView": "form",
        "id": "chcrBY70oPVr"
      },
      "source": [
        "#@markdown * **Ejecute esta celda para instalar _Python Tutor_.**\n",
        "!pip3 -q install tutormagic\n",
        "%load_ext tutormagic"
      ],
      "execution_count": null,
      "outputs": []
    },
    {
      "cell_type": "code",
      "metadata": {
        "id": "mmD2HA7oMu2o"
      },
      "source": [
        "%%tutor -s -h 500\n",
        "\n",
        "# Podemos acceder a una variable global desde una función:\n",
        "def fun():\n",
        "  print(a)\n",
        "\n",
        "# Esta variable es GLOBAL.\n",
        "a = 10\n",
        "fun()"
      ],
      "execution_count": null,
      "outputs": []
    },
    {
      "cell_type": "markdown",
      "metadata": {
        "id": "3RNcLcrKMu2p"
      },
      "source": [
        " Por el contrario, en el siguiente ejemplo la variable **`b`** no ha sido declarada globalmente en el momento de invocar la función **`fun`**, generando un error:"
      ]
    },
    {
      "cell_type": "code",
      "metadata": {
        "cellView": "form",
        "id": "ZIz6UU83oP25"
      },
      "source": [
        "#@markdown * **Ejecute esta celda para instalar _Python Tutor_.**\n",
        "!pip3 -q install tutormagic\n",
        "%load_ext tutormagic"
      ],
      "execution_count": null,
      "outputs": []
    },
    {
      "cell_type": "code",
      "metadata": {
        "id": "753fRx-LMu2q"
      },
      "source": [
        "%%tutor -s -h 500\n",
        "# ERROR: acceder a una variable global no declarada\n",
        "# hasta el momento desde una función:\n",
        "def fun():\n",
        "  print(b)\n",
        "\n",
        "# Llamado de la función.\n",
        "# 'b' no ha sido declarada aún.\n",
        "fun()\n",
        "\n",
        "# Declaración de 'b'\n",
        "b = 10"
      ],
      "execution_count": null,
      "outputs": []
    },
    {
      "cell_type": "markdown",
      "metadata": {
        "id": "0H0dKUvKMu2r"
      },
      "source": [
        "En el siguiente ejemplo, la variable **`c`** es declarada localmente dentro de la función **`fun`**, de manera que no se puede acceder a su contenido desde el _scope_ global.\n",
        "\n",
        "Al hacerlo se genera un error:"
      ]
    },
    {
      "cell_type": "code",
      "metadata": {
        "cellView": "form",
        "id": "a4AvD-l0oz4J"
      },
      "source": [
        "#@markdown * **Ejecute esta celda para instalar _Python Tutor_.**\n",
        "!pip3 -q install tutormagic\n",
        "%load_ext tutormagic"
      ],
      "execution_count": null,
      "outputs": []
    },
    {
      "cell_type": "code",
      "metadata": {
        "id": "n0OHOnvnMu2r"
      },
      "source": [
        "%%tutor -s -h 500\n",
        "# No se puede acceder a una variable local desde un scope global.\n",
        "def fun():\n",
        "  c = \"hola\"   # Variable local 'c'\n",
        "  print(c)\n",
        "  # Cuando termina la ejecución la variable es eliminada.\n",
        "\n",
        "# Se llama la función.\n",
        "fun()\n",
        "# ERROR: la variable 'c' no está disponible en el ámbito global,\n",
        "# pues era una variable local de la función 'fun'.\n",
        "print(c)"
      ],
      "execution_count": null,
      "outputs": []
    },
    {
      "cell_type": "markdown",
      "metadata": {
        "id": "KTSBvrk6Mu2s"
      },
      "source": [
        "Si bien las variables globales son accesibles desde las funciones, si intentamos modificarlas en el ámbito local de una función, esta creará una referencia a una **variable local** con el mismo nombre en vez de modificar el contenido de la **variable global**.\n",
        "\n",
        "\n",
        "> **Nota:** al realizar la ejecución en _Python Tutor_ preste atención a la sección \"_Frames_\". En ella se dispone una tabla de las variables que han sido declaradas en cada ámbito, siendo \"_Global Frame_\" en este caso la lista de variables globales. En este ejemplo el *frame* de la función **`fun`** crea una variable llamada **`x`**, distinta a la variable global con el mismo nombre y le asigna el valor correspondiente.\n",
        "  Note además que en la lista de variables globales se encuentra el nombre de la misma función **`fun`**. Este detalle se retomará más adelante en este material.\n",
        "\n",
        "\n",
        "\n"
      ]
    },
    {
      "cell_type": "code",
      "metadata": {
        "cellView": "form",
        "id": "LJmIvGbIemPg"
      },
      "source": [
        "#@markdown * **Ejecute esta celda para instalar _Python Tutor_.**\n",
        "!pip3 -q install tutormagic\n",
        "%load_ext tutormagic"
      ],
      "execution_count": null,
      "outputs": []
    },
    {
      "cell_type": "code",
      "metadata": {
        "id": "HHq4FDZwMu2s"
      },
      "source": [
        "%%tutor -s -h 500\n",
        "\n",
        "def fun():\n",
        "  x = 'local (fun)'\n",
        "  print(\"Valor de 'x' dentro de 'fun':\", x)\n",
        "\n",
        "x = 'global'\n",
        "print(\"Valor de 'x' global:\", x)\n",
        "\n",
        "fun()\n",
        "print(\"Valor de 'x' global:\", x)"
      ],
      "execution_count": null,
      "outputs": []
    },
    {
      "cell_type": "markdown",
      "metadata": {
        "id": "vL80XJk3Mu2t"
      },
      "source": [
        "Para poder modificar el valor de una variable global desde un _scope_ local, se debe especificar que se va a utilizar la variable global con la sentencia **`global`**, seguida del nombre de la variable. En esta ocasión el _frame_ mostrado en _Python Tutor_ no crea una variable local con el nombre **`x`**, sino que modifica directamente la variable global."
      ]
    },
    {
      "cell_type": "code",
      "metadata": {
        "cellView": "form",
        "id": "SoX_HpHAenKO"
      },
      "source": [
        "#@markdown * **Ejecute esta celda para instalar _Python Tutor_.**\n",
        "!pip3 -q install tutormagic\n",
        "%load_ext tutormagic"
      ],
      "execution_count": null,
      "outputs": []
    },
    {
      "cell_type": "code",
      "metadata": {
        "id": "LOvQscrmMu2u"
      },
      "source": [
        "%%tutor -s -h 500\n",
        "def fun():\n",
        "  global x    # Sentencia 'global'. Ahora la referencia 'x' es la de la variable global.\n",
        "  x = 'local (fun)'\n",
        "  print(\"Valor de 'x' dentro de fun:\", x)\n",
        "\n",
        "x = 'global'\n",
        "print(\"Valor de 'x' global:\", x)\n",
        "fun()\n",
        "print(\"Valor de 'x' global:\", x)"
      ],
      "execution_count": null,
      "outputs": []
    },
    {
      "cell_type": "markdown",
      "metadata": {
        "id": "yFmTGsUtMu2v"
      },
      "source": [
        "Con esta sentencia también podemos declarar **nuevas variables globales** dentro de una función."
      ]
    },
    {
      "cell_type": "code",
      "metadata": {
        "cellView": "form",
        "id": "0BASTg91eoB9"
      },
      "source": [
        "#@markdown * **Ejecute esta celda para instalar _Python Tutor_.**\n",
        "!pip3 -q install tutormagic\n",
        "%load_ext tutormagic"
      ],
      "execution_count": null,
      "outputs": []
    },
    {
      "cell_type": "code",
      "metadata": {
        "id": "RXTNNxY-Mu2v"
      },
      "source": [
        "%%tutor -s -h 500\n",
        "def fun():\n",
        "  global a   # Variable global 'a' que SÍ existía antes.\n",
        "  a = a + 100\n",
        "\n",
        "  global b   # Variable global 'b' que NO existía antes.\n",
        "  b = 50\n",
        "\n",
        "a = 10     # La variable global 'a' se declara antes del llamado de la función.\n",
        "print(a)\n",
        "fun()\n",
        "print(a, b)"
      ],
      "execution_count": null,
      "outputs": []
    },
    {
      "cell_type": "markdown",
      "metadata": {
        "id": "R5kKeNV1rqZN"
      },
      "source": [
        "## **4. Tipo de dato funcional**\n",
        "---\n",
        "\n",
        "Una de las características que hacen de _Python_ un lenguaje que aplica el paradigma de la programación funcional es el tratamiento especial de sus funciones como un **tipo de dato** más. Este tipo de dato tiene la propiedad de ser **invocable**, lo que permite utilizar paréntesis para realizar un llamado de las sentencias en su bloque de código.\n",
        "\n",
        "Por ejemplo, si tomamos una función como **`print`** o **`len`**, podemos ver su tipo con la función **`type`**. Es importante escribir el nombre de la función **sin llamarla**, o de lo contrario estaríamos evaluando el tipo del **valor de retorno** de la función."
      ]
    },
    {
      "cell_type": "code",
      "metadata": {
        "id": "9K19WeG6hDUU"
      },
      "source": [
        "# print() tiene como  tipo 'NoneType'.\n",
        "type(print())"
      ],
      "execution_count": null,
      "outputs": []
    },
    {
      "cell_type": "code",
      "metadata": {
        "id": "i8NDdeJnhNsu"
      },
      "source": [
        "# print tiene como  tipo 'NoneType'.\n",
        "type(print)"
      ],
      "execution_count": null,
      "outputs": []
    },
    {
      "cell_type": "markdown",
      "metadata": {
        "id": "ZE630FkhhhCQ"
      },
      "source": [
        "En este caso, el tipo de la función **`print`** es **`builtin_function_or_method`**, que refleja que es una de las funciones que vienen con _Python _. Podemos realizar la misma evaluación con una función definida por el programador."
      ]
    },
    {
      "cell_type": "code",
      "metadata": {
        "id": "kIr9oN1fhvCf"
      },
      "source": [
        "# Definimos una función.\n",
        "def fun(a):\n",
        "  return a + 100"
      ],
      "execution_count": null,
      "outputs": []
    },
    {
      "cell_type": "markdown",
      "metadata": {
        "id": "AXbQh_Nvh5t1"
      },
      "source": [
        "Para el caso de funciones definidas por el programador, el tipo de dato es **`function`**, independientemente del tipo de sus parámetros o de sus valores de retorno."
      ]
    },
    {
      "cell_type": "code",
      "metadata": {
        "id": "5KpjC5R3h4Bx"
      },
      "source": [
        "type(fun)"
      ],
      "execution_count": null,
      "outputs": []
    },
    {
      "cell_type": "markdown",
      "metadata": {
        "id": "aBJfmVuAmi2N"
      },
      "source": [
        "Como se había mencionado antes, la definición de variables es en esencia una **asignación de una función a una variable**. El nombre indicado en el encabezado de la función representa el nombre de la variable, razón por la cual este nombre debe respetar las reglas de definición de funciones.\n",
        "\n",
        "<center>\n",
        "<img src = \"https://drive.google.com/uc?export=view&id=1miNdpQ2LL5jH42ftdMvz8dZfR2RGWqzY\" width = \"30%\">  </img>\n",
        "</center>\n",
        "\n",
        "</br>\n",
        "\n",
        "\n",
        " En el siguiente ejercicio de _Python Tutor_ podrá apreciar como las funciones definidas se ubican en la tabla de variables globales como con los demás tipos de dato, apuntando a un objeto de tipo funcional."
      ]
    },
    {
      "cell_type": "code",
      "metadata": {
        "cellView": "form",
        "id": "J-cdKEUDepXA"
      },
      "source": [
        "#@markdown * **Ejecute esta celda para instalar _Python Tutor_.**\n",
        "!pip3 -q install tutormagic\n",
        "%load_ext tutormagic"
      ],
      "execution_count": null,
      "outputs": []
    },
    {
      "cell_type": "code",
      "metadata": {
        "id": "THoPlIoZmzI_"
      },
      "source": [
        "%%tutor -s -h 500\n",
        "# Declaramos la función con el nombre 'a'\n",
        "def a():\n",
        "  return 'A'\n",
        "\n",
        "# Declaramos la función con el nombre 'b'\n",
        "def b():\n",
        "  return 'B'\n",
        "\n",
        "c = 100\n",
        "d = 'Python'\n",
        "e = [0, 1, 2]\n",
        "\n",
        "print(a, b, c, d, e)"
      ],
      "execution_count": null,
      "outputs": []
    },
    {
      "cell_type": "markdown",
      "metadata": {
        "id": "YXEOcWJpiLkk"
      },
      "source": [
        "Que sea un tipo de dato regular nos permite realizar varias cosas. En primer lugar, podemos **asignar una función a una variable**."
      ]
    },
    {
      "cell_type": "code",
      "metadata": {
        "id": "-VuRso1UiJ6T"
      },
      "source": [
        "# Asignamos el valor de 'print'\n",
        "# a la variable 'imprimir'.\n",
        "imprimir = print\n",
        "\n",
        "# La función 'imprimir' ahora funciona de la misma\n",
        "# forma que la función 'print'.\n",
        "imprimir(\"Hola\")\n",
        "type(imprimir)"
      ],
      "execution_count": null,
      "outputs": []
    },
    {
      "cell_type": "code",
      "metadata": {
        "id": "WAI3cu-Xifo4"
      },
      "source": [
        "# También aplica para funciones definidas por el programador.\n",
        "f_x = fun\n",
        "\n",
        "f_x(100)"
      ],
      "execution_count": null,
      "outputs": []
    },
    {
      "cell_type": "markdown",
      "metadata": {
        "id": "RH-D1x37jb06"
      },
      "source": [
        "Además, podemos usar funciones como el **argumento** de una función y llamarla desde dentro. En el siguiente ejemplo definimos múltiples funciones con la misma entrada y las pasamos como segundo argumento de una función que tiene como objetivo ejecutar dicha función. Esta idea nos permite tener la opción de realizar procesos definidos por el usuario del programa, que puede ingresar cualquier clase de función. En ocasiones este tipo de funciones se conocen como **_callbacks_**, que son funciones entregadas como argumento que son ejecutadas una vez se termina la ejecución de la función a la que se pasa dicha función."
      ]
    },
    {
      "cell_type": "code",
      "metadata": {
        "cellView": "form",
        "id": "Dp9sT8eXeqD7"
      },
      "source": [
        "#@markdown * **Ejecute esta celda para instalar _Python Tutor_.**\n",
        "!pip3 -q install tutormagic\n",
        "%load_ext tutormagic"
      ],
      "execution_count": null,
      "outputs": []
    },
    {
      "cell_type": "code",
      "metadata": {
        "id": "S5wTBs9Njj-B"
      },
      "source": [
        "%%tutor -s -h 500\n",
        "def ejecutar_con_x(x, fun):\n",
        "  print(f\"La respuesta es {fun(x)}.\")\n",
        "\n",
        "def cuadrado(x):\n",
        "  return x ** 2\n",
        "\n",
        "def cubo(x):\n",
        "  return x ** 3\n",
        "\n",
        "def inverso(x):\n",
        "  return 1 / x\n",
        "\n",
        "ejecutar_con_x(10, str)\n",
        "ejecutar_con_x(10, cuadrado)\n",
        "ejecutar_con_x(10, cubo)\n",
        "ejecutar_con_x(10, inverso)"
      ],
      "execution_count": null,
      "outputs": []
    },
    {
      "cell_type": "markdown",
      "metadata": {
        "id": "I99bxMislsH7"
      },
      "source": [
        "Además de esto, podemos **retornar funciones** como valor de retorno de otra función. En este caso realizamos una **definición interna** de una función, que puede considerarse como una **función local**. Como la definición de funciones es realmente una asignación de una variable, también aplica al **ámbito en el que es declarada**. Por esta razón, solo la función **`fun_externa`** tiene acceso a su función interna **`fun_interna`**. Luego, puede retornar su valor en una sentencia **`return`**."
      ]
    },
    {
      "cell_type": "code",
      "metadata": {
        "cellView": "form",
        "id": "h7Rh-67RerWh"
      },
      "source": [
        "#@markdown * **Ejecute esta celda para instalar _Python Tutor_.**\n",
        "!pip3 -q install tutormagic\n",
        "%load_ext tutormagic"
      ],
      "execution_count": null,
      "outputs": []
    },
    {
      "cell_type": "code",
      "metadata": {
        "id": "NYtMYEbTly8M"
      },
      "source": [
        "%%tutor -s -h 500\n",
        "# Definimos una función externa.\n",
        "def fun_externa(msg):\n",
        "  print(msg)\n",
        "  print(\"Estoy en la función externa.\")\n",
        "  # Definimos una función local dentro de la función 'fun_externa'.\n",
        "  def fun_interna():\n",
        "    print(\"Estoy en la función interna.\")\n",
        "\n",
        "  return fun_interna\n",
        "\n",
        "\n",
        "# Asignamos el valor retornado a una variable.\n",
        "f = fun_externa(\"Primer llamado\")\n",
        "f()\n",
        "\n",
        "# Llamamos el valor retornado directamente con paréntesis\n",
        "fun_externa(\"Segundo llamado\")()\n",
        "\n",
        "# La función definida dentro de 'fun_interna' no puede\n",
        "# ser accedida en el ámbito global.\n",
        "print(fun_interna)"
      ],
      "execution_count": null,
      "outputs": []
    },
    {
      "cell_type": "markdown",
      "metadata": {
        "id": "HsnJ3v_ZpjcK"
      },
      "source": [
        "El _frame_ de la función que retorna la función es \"congelado\" mientras se tenga almacenado el valor de su función interna. De esta manera, el llamado de dicha función se realizará con el **estado** en el que se encontraba la función externa en el momento de su declaración. Por ejemplo, si la definición usa variables de la función en la que fue declarada, se guardará el valor que tenía cada una de ellas cuando se realice el llamado.\n",
        "\n",
        "Preste especial atención la sección _Frames_ y el orden de ejecución del siguiente ejercicio de _Python Tutor_."
      ]
    },
    {
      "cell_type": "code",
      "metadata": {
        "cellView": "form",
        "id": "ieVt3FrYesMW"
      },
      "source": [
        "#@markdown * **Ejecute esta celda para instalar _Python Tutor_.**\n",
        "!pip3 -q install tutormagic\n",
        "%load_ext tutormagic"
      ],
      "execution_count": null,
      "outputs": []
    },
    {
      "cell_type": "code",
      "metadata": {
        "id": "4rANsD7KqrLO"
      },
      "source": [
        "%%tutor -s -h 500\n",
        "def f(x, y):\n",
        "  def suma(a):\n",
        "    return a + x + y\n",
        "\n",
        "  return suma\n",
        "\n",
        "f1 = f(10, 20)\n",
        "print(f1(5))\n",
        "\n",
        "f2 = f(100, 200)\n",
        "print(f2(5))"
      ],
      "execution_count": null,
      "outputs": []
    },
    {
      "cell_type": "markdown",
      "metadata": {
        "id": "JVTz3vuxqp6h"
      },
      "source": [
        "Aunque en ambos casos la función se define como la función **`suma`**, ambas realizar una operación con valores distintos, que no se ven modificados con nuevos llamados a la función externa."
      ]
    },
    {
      "cell_type": "markdown",
      "metadata": {
        "id": "5rMBSjQWtsOk"
      },
      "source": [
        "##### **4.1. Expresiones _lambda_**\n",
        "---\n",
        "Existe un tipo de declaración de funciones especial, usado para la definición de **funciones anónimas** en usa sola línea, sin la necesidad de recurrir a variables intermedias. Esto se consigue con el operador **`lambda`**, que define una sintaxis simplificada para la definición de funciones cortas, conocidas como **expresiones _lambda_**.\n",
        "\n",
        "> **Nota:** el nombre _lambda_ se refiere a la letra griega del mismo nombre, representada por el símbolo $\\lambda$, y proviene específicamente del concepto [cálculo _lambda_](https://es.wikipedia.org/wiki/Cálculo_lambda), un sistema matemático definido por el matemático estadounidense _Alonzo Church_, y explorado ampliamente en las ramas de la lógica matemática y en las ciencias de la computación. Esta teoría ha tenido una gran influencia en el nacimiento de múltiples lenguajes de programación como _Haskell_, en los que se basa _Python_ para dar soporte al estilo de programación del paradigma de la programación funcional.\n",
        "\n",
        "Las expresiones _lambda_ siguen las siguientes reglas:\n",
        "\n",
        "```python\n",
        "lambda parámetros : expresión\n",
        "```\n",
        "\n",
        "Los parámetros indicados después de la sentencia **`lambda`** deberán ser especificados separados por coma, como en las tuplas y listas.\n",
        "</br>\n",
        "\n",
        "<center>\n",
        "<img src = \"https://drive.google.com/uc?export=view&id=1clgKYcJ1B_uJAXF1LPr0ffHQmlvmf2K7\" width = \"40%\">  </img>\n",
        "</center>\n",
        "\n",
        "</br>\n",
        "\n",
        "\n",
        "De esta manera obtenemos una expresión equivalente a una definición de función de la siguiente forma:\n",
        "```python\n",
        "def <lambda>(parámetros):\n",
        "  return expresión\n",
        "```\n",
        "\n",
        "Las expresiones _lambda_ no tienen un nombre asociado, ni pueden tener instrucciones intermedias realizadas antes de la sentencia **`return`**.\n",
        "\n",
        "\n",
        "Veamos un ejemplo:"
      ]
    },
    {
      "cell_type": "code",
      "metadata": {
        "id": "VTwEidouvj4p"
      },
      "source": [
        "# Expresión lambda que retorna el cuadrado de un número.\n",
        "lambda x: x ** 2"
      ],
      "execution_count": null,
      "outputs": []
    },
    {
      "cell_type": "markdown",
      "metadata": {
        "id": "GpwYbtW1vrUR"
      },
      "source": [
        "Dado que se trata de una expresión, podemos usarla como argumento de una función y asignarla a una variable."
      ]
    },
    {
      "cell_type": "code",
      "metadata": {
        "id": "bYKg9lzlvxO7"
      },
      "source": [
        "# Evaluamos el tipo de la expresión lambda.\n",
        "type(lambda x: x ** 2)"
      ],
      "execution_count": null,
      "outputs": []
    },
    {
      "cell_type": "code",
      "metadata": {
        "id": "gLj4Znoev7Pb"
      },
      "source": [
        "cuadrado = lambda x: x ** 2"
      ],
      "execution_count": null,
      "outputs": []
    },
    {
      "cell_type": "markdown",
      "metadata": {
        "id": "XRexVdVU3PIX"
      },
      "source": [
        "A pesar de esto, su mayor utilidad reside en la posibilidad de crear **funciones de un solo uso**, que no se puedan reutilizar en el programa, ni que permanezcan almacenadas en memoria dentro de una variable. Podemos ejecutar una expresión _lambda_ directamente envolviéndola en paréntesis y realizando un llamado directo a la función."
      ]
    },
    {
      "cell_type": "code",
      "metadata": {
        "id": "oHGB_yFrCL_1"
      },
      "source": [
        "# Llamado directo de la expresión lambda.\n",
        "(lambda x: x ** 2)(10)"
      ],
      "execution_count": null,
      "outputs": []
    },
    {
      "cell_type": "markdown",
      "metadata": {
        "id": "CvYRUNbcCUjF"
      },
      "source": [
        "Como mencionamos inicialmente, las expresiones _lambda_ pueden recibir múltiples parámetros, y retornar múltiples valores en forma de tupla. Esta última debe estar debidamente envuelta en paréntesis."
      ]
    },
    {
      "cell_type": "code",
      "metadata": {
        "id": "f4XMzGRXC_mZ"
      },
      "source": [
        "f = lambda x, y : (y, x)\n",
        "\n",
        "f(0, 1)"
      ],
      "execution_count": null,
      "outputs": []
    },
    {
      "cell_type": "markdown",
      "metadata": {
        "id": "oU8N-DccDT26"
      },
      "source": [
        "Si se omiten los paréntesis, la expresión es tomada como el primer elemento de una tupla, como se muestra en el siguiente ejemplo de _Python Tutor_."
      ]
    },
    {
      "cell_type": "code",
      "metadata": {
        "cellView": "form",
        "id": "WJr5oKN4etMO"
      },
      "source": [
        "#@markdown * **Ejecute esta celda para instalar _Python Tutor_.**\n",
        "!pip3 -q install tutormagic\n",
        "%load_ext tutormagic"
      ],
      "execution_count": null,
      "outputs": []
    },
    {
      "cell_type": "code",
      "metadata": {
        "id": "R5K5jdq3t2BW"
      },
      "source": [
        "%%tutor -s -h 500\n",
        "# Variable de entrada de ejemplo.\n",
        "x = 10\n",
        "\n",
        "# Expresión lambda con múltiples valores de retorno incorrecta.\n",
        "f_x  = lambda x : x, x**2, x**3\n",
        "print(type(f_x))\n",
        "print(len(f_x))\n",
        "\n",
        "# La expresión anterior es equivalente a obtener el siguiente valor:\n",
        "f_x2  = (lambda x : x), x**2, x**3\n",
        "\n",
        "# Expresión lambda con retorno correcto de tupla.\n",
        "g_x = lambda x: (x, x**2, x**3)\n",
        "print(type(g_x))\n",
        "print(g_x(x))"
      ],
      "execution_count": null,
      "outputs": []
    },
    {
      "cell_type": "markdown",
      "metadata": {
        "id": "u2OgfoSmEsxo"
      },
      "source": [
        "Las expresiones _lambda_ pueden recibir y retornar valores de **cualquier tipo**."
      ]
    },
    {
      "cell_type": "code",
      "metadata": {
        "id": "fCUe-WgvExCB"
      },
      "source": [
        "# Expresión que recibe una cadena y retorna una lista de booleanos.\n",
        "f = (lambda x: [x.isupper(), x.isdigit()])\n",
        "\n",
        "print(f(\"hola\"))\n",
        "print(f(\"HOLA\"))\n",
        "print(f(\"123\"))"
      ],
      "execution_count": null,
      "outputs": []
    },
    {
      "cell_type": "markdown",
      "metadata": {
        "id": "gGCOKB1JFI1n"
      },
      "source": [
        "Entre los tipos que puede recibir retornar se encuentran otras **funciones**. Por ejemplo, podemos definir una expresión _lambda_ que retorne otra expresión _lambda_."
      ]
    },
    {
      "cell_type": "code",
      "metadata": {
        "cellView": "form",
        "id": "q3REg6KIeuPq"
      },
      "source": [
        "#@markdown * **Ejecute esta celda para instalar _Python Tutor_.**\n",
        "!pip3 -q install tutormagic\n",
        "%load_ext tutormagic"
      ],
      "execution_count": null,
      "outputs": []
    },
    {
      "cell_type": "code",
      "metadata": {
        "id": "jTlnB7KWF6jG"
      },
      "source": [
        "%%tutor -s -h 500\n",
        "# Expresión lambda como valor de retorno.\n",
        "suma = lambda x: (lambda y: x + y)\n",
        "\n",
        "# Esta función retorna la expresión lambda: \"lambda y: 1 + y\"\n",
        "suma_a_1 = suma(1)\n",
        "print(suma_a_1(5)) # Obtenemos (lambda 5: 1 + 5 = 6)\n",
        "\n",
        "# Si realizamos los dos llamados, tenemos una forma\n",
        "# de realizar una suma con llamados a funciones!\n",
        "print(suma(1)(2))\n",
        "\n",
        "# La siguiente expresión realiza la suma (5 + 3) + 2\n",
        "print(suma( suma(5)(3) )(2))"
      ],
      "execution_count": null,
      "outputs": []
    },
    {
      "cell_type": "markdown",
      "metadata": {
        "id": "u_GDrbA0HkxL"
      },
      "source": [
        "#### **4.2. Funciones de programación funcional**\n",
        "---\n",
        "_Python_ reúne algunas funciones por defecto que aprovechan el tipo de dato funcional como entrada y permiten realizar tareas comunes con un enfoque inspirado en la programación funcional. En esta sección repasaremos las funciones **`map`** y **`filter`**, y su aplicación en el manejo de iterables."
      ]
    },
    {
      "cell_type": "markdown",
      "metadata": {
        "id": "S0Qg1GmvILzP"
      },
      "source": [
        "##### **4.2.1. Función `map`**\n",
        "---\n",
        "\n",
        "La primera función es la función **`map`**. Esta permite realizar una operación de mapeo de una colección a otra, asociando cada uno de sus elementos a un valor nuevo.\n",
        "\n",
        "En matemáticas el concepto de mapa va muy ligado al concepto de función, en el cual se le asocia un elemento de un conjunto de salida a los elementos del conjunto de entrada.\n",
        "\n",
        "<center>\n",
        "<img src = \"https://drive.google.com/uc?export=view&id=1e1cPPLvJaRve00k9SUpox1a_VumjMz1c\" width = \"50%\">  </img>\n",
        "</center>\n",
        "\n",
        "</br>\n",
        "\n",
        " La función **`map`** nos permite realizar esta asociación por medio de una **función**, que recibe un valor del conjunto de entrada y genera un valor nuevo. Este \"conjunto\" es representado en _Python_ por una colección de cualquier tipo.\n",
        "\n",
        "\n",
        "```python\n",
        "# Función 'map'\n",
        "map(función, iterable)\n",
        "```\n",
        "\n",
        " Un ejemplo común de uso de la función **`map`** es la transformación de una lista de valores numéricos obtenidos de la entrada del programa. En muchos problemas de programación se recibe de la entrada del programa una lista de valores numéricos separados por espacio. Como esta entrada es una cadena de texto, es necesario realizar una operación de separación de los valores con la función **`split`**."
      ]
    },
    {
      "cell_type": "code",
      "metadata": {
        "id": "hqSdRE3LJP3k"
      },
      "source": [
        "# Entrada del programa.\n",
        "# entrada = input()\n",
        "\n",
        "# Para evitar problemas, usaremos un ejemplo de entrada directamente.\n",
        "entrada = \"5 15 25 35 45 55\"\n",
        "\n",
        "valores = entrada.split()\n",
        "valores"
      ],
      "execution_count": null,
      "outputs": []
    },
    {
      "cell_type": "markdown",
      "metadata": {
        "id": "ImYWAMKyL5Wo"
      },
      "source": [
        "Una vez con esa lista, es importante realizar la conversión apropiada de cada valor. Con la función **`map`**, podemos indicar directamente la función de _Python_ **`int`**."
      ]
    },
    {
      "cell_type": "code",
      "metadata": {
        "id": "4DSu_ItsMcB2"
      },
      "source": [
        "valores_enteros = map(int,         # Función de mapeo.\n",
        "                      valores)     # Conjunto (iterable) de entrada.\n",
        "\n",
        "valores_enteros"
      ],
      "execution_count": null,
      "outputs": []
    },
    {
      "cell_type": "markdown",
      "metadata": {
        "id": "srELudj8Mmi9"
      },
      "source": [
        "El valor retornado es un objeto **iterable** de tipo **`map`**. Podemos utilizar un ciclo **`for`**, o funciones como **`list`** o **`set`** para obtener el resultado que sea más apropiado."
      ]
    },
    {
      "cell_type": "code",
      "metadata": {
        "id": "lh6Xpj1AM3YD"
      },
      "source": [
        "type(valores_enteros)"
      ],
      "execution_count": null,
      "outputs": []
    },
    {
      "cell_type": "code",
      "metadata": {
        "id": "Wm8H2ljvM6TP"
      },
      "source": [
        "# Valores con el nuevo valor.\n",
        "for valor in valores_enteros:\n",
        "  print(valor, type(valor))"
      ],
      "execution_count": null,
      "outputs": []
    },
    {
      "cell_type": "markdown",
      "metadata": {
        "id": "22hOCIlvNDmn"
      },
      "source": [
        "De manera resumida, se puede usar un código como el siguiente para obtener la entrada, separarla por espacios, remapear sus valores al tipo entero y convertirla en una lista:"
      ]
    },
    {
      "cell_type": "code",
      "metadata": {
        "id": "-mgp4pnsNOHj"
      },
      "source": [
        "# Asegúrese de indicar una entrada como \"10 26 78 94\"\n",
        "# o se generará un error\n",
        "l = list(map(int, input().split()))\n",
        "\n",
        "l"
      ],
      "execution_count": null,
      "outputs": []
    },
    {
      "cell_type": "markdown",
      "metadata": {
        "id": "x7M1G0rhNl-Q"
      },
      "source": [
        "Podemos utilizar **expresiones _lambda_** como el valor de la función para realizar operaciones más específicas."
      ]
    },
    {
      "cell_type": "code",
      "metadata": {
        "cellView": "form",
        "id": "xZduE069bN0C"
      },
      "source": [
        "#@markdown * **Ejecute esta celda para instalar _Python Tutor_.**\n",
        "!pip3 -q install tutormagic\n",
        "%load_ext tutormagic"
      ],
      "execution_count": null,
      "outputs": []
    },
    {
      "cell_type": "code",
      "metadata": {
        "id": "66H3NJsqNkTQ"
      },
      "source": [
        "%%tutor -s -h 500\n",
        "# El conjunto de entrada puede ser cualquier iterable.\n",
        "x = range(10)\n",
        "\n",
        "# Usamos una función definida como una expresión lambda.\n",
        "f = lambda x: 3 * x**2 - 10 * x\n",
        "\n",
        "# Iteramos el objeto 'map' generado.\n",
        "for yi in map(f, x):\n",
        "  print(yi)\n",
        "\n",
        "# Podemos realizar todo en una sola línea.\n",
        "y = list(map(lambda x: 3 * x**2 - 10 * x, range(10)))\n",
        "print(y)"
      ],
      "execution_count": null,
      "outputs": []
    },
    {
      "cell_type": "markdown",
      "metadata": {
        "id": "tp1aI093IRfN"
      },
      "source": [
        "##### **4.2.2. Función `filter`**\n",
        "---\n",
        "\n",
        "La segunda función es la función **`filter`**. Como su nombre lo indica (filtro del inglés) esta función permite filtrar los valores de un iterable que cumplan una condición determinada.\n",
        "\n",
        "\n",
        "En esta ocasión la función utilizada es conocida como **predicado**, un tipo de función que retorna un valor _booleano_ (verdadero o falso), que es evaluado en cada elemento del iterable original. Si la función indicada no tiene este comportamiento, el programa puede tener resultados inesperados, como errores o evaluaciones equivocadas.\n",
        "\n",
        "<center>\n",
        "<img src = \"https://drive.google.com/uc?export=view&id=1SYpHC47VL6RvI0I7ifKswbg0CeLHdc0b\" width = \"60%\">  </img>\n",
        "</center>\n",
        "\n",
        "</br>\n",
        "\n",
        "\n",
        "La función **`filter`** recibe una función predicado y un iterable de la siguiente forma:\n",
        "\n",
        "```python\n",
        "filter(función, iterable)\n",
        "```\n",
        "\n",
        "Por ejemplo, podemos querer obtener únicamente los caracteres en mayúscula de una cadena de texto. Para esto podemos utilizar el método **`isupper`**, disponible en el objeto **`str`**. Para utilizar esta función tenemos dos opciones:\n",
        "\n",
        "- Crear una expresión _lambda_ que retorne el valor de **`s.isupper()`**.\n",
        "- Acceder al método de forma estática, aprovechando la siguiente equivalencia:\n",
        "  ```python\n",
        "  cadena.isupper == str.ispper(cadena)\n",
        "  ```\n",
        "\n",
        "> **Nota:** en el siguiente material se discutirán las diferencias y semejanzas entre el concepto de función y de método, y se profundizará en el llamado estático de métodos."
      ]
    },
    {
      "cell_type": "code",
      "metadata": {
        "id": "iUWhIWFtRCAL"
      },
      "source": [
        "# Opción 1 - expresión 'lambda'\n",
        "predicado_1 = lambda x: x.isupper()\n",
        "\n",
        "predicado_1('a'), predicado_1('A')"
      ],
      "execution_count": null,
      "outputs": []
    },
    {
      "cell_type": "code",
      "metadata": {
        "id": "Tekp1OXlWCJ7"
      },
      "source": [
        "# Opción 2 - método estático\n",
        "predicado_2 = str.isupper\n",
        "\n",
        "predicado_2('a'), predicado_2('A')"
      ],
      "execution_count": null,
      "outputs": []
    },
    {
      "cell_type": "markdown",
      "metadata": {
        "id": "--yQ0QNaWRJZ"
      },
      "source": [
        "Finalmente, podemos aplicar cualquiera de los dos enfoques como el predicado de la función"
      ]
    },
    {
      "cell_type": "code",
      "metadata": {
        "id": "PIn0fiCMVrg3"
      },
      "source": [
        "cadena = 'MmAiYnÚúSsCcUuLlAasS'\n",
        "# Opción 1.\n",
        "# solo_mayúsculas = filter(lambda x: x.isupper(), cadena)\n",
        "\n",
        "# Opción 2.\n",
        "solo_mayúsculas = filter(str.isupper, cadena)\n",
        "solo_mayúsculas"
      ],
      "execution_count": null,
      "outputs": []
    },
    {
      "cell_type": "markdown",
      "metadata": {
        "id": "gBYsdmyYX2uK"
      },
      "source": [
        "El valor retornado por la función es de tipo **`filter`**, sin importar el tipo de sus entradas. Este tipo de dato es **iterable** y por lo tanto podemos usarlo para construir una lista o iterar sobre sus valores en un ciclo **`for`**. En este caso, como queremos obtener una cadena a partir del iterable de caracteres, podemos utilizar el método **`join`** (con una cadena vacía como separador) de las cadenas de texto para unir los caracteres del iterable.\n",
        "\n"
      ]
    },
    {
      "cell_type": "code",
      "metadata": {
        "id": "AikXUwOvXC4r"
      },
      "source": [
        "# Método join con \"\" (cadena vacía) como separador.\n",
        "\"\".join(solo_mayúsculas)"
      ],
      "execution_count": null,
      "outputs": []
    },
    {
      "cell_type": "markdown",
      "metadata": {
        "id": "RBVGCA7SY-na"
      },
      "source": [
        "Podemos realizar todo el proceso anterior en una única línea, en la que separamos la cadena, filtramos los valores que sean mayúscula, y la juntamos usando una cadena vacía como separador:"
      ]
    },
    {
      "cell_type": "code",
      "metadata": {
        "id": "rtp3gI1nZIt5"
      },
      "source": [
        "\"\".join(filter(str.isupper, 'MmAiYnÚúSsCcUuLlAasS'))"
      ],
      "execution_count": null,
      "outputs": []
    },
    {
      "cell_type": "markdown",
      "metadata": {
        "id": "KTra2aYsZaer"
      },
      "source": [
        "Es común utilizar la función **`filter`** junto a la función **`map`** para realizar un mapeo de valores que cumplan una condición. Veamos un ejemplo con _Python Tutor_."
      ]
    },
    {
      "cell_type": "code",
      "metadata": {
        "cellView": "form",
        "id": "1qPqHZs4bPJa"
      },
      "source": [
        "#@markdown * **Ejecute esta celda para instalar _Python Tutor_.**\n",
        "!pip3 -q install tutormagic\n",
        "%load_ext tutormagic"
      ],
      "execution_count": null,
      "outputs": []
    },
    {
      "cell_type": "code",
      "metadata": {
        "id": "nSP6wsZhamlR"
      },
      "source": [
        "%%tutor -s -h 500\n",
        "\n",
        "# Obtenemos la colección de entrada.\n",
        "a = list(range(10))\n",
        "print(list(a))\n",
        "\n",
        "# map: Realizamos un remapeo con una función matemática.\n",
        "b = list(map(lambda x: 3*x + 1, a))\n",
        "print(b)\n",
        "\n",
        "# filter: Realizamos un filtro para obtener los números pares.\n",
        "c = list(filter(lambda x: x % 2 == 0, b))\n",
        "print(c)\n",
        "\n",
        "# Se puede escribir todo en una sola línea.\n",
        "# c = list(filter(lambda x: x % 2 == 0, map(lambda x: 3*x + 1, a)))"
      ],
      "execution_count": null,
      "outputs": []
    },
    {
      "cell_type": "markdown",
      "metadata": {
        "id": "DB_GPl1ou_YI"
      },
      "source": [
        "## **Referencias**\n",
        "---\n",
        "Este material fue tomado y adaptado del libro _How to Think Like a Computer Scientist: Learning with Python 3_, capítulo 4 (versión en inglés) y 6 (versión en español).\n",
        "\n",
        " > _Copyright (C) Brad Miller, David Ranum, Jeffrey Elkner, Peter Wentworth, Allen B. Downey, Chris\n",
        "Meyers, and Dario Mitchell. Permission is granted to copy, distribute\n",
        "and/or modify this document under the terms of the GNU Free Documentation\n",
        "License, Version 1.3 or any later version published by the Free Software\n",
        "Foundation; with Invariant Sections being Forward, Prefaces, and\n",
        "Contributor List, no Front-Cover Texts, and no Back-Cover Texts. A copy of\n",
        "the license is included in the section entitled “GNU Free Documentation\n",
        "License”_\n",
        "\n",
        "*   [P. Wentworth, J. Elkner, A.B. Downey, C. Meyers - How to Think Like a Computer\n",
        "Scientist: Learning with Python 3\n",
        "Documentation (3rd Edition)](http://www.ict.ru.ac.za/Resources/cspw/thinkcspy3/thinkcspy3.pdf)\n",
        "*   [How to Think Like a Computer Scientist: Interactive Edition](http://interactivepython.org/courselib/static/thinkcspy/index.html)\n",
        "*   [Aprenda a Pensar Como un Programador\n",
        "con Python\n",
        " (español)](https://argentinaenpython.com/quiero-aprender-python/aprenda-a-pensar-como-un-programador-con-python.pdf)\n"
      ]
    },
    {
      "cell_type": "markdown",
      "metadata": {
        "id": "4r5hSQAz6d-g"
      },
      "source": [
        "## **Recursos adicionales**\n",
        "---\n",
        "\n",
        "En esta sección encontrará material adicional para reforzar los temas y conceptos discutidos:\n",
        "\n",
        "* [*Python* 3: documentación oficial.](https://docs.python.org/3/)\n",
        "* [_Python_ - Tutorial de _Python_ (Español)](https://docs.python.org/es/3.7/tutorial/)\n"
      ]
    },
    {
      "cell_type": "markdown",
      "metadata": {
        "id": "uJLF2Soq64YL"
      },
      "source": [
        "## **Créditos**\n",
        "---\n",
        "\n",
        "* **Profesores:**\n",
        "  * [Felipe Restrepo Calle, PhD](https://dis.unal.edu.co/~ferestrepoca/)\n",
        "  * [Fabio Augusto González, PhD](https://dis.unal.edu.co/~fgonza/)\n",
        "  * [Jorge Eliecer Camargo, PhD](https://dis.unal.edu.co/~jecamargom/)\n",
        "* **Asistentes docentes:**\n",
        "  - Alberto Nicolai Romero Martínez\n",
        "  - Edder Hernández Forero\n",
        "\n",
        "**Universidad Nacional de Colombia** - *Facultad de Ingeniería*"
      ]
    }
  ]
}