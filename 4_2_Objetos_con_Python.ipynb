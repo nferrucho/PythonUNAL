{
  "nbformat": 4,
  "nbformat_minor": 0,
  "metadata": {
    "colab": {
      "private_outputs": true,
      "provenance": [],
      "collapsed_sections": [
        "EvrbwLtAgwJt",
        "T3UKYXB2r3a3",
        "4gjTLyUYmzP8",
        "HCts_aIEbx6x",
        "lF-6ddMXTORa",
        "BYOA70jaqnCe",
        "MIsRq-Fw47zz",
        "DB_GPl1ou_YI",
        "4r5hSQAz6d-g",
        "uJLF2Soq64YL"
      ],
      "toc_visible": true,
      "include_colab_link": true
    },
    "kernelspec": {
      "name": "python3",
      "display_name": "Python 3"
    },
    "language_info": {
      "name": "python"
    }
  },
  "cells": [
    {
      "cell_type": "markdown",
      "metadata": {
        "id": "view-in-github",
        "colab_type": "text"
      },
      "source": [
        "<a href=\"https://colab.research.google.com/github/nferrucho/PythonUNAL/blob/main/4_2_Objetos_con_Python.ipynb\" target=\"_parent\"><img src=\"https://colab.research.google.com/assets/colab-badge.svg\" alt=\"Open In Colab\"/></a>"
      ]
    },
    {
      "cell_type": "markdown",
      "source": [
        "<img src = \"https://drive.google.com/uc?export=view&id=1KTlzuTLBWwBzDDp5h7-Wixk2LucxVgiZ\" alt = \"Si no puede ver este encabezado le recomendamos que utilice un navegador distinto. Los navegadores probados son Google Chrome, Opera y Microsoft Edge.\" width = \"80%\">  </img>"
      ],
      "metadata": {
        "id": "sFm3SMp3RRkn"
      }
    },
    {
      "cell_type": "markdown",
      "metadata": {
        "id": "86bnSzVH3I1N"
      },
      "source": [
        "# **Objetos con _Python_**\n",
        "---\n",
        "¡Le damos la bienvenida a la cuarta unidad del módulo de **Introducción a la programación con _Python_**!\n",
        "\n",
        "En este segundo material se discutirá el concepto de objeto, su aplicación en el paradigma de la programación orientada a objetos y las reglas de declaración, creación y manipulación en el lenguaje de programación _Python_, así como los conceptos de clase, instancia, método y atributo."
      ]
    },
    {
      "cell_type": "markdown",
      "metadata": {
        "id": "nA0TNSmRk39r"
      },
      "source": [
        "## **1. Programación orientada a objetos**\n",
        "---\n",
        "\n",
        "Hasta ahora los programas que hemos estado escribiendo utilizan el paradigma de la **programación estructurada**, que consiste en escribir funciones o procedimientos que operan sobre datos, y ejecutar instrucciones con estructuras con flujo como las condiciones y los ciclos. En la **programación orientada a objetos**, la atención se centra en la creación de componentes llamados **objetos** que contienen datos y funcionalidad propia.\n",
        "\n",
        "Por lo general, cada objeto en programación corresponde a algún concepto del mundo real y las funciones que operan en ese objeto corresponden a las formas en que interactúan estos objetos. Si bien los tipos de dato ofrecidos por _Python_, como los valores numéricos y las colecciones de datos, nos permiten realizar programas para solucionar la mayoria de los problemas, es conveniente también pensar en **tipos de dato** u **objetos** personalizados. La ventaja más importante del estilo orientado a objetos es que refleja con mayor precisión el mundo real y nos permite crear abstracciones con mayor facilidad. Por ejemplo, podemos definir un objeto de tipo **`Usuario`** con su información personal y una serie de funciones que puede ejecutar que tienen en cuenta su contexto.\n",
        "\n",
        "<center>\n",
        "<img src = \"https://drive.google.com/uc?export=view&id=1t-alHKZEsiAnI-GEbUW09uVK5PyFmhMP\" width = \"70%\" alt=\"Idea de un objeto usuario\">  </img>\n",
        "</center>\n",
        "\n",
        "</br>\n",
        "\n",
        "La funcionalidad de los objetos del mundo real tiende a estar estrechamente relacionada con los objetos mismos. La programación orientada a objetos nos permite reflejar esto con precisión cuando organizamos nuestros programas. En este material discutiremos la creación de **objetos** personalizados con un estado y un comportamiento definido, con sus reglas de escritura en el lenguaje de programación _Python_, y la aplicación de conceptos propios de la programación orientada a objetos.\n",
        "\n",
        "\n",
        "\n"
      ]
    },
    {
      "cell_type": "markdown",
      "metadata": {
        "id": "zvTtPl6tk9JE"
      },
      "source": [
        "## **2. Clases e instancias**\n",
        "---\n",
        "Al igual que en el caso de las funciones, el concepto de **objeto** ha sido de mención recurrente desde el inicio del curso. Este nombre se usa de forma intercambiable cuando se habla de un dato, como una cadena de texto, un número, una lista, un diccionario y en general, cualquier **tipo de dato** disponible en _Python_.\n",
        "\n",
        "Para definir el comportamiento y propiedades de todos los objetos en _Python_ se utiliza el concepto de **clases**. En programación, una clase es la especificación de un objeto, definiendo tanto su valor o estado interno, como la funcionalidad que puede realizar. En _Python_, cuando queremos conocer el tipo de un valor usando la función **`type`** obtenemos un texto como el siguiente:\n",
        "\n"
      ]
    },
    {
      "cell_type": "code",
      "metadata": {
        "id": "xZ9X1CpiWiIL"
      },
      "source": [
        "print(type(100))          # 100 es un objeto de la clase 'int'.\n",
        "print(type('Cadena'))     # 'Cadena' es un objeto de la clase 'str'.\n",
        "print(type(True))         # True es un objeto de la clase 'bool'.\n",
        "print(type([1, 2, 3]))    # [1, 2, 3] es un objeto de la clase 'list'."
      ],
      "execution_count": null,
      "outputs": []
    },
    {
      "cell_type": "markdown",
      "metadata": {
        "id": "fFqW9CkoXBsz"
      },
      "source": [
        "En cada una de estas líneas se indica a qué clase pertenece cada valor de la siguiente forma:\n",
        "\n",
        "```\n",
        "<class NOMBRE_DE_LA_CLASE>\n",
        "```\n",
        "\n",
        "A diferencia de otros lenguajes de programación, incluso los valores más básicos como los numéricos y de texto son objetos. Por ejemplo, el nombre **`list`** está asociado a la clase de los objetos que conocemos como listas. Si imprimimos su valor, obtendremos lo siguiente:\n",
        "\n",
        "\n",
        "\n",
        "\n",
        "\n",
        "\n",
        "\n"
      ]
    },
    {
      "cell_type": "code",
      "metadata": {
        "id": "ifv4_OFSalrj"
      },
      "source": [
        "# 'list' es la clase del tipo de dato lista.\n",
        "print(list)\n",
        "print(list == type([0, 1, 2, 3]))"
      ],
      "execution_count": null,
      "outputs": []
    },
    {
      "cell_type": "markdown",
      "metadata": {
        "id": "8QdteX5Va6pQ"
      },
      "source": [
        "Si intentamos obtener el tipo de **`list`** veremos que este es el tipo especial que tienen los nombres asignados a una clase: el tipo **`type`**. Todas las clases, tanto las que tiene por defecto _Python_ como las creadas por un programador son del tipo **`type`**."
      ]
    },
    {
      "cell_type": "code",
      "metadata": {
        "id": "Ml9bQFTrbABd"
      },
      "source": [
        "print(type(list))\n",
        "print(type == type(list))"
      ],
      "execution_count": null,
      "outputs": []
    },
    {
      "cell_type": "markdown",
      "metadata": {
        "id": "GfYk3y8sbBvu"
      },
      "source": [
        "Aunque no parezca intuitivo, en _Python_ incluso los **tipos** son objetos válidos. Tanto **`list`**, como **`int`**, **`str`**, **`float`**, **`bool`** ,**`dict`**, entre otros, son **clases** de objetos y al evaluar su tipo obtenemos el valor **`type`**."
      ]
    },
    {
      "cell_type": "code",
      "metadata": {
        "id": "IRv5-SCfbkaD"
      },
      "source": [
        "print(type(int))\n",
        "print(type(str))\n",
        "print(type(float))\n",
        "print(type(bool))\n",
        "print(type(dict))"
      ],
      "execution_count": null,
      "outputs": []
    },
    {
      "cell_type": "markdown",
      "metadata": {
        "id": "lwZlh3zPcQkx"
      },
      "source": [
        "Incluso, podríamos ver que el mismo objeto **`type`** es un tipo de dato."
      ]
    },
    {
      "cell_type": "code",
      "metadata": {
        "id": "JzqUqHSCcRCe"
      },
      "source": [
        "print(type(type))"
      ],
      "execution_count": null,
      "outputs": []
    },
    {
      "cell_type": "markdown",
      "metadata": {
        "id": "-_Vv9MrKaXW0"
      },
      "source": [
        "\n",
        "Todos los objetos que declaramos (es decir, que creamos y usamos en expresiones o asignamos a variables) de una clase determinada son conocidos como **instancias** de dicha clase. Por ejemplo, tenemos que **`list`** es la **clase** para los datos de tipo lista y que cualquier lista que creemos (como por ejemplo una lista vacía **`[]`**) será una **instancia** de la clase **`list`**."
      ]
    },
    {
      "cell_type": "code",
      "metadata": {
        "id": "TYtR6tjGaX5W"
      },
      "source": [
        "# 'list' es la CLASE del tipo de dato lista.\n",
        "clase_lista = list\n",
        "\n",
        "print(clase_lista)\n",
        "print(type(clase_lista))"
      ],
      "execution_count": null,
      "outputs": []
    },
    {
      "cell_type": "code",
      "metadata": {
        "id": "9erOjbwIZ8Pq"
      },
      "source": [
        "# Una clase con valor ['a', 'b', 'c'] es una INSTANCIA\n",
        "# de la CLASE 'list'.\n",
        "instancia_de_lista = list('abc')\n",
        "\n",
        "print(instancia_de_lista)\n",
        "print(type(instancia_de_lista))"
      ],
      "execution_count": null,
      "outputs": []
    },
    {
      "cell_type": "markdown",
      "metadata": {
        "id": "YyU1fMujdCIQ"
      },
      "source": [
        "Una forma de verlo es considerar las clases como una plantilla con todo lo que significa ser de dicha clase. Por ejemplo, una clase **`Libro`** tendría toda la información que todos los libros en un sistema de bibliotecas debería tener, como su nombre, autor, género, año de publicación, e incluso su comportamiento, con acciones como publicar, corregir y traducir.  \n",
        "\n",
        "Por su lado, un libro específico con título _Drácula_, con autor _Bram Stroker_ y con año de publicación **`1987`** es una **instancia** del objeto de **clase** **`Libro`**, y al igual que los demás tiene una información determinada y un comportamiento similar al de los demás libros.\n",
        "\n",
        "<center>\n",
        "<img src = \"https://drive.google.com/uc?export=view&id=10WXu-q4TrTFWHvd0_ju-qUKoaNcoiJOG\" width = \"60%\">  </img>\n",
        "</center>\n",
        "\n",
        "</br>\n",
        "\n",
        "\n",
        "Para saber si un objeto es una **instancia** de una clase determinada podemos usar la función **`isintance`**, que recibe primero un valor y luego un tipo de dato. Veamos un ejemplo:\n"
      ]
    },
    {
      "cell_type": "code",
      "metadata": {
        "id": "k9kvt2xElm1V"
      },
      "source": [
        "a = [0, 1, 2]    # Lista a. Instancia de la clase 'list'\n",
        "b = ['a','b']    # Lista b. Instancia de la clase 'list'"
      ],
      "execution_count": null,
      "outputs": []
    },
    {
      "cell_type": "code",
      "metadata": {
        "id": "PVihl9dHgdNt"
      },
      "source": [
        "# 'a' es instancia de la clase 'list'.\n",
        "\n",
        "print(isinstance(a, list))  # a sí es una instancia de 'list'\n",
        "print(isinstance(a, str))   # a no es una instancia de 'str'"
      ],
      "execution_count": null,
      "outputs": []
    },
    {
      "cell_type": "code",
      "metadata": {
        "id": "K9jHvCwvgbvb"
      },
      "source": [
        "# 'b' es instancia de la clase 'list'.\n",
        "print(isinstance(b, list))  # b sí es una instancia de 'list'\n",
        "print(isinstance(b, tuple)) # b no es una instancia de 'tuple'"
      ],
      "execution_count": null,
      "outputs": []
    },
    {
      "cell_type": "code",
      "metadata": {
        "id": "zz2v8HIGgawp"
      },
      "source": [
        "# a y b no son necesariamente el mismo objeto, pero comparten la clase.\n",
        "\n",
        "print(a == b)               # a y b no tienen el mismo estado.\n",
        "print(a is b)               # a y b no son el mismo objeto.\n",
        "print(type(a) == type(b))   # a y b son del mismo tipo."
      ],
      "execution_count": null,
      "outputs": []
    },
    {
      "cell_type": "markdown",
      "metadata": {
        "id": "EvrbwLtAgwJt"
      },
      "source": [
        "## **3. Definición de clases**\n",
        "---\n",
        "_Python_ nos permite crear nuestras propias clases, a partir de las cuales podemos crear instancias específicas.\n",
        "\n",
        "> **En esta sección mostraremos un ejemplo de clase con constructor, atributos y métodos, cuyos detalles se iran profundizando en el transcurso de este material.**\n",
        "\n",
        "Para definir una clase básica, deberíamos considerar los siguientes componentes:\n",
        "\n",
        "* Un **constructor** en el cual ejecutar código de inicialización y definir valores iniciales cuando una instancia es creada.\n",
        "* Una serie de **atributos** con valores y estado propios de la instancia creada e independientes a otras instancias.\n",
        "* Una serie de **métodos** que una instancia puede ejecutar y producir un resultado a partir de su estado propio.\n",
        "\n",
        "El código dispuesto a continuación contiene la **declaración de una clase** llamada **`Usuario`**, con los siguientes detalles.\n",
        "\n",
        "* Cuando un usuario (es decir, una instancia de la clase **`Usuario`**) es creado, se imprime en pantalla su creación en elbloque de código del **constructor**.\n",
        "* Cada usuario tiene **atributos** con su información personal, como su **`nombre`**, **`edad`** y **`género`**, que son independientes para cada instancia. Estos son pasados como argumento y asignados en el constructor.\n",
        "* Todo usuario puede ejecutar **métodos** como **`decir_edad`** y **`saludar_persona`**, cuyo bloque de código tiene acceso únicamente al estado del usuario que lo ejecuta y a los argumentos de cada función.\n",
        "\n",
        "En las próximas secciones se discutirán uno por uno los componentes necesarios para crear esta clase."
      ]
    },
    {
      "cell_type": "code",
      "metadata": {
        "id": "6IQzGOKGeWB5"
      },
      "source": [
        "#################################################\n",
        "################ Clase 'Usuario' ################\n",
        "#################################################\n",
        "\n",
        "class Usuario:\n",
        "  ########### 0. Docstring ###########\n",
        "  \"\"\"\n",
        "  class Usuario:\n",
        "    Al igual que en el caso de las funciones, si se ubica\n",
        "    una cadena al principio del bloque de una clase, será\n",
        "    interpretada como el Docstring o cadena de documentación\n",
        "    de la clase.\n",
        "  \"\"\"\n",
        "\n",
        "  ########### 1. Constructor ###########\n",
        "  def __init__(self, nombre, edad, género): # Argumentos adicionales del constructor.\n",
        "    print(f\"Se ha creado el usuario {nombre} ({género}) de {edad} años.\")\n",
        "\n",
        "    ############ 2. Atributos ###########\n",
        "    ### (Son declarados DENTRO del constructor) ###\n",
        "    self.nombre = nombre\n",
        "    self.edad = edad\n",
        "    self.género = género\n",
        "\n",
        "\n",
        "  ############# 3. Métodos ############\n",
        "  def saludar_usuario(self, other):\n",
        "    print(f\"{self.nombre}: ¡Hola {other.nombre}!\")\n",
        "\n",
        "  def decir_edad(self):\n",
        "    print(f\"{self.nombre}: Tengo {self.edad} años.\")"
      ],
      "execution_count": null,
      "outputs": []
    },
    {
      "cell_type": "markdown",
      "metadata": {
        "id": "YmZJ35HJhUiq"
      },
      "source": [
        "Una vez declarada la clase, podemos crear instancias llamando al constructor como una función con el nombre de la clase:"
      ]
    },
    {
      "cell_type": "code",
      "metadata": {
        "id": "VNcrmHePhiXk"
      },
      "source": [
        "# 1. Constructor.\n",
        "# Creamos algunas instancias.\n",
        "usuario_A = Usuario(\"Alice\", 29, \"F\")\n",
        "usuario_B = Usuario(\"Bob\", 25, \"M\")"
      ],
      "execution_count": null,
      "outputs": []
    },
    {
      "cell_type": "markdown",
      "metadata": {
        "id": "zHrHKwRbiPl1"
      },
      "source": [
        "Luego, podemos acceder a los atributos de cada instancia con el separador **`.`**:"
      ]
    },
    {
      "cell_type": "code",
      "metadata": {
        "id": "k1mtNWbiiXrs"
      },
      "source": [
        "# 2. Atributos.\n",
        "print(usuario_A.nombre)\n",
        "print(usuario_B.nombre)\n",
        "print(usuario_A.edad)\n",
        "print(usuario_B.edad)\n",
        "print(usuario_A.género)\n",
        "print(usuario_B.género)"
      ],
      "execution_count": null,
      "outputs": []
    },
    {
      "cell_type": "markdown",
      "metadata": {
        "id": "4MUuPbgalgKE"
      },
      "source": [
        "Finalmente, podemos usar la misma sintaxis para llamar los métodos de la clase como se haría con una función regular:"
      ]
    },
    {
      "cell_type": "code",
      "metadata": {
        "id": "Or17m2-oloAj"
      },
      "source": [
        "# 3. Métodos.\n",
        "usuario_A.decir_edad()\n",
        "usuario_B.decir_edad()\n",
        "\n",
        "usuario_A.saludar_usuario(usuario_B)\n",
        "usuario_B.saludar_usuario(usuario_A)"
      ],
      "execution_count": null,
      "outputs": []
    },
    {
      "cell_type": "markdown",
      "metadata": {
        "id": "DT82Xu4v5RuL"
      },
      "source": [
        "\n",
        "Para definir nuestras propias clases debemos usar la palabra reservada **`class`**. La definición de una clase tiene la siguiente estructura, similar a la utilizada en la definición de funciones:\n",
        "\n",
        "```python\n",
        "class NombreDeLaClase:\n",
        "  # Bloque de código de la clase\n",
        "  # <--- Este bloque debe estar indentado.\n",
        "```\n",
        "\n",
        "Se considera una buena práctica que las palabras del nombre de nuestra clase **empiecen en mayúscula**, para diferenciar las clases creadas por el programador de otros componentes como las funciones y las variables. Además de esto, la clase debería seguir las reglas de **nombrado de variables y funciones.**\n",
        "\n",
        "\n",
        "> Este tipo de nombre de variable se conoce con el nombre _PascalCase_ y por lo general en _Python_ solo se debería usar en la definición de clases.\n",
        "\n",
        "\n",
        "Si imprimimos el valor de la clase **`Usuario`** veremos que esta tiene la forma:\n",
        "\n",
        "```python\n",
        "<class '__main__.NOMBRE_DE_LA_CLASE'>\n",
        "```\n",
        "\n"
      ]
    },
    {
      "cell_type": "code",
      "metadata": {
        "id": "Tfw8-oo9iyS2"
      },
      "source": [
        "print(Usuario)"
      ],
      "execution_count": null,
      "outputs": []
    },
    {
      "cell_type": "markdown",
      "metadata": {
        "id": "IYW43FS6jaPY"
      },
      "source": [
        "El prefijo **`__main__.`** indica que la clase **`Usuario`** es una clase creada por el programador en el contexto del programa que se está ejecutando. Al igual que antes, podemos verificar que **`Usuario`** es una **clase** y por lo tanto tiene tipo **`type`**."
      ]
    },
    {
      "cell_type": "code",
      "metadata": {
        "id": "CYsNPxyIjZsA"
      },
      "source": [
        "# Tipo de dato de la clase Usuario.\n",
        "type(Usuario)"
      ],
      "execution_count": null,
      "outputs": []
    },
    {
      "cell_type": "markdown",
      "metadata": {
        "id": "e5VqgoWuj11s"
      },
      "source": [
        "Una vez creada una instancia, podemos ver que efectivamente es de tipo **`Usuario`**:"
      ]
    },
    {
      "cell_type": "code",
      "metadata": {
        "id": "BOMvyWE1jvIT"
      },
      "source": [
        "# Creamos una instancia de Usuario.\n",
        "usuario_C = Usuario(\"Charlotte\", 55, 'F')\n",
        "\n",
        "print(usuario_C)"
      ],
      "execution_count": null,
      "outputs": []
    },
    {
      "cell_type": "code",
      "metadata": {
        "id": "_SXAHoVZj3fn"
      },
      "source": [
        "print(type(usuario_C))\n",
        "print(type(usuario_C) == Usuario)"
      ],
      "execution_count": null,
      "outputs": []
    },
    {
      "cell_type": "markdown",
      "metadata": {
        "id": "cbnpIsyrmbBD"
      },
      "source": [
        "Como veremos más adelante, definir un constructor, atributos y métodos es opcional (aunque una clase de este tipo carecería de una utilidad real).\n",
        "\n",
        "Vamos a ejecutar un ejemplo de clase vacía **`Usuario`** (sin constributor, atributos ni métodos) con _Python Tutor_. Cuando esto ocurre, el constructor es simplemente una función sin argumentos.\n",
        "\n",
        "\n",
        "Note que los nombres de la clase y de las instancias que creamos aparecen en las secciones *Frames* y *Objects* con los nombres ***Usuario class*** y **_Usuario instance_**, respectivamente."
      ]
    },
    {
      "cell_type": "code",
      "metadata": {
        "cellView": "form",
        "id": "obRk931akVj5"
      },
      "source": [
        "#@markdown * **Ejecute esta celda para instalar _Python Tutor_.**\n",
        "!pip3 -q install tutormagic\n",
        "%load_ext tutormagic"
      ],
      "execution_count": null,
      "outputs": []
    },
    {
      "cell_type": "code",
      "metadata": {
        "id": "z8-XXK34kWId"
      },
      "source": [
        "%%tutor -s -h 500\n",
        "class Usuario:\n",
        "  \"\"\"\n",
        "  class Usuario:\n",
        "    En este primer ejemplo, el usuario aún no tiene declarado\n",
        "    su constructor, ni sus atributos y métodos correspondientes.\n",
        "  \"\"\"\n",
        "\n",
        "# Usuario es una clase y tiene tipo 'type'.\n",
        "print(Usuario)\n",
        "print(type(Usuario))\n",
        "\n",
        "# Creamos y exploramos instancias de 'Usuario'\n",
        "userA = Usuario()\n",
        "userB = Usuario()\n",
        "\n",
        "# Vemos su valor y su tipo.\n",
        "print(userA)\n",
        "print(userB)\n",
        "print(type(userA))\n",
        "print(type(userB))\n",
        "\n",
        "# Comparamos su valor y su tipo.\n",
        "print(userA == userB)\n",
        "print(userA is userB)\n",
        "print(type(userA)  == type(userB))"
      ],
      "execution_count": null,
      "outputs": []
    },
    {
      "cell_type": "markdown",
      "metadata": {
        "id": "FCGFdbKs7IsB"
      },
      "source": [
        "Para tener un código más limpio, se recomienda que la definición de clases esté ubicada al **inicio del programa**. Al igual que en las funciones, tenemos que definir una clase antes de poder crear instancias de la misma."
      ]
    },
    {
      "cell_type": "code",
      "metadata": {
        "id": "DBAmFOZd7htv"
      },
      "source": [
        "# Creamos una instancia de 'Usuario'\n",
        "# ERROR: Usuario no ha sido definido.\n",
        "instancia = ClaseSinDeclarar()\n",
        "\n",
        "# Podemos definir una clase más adelante en el código\n",
        "# pero no podremos crear instancias antes de este punto.\n",
        "class ClaseSinDeclarar:\n",
        "  \"\"\"\n",
        "  class ClaseSinDeclarar: Ejemplo de clase que es erroneamente\n",
        "  declarada  después de intentar crear una instancia nueva.\n",
        "  \"\"\""
      ],
      "execution_count": null,
      "outputs": []
    },
    {
      "cell_type": "markdown",
      "metadata": {
        "id": "T3UKYXB2r3a3"
      },
      "source": [
        "### **3.1. Constructores**\n",
        "---\n",
        "Cuando creamos una instancia de un objeto en realidad estamos llamado a una función especial llamada **constructor**. Tal como se discutió antes, para declarar una instancia nueva realizamos el llamado a su constructor de la siguiente forma:\n",
        "\n",
        "```python\n",
        "NombreDeLaClase(...argumentos)\n",
        "```\n",
        "\n",
        "Entonces, las funciones que hemos usado en la conversión de tipos como **`int`**, **`str`** o **`list`** son en realidad los **constructores de dichas clases**. Estos constructores pueden aceptar distintos argumentos, como veremos a continuación.\n",
        "\n",
        "Por ejemplo, el constructor de la clase **`list`** tiene como argumento opcional un iterable con los valores de la lista a construir. Si no es recibido ningún argumento, el constructor crea un objeto de tipo lista sin ningún elemento."
      ]
    },
    {
      "cell_type": "code",
      "metadata": {
        "id": "eOtMDmyXtdyz"
      },
      "source": [
        "# Documentación del constructor 'list'\n",
        "list??"
      ],
      "execution_count": null,
      "outputs": []
    },
    {
      "cell_type": "code",
      "metadata": {
        "id": "rNz1NqXduVxj"
      },
      "source": [
        "# Llamado al constructor de 'list' sin argumentos:\n",
        "list()"
      ],
      "execution_count": null,
      "outputs": []
    },
    {
      "cell_type": "code",
      "metadata": {
        "id": "jGkIFQIVucaD"
      },
      "source": [
        "# Llamado al constructor 'list' con una cadena como el iterable esperado como argumento.\n",
        "list('abc')"
      ],
      "execution_count": null,
      "outputs": []
    },
    {
      "cell_type": "markdown",
      "metadata": {
        "id": "H793h5f76C5k"
      },
      "source": [
        "> **Nota:** muchos de los tipos básicos tienen formas de crear objetos con **valores literales** como **`100`** para los números enteros o **`[0, 3, 6]`** para las listas. En estos casos _Python_ se encarga de crear el objeto de manera directa sin tener que pasar por un constructor.\n",
        "\n",
        "\n",
        "Los constructores nos permiten ejecutar código cada vez que se crea una **instancia nueva**. Por ejemplo, si queremos imprimir en pantalla que se creó un usuario nuevo, o guardarlo en un archivo, podemos hacerlo desde el constructor. Para crear un constructor en la definición de una clase lo hacemos con la forma de **definición de una función**. Esta se indica dentro del bloque de código de la clase y se escribe de la siguiente forma:\n",
        "\n",
        "```python\n",
        "class NOMBRE_DE_LA_CLASE:\n",
        "  def __init__(self, ...argumentos):\n",
        "    # Bloque de código del constructor\n",
        "\n",
        "# Llamado al constructor de la clase.\n",
        "NOMBRE_DE_LA_CLASE(...argumentos)\n",
        "```\n",
        "\n",
        "Esta función **tiene que llamarse exactamente** **`__init__`** (con dos símbolos de barra al piso a cada lado de la palabra *init*). De lo contrario, no se tendrá en cuenta como un constructor de la clase sino como un método (como veremos más adelante).\n",
        "\n",
        "Además, aunque reciba otros argumentos, siempre debe tener como su primer argumento un parámetro que se llama por regla general **`self`**. Más adelante veremos la razón de esta decisión.\n",
        "\n",
        "\n",
        "Podemos ahora declarar una clase **`Estudiante`** en la que imprimamos un mensaje en la salida del programa cada vez que una instancia sea creada."
      ]
    },
    {
      "cell_type": "code",
      "metadata": {
        "id": "lDO4v6FX9IyA"
      },
      "source": [
        "# Definimos la clase 'Estudiante'\n",
        "class Estudiante:\n",
        "\n",
        "  # Constructor de la clase 'Estudiante'.\n",
        "  def __init__(self, name):\n",
        "    print(f\"Se ha creado el estudiante con nombre: {name}\")"
      ],
      "execution_count": null,
      "outputs": []
    },
    {
      "cell_type": "markdown",
      "metadata": {
        "id": "gftjP-EoZF-I"
      },
      "source": [
        "Al crear un constructor se espera que siga las reglas en la definición de funciones discutidas en el material anterior. Por ejemplo, el constructor de la clase **`Estudiante`** tiene un argumento obligatorio llamado **`name`**, por lo que omitirlo generará un error:"
      ]
    },
    {
      "cell_type": "code",
      "metadata": {
        "id": "Xjls5Hxn9Xhe"
      },
      "source": [
        "# En este caso, se espera un argumento obligatorio con el nombre del usuario.\n",
        "Estudiante()"
      ],
      "execution_count": null,
      "outputs": []
    },
    {
      "cell_type": "markdown",
      "metadata": {
        "id": "pqfmTV_nZ4VB"
      },
      "source": [
        "La siguiente es una declaración válida de una instancia de la clase **`Estudiante`**:"
      ]
    },
    {
      "cell_type": "code",
      "metadata": {
        "id": "guME4G9UZ-Yy"
      },
      "source": [
        "estudiante1 = Estudiante(\"Troy Barnes\")\n",
        "estudiante2 = Estudiante(\"Abed Nadir\")"
      ],
      "execution_count": null,
      "outputs": []
    },
    {
      "cell_type": "code",
      "metadata": {
        "cellView": "form",
        "id": "ej_OuW9j99wM"
      },
      "source": [
        "#@markdown * **Ejecute esta celda para instalar _Python Tutor_.**\n",
        "!pip3 -q install tutormagic\n",
        "%load_ext tutormagic"
      ],
      "execution_count": null,
      "outputs": []
    },
    {
      "cell_type": "code",
      "metadata": {
        "id": "_jp9YOuL9kLg"
      },
      "source": [
        "%%tutor -s -h 500\n",
        "# Definimos la clase 'Estudiante'\n",
        "class Estudiante:\n",
        "  def __init__(self, name):\n",
        "    print(f\"Se ha creado el estudiante con nombre: {name}\")\n",
        "\n",
        "\n",
        "# Creamos varias instancias de la clase 'Estudiante'.\n",
        "a = Estudiante(\"Antonieta\")\n",
        "b = Estudiante(\"Benito\")\n",
        "c = Estudiante(\"Clemencia\")"
      ],
      "execution_count": null,
      "outputs": []
    },
    {
      "cell_type": "markdown",
      "metadata": {
        "id": "W5FslaiAHVWq"
      },
      "source": [
        "Por lo general, la utilidad más común de la definición de un constructor es **asignar un valor inicial** a los atributos de la instancia creada, como veremos en la siguiente sección."
      ]
    },
    {
      "cell_type": "markdown",
      "metadata": {
        "id": "4gjTLyUYmzP8"
      },
      "source": [
        "### **3.2. Atributos**\n",
        "---\n",
        "El concepto de objeto nace de la necesidad de crear componentes aislados con **estado** y **comportamiento** independiente. El estado corresponde a los valores que podemos crear y manipular dentro de un objeto y que son propios de dicho objeto. Esto se realiza con **variables**, que cuando se encuentran dentro de un objeto se denominan **atributos**.\n",
        "\n",
        "<center>\n",
        "<img src = \"https://drive.google.com/uc?export=view&id=1FkJY6q4xZMUMUpdgSWuth8HeN84SixgB\" width = \"60%\">  </img>\n",
        "</center>\n",
        "\n",
        "</br>\n",
        "\n",
        "\n",
        "Por ejemplo, en el caso de la clase de números complejos **`complex`**, cada instancia o valor tiene una serie de atributos importantes. Entre ellos encontramos las variables con su parte real (**`real`**) y su parte imaginaria (**`imag`**). Para acceder a un **atributo** de un objeto determinado utilizamos la siguiente sintaxis, usando el operador de acceso de atributos con el símbolo de punto (**`.`**):\n",
        "\n",
        "```python\n",
        "objeto.nombre_del_atributo\n",
        "```\n",
        "\n",
        "Podemos crear un **objeto** instancia de la clase **`complex`** y acceder a sus atributos **`real`** y **`imag`** con esta notación:"
      ]
    },
    {
      "cell_type": "code",
      "metadata": {
        "id": "gbu18eCjq6pH"
      },
      "source": [
        "#@markdown * **Ejecute esta celda para instalar _Python Tutor_.**\n",
        "!pip3 -q install tutormagic\n",
        "%load_ext tutormagic"
      ],
      "execution_count": null,
      "outputs": []
    },
    {
      "cell_type": "code",
      "metadata": {
        "id": "H4rKt_fZouSg"
      },
      "source": [
        "%%tutor -s -h 500\n",
        "# Objeto de tipo 'complex'\n",
        "complejo = 10 + 20j\n",
        "print(type(complejo))\n",
        "\n",
        "# Atributo 'real' del objeto almacenado en la variable 'complejo'.\n",
        "parte_real = complejo.real\n",
        "print(parte_real)\n",
        "\n",
        "# Atributo 'imag' del objeto almacenado en la variable 'complejo'.\n",
        "parte_imag = complejo.imag\n",
        "print(parte_imag)"
      ],
      "execution_count": null,
      "outputs": []
    },
    {
      "cell_type": "markdown",
      "metadata": {
        "id": "areHB9M0rpr-"
      },
      "source": [
        "Cuando definimos nuestras propias clases, podemos crear dos tipos de atributos: los **atributos de clase** y los **atributos de instancia**.\n",
        "\n",
        "\n",
        "* Los **atributos de instancia** tienen un valor único e independiente para cada instancia que creemos.\n",
        "\n",
        "* Los **atributos de clase** están asociados a una clase y comparten el mismo valor para todas las instancias de dicha clase.\n",
        "\n",
        "\n",
        "> **Nota:** en este material nos enfocaremos en el uso de **atributos de instancia.** Para más información acerca de la declaración de **atributos de clase** vea la sección opcional **3.2.1**.\n",
        "\n",
        "\n",
        "\n",
        "\n"
      ]
    },
    {
      "cell_type": "markdown",
      "metadata": {
        "id": "WDpeQl2tHxdj"
      },
      "source": [
        "La utilidad del concepto de objetos es la capacidad de tener **estados distintos** para cada instancia que creemos. Es por esta razón que discutiremos los **atributos de instancia**. Estos, al contrario que los atributos de clase, tienen un estado **distinto e independiente para cada instancia creada**.\n",
        "\n",
        "Para crear un **atributo de instancia** tenemos que definir un **constructor** para nuestra clase. Dentro de él, asignamos el valor del atributo al objeto **`self`** que recibimos como argumento de nuestro constructor.\n",
        "\n",
        "\n",
        "```python\n",
        "class NOMBRE_DE_LA_CLASE:\n",
        "  # Constructor de la clase\n",
        "  def __init__(self, ...argumentos):\n",
        "    # Creamos un ATRIBUTO DE INSTANCIA.\n",
        "    self.atributo = valor\n",
        "```\n",
        "\n",
        "\n",
        "Este objeto que nombramos **`self`** es la **instancia** de la clase en la que se está ejecutando el código en un momento determinado, por lo que los atributos que creemos con la notación **`self.atributo`** solo se aplicarán en **esa instancia**. Esta instancia es llamada usualmente **`self`** (_self_ del inglés \"sí mismo\" o \"uno mismo\"), indicando que se trata de un objeto con identidad propia, el cual realiza acciones sobre sí mismo como crear y modificar sus atributos o ejecutar instrucciones.\n",
        "\n",
        "Por ejemplo, podríamos considerar una clase de tipo **`Cuadrado`**, y podríamos crear un constructor que reciba el tamaño del cuadrado en el parámetro **ancho** y lo asigne como **atributo de la instancia creada**. Entonces tenemos que los objetos **`Cuadrado`**, donde cada instancias puede tener cualquier valor como **ancho** de sus lados (**atributo de instancia**), el cual es independiente al ancho de los demás cuadrados.\n",
        "\n",
        "\n",
        "Veamos un ejemplo:\n",
        "\n",
        "\n",
        "\n",
        "\n",
        "\n"
      ]
    },
    {
      "cell_type": "code",
      "metadata": {
        "id": "tHRk2TEKLBUe"
      },
      "source": [
        "class Cuadrado:\n",
        "  def __init__(self, ancho):\n",
        "    # Declaramos el ATRIBUTO DE INSTANCIA 'ancho'\n",
        "    self.ancho = ancho"
      ],
      "execution_count": null,
      "outputs": []
    },
    {
      "cell_type": "code",
      "metadata": {
        "id": "BlkXiuaHLk9Q"
      },
      "source": [
        "# Creamos dos instancias de la clase cuadrado.\n",
        "a = Cuadrado(10)\n",
        "b = Cuadrado(100)\n",
        "\n",
        "# Vemos los valores de sus atributos\n",
        "print(a.ancho)\n",
        "print(b.ancho)"
      ],
      "execution_count": null,
      "outputs": []
    },
    {
      "cell_type": "markdown",
      "metadata": {
        "id": "HIeHVh1SNoij"
      },
      "source": [
        "Podemos modificar entonces los atributos de instancia, accediendo a sus valores desde una instancia determinada. Por ejemplo, podemos modificar el ancho del cuadrado **`b`** de la siguiente forma:"
      ]
    },
    {
      "cell_type": "code",
      "metadata": {
        "id": "VsQcVPBrN0zr"
      },
      "source": [
        "print(b.ancho)\n",
        "\n",
        "# Duplicamos el tamaño del lado del cuadrado.\n",
        "b.ancho = b.ancho * 2\n",
        "\n",
        "print(b.ancho)\n",
        "\n",
        "# El ancho de 'a' no se ve alterado\n",
        "print(a.ancho)"
      ],
      "execution_count": null,
      "outputs": []
    },
    {
      "cell_type": "markdown",
      "metadata": {
        "id": "0lWvKHirfdHd"
      },
      "source": [
        "Podemos aprovechar las distintas formas de declarar funciones para crear clases con **atributos por defecto**, que asignamos cuando el constructor se ejecuta. Por ejemplo, podemos declarar una clase **`Punto`**, donde cada punto tenga argumentos opcionales para la posición y el color, y que el punto por defecto sea de color rojo y posición en $x = 0, y = 0$."
      ]
    },
    {
      "cell_type": "code",
      "metadata": {
        "id": "BK4mIGUBiDGC"
      },
      "source": [
        "%%tutor -s -h 650\n",
        "# Clase de objetos de tipo \"Punto\"\n",
        "class Punto:\n",
        "  def __init__(self, x = 0.0, y= 0.0, color = \"rojo\"):\n",
        "    self.x = x\n",
        "    self.y = y\n",
        "    self.color = color\n",
        "\n",
        "# Punto por defecto.\n",
        "a = Punto()\n",
        "\n",
        "# Punto con posición dada.\n",
        "b = Punto(10, 20)\n",
        "\n",
        "# Punto con posición por defecto y color dado.\n",
        "c = Punto(color = \"azul\")\n",
        "\n",
        "print(a.x, a.y, a.color)\n",
        "print(b.x, b.y, b.color)\n",
        "print(c.x, c.y, c.color)"
      ],
      "execution_count": null,
      "outputs": []
    },
    {
      "cell_type": "markdown",
      "metadata": {
        "id": "vS0Ye40ClGr1"
      },
      "source": [
        "Los atributos, al ser igual que las variables que conocemos, permiten almacenar **cualquier tipo de dato**. Esto incluye colecciones, funciones (como veremos en la sección de **métodos**) y otros objetos. Por ejemplo, podríamos tener una clase **`Persona`** para un programa con árbol genealógico, que tenga una lista de objetos de tipo **`Persona`** llamada **`hijos`**.\n",
        "\n",
        "Veamos este ejemplo con _Python Tutor_. Siga atentamente cada paso y observe las conexiones creadas.\n"
      ]
    },
    {
      "cell_type": "code",
      "metadata": {
        "id": "42dMCQaMmG6B"
      },
      "source": [
        "%%tutor -s -h 650\n",
        "class Persona:\n",
        "  def __init__(self, nombre):\n",
        "    # Asignamos los atributos.\n",
        "    self.nombre = nombre\n",
        "    self.hijos = []\n",
        "\n",
        "# Declaramos algunos objetos\n",
        "anakin = Persona(\"Anakin\")\n",
        "\n",
        "# Podemos agregar a la lista de hijos del objeto \"anakin\".\n",
        "# Los objetos recién creados.\n",
        "anakin.hijos.append(Persona(\"Luke\"))\n",
        "anakin.hijos.append(Persona(\"Leia\"))\n",
        "\n",
        "# Podemos iterar sobre la colección de \"hijos\" del objeto \"anakin\".\n",
        "print(\"Hijos de 'Anakin':\")\n",
        "for hijo in anakin.hijos:\n",
        "  print(hijo.nombre)"
      ],
      "execution_count": null,
      "outputs": []
    },
    {
      "cell_type": "markdown",
      "metadata": {
        "id": "HCts_aIEbx6x"
      },
      "source": [
        "#### **3.2.1. Atributos de clase (Opcional)**\n",
        "---\n",
        "\n",
        "Los **atributos de clase** son variables que son compartidas por **todas las instancias** de una misma clase. Por ejemplo, si creamos una clase **`Cuadrado`**, podríamos tener una variable **`n_lados`** con un valor que determine la cantidad de lados de los objetos de tipo cuadrado. Este valor sería igual para **todos los objetos de tipo `Cuadrado`** e iría asociado a la clase en vez de a una instancia específica.\n",
        "\n",
        "> **Nota:** este tipo de atributos se suele conocer también por el nombre de **atributos estáticos**, pues una instancia no puede modificarlos y permanecen de la misma forma hasta que se cambie directamente a la clase.\n",
        "\n",
        "Para crear un atributo de clase simplemente declaramos una variable en el bloque de código de la clase de la siguiente forma:\n",
        "\n",
        "\n",
        "```python\n",
        "class NombreDeLaClase:\n",
        "    a = VALOR\n",
        "    # Bloque de código de la clase...\n",
        "```\n",
        "\n",
        "\n",
        "Veamos un ejemplo con la clase **`Cuadrado`**."
      ]
    },
    {
      "cell_type": "code",
      "metadata": {
        "id": "Kur8xb-iGuPQ"
      },
      "source": [
        "class Cuadrado:\n",
        "  # Atributo 'lados' de la clase 'Cuadrado'\n",
        "  lados = 4"
      ],
      "execution_count": null,
      "outputs": []
    },
    {
      "cell_type": "markdown",
      "metadata": {
        "id": "h_2_QjjgGxXo"
      },
      "source": [
        "Este tipo de atributos pueden accederse tanto desde la **clase** como desde una **instancia**. Es decir, podemos acceder a un atributo de clase a partir de una **clase** de la siguiente forma:\n",
        "\n",
        "\n",
        "```python\n",
        "NOMBRE_DE_LA_CLASE.atributo\n",
        "```"
      ]
    },
    {
      "cell_type": "code",
      "metadata": {
        "id": "fYKSL01IHHTC"
      },
      "source": [
        "# Atributo 'lados' de la clase 'Cuadrado'\n",
        "Cuadrado.lados"
      ],
      "execution_count": null,
      "outputs": []
    },
    {
      "cell_type": "markdown",
      "metadata": {
        "id": "SfOz4L2PHMJz"
      },
      "source": [
        "De igual forma, podemos acceder al atributo de clase desde una instancia de la siguiente forma:\n",
        "\n",
        "```python\n",
        "instancia.atributo\n",
        "```\n",
        "Esto es equivalente a acceder el atributo desde la clase, pues todas las instancias comparten este valor."
      ]
    },
    {
      "cell_type": "code",
      "metadata": {
        "id": "wck7ad1WHcHx"
      },
      "source": [
        "a = Cuadrado()\n",
        "b = Cuadrado()\n",
        "\n",
        "# Siempre se tiene el mismo valor.\n",
        "print(a.lados)\n",
        "print(b.lados)"
      ],
      "execution_count": null,
      "outputs": []
    },
    {
      "cell_type": "markdown",
      "metadata": {
        "id": "qwob1ditIOJt"
      },
      "source": [
        "Si modificamos este atributo con una asignación como la siguiente, su valor cambiará para **todas las instancias** de dicho objeto, sin importar el momento en el que fueron declaradas.\n",
        "\n",
        "```python\n",
        "NOMBRE_DE_LA_CLASE.atributo = nuevo_valor\n",
        "```"
      ]
    },
    {
      "cell_type": "code",
      "metadata": {
        "id": "LAe9Rk2jIV_o"
      },
      "source": [
        "# Declarando antes del cambio\n",
        "c = Cuadrado()\n",
        "\n",
        "# Modificamos el atributo de clase.\n",
        "Cuadrado.lados = 'Cuatro'\n",
        "\n",
        "# Declarando después del cambio.\n",
        "d = Cuadrado()\n",
        "\n",
        "# Vemos los valores almacenados:\n",
        "print(c.lados)\n",
        "print(d.lados)"
      ],
      "execution_count": null,
      "outputs": []
    },
    {
      "cell_type": "markdown",
      "metadata": {
        "id": "-wvTj-P8Hkxc"
      },
      "source": [
        "Veamos esto en _Python Tutor_. Note que este tipo de atributos se ubican en la visualización en el objeto **`Cuadrado class`**, sin importar qué instancia sea creada."
      ]
    },
    {
      "cell_type": "code",
      "metadata": {
        "id": "35PHVStf_XMc"
      },
      "source": [
        "%%tutor -s -h 500\n",
        "\n",
        "class Cuadrado:\n",
        "  lados = 4  # Atributo de la clase 'Cuadrado'\n",
        "\n",
        "a = Cuadrado()\n",
        "b = Cuadrado()\n",
        "c = Cuadrado()\n",
        "\n",
        "# Accedemos al atributo de la clase\n",
        "print(f\"Todos los cuadrados tienen {Cuadrado.lados} lados.\")\n",
        "print(f\"a tiene {a.lados} lados.\")\n",
        "print(f\"b tiene {b.lados} lados.\")\n",
        "print(f\"c tiene {c.lados} lados.\")\n",
        "\n",
        "# Modificamos el atributo.\n",
        "Cuadrado.lados = \"Cuatro\"\n",
        "\n",
        "# Accedemos al atributo de la clase\n",
        "print(f\"Todos los cuadrados tienen {Cuadrado.lados} lados.\")\n",
        "print(f\"a tiene {a.lados} lados.\")\n",
        "print(f\"b tiene {b.lados} lados.\")\n",
        "print(f\"c tiene {c.lados} lados.\")"
      ],
      "execution_count": null,
      "outputs": []
    },
    {
      "cell_type": "markdown",
      "metadata": {
        "id": "CmadICgFI5Fh"
      },
      "source": [
        "Incluso, podemos crear **nuevos atributos de clase** en un objeto declarado previamente, permitiendo usar las clases como una **estructura de datos** en sí misma."
      ]
    },
    {
      "cell_type": "code",
      "metadata": {
        "id": "mRwLfiN9I_Q8"
      },
      "source": [
        "%%tutor -s -h 500\n",
        "class MiObjeto:\n",
        "  \"clase MiObjeto: vacía\"\n",
        "\n",
        "instancia = MiObjeto()\n",
        "\n",
        "MiObjeto.a = 100\n",
        "MiObjeto.b = 200\n",
        "MiObjeto.c = 300\n",
        "\n",
        "print(instancia.a)\n",
        "print(instancia.b)\n",
        "print(instancia.c)"
      ],
      "execution_count": null,
      "outputs": []
    },
    {
      "cell_type": "markdown",
      "metadata": {
        "id": "1XoQxAuyNFDD"
      },
      "source": [
        "> ¿Qué pasa si modificamos un **atributo de clase** accediendo desde una **instancia**?\n",
        "\n",
        "Si usamos una asignación como la anterior con un **atributo de clase**, _Python_ creara un **atributo de instancia** con el mismo nombre, sobreescribiendo su valor. Es decir, si quisieramos cambiar el valor de **`lados`** del cuadrado desde **`a`**, se crearía un atributo de clase con el mismo nombre, y el cambio no se vería reflejado ni en la clase ni en el resto de instancias.\n",
        "\n",
        "\n",
        "Esto se puede ver más claro con la ayuda de _Python Tutor_:"
      ]
    },
    {
      "cell_type": "code",
      "metadata": {
        "id": "AFw0CyvhMOqm"
      },
      "source": [
        "%%tutor -s -h 650\n",
        "class Cuadrado:\n",
        "  # Declaramos el ATRIBUTO DE CLASE 'lados'\n",
        "  lados = 4\n",
        "\n",
        "  def __init__(self, ancho):\n",
        "    # Declaramos el ATRIBUTO DE INSTANCIA 'ancho'\n",
        "    self.ancho = ancho\n",
        "\n",
        "# Creamos dos instancias de la clase cuadrado.\n",
        "a = Cuadrado(10)\n",
        "b = Cuadrado(100)\n",
        "\n",
        "# Vemos los valores de sus atributos\n",
        "print(a.lados, a.ancho)\n",
        "print(b.lados, b.ancho)\n",
        "\n",
        "# Modificamos los dos atributos desde la instancia 'a'.\n",
        "\n",
        "Cuadrado.lados = 'Cuatro'   # Modificamos un ATRIBUTO DE CLASE desde la clase. El cambio se aplica en todas las instancias.\n",
        "a.lados = 'IV'    # Modificamos un ATRIBUTO DE CLASE desde una instancia. Se crea un ATRIBUTO DE INSTANCIA nuevo con el mismo nombre.\n",
        "a.ancho = 10000   # Modificamos un ATRIBUTO DE INSTANCIA. El cambio solo se aplica en la instancia 'a'.\n",
        "\n",
        "# Vemos los valores de sus atributos después\n",
        "# de las modificaciones:\n",
        "print(a.lados, a.ancho)\n",
        "print(b.lados, b.ancho)"
      ],
      "execution_count": null,
      "outputs": []
    },
    {
      "cell_type": "markdown",
      "metadata": {
        "id": "lF-6ddMXTORa"
      },
      "source": [
        "### **3.3. Métodos**\n",
        "---\n",
        "Como mencionamos antes, los **atributos** pueden tener **cualquier tipo de dato**, incluyendo las **funciones**. Una función que es declarada como **atributo** de un objeto es conocida con el nombre de **método**.\n",
        "\n",
        "Este concepto le puede resultar familiar, pues se ha utilizado al discutir las funcionalidades de objetos como las cadenas de texto y las colecciones de datos. Por ejemplo, las **listas** tienen distintos **métodos** como **`append`**, **`insert`**, **`pop`**, entre otros, que son simplemente funciones."
      ]
    },
    {
      "cell_type": "code",
      "metadata": {
        "id": "pDu10oV9T4zU"
      },
      "source": [
        "#  Creamos una lista vacía\n",
        "lista = []\n",
        "\n",
        "# Accedemos al atributo 'insert'\n",
        "lista.insert"
      ],
      "execution_count": null,
      "outputs": []
    },
    {
      "cell_type": "markdown",
      "metadata": {
        "id": "z5bGM18ybP5o"
      },
      "source": [
        "Para declarar un método en _Python_, tenemos que declarar una función que reciba como argumento la **instancia de nuestra clase** (que hemos llamado **`self`**). Una función de este tipo se vería de la siguiente manera:\n",
        "\n",
        "```python\n",
        "class NOMBRE_DE_LA_CLASE:\n",
        "  # Método de la clase\n",
        "  def función(self):    # 'self' es una instancia de la clase.\n",
        "    # Bloque de código de la función\n",
        "```\n",
        "\n",
        "En el siguiente ejemplo, vamos a crear una clase **`Perro`** que tenga como método una función llamada **`ladrar`**."
      ]
    },
    {
      "cell_type": "code",
      "metadata": {
        "id": "27yOAzmzfeZ_"
      },
      "source": [
        "# Definimos una clase nueva.\n",
        "class Perro:\n",
        "\n",
        "    # Método 'ladrar'\n",
        "    def ladrar(self):\n",
        "      print(\"GUAU\")\n",
        "\n",
        "pipo = Perro()"
      ],
      "execution_count": null,
      "outputs": []
    },
    {
      "cell_type": "markdown",
      "metadata": {
        "id": "roS7ipTJgrVO"
      },
      "source": [
        "Es necesario que nuestros métodos reciban como argumento una instancia de nuestra clase. De esta manera, podemos acceder a los atributos de la instancia específica que llama el método (de la forma **`self.atributo`**) y nos permite tener resultados distintos según la instancia en donde se ejecute el método.\n",
        "\n",
        "Este tipo de funciones también se pueden llamar desde la clase, recibiendo de forma explícita una instancia de la clase como argumento, tal como en el siguiente código:\n",
        "\n",
        "  ```python\n",
        "  NombreDeLaClase.nombre_del_método(instancia)\n",
        "  ```\n",
        "\n",
        "  _Python_ permite simplificar la forma en que llamamos los métodos, permitiendo que las funciones declaradas de esta forma puedan ser llamadas con la notación de atributo con el símbolo punto. De esta forma, tenemos la siguiente equivalencia de notaciones permitidas:\n",
        "\n",
        "  ```python\n",
        "  # instancia = Clase(), una instancia y una clase.\n",
        "  Clase.método(instancia) == instancia.método()\n",
        "  ```\n",
        "\n",
        "En el ejemplo anterior hemos creado un **método** con el nombre **`'ladrar'`** que puede ser accedido desde cualquier instancia de nuestra clase:"
      ]
    },
    {
      "cell_type": "code",
      "metadata": {
        "id": "5lUxawFchTVT"
      },
      "source": [
        "# Usamos la función 'ladrar' como un método de nuestra clase.\n",
        "pipo.ladrar()"
      ],
      "execution_count": null,
      "outputs": []
    },
    {
      "cell_type": "markdown",
      "metadata": {
        "id": "5nyW9HakgIiN"
      },
      "source": [
        "De igual forma, podemos llamar a la función como si fuera un **atributo de clase** y pasar como argumento alguna instancia de la clase **`Perro`**. Este tipo de llamados se suele conocer también como **llamados de forma estática**."
      ]
    },
    {
      "cell_type": "code",
      "metadata": {
        "id": "bGIWbRYrgRa8"
      },
      "source": [
        "# Llamamos la función como un atributo de clase.\n",
        "Perro.ladrar(pipo)"
      ],
      "execution_count": null,
      "outputs": []
    },
    {
      "cell_type": "markdown",
      "metadata": {
        "id": "QKra0l7GjEf7"
      },
      "source": [
        "Estas dos maneras son equivalentes, pero ejecutar una función como un **método** se considera más expresivo y claro a la hora de leerlo. Por ejemplo, código como **`pipo.ladrar()`** puede ser leido como **el perro \"pipo\" realiza la acción \"ladrar\"**."
      ]
    },
    {
      "cell_type": "code",
      "metadata": {
        "id": "jK6r_vJ4hapP"
      },
      "source": [
        "# Perro.ladrar(pipo) --- es igual que ---> pipo.ladrar()\n",
        "pipo.ladrar()       # Más claro y expresivo.\n",
        "Perro.ladrar(pipo)  # Igual de válido."
      ],
      "execution_count": null,
      "outputs": []
    },
    {
      "cell_type": "markdown",
      "metadata": {
        "id": "_OOV-4GYj5ol"
      },
      "source": [
        "La segunda forma de acceder a un método es especialmente útil cuando queremos tomar esta función y usarla como una variable o en expresiones como los _lambda_.\n",
        "\n",
        "Por ejemplo, retomando un ejemplo mencionado en el material anterior, si queremos filtrar los elementos de una lista de cadenas de texto para tomar únicamente los valores que estén en mayúscula, podemos tomar el método de las cadenas de texto **`isupper()`** accediendo a la función desde el nombre de la clase, de la siguiente forma:"
      ]
    },
    {
      "cell_type": "code",
      "metadata": {
        "id": "Id0vPm-vkoNm"
      },
      "source": [
        "cadena = \"Python\"\n",
        "\n",
        "# Como método.\n",
        "print( cadena.isupper() )\n",
        "\n",
        "# Como atributo de clase.\n",
        "print( str.isupper(cadena) )"
      ],
      "execution_count": null,
      "outputs": []
    },
    {
      "cell_type": "markdown",
      "metadata": {
        "id": "iyKW9dV9k0T9"
      },
      "source": [
        "Entonces, podemos usar la función **`str.isupper`**, que toma como argumento una instancia de la clase **`str`**, es decir, una **cadena de texto**, y determina si está completamente en mayúscula."
      ]
    },
    {
      "cell_type": "code",
      "metadata": {
        "id": "uQco7bOnlvsu"
      },
      "source": [
        "# Usamos la función 'islower' con la función 'filter'.\n",
        "lista_original = [\"A\", \"a\", \"B\", \"bB\", \"cCc\", \"DDD\", 'ee']\n",
        "\n",
        "list( filter( str.islower, lista_original) )"
      ],
      "execution_count": null,
      "outputs": []
    },
    {
      "cell_type": "code",
      "metadata": {
        "id": "msHuEf3umE7p"
      },
      "source": [
        "# Usamos la función 'upper' con la función 'map'.\n",
        "lista_original = [\"Argentina\", \"Brasil\", \"Colombia\"]\n",
        "list(map(str.upper, lista_original))"
      ],
      "execution_count": null,
      "outputs": []
    },
    {
      "cell_type": "markdown",
      "metadata": {
        "id": "jzHFSwgdmj1e"
      },
      "source": [
        "Podemos combinar los conceptos de **atributos** y **métodos** para escribir programas con una funcionalidad más compleja. Por ejemplo, podemos complementar la clase **`Cuadrado`** con métodos para calcular el área y el perímetro."
      ]
    },
    {
      "cell_type": "code",
      "metadata": {
        "id": "LL7ipTgDmuTP"
      },
      "source": [
        "%%tutor -s -h 700\n",
        "class Cuadrado:\n",
        "    \"\"\"Clase cuadrado\n",
        "      Atributos:\n",
        "        lados (estático): cantidad de lados del cuadrado (siempre es 2)\n",
        "        ancho: longitud de cada lado del cuadrado\n",
        "      Métodos:\n",
        "        area: calcula el área del cuadrado.\n",
        "        perimetro: calcula el perímetro del cuadrado.\n",
        "    \"\"\"\n",
        "    # Constructor de la clase 'Cuadrado'\n",
        "    def __init__(self, ancho):\n",
        "        # Atributo de instancia \"ancho\"\n",
        "        self.ancho = ancho\n",
        "        print(f\"Creamos un cuadrado de {ancho} x {ancho}\")\n",
        "\n",
        "    # Método para calcular el área del cuadrado.\n",
        "    def calcular_area(self):\n",
        "      return self.ancho ** 2\n",
        "\n",
        "    # Método para calcular el perímetro del cuadrado.\n",
        "    def calcular_perimetro(self):\n",
        "      return self.ancho * 4\n",
        "\n",
        "# Declaramos dos instancias de \"Cuadrado\"\n",
        "cuadrado1 = Cuadrado(2)\n",
        "cuadrado2 = Cuadrado(10)\n",
        "\n",
        "# Imprimimos el valor de los atributos de cada objeto.\n",
        "print(f\"El cuadrado 1 tiene tamaño {cuadrado1.ancho}.\")\n",
        "print(f\"El cuadrado 2 tiene tamaño {cuadrado2.ancho}.\")\n",
        "\n",
        "# Calculamos el área de cada objeto.\n",
        "print(\"Área del cuadrado 1: \", cuadrado1.calcular_area())\n",
        "print(\"Área del cuadrado 2: \", cuadrado2.calcular_area())\n",
        "\n",
        "# Calculamos el perímetro de cada objeto.\n",
        "print(\"Perímetro del cuadrado 1: \", cuadrado1.calcular_perimetro())\n",
        "print(\"Perímetro del cuadrado 2: \", cuadrado2.calcular_perimetro())"
      ],
      "execution_count": null,
      "outputs": []
    },
    {
      "cell_type": "markdown",
      "metadata": {
        "id": "-mQSnNgh9RDe"
      },
      "source": [
        "> **Nota:** tenga cuidado al acceder a un atributo desde un método. Para hacerlo de forma correcta tendrá que obtener el valor de la instancia **`self`**, indicando el atributo de la forma **`self.atributo`** en vez de indicando únicamente el nombre."
      ]
    },
    {
      "cell_type": "markdown",
      "metadata": {
        "id": "BYOA70jaqnCe"
      },
      "source": [
        "#### **3.3.1. Métodos y atributos especiales (Opcional)**\n",
        "---\n",
        "Tras ver el concepto de método y las reglas de su definición en el lenguaje _Python_, podemos notar que el constructor de una función es realmente un **método especial**, pues es una función que recibe como primer argumento esta instancia que llamamos **`self`**, y que puede ser llamado con una sintaxis diferente.\n",
        "\n",
        "Si quisiéramos, podríamos llamar nuevamente el constructor de un objeto como si se tratara de un método normal:\n",
        "\n"
      ]
    },
    {
      "cell_type": "code",
      "metadata": {
        "id": "SExIEuNPep3O"
      },
      "source": [
        "%%tutor -s -h 500\n",
        "# Llamado de un constructor.\n",
        "a = list()\n",
        "print(a)\n",
        "\n",
        "# Llamamos NUEVAMENTE el constructor como un método de 'list'\n",
        "# En este caso, ingresamos un argumento distinto.\n",
        "a.__init__('abc')\n",
        "print(a)"
      ],
      "execution_count": null,
      "outputs": []
    },
    {
      "cell_type": "markdown",
      "metadata": {
        "id": "Up-OVwFvrZVC"
      },
      "source": [
        "_Python_ define una serie de reglas especiales que aplican a algunos métodos que vienen por defecto en cada objeto que se pueden **sobreescribir** y que se escriben usualmente de la forma **`__NOMBRE__`**. En el caso de la función **`__init__`**, permite que se realice un llamado a la función usando el nombre de la clase directamente. En esta sección, veremos algunos de los métodos especiales más importantes. Para más información, puede consultar el siguiente [enlace](https://docs.python.org/3/reference/datamodel.html#special-method-names), en el que se define esta personalización de los objetos en _Python_.\n",
        "\n",
        "\n",
        "* **Salida del programa**: las funciones **`__str__`** y **`__repr__`** nos permiten definir cómo se va imprimir un objeto cuando se llama la función **`print`**, o en el caso en el que se obtiene la representación oficial de un objeto, como cuando se muestra el último valor de una celda de un _notebook_ de _Jupyter_. Primero, creemos una clase que no implemente este método.\n",
        "\n",
        "\n"
      ]
    },
    {
      "cell_type": "code",
      "metadata": {
        "id": "D8Qfgyizt52y"
      },
      "source": [
        "class ClaseSinFormato:\n",
        "  def __init__(self, nombre):\n",
        "    self.nombre = nombre\n",
        "\n",
        "instancia = ClaseSinFormato(\"Ejemplo 1\")\n",
        "\n",
        "print(instancia) # Imprimimos con 'print' la instancia.\n",
        "instancia        # La instancia se muestra al ser la última expresión de la celda."
      ],
      "execution_count": null,
      "outputs": []
    },
    {
      "cell_type": "markdown",
      "metadata": {
        "id": "yxHg5cY8xpIR"
      },
      "source": [
        "Lo primero que vemos es el resultado de la ejecución del método **`__str__`** y lo segundo lo que vemos al ejecutar el método **`__repr__`**."
      ]
    },
    {
      "cell_type": "code",
      "metadata": {
        "id": "O4jOj-jZyB6J"
      },
      "source": [
        "# str y repr en un objeto de tipo str.\n",
        "lista = \"1\\t2\\t3\\t4\"\n",
        "\n",
        "\n",
        "print(str(lista))\n",
        "print(repr(lista))"
      ],
      "execution_count": null,
      "outputs": []
    },
    {
      "cell_type": "markdown",
      "metadata": {
        "id": "3mJ02qw9uPlF"
      },
      "source": [
        "Esta representación es una forma genérica de representar con texto un objeto creado por el usuario. Si implementamos el método **`__str__`**, el valor que retorne será la cadena que se muestre en pantalla cuando se use la función **`print`**. A continuación, veremos un ejemplo con _Python Tutor_ en el que se implementa una clase **`Punto`** con las coordenadas $x$ y $y$, y que tiene una representación similar a la que esperaríamos en matemáticas."
      ]
    },
    {
      "cell_type": "code",
      "metadata": {
        "id": "033OBF-Bu1Jz"
      },
      "source": [
        "%%tutor -s -h 500\n",
        "class Punto:\n",
        "  def __init__(self, x, y):\n",
        "    self.x = x\n",
        "    self.y = y\n",
        "\n",
        "  # Implementamos la función __str__\n",
        "  def __str__(self):\n",
        "    return f\"Punto: ({self.x}, {self.y})\"\n",
        "\n",
        "instancia = Punto(0, 1)\n",
        "print(instancia)  # Imprimimos con 'print' la instancia.        (Método __str__)"
      ],
      "execution_count": null,
      "outputs": []
    },
    {
      "cell_type": "markdown",
      "metadata": {
        "id": "UYwxmXi7yZ6_"
      },
      "source": [
        "* **Operadores**: si nuestro desarrollo lo requiere, podemos permitir la operación de objetos de nuestra clase con operadores numéricos, relacionales y/o lógicos. Podemos notar que de esta forma es posible que el uso del operador **`+`** sea distinto al usarlo en números, en cadenas y en listas, pues _Python_ implementa funciones distintas para cada uno.\n",
        "\n",
        "A continuación, presentamos una lista con los métodos más importantes que se tienen que implementar para emular el uso de estos operadores:\n",
        "\n",
        "| **Método especial** | **Equivalente con operadores** |\n",
        "| ---|---|\n",
        "| **`Clase.__eq__(self, other)`** | **`self == other`** |\n",
        "| **`Clase.__ne__(self, other)`** | **`self != other`** |\n",
        "| **`Clase.__lt__(self, other)`** | **`self < other`** |\n",
        "| **`Clase.__le__(self, other)`** | **`self <= other`** |\n",
        "| **`Clase.__gt__(self, other)`** | **`self > other`** |\n",
        "| **`Clase.__ge__(self, other)`** | **`self >= other`** |\n",
        "| **`Clase.__add__(self, other)`** | **`self + other`** |\n",
        "| **`Clase.__sub__(self, other)`** | **`self - other`** |\n",
        "| **`Clase.__mul__(self, other)`** | **`self * other`** |\n",
        "| **`Clase.__truediv__(self, other)`** | **`self / other`** |\n",
        "| **`Clase.__floordiv__(self, other)`** | **`self // ther`** |\n",
        "| **`Clase.__mod__(self, other)`** | **`self % other`** |\n",
        "| **`Clase.__pow__(self, other)`** | **`self ** other`** |\n",
        "| **`Clase.__and__(self, other)`** | **`self & other`** |\n",
        "| **`Clase.__or__(self, other)`** | **`self \\| other`** |\n",
        "| **`Clase.__xor__(self, other)`** | **`self ^ other`** |\n",
        "| **`Clase.__invert__(self)`** | **`~self`** |\n",
        "\n",
        "\n",
        "Además de estos, se consideran sus versiones invertidas (como **`radd(self, other)`** para representar la operación **`other + self`**) y de operación y asignación en el sitio (como **`iadd(self, other)`** para representar la operación **`self += other`**).\n",
        "\n",
        "\n",
        "A continuación, tenemos un ejemplo de _Python Tutor_ en el cual implementamos las funciones de los operadores **`+`** y **`-`** en la clase **`Ecuación`**, que tiene en forma de texto las operaciones realizadas."
      ]
    },
    {
      "cell_type": "code",
      "metadata": {
        "id": "-o_PuzGF1EPA"
      },
      "source": [
        "%%tutor -s -h 700\n",
        "class Ecuación:\n",
        "  def __init__(self, texto):\n",
        "    self.texto = texto\n",
        "  # Representación de cadena de texto de la clase \"Ecuación\"\n",
        "  def __str__(self):\n",
        "    return \"y = \" + self.texto\n",
        "  # Resultado de la operación self + other en forma de texto\n",
        "  def __add__(self, other):\n",
        "    return Ecuación(f\"{self.texto} + {other.texto}\")\n",
        "  # Resultado de la operación self - other en forma de texto\n",
        "  def __sub__(self, other):\n",
        "    return Ecuación(f\"{self.texto} - {other.texto}\")\n",
        "\n",
        "# Declaramos instancias de la clase \"Ecuación\"\n",
        "a = Ecuación(100)\n",
        "b = Ecuación(200)\n",
        "c = Ecuación(300)\n",
        "\n",
        "# Usamos los operadores\n",
        "y = c - a + b\n",
        "print(y)"
      ],
      "execution_count": null,
      "outputs": []
    },
    {
      "cell_type": "markdown",
      "metadata": {
        "id": "MIsRq-Fw47zz"
      },
      "source": [
        "## **4. Herencia (Opcional)**\n",
        "---\n",
        "\n",
        "El concepto de **herencia** es fundamental en el paradigma de la programación orientada a objetos, pues permite compartir detalles entre las distintas clases que creamos.\n",
        "\n",
        "El término herencia se asocia comunmente a la relación entre ancestros y descendientes, como la de un padre y un hijo. En programación, la herencia se refiere a la relación entre clases con una jerarquía basada en la **abstracción**, donde las clases ancestros son más **abstractas** y las clases que descienden de estas (o heredan de estas) son más **concretas**.  \n",
        "\n",
        "\n",
        "Considere los siguientes conceptos. En primer lugar, tenemos a la clase **`Animal`** el concepto más **abstracto**, que abarca más instancias posibles y no considera detalles concretos. Un animal puede realizar actos abstractos o poco específicos como **`comer`** o **`dormir`**, o tener propiedades como un **`nombre`** o una **`edad`**.\n",
        "\n",
        "\n",
        "Luego, tendríamos clases como el **`AnimalTerrestre`**, el **`AnimalAcuático`** y el **`AnimalVolador`**, que también son animales, pero tienen detalles más **concretos**, como **`nadar`** en el caso del **`AnimalAcuático`** y **`volar`** en el caso del **`AnimalVolador`**.\n",
        "\n",
        "\n",
        "Podemos continuar de manera indefinida, definiendo **subclases** que compartan algunas generalidades, pero que tengan detalles concretos. Por ejemplo, podríamos continuar con clases como **`Perro`** o **`Gallina`**, que podrían hacer cosas específicas como **`ladrar`** y **`cacarear`**, respectivamente.\n",
        "\n",
        "\n",
        "<center>\n",
        "<img src = \"https://drive.google.com/uc?export=view&id=1C9LlZBNPXbIHE8JDJZaKK3AP23loB8Bc\" width = \"80%\">  </img>\n",
        "</center>\n",
        "\n",
        "</br>\n",
        "\n",
        "Si bien este ejemplo no es una aplicación muy clara, existen algunos casos de **herencia** implementados en _Python_. Por ejemplo, podríamos tener una clase abstracta para las **colecciones**, y subclases más concretas como la lista, la tupla, el conjunto, entre otras. Además, tenemos que el tipo de dato _booleano_ es una clase derivada de los números enteros, con únicamente los valores $0$ y $1$, representados de manera distinta con las palabras reservadas **`False`** y **`True`**.\n",
        "\n",
        "\n",
        "> **¿Existe un límite para la abstracción que podemos realizar?**\n",
        "\n",
        "\n",
        "Por más clases y relaciones de herencia que definamos, todas las clases que creemos comparten una clase abstracta: el **objeto**. En _Python_, tenemos la clase **`object`**, la cual es el tipo de dato más básico de _Python_, y del cual heredan funcionalidades el resto de tipos.\n"
      ]
    },
    {
      "cell_type": "code",
      "metadata": {
        "id": "-HUU5HWIC6ZW"
      },
      "source": [
        "# Creamos un objeto de tipo 'bool'\n",
        "a = True\n",
        "\n",
        "# 'True' es equivalente al número 1 en los valores 'int'\n",
        "print(a + 10)\n",
        "\n",
        "# Verificamos si el objeto es una instancia de las siguientes clases:\n",
        "print(isinstance(a, bool))\n",
        "print(isinstance(a, int))\n",
        "print(isinstance(a, object))"
      ],
      "execution_count": null,
      "outputs": []
    },
    {
      "cell_type": "markdown",
      "metadata": {
        "id": "Y7rY1_oCEpJA"
      },
      "source": [
        "Para crear una relación en _Python_ podemos cambiar el encabezado de la clase, añadiendo una parte para la lista de **clases base o superclases** de la clase implementada. Una **subclase** o **clase derivada** por su parte **hereda** todos los atributos y métodos de su clase base. El encabezado se crearía de la siguiente forma:\n",
        "\n",
        "```python\n",
        "class ClaseDerivada(ClaseBase):\n",
        "    # Bloque de código de la clase descendiente.\n",
        "```\n",
        "\n",
        "\n",
        "Por ejemplo, podemos definir una jerarquía como la siguiente, en la cual tenemos la clase **`Forma`** como clase base o ancestra, y clases como  **`Punto`** y **`Rectángulo`** que heredan su funcionalidad. Toda figura puede tener atributos como la **posición**, y puede realizar procesos como el cálculo de su **área**.\n",
        "\n",
        "> **Nota:** la sentencia **`pass`** no tiene ningún efecto en el código y es usada principalmente para indicar un bloque de código vacío. Si no la pusiéramos se produciría un error de sintaxis."
      ]
    },
    {
      "cell_type": "code",
      "metadata": {
        "id": "942CVdSpGDVa"
      },
      "source": [
        "# Clase abstracta.\n",
        "class Forma:\n",
        "  # Constructor con atributos x, y para la posición\n",
        "  def __init__(self, x, y):\n",
        "    self.x = x\n",
        "    self.y = y\n",
        "\n",
        "  # Método abstracto por implementar\n",
        "  # en cada clase concreta\n",
        "  def area(self):\n",
        "    pass"
      ],
      "execution_count": null,
      "outputs": []
    },
    {
      "cell_type": "markdown",
      "metadata": {
        "id": "LKqF8IZxG-i4"
      },
      "source": [
        "La clase **`Punto`** tendría el siguiente encabezado:\n",
        "\n",
        "```python\n",
        "class Punto(Forma):\n",
        "  ...\n",
        "```\n",
        "\n",
        "Esto indica que todos los objetos que sean instancia de la clase **`Punto`**, van a tener también los atributos y métodos definidos en la clase **`Forma`**. Creemos esta clase, teniendo en cuenta que el área de un punto es $0$:"
      ]
    },
    {
      "cell_type": "code",
      "metadata": {
        "id": "L5ITj7hAH4RY"
      },
      "source": [
        "# Clase Punto.\n",
        "class Punto(Forma):\n",
        "   def area(self):\n",
        "     return 0"
      ],
      "execution_count": null,
      "outputs": []
    },
    {
      "cell_type": "markdown",
      "metadata": {
        "id": "hPzDPqZGRRmG"
      },
      "source": [
        "Ahora podemos crear una instancia de la clase **`Punto`** y acceder a sus atributos y al método **`area`**:"
      ]
    },
    {
      "cell_type": "code",
      "metadata": {
        "id": "5MlB2o73RaJo"
      },
      "source": [
        "p1 = Punto(10, 20)\n",
        "\n",
        "# Accedemos a los atributos del objeto\n",
        "print(p1.x)\n",
        "print(p1.y)\n",
        "\n",
        "# Ejecutamos el método 'area' del objeto.\n",
        "print(p1.area())"
      ],
      "execution_count": null,
      "outputs": []
    },
    {
      "cell_type": "markdown",
      "metadata": {
        "id": "Av3WYHzwR4A8"
      },
      "source": [
        "Luego, podemos considerar la clase **`Rectángulo`**. Esta también tiene una posición, determinada por su esquina inferior izquierda, y un área, determinada por su **alto** (**`w`**) y su **ancho** (**`h`**).\n",
        "\n",
        "Estos atributos serían atributos de instancia, y por lo tanto necesitamos definir nuevamente el método constructor **`__init__`**:"
      ]
    },
    {
      "cell_type": "code",
      "metadata": {
        "id": "EYPN_E3GSWvh"
      },
      "source": [
        "%%tutor -s -h 500\n",
        "\n",
        "# Clase abstracta.\n",
        "class Forma:\n",
        "  # Constructor con atributos x, y para la posición\n",
        "  def __init__(self, x, y):\n",
        "    self.x = x\n",
        "    self.y = y\n",
        "\n",
        "  # Método abstracto por implementar\n",
        "  # en cada clase concreta\n",
        "  def area(self):\n",
        "    pass\n",
        "\n",
        "# Clase Rectángulo, derivada de la clase Forma.\n",
        "class Rectángulo(Forma):\n",
        "  def __init__(self, x, y, w, h):\n",
        "    self.w = w\n",
        "    self.h = h\n",
        "\n",
        "r = Rectángulo(0, 0, 20, 20)\n",
        "\n",
        "# Imprimimos el ancho y la altura.\n",
        "print(r.w, r.h)\n",
        "\n",
        "# Intentamos imprimir la posición horizontal y vertical.\n",
        "print(r.x, r.y)"
      ],
      "execution_count": null,
      "outputs": []
    },
    {
      "cell_type": "markdown",
      "metadata": {
        "id": "QYebPDHsTE66"
      },
      "source": [
        "> **¿Por qué aparece el error indicando que el atributo `x` no existe?**\n",
        "\n",
        "Al sobreescribir el método **`__init__`** no se realiza la inicialización de los atributos **`x`** y **`y`**, realizados originalmente en el constructor de la clase **`Forma`**. Para evitar esto, tenemos que hacer un llamado a ese constructor, pasando los argumentos necesarios que recibimos en el constructor de **`Rectángulo`**. Esto lo podemos lograr con un llamado al método **`__init__`** como un **atributo de clase**:\n",
        "\n",
        "\n",
        "```python\n",
        "class Rectángulo(Forma):\n",
        "  def __init__(self, x, y, w, h):\n",
        "    Forma.__init__(self, x, y)\n",
        "    ...\n",
        "```\n",
        "\n",
        "De esta forma, accedemos al método **`__init__`** de **`Forma`** que recibía $3$ argumentos. El primero, una instancia de la clase **`Forma`** y los otros los valores iniciales de la posición. Gracias a la **herencia**  podemos afirmar que **todas las instancias de `Rectángulo` y de `Punto` son también instancias de la clase `Forma`**:"
      ]
    },
    {
      "cell_type": "code",
      "metadata": {
        "id": "SobLjL7OUgsN"
      },
      "source": [
        "p1 = Punto(0,0)\n",
        "\n",
        "print(isinstance(p1, Punto))   # p1 es una instancia de 'Punto'\n",
        "print(isinstance(p1, Forma))   # p1 es una instancia de 'Forma'\n",
        "print(isinstance(p1, object))  # p1 es una instancia de 'object'"
      ],
      "execution_count": null,
      "outputs": []
    },
    {
      "cell_type": "markdown",
      "metadata": {
        "id": "NUJ1PYzPU8ff"
      },
      "source": [
        "Por esta razón, podemos llamar sin problemas el constructor de **`Forma`** con una instancia de **`Rectángulo`**. Veamos la versión corregida del ejemplo de la clase **`Rectángulo`**:"
      ]
    },
    {
      "cell_type": "code",
      "metadata": {
        "id": "qlI59p0bVPD4"
      },
      "source": [
        "%%tutor -s -h 500\n",
        "\n",
        "# Clase abstracta.\n",
        "class Forma:\n",
        "  # Constructor con atributos x, y para la posición\n",
        "  def __init__(self, x, y):\n",
        "    self.x = x\n",
        "    self.y = y\n",
        "\n",
        "  # Método abstracto por implementar\n",
        "  # en cada clase concreta\n",
        "  def area(self):\n",
        "    pass\n",
        "\n",
        "# Clase Rectángulo, derivada de la clase Forma.\n",
        "class Rectángulo(Forma):\n",
        "  def __init__(self, x, y, w, h):\n",
        "    ######################################################\n",
        "\n",
        "    # Realizamos el llamado al constructor de 'Forma'.\n",
        "    Forma.__init__(self, x, y)\n",
        "\n",
        "    #######################################################\n",
        "\n",
        "    self.w = w\n",
        "    self.h = h\n",
        "\n",
        "r = Rectángulo(0, 0, 20, 20)\n",
        "\n",
        "# Imprimimos el ancho y la altura.\n",
        "print(r.w, r.h)\n",
        "\n",
        "# Intentamos imprimir la posición horizontal y vertical.\n",
        "print(r.x, r.y)"
      ],
      "execution_count": null,
      "outputs": []
    },
    {
      "cell_type": "markdown",
      "metadata": {
        "id": "0P42GKHUVlTJ"
      },
      "source": [
        "De esta manera podemos definir relaciones de herencia entre clases, e implementar **atributos y métodos** más concretos o específicos en las clases que lo requieran. Retomando el ejemplo de los animales, podríamos tener un programa como el siguiente, en el cual tenemos una clase base **`Animal`** y dos clases derivadas **`Perro`** y **`Loro`**. Cada una de estas tiene detalles de implementación adicionales, pero comparten código general para todas las instancias de **`Animal`** como **`dormir`** y **`comer`**.\n",
        "\n",
        "Ejecute el código y preste atención a las secciones **_Frames_** y **_Objects_** en el ejemplo de _Python Tutor_:"
      ]
    },
    {
      "cell_type": "code",
      "metadata": {
        "id": "wkBeyRINV3aG"
      },
      "source": [
        "%%tutor -s -h 800\n",
        "########### Clase 'Animal' ################\n",
        "class Animal:\n",
        "\n",
        "  def __init__(self, nombre):\n",
        "    self.nombre = nombre\n",
        "\n",
        "  def hablar(self):\n",
        "    pass\n",
        "\n",
        "  def comer(self):\n",
        "    print(f\"{self.nombre}: *se pone a comer*\")\n",
        "\n",
        "  def dormir(self):\n",
        "    print(f\"{self.nombre}: *zzzzzzz*\")\n",
        "\n",
        "########### Clase 'Perro' ################\n",
        "class Perro(Animal):\n",
        "  def __init__(self, nombre, raza):\n",
        "    Animal.__init__(self, nombre)\n",
        "    self.raza = raza\n",
        "\n",
        "  def hablar(self):\n",
        "    print(f\"{self.nombre}: Guau!\")\n",
        "\n",
        "  def identificar_raza(self):\n",
        "    print(f\"El perro {self.nombre} es de raza {self.raza}.\")\n",
        "\n",
        "########### Clase 'Loro' ################\n",
        "# Clase 'Loro'\n",
        "class Loro(Animal):\n",
        "  def hablar(self):\n",
        "    print(f\"{self.nombre}: Cacao!\")\n",
        "\n",
        "  def volar(self):\n",
        "    print(f\"{self.nombre}: *sale volando*\")\n",
        "\n",
        "###########################################\n",
        "# Declaramos algunas instancias\n",
        "perro1 = Perro('Pipo', 'Beagle')\n",
        "perro2 = Perro('Scooby', 'Gran Danés')\n",
        "loro1 = Loro(\"Ganímedes\")\n",
        "\n",
        "\n",
        "# Ejecutamos los métodos de 'perro1'\n",
        "perro1.hablar()\n",
        "perro1.comer()\n",
        "perro1.dormir()\n",
        "perro1.identificar_raza()\n",
        "\n",
        "# Ejecutamos los métodos de 'perro2'\n",
        "perro2.hablar()\n",
        "perro2.comer()\n",
        "perro2.dormir()\n",
        "perro2.identificar_raza()\n",
        "\n",
        "# Ejecutamos los métodos de 'loro1'\n",
        "loro1.hablar()\n",
        "loro1.comer()\n",
        "loro1.dormir()\n",
        "loro1.volar()"
      ],
      "execution_count": null,
      "outputs": []
    },
    {
      "cell_type": "markdown",
      "metadata": {
        "id": "DB_GPl1ou_YI"
      },
      "source": [
        "## **Referencias**\n",
        "---\n",
        "Este material fue tomado y adaptado del libro _How to Think Like a Computer Scientist: Learning with Python 3_, capítulo 4 (versión en inglés) y 6 (versión en español).\n",
        "\n",
        " > _Copyright (C) Brad Miller, David Ranum, Jeffrey Elkner, Peter Wentworth, Allen B. Downey, Chris\n",
        "Meyers, and Dario Mitchell. Permission is granted to copy, distribute\n",
        "and/or modify this document under the terms of the GNU Free Documentation\n",
        "License, Version 1.3 or any later version published by the Free Software\n",
        "Foundation; with Invariant Sections being Forward, Prefaces, and\n",
        "Contributor List, no Front-Cover Texts, and no Back-Cover Texts. A copy of\n",
        "the license is included in the section entitled “GNU Free Documentation\n",
        "License”_\n",
        "\n",
        "*   [P. Wentworth, J. Elkner, A.B. Downey, C. Meyers - How to Think Like a Computer\n",
        "Scientist: Learning with Python 3\n",
        "Documentation (3rd Edition)](http://www.ict.ru.ac.za/Resources/cspw/thinkcspy3/thinkcspy3.pdf)\n",
        "*   [How to Think Like a Computer Scientist: Interactive Edition](http://interactivepython.org/courselib/static/thinkcspy/index.html)\n",
        "*   [Aprenda a Pensar Como un Programador\n",
        "con Python\n",
        " (español)](https://argentinaenpython.com/quiero-aprender-python/aprenda-a-pensar-como-un-programador-con-python.pdf)\n"
      ]
    },
    {
      "cell_type": "markdown",
      "metadata": {
        "id": "4r5hSQAz6d-g"
      },
      "source": [
        "## **Recursos adicionales**\n",
        "---\n",
        "\n",
        "En esta sección encontrará material adicional para reforzar los temas y conceptos discutidos:\n",
        "\n",
        "* [*Python* 3: documentación oficial.](https://docs.python.org/3/)\n",
        "* [_Python_ - Tutorial de _Python_ (Español)](https://docs.python.org/es/3.7/tutorial/)\n"
      ]
    },
    {
      "cell_type": "markdown",
      "metadata": {
        "id": "uJLF2Soq64YL"
      },
      "source": [
        "## **Créditos**\n",
        "---\n",
        "\n",
        "* **Profesores:**\n",
        "  * [Felipe Restrepo Calle, PhD](https://dis.unal.edu.co/~ferestrepoca/)\n",
        "  * [Fabio Augusto González, PhD](https://dis.unal.edu.co/~fgonza/)\n",
        "  * [Jorge Eliecer Camargo, PhD](https://dis.unal.edu.co/~jecamargom/)\n",
        "* **Asistentes docentes:**\n",
        "  - Alberto Nicolai Romero Martínez\n",
        "  - Edder Hernández Forero\n",
        "\n",
        "**Universidad Nacional de Colombia** - *Facultad de Ingeniería*"
      ]
    }
  ]
}