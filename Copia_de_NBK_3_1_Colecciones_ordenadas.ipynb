{
  "nbformat": 4,
  "nbformat_minor": 0,
  "metadata": {
    "colab": {
      "private_outputs": true,
      "provenance": [],
      "toc_visible": true,
      "include_colab_link": true
    },
    "kernelspec": {
      "name": "python3",
      "display_name": "Python 3"
    },
    "language_info": {
      "name": "python"
    }
  },
  "cells": [
    {
      "cell_type": "markdown",
      "metadata": {
        "id": "view-in-github",
        "colab_type": "text"
      },
      "source": [
        "<a href=\"https://colab.research.google.com/github/nferrucho/PythonUNAL/blob/main/Copia_de_NBK_3_1_Colecciones_ordenadas.ipynb\" target=\"_parent\"><img src=\"https://colab.research.google.com/assets/colab-badge.svg\" alt=\"Open In Colab\"/></a>"
      ]
    },
    {
      "cell_type": "markdown",
      "source": [
        "<img src = \"https://drive.google.com/uc?export=view&id=1KkTA24cVkI9Dd2VeeKiulAi_muyZncX-\" alt = \"Si no puede ver este encabezado le recomendamos que utilice un navegador distinto. Los navegadores probados son Google Chrome, Opera y Microsoft Edge.\" width = \"80%\">  </img>"
      ],
      "metadata": {
        "id": "3Xzni772RRcx"
      }
    },
    {
      "cell_type": "markdown",
      "metadata": {
        "id": "qCo5PrkGaT7t"
      },
      "source": [
        "# **Colecciones ordenadas de datos con _Python_**\n",
        "---\n",
        "¡Le damos la bienvenida a la tercera unidad del módulo de **Introducción a la programación con _Python_**!\n",
        "\n",
        "En este primer material se discutirá la necesidad de plantear estrategias para la creación, consulta y manejo de estructuras con múltiples datos, y en particular, de las colecciones de datos ordenadas disponibles por defecto en _Python_."
      ]
    },
    {
      "cell_type": "markdown",
      "metadata": {
        "id": "2bTnAdrVyEyl"
      },
      "source": [
        "## **1.  Colecciones de datos**\n",
        "---\n",
        "\n",
        "Hasta el momento somos capaces de crear programas con secuencias complejas, en las que empleamos condiciones y ciclos para realizar operaciones en datos sencillos. Si bien podemos declarar la cantidad de variables que nos sea necesaria, surge muy pronto la necesidad de plantear estrategias para mantener un registro de múltiples datos de manera clara y simplificada.\n",
        "\n",
        "En muchas aplicaciones se cuenta con un número variable y potencialmente creciente de archivos, usuarios, productos, publicaciones, entre otros. Por ejemplo, en una aplicación con un sistema competetivo se debe considerar como representar a los participantes, con la posibilidad de cambiarlos de posición, modificar su puntaje e incluso añadir nuevos aspirantes.\n",
        "\n",
        "</br>\n",
        "<center>\n",
        "<img src = \"https://drive.google.com/uc?export=view&id=1yLBbxtDLv85BVmahfYRYFBphWlIWhTzp\" alt = \"Encabezado MLDS\" width = \"45%\">  </img> </center>\n",
        "\n",
        "\n",
        "\n",
        "¿Cómo podríamos obtener un resultado similar con variables?\n",
        "\n",
        "* Al crear: ¿cómo crearíamos variables con nombres únicos para un número indeterminado de datos?\n",
        "* Al eliminar: ¿cómo liberamos la memoria y el nombre usado por el dato eliminado?\n",
        "* Al mover: ¿cómo sabemos el orden en el que se encuentran los datos?\n",
        "* Al modificar: ¿cómo determinamos cuál de las variables deberíamos modificar?\n",
        "\n",
        "Un programa con esta lógica basada en variables parece inviable. Afortunadamente, el diseño de los lenguajes de programación y de los computadores en los que se ejecutan tienen contempladas estructuras que permiten crear estructuras de datos.\n",
        "\n",
        "En este material discutiremos las estructuras de datos en las que es importante considerar el **orden** de los datos que almacenan. En particular, hablaremos de las estructuras de datos definidas por defecto en el lenguaje _Python_, al igual que las operaciones y reglas de escritura correspondientes.\n",
        "\n"
      ]
    },
    {
      "cell_type": "markdown",
      "metadata": {
        "id": "XwR7WkyGGTH-"
      },
      "source": [
        "## **2. Listas**\n",
        "---\n",
        "Hay muchas consideraciones a la hora de decidir la mejor representación para darle estructura a nuestros datos. Una de las características que puede tener esta estructura es el **orden**. No es lo mismo una multitud de imágenes de búsqueda no relacionadas que publicaciones con un orden cronológico en una red social. De la misma forma, dentro de las estructuras que sí tienen orden no es lo mismo una fila de clientes en un banco que o una tabla en una hoja de cálculo.\n",
        "\n",
        "Aún con sus diferencias, estas estructuras pueden ser representadas con la misma estructura llamada **lista**. Esta se define como una colección ordenada de datos con longitud variable, a la que se pueden añadir, eliminar o modificar elementos y que tiene un inicio y un final.\n",
        "\n",
        "\n",
        "\n",
        "\n",
        "<center>\n",
        "<img src = \"https://drive.google.com/uc?export=view&id=1CktztFB3AFg-DBUPNmuHkZH67_P9lvrd\" alt = \"Listas\" width = \"60%\">  </img> </center>\n",
        "\n",
        "\n",
        "\n",
        "\n",
        "En _Python_, podemos crear listas directamente con una sintaxis especial basada en el uso de **llaves cuadradas** (**`[`** y **`]`**) y la **separación por comas** (**`,`**) de los valores incluidos en la lista.\n"
      ]
    },
    {
      "cell_type": "code",
      "metadata": {
        "id": "L5MQffqsrgnS"
      },
      "source": [
        "# Ejemplo de una lista en Python.\n",
        "[5, 4, 3, 2]"
      ],
      "execution_count": null,
      "outputs": []
    },
    {
      "cell_type": "markdown",
      "metadata": {
        "id": "9ix2L321ridP"
      },
      "source": [
        "Esta **expresión** puede ser asignada a una variable o usada como argumento de funciones y a diferencia de otros lenguajes de programación, puede contener datos de **cualquier tipo**."
      ]
    },
    {
      "cell_type": "code",
      "metadata": {
        "id": "otb-NvpXLbol"
      },
      "source": [
        "# Una lista con un entero, un dato nulo, una cadena de texto, un booleano y un número decimal.\n",
        "lista = [1, None, 'Uno', True, 1e14]\n",
        "\n",
        "lista"
      ],
      "execution_count": null,
      "outputs": []
    },
    {
      "cell_type": "markdown",
      "metadata": {
        "id": "Ji1tdomhLl81"
      },
      "source": [
        "Note que su representación en la salida de código corresponde a la representación que tendría de cada uno de sus elementos. Este objeto es de tipo **`list`**, sin importar su contenido."
      ]
    },
    {
      "cell_type": "code",
      "metadata": {
        "id": "hd6wRVvSLqU0"
      },
      "source": [
        "type(lista)"
      ],
      "execution_count": null,
      "outputs": []
    },
    {
      "cell_type": "markdown",
      "metadata": {
        "id": "Ibko1LDxN4Qf"
      },
      "source": [
        "Una lista también puede estar vacía:"
      ]
    },
    {
      "cell_type": "code",
      "metadata": {
        "id": "gqoFnseGN8hf"
      },
      "source": [
        "[]"
      ],
      "execution_count": null,
      "outputs": []
    },
    {
      "cell_type": "markdown",
      "metadata": {
        "id": "7ZCmSUms9zig"
      },
      "source": [
        "Los separadores de llave cuadrada de apertura **`[`** y cierre **`]`** nos permiten escribir listas complejas en múltiples líneas. No importa la cantidad de líneas vacías o espacios entre los separadores, siempre y cuando en algún punto se encuentre una **llave de cierre** (**`]`**) y entre cada expresión haya exactamente una coma de separación (**`,`**)."
      ]
    },
    {
      "cell_type": "code",
      "metadata": {
        "id": "n9LvUAmT-Lrg"
      },
      "source": [
        "# Lista declarada en múltiples líneas.\n",
        "\n",
        "lista = [\n",
        "\n",
        "'Primero', 'Segundo',\n",
        "\n",
        "\n",
        " 'Tercero',                 'Cuarto'\n",
        ",\n",
        "\n",
        "'Quinto'\n",
        "\n",
        "]\n",
        "\n",
        "print(lista)"
      ],
      "execution_count": null,
      "outputs": []
    },
    {
      "cell_type": "markdown",
      "metadata": {
        "id": "rfwVAZiQNf-j"
      },
      "source": [
        "Además de esta sintaxis especial, podemos usar la función **`list`** que nos permite tomar cualquier objeto **iterable** y crear una lista con sus elementos. Por ejemplo, para crear una lista con los caracteres de una cadena de texto:"
      ]
    },
    {
      "cell_type": "code",
      "metadata": {
        "id": "cVc18I25OL0Z"
      },
      "source": [
        "# Cadena de texto como argumento.\n",
        "list('Python')"
      ],
      "execution_count": null,
      "outputs": []
    },
    {
      "cell_type": "markdown",
      "metadata": {
        "id": "nkBtEPezOn7I"
      },
      "source": [
        "Otra forma de obtener una lista a partir de una cadena es con el método **`split(separador)`** de las cadenas de texto. Esta no crea una lista con los caracteres sino que crea una lista de partes de la cadena divididas por un separador. El separador por defecto es el espacio y salto de línea."
      ]
    },
    {
      "cell_type": "code",
      "metadata": {
        "id": "avdDCVl6XDMI"
      },
      "source": [
        "\"A B C DE FG\".split()"
      ],
      "execution_count": null,
      "outputs": []
    },
    {
      "cell_type": "markdown",
      "metadata": {
        "id": "NLVCsdTQXJLf"
      },
      "source": [
        "Además de esto, podemos indicar una cadena que sirva de separador como argumento. Por ejemplo, para obtener una lista de cadenas separadas por coma:"
      ]
    },
    {
      "cell_type": "code",
      "metadata": {
        "id": "zQPezjvSXoGM"
      },
      "source": [
        "\"A   , B  C  , D, EEE, \".split(',')"
      ],
      "execution_count": null,
      "outputs": []
    },
    {
      "cell_type": "markdown",
      "metadata": {
        "id": "fkSt1p4XXuXe"
      },
      "source": [
        "Note que los espacios ya no se consideran separadores y por tanto se incluyen en los fragmentos de la lista obtenida como resultado.\n",
        "\n",
        "\n",
        "Esta función es especialmente importante en la obtención de múltiples valores de la **entrada del programa**. De esta forma, podemos obtener una línea y separar sus valores."
      ]
    },
    {
      "cell_type": "code",
      "metadata": {
        "id": "yoXrj8NWXIGv"
      },
      "source": [
        "# Ingrese una entrada como \"Hello World\".\n",
        "lista = input(\"Ingrese algunas palabras separadas por espacio: \").split()\n",
        "\n",
        "lista"
      ],
      "execution_count": null,
      "outputs": []
    },
    {
      "cell_type": "markdown",
      "metadata": {
        "id": "9lvSLwjoYTho"
      },
      "source": [
        "> **Nota**: si se trata con números u otros tipos de dato distintos a las cadenas, asegúrese de realizar la conversión correspondiente para cada elemento de la entrada."
      ]
    },
    {
      "cell_type": "code",
      "metadata": {
        "id": "FLvz_eW-XFh5"
      },
      "source": [
        "# Ingrese una entrada como \"23 42\".\n",
        "lista = input(\"Ingrese dos números separados por espacio: \").split()\n",
        "\n",
        "# Convertimos los datos\n",
        "a = int(lista[0])   # Si la primera cadena no es un número se generará un error.\n",
        "b = int(lista[1])   # Si no hay por lo menos dos cadenas o no es un número se generará un error.\n",
        "\n",
        "print(a, b)\n",
        "print(type(a), type(b))"
      ],
      "execution_count": null,
      "outputs": []
    },
    {
      "cell_type": "markdown",
      "metadata": {
        "id": "Z_eHgL2ZOOHw"
      },
      "source": [
        "Adicionalmente, podemos usar otro tipo de **iterables**. Por ejemplo, para crear una lista con los valores en el rango de números entre $10$ y $20$."
      ]
    },
    {
      "cell_type": "code",
      "metadata": {
        "cellView": "form",
        "id": "16TljZX9jhH-"
      },
      "source": [
        "#@markdown * **Ejecute esta celda para instalar _Python Tutor_.**\n",
        "!pip3 -q install tutormagic\n",
        "%load_ext tutormagic"
      ],
      "execution_count": null,
      "outputs": []
    },
    {
      "cell_type": "code",
      "metadata": {
        "id": "tucGd9wIOUEu"
      },
      "source": [
        "%%tutor -s -h 300\n",
        "\n",
        "lista = list( range(10, 20) )\n",
        "print(lista)"
      ],
      "execution_count": null,
      "outputs": []
    },
    {
      "cell_type": "markdown",
      "metadata": {
        "id": "JTrS9X_FSYyJ"
      },
      "source": [
        "_Python_ tutor permite visualizar el contenido de estructuras como las listas. Como puede ver al ejecutar el ejemplo anterior, en la sección **Objects** aparece una representación de la lista, elemento por elemento de izquierda a derecha. Sin embargo, no solo está el valor ubicado en su posición, sino que también muestra en la parte superior un **índice**."
      ]
    },
    {
      "cell_type": "markdown",
      "metadata": {
        "id": "KxB8tAJPGW8H"
      },
      "source": [
        "### **2.1. Índices**\n",
        "---\n",
        "\n",
        "Una vez tenemos declarada una lista, nos interesa mucho saber cómo **acceder** a los datos almacenados en cada posición. Para esto, se utiliza una representación numérica de las posiciones llamada **índice**, donde $0$ es el valor que representa el elemento inicial, $1$ al segundo, y así sucesivamente.\n",
        "\n",
        "\n",
        "> **Nota:** esta idea de representar el primer elemento con el número $0$ es una de las causas de confusión y de error más comunes en programación. En lenguaje natural decimos que el inicio de una lista es **\"el primer elemento\"** en vez del elemento $0$, a excepción de notaciones como la matemática. En computación se suele empezar en $0$ pues representa la distancia del valor almacenado del inicio de la lista y su ubicación en memoria. En este caso, el elemento inicial está ubicado a $0$ posiciones de distancia de sí mismo.\n",
        "\n",
        "\n",
        "Entonces, una lista con $n$ elementos se puede entender como un casillero enumerado con elementos etiquetados con los números enteros desde el $0$ hasta el $n - 1$. Es decir, una lista con $6$ elementos tiene como último índice el número $5$.\n",
        "\n",
        "Sus casillas **no son** los valores que contienen, sino un tipo de variable o espacio en memoria en el que almacenar cualquier tipo de valor.\n",
        "\n",
        "<center>\n",
        "<img src = \"https://drive.google.com/uc?export=view&id=1ZE0-DvJoF6YpBz38YkL2L7NREMJ4HmEd\" alt = \"Índice de listas\" width = \"60%\">  </img> </center>\n",
        "\n",
        "\n",
        "Para acceder a un elemento en una posición dada, utilizamos nuevamente la notación con llaves cuadradas, pero aplicadas a una lista. En su interior indicamos la posición del valor al que queremos acceder.\n",
        "\n",
        "\n",
        "```python\n",
        "# Acceso al primer elemento.\n",
        "lista[0]\n",
        "```\n",
        "\n",
        "Veamos un ejemplo:"
      ]
    },
    {
      "cell_type": "code",
      "metadata": {
        "id": "9QMKgh6OUrGT"
      },
      "source": [
        "lista = [42, None, 'Uno', True, 1e14]\n",
        "\n",
        "lista[0]"
      ],
      "execution_count": null,
      "outputs": []
    },
    {
      "cell_type": "markdown",
      "metadata": {
        "id": "WuWnqTmHiSYg"
      },
      "source": [
        "Podemos tomar este valor y reasignarlo a una variable, o usarlo como cualquier expresión."
      ]
    },
    {
      "cell_type": "code",
      "metadata": {
        "id": "Ff4tsRx0iZbK"
      },
      "source": [
        "# Elemento con índice 2. (Tercer elemento si lo decimos en palabras)\n",
        "last = lista[2]\n",
        "\n",
        "last"
      ],
      "execution_count": null,
      "outputs": []
    },
    {
      "cell_type": "code",
      "metadata": {
        "cellView": "form",
        "id": "B2vDflQ8ito-"
      },
      "source": [
        "#@markdown * **Ejecute esta celda para instalar _Python Tutor_.**\n",
        "!pip3 -q install tutormagic\n",
        "%load_ext tutormagic"
      ],
      "execution_count": null,
      "outputs": []
    },
    {
      "cell_type": "code",
      "metadata": {
        "id": "y9gXqXb0igdZ"
      },
      "source": [
        "%%tutor -s -h 500\n",
        "\n",
        "# Esta notación es una expresión normal.\n",
        "lista = [1, None, 'Uno', True, 1e14]\n",
        "\n",
        "print(lista[0])\n",
        "print(lista[1])\n",
        "print(lista[2])\n",
        "print(lista[3])\n",
        "print(lista[4])\n",
        "print(lista[5])    # Esta instrucción producirá un error."
      ],
      "execution_count": null,
      "outputs": []
    },
    {
      "cell_type": "markdown",
      "metadata": {
        "id": "2Rz47bwHUxWO"
      },
      "source": [
        "> **¿Y cómo sabemos cuál es el límite de una lista?**\n",
        "\n",
        "Podemos conocer la longitud o cantidad de elementos de una lista con la función **`len(lista)`**."
      ]
    },
    {
      "cell_type": "code",
      "metadata": {
        "id": "ueOqB_taU4jz"
      },
      "source": [
        "# Cantidad de elementos de la lista (usualmente representado con la letra n).\n",
        "n = len(lista)\n",
        "\n",
        "n"
      ],
      "execution_count": null,
      "outputs": []
    },
    {
      "cell_type": "markdown",
      "metadata": {
        "id": "vAr8UUjsU6Xq"
      },
      "source": [
        "Recuerde, el último elemento de la lista está ubicado en la posición $n - 1$. Indicar posiciones mayores a esta producirá un error de indexado o **`IndexError`**, indicando que el índice usado está fuera del rango. Tenga mucho cuidado, no tiene sentido intentar acceder a valores que por definición no existen ni pertenecen a una lista, así como no tiene sentido identificar al cliente ubicado justo después del último de la fila de un banco."
      ]
    },
    {
      "cell_type": "code",
      "metadata": {
        "id": "FiVvi8jFU58_"
      },
      "source": [
        "lista[n]"
      ],
      "execution_count": null,
      "outputs": []
    },
    {
      "cell_type": "code",
      "metadata": {
        "id": "o1UwziJYVuVt"
      },
      "source": [
        "# Este es el último valor válido de la lista.\n",
        "lista[n - 1]"
      ],
      "execution_count": null,
      "outputs": []
    },
    {
      "cell_type": "markdown",
      "metadata": {
        "id": "-EvBpg1IVzhB"
      },
      "source": [
        "Como veremos más adelante, la longitud de una lista es **variable**. Si a nuestra lista llegan o se van elementos de manera constante, siempre deberíamos asegurarnos de conocer su tamaño correcto a la hora de hacer una consulta.\n",
        "\n",
        "_Python_ ideó una solución que permite realizar una **indexación inversa**, es decir, desde el final de la lista. De esta manera podemos acceder al último elemento de la lista de manera rápida y sin necesidad de conocer su tamaño actual. Para esto, indicamos como índice un **número negativo**, que representa la distancia que tiene del final con respecto al valor de su tamaño actual ($n$).\n",
        "\n",
        "<center>\n",
        "<img src = \"https://drive.google.com/uc?export=view&id=1nKqNu33jSrAvUnI6sM9JaOwcmjHBs43X\" alt = \"Índice negativo de listas\" width = \"60%\">  </img> </center>\n",
        "\n",
        "\n",
        "\n",
        "Por ejemplo, el último valor se puede obtener con el número $-1$ ya que está ubicado en la posición $n-1$."
      ]
    },
    {
      "cell_type": "code",
      "metadata": {
        "id": "8ATi66qAW6dH"
      },
      "source": [
        "lista[-1]"
      ],
      "execution_count": null,
      "outputs": []
    },
    {
      "cell_type": "code",
      "metadata": {
        "id": "Pr8sE7GkhQvU"
      },
      "source": [
        "# Las dos expresiones son equivalentes.\n",
        "n = len(lista)\n",
        "\n",
        "lista[n - 1] == lista[-1]"
      ],
      "execution_count": null,
      "outputs": []
    },
    {
      "cell_type": "code",
      "metadata": {
        "cellView": "form",
        "id": "Md49bEpekFSj"
      },
      "source": [
        "#@markdown * **Ejecute esta celda para instalar _Python Tutor_.**\n",
        "!pip3 -q install tutormagic\n",
        "%load_ext tutormagic"
      ],
      "execution_count": null,
      "outputs": []
    },
    {
      "cell_type": "code",
      "metadata": {
        "id": "ZqWpMlOti99Y"
      },
      "source": [
        "%%tutor -s -h 500\n",
        "# Imprimamos los valores entre los índices -n y n - 1.\n",
        "lista = list('python')\n",
        "\n",
        "n = len(lista)\n",
        "for x in range(-n, n):        # El valor n no está incluido en el rango.\n",
        "  print(f\"Índice: {x}: {lista[x]}\")"
      ],
      "execution_count": null,
      "outputs": []
    },
    {
      "cell_type": "markdown",
      "metadata": {
        "id": "fu2wdTIZgWPO"
      },
      "source": [
        "#### **2.1.1. Trozos o *slices***\n",
        "---\n",
        "Al tratar con colecciones de datos suele ser necesario obtener una **porción** reducida de los datos. Para casos sencillos podemos asignar directamente los valores de la lista en una lista nueva. Por ejemplo, si quisiéramos los primeros $3$ elementos, podríamos hacer algo como lo siguiente:"
      ]
    },
    {
      "cell_type": "code",
      "metadata": {
        "id": "ECJIikb1kjPE"
      },
      "source": [
        "# Creamos una lista con los números del 0 al 29.\n",
        "lista = list(range(30))\n",
        "\n",
        "print(lista)"
      ],
      "execution_count": null,
      "outputs": []
    },
    {
      "cell_type": "code",
      "metadata": {
        "id": "4gWR4OIckxr3"
      },
      "source": [
        "# Asignamos a una nueva lista los primeros 3 valores.\n",
        "primeros_3 = [lista[0], lista[1], lista[2]]\n",
        "\n",
        "primeros_3"
      ],
      "execution_count": null,
      "outputs": []
    },
    {
      "cell_type": "markdown",
      "metadata": {
        "id": "3XjPpBVIk823"
      },
      "source": [
        "> **¿Qué pasa cuando se necesita un número variable de los datos, como por ejemplo los primeros $k$ elementos?**\n",
        "\n",
        "_Python_ permite una sintaxis similar a la usada en los objetos de **rangos numéricos** vistos en materiales anteriores. Estos índices en rangos, o como se le suele llamar, **trozos** o **_slices_**, permiten definir el índice inicial (está **incluido** en el resultado) y el índice final (que es **excluido** en el resultado).\n",
        "\n",
        "Estos se indican con la sintaxis de indexación, pero definiendo los rangos separados por **dos puntos** (**`:`**).\n",
        "\n",
        "\n",
        "```python\n",
        "  lista[inicio : final]\n",
        "```\n",
        "\n",
        "\n",
        "Una forma de entender esto es que la casilla que marca el inicio es la primera en incluirse y la casilla que marca el final es la primera en excluirse al hacer el recorrido. Veamos un diagrama con esta idea:\n",
        "\n",
        "\n",
        "<center>\n",
        "<img src = \"https://drive.google.com/uc?export=view&id=1JRR5uVYQwpeFBlt9ucxrSjsjeG1CEWUI\" alt = \"Slice de listas\" width = \"60%\">  </img> </center>\n",
        "\n",
        "\n",
        "\n"
      ]
    },
    {
      "cell_type": "code",
      "metadata": {
        "id": "2UlAEdE33bc4"
      },
      "source": [
        "# Convertimos la cadena en una lista de caracteres.\n",
        "lista = list('ABCDEF')\n"
      ],
      "execution_count": null,
      "outputs": []
    },
    {
      "cell_type": "code",
      "metadata": {
        "id": "YCf9Ioj13hJ6"
      },
      "source": [
        "lista[1 : 5]"
      ],
      "execution_count": null,
      "outputs": []
    },
    {
      "cell_type": "markdown",
      "metadata": {
        "id": "KZ-hHtXa3knj"
      },
      "source": [
        "Los números enteros negativos también son válidos para definir este tipo de expresiones. Tenga en cuenta la equivalencia entre enteros positivos y negativos descrita en la sección anterior.\n",
        "\n",
        "<center>\n",
        "<img src = \"https://drive.google.com/uc?export=view&id=1wvrjxEuPW09iHRRzVOEy1xH4f_JVIoRK\" alt = \"Slice inverso de listas\" width = \"60%\">  </img> </center>\n",
        "\n",
        "\n"
      ]
    },
    {
      "cell_type": "code",
      "metadata": {
        "id": "XfMCMY-_37v6"
      },
      "source": [
        "lista[-6 : -3]"
      ],
      "execution_count": null,
      "outputs": []
    },
    {
      "cell_type": "markdown",
      "metadata": {
        "id": "HirAAOv35SX_"
      },
      "source": [
        "Los dos valores de **inicio** y **final** pueden ser omitidos. Si se omite el inicio se empieza a crear la sublista desde el primer elemento. Por ejemplo, para obtener una lista con los $3$ primero elementos, podemos excluir el inicio, dando como resultado la siguiente equivalencia:\n"
      ]
    },
    {
      "cell_type": "code",
      "metadata": {
        "id": "PQDxA34x5njD"
      },
      "source": [
        "lista[ :3] == lista[0 : 3]"
      ],
      "execution_count": null,
      "outputs": []
    },
    {
      "cell_type": "markdown",
      "metadata": {
        "id": "b0cvCHs55vSH"
      },
      "source": [
        "Por otro lado, si se omite el final la sublista creada se genera hasta el último elemento de la lista, es decir, para obtener los últimos $3$ valores tenemos la siguiente equivalencia:\n"
      ]
    },
    {
      "cell_type": "code",
      "metadata": {
        "id": "G9gFad6x54fO"
      },
      "source": [
        "n = len(lista)\n",
        "lista[3:] == lista[3:n]"
      ],
      "execution_count": null,
      "outputs": []
    },
    {
      "cell_type": "markdown",
      "metadata": {
        "id": "bjstRKCv19qK"
      },
      "source": [
        "Al igual que con los rangos numéricos, el troceado de listas también admite el uso de un tercer valor para representar el **paso** o tasa de cambio de los valores. Para esto, usamos un segundo separador de dos puntos (**`:`**) y aplicamos la misma regla de incluir el valor inicial y excluir el valor final y cualquier valor posterior.\n",
        "\n",
        "<center>\n",
        "<img src = \"https://drive.google.com/uc?export=view&id=1XwJoPHLBK75KmE2pEvlu9BixuS3N8uRK\" alt = \"Slice inverso de listas\" width = \"60%\">  </img> </center>\n"
      ]
    },
    {
      "cell_type": "code",
      "metadata": {
        "id": "vXJn22Aw6XZI"
      },
      "source": [
        "lista[1 : 5 : 2]"
      ],
      "execution_count": null,
      "outputs": []
    },
    {
      "cell_type": "markdown",
      "metadata": {
        "id": "E2nGlMyZ6tMO"
      },
      "source": [
        "Realizar este proceso con un paso inverso puede llegar a ser confuso. Piense que el valor de inicio está incluido en la lista generada y el valor de final está excluido.\n",
        "\n",
        "Por ejemplo, los valores obtenidos con la expresion:"
      ]
    },
    {
      "cell_type": "code",
      "metadata": {
        "id": "aCz01S_Z4xpF"
      },
      "source": [
        "lista[ 1 : 5]"
      ],
      "execution_count": null,
      "outputs": []
    },
    {
      "cell_type": "markdown",
      "metadata": {
        "id": "hhFURY3d7m0s"
      },
      "source": [
        "No son los mismos en un orden invertido que los creados por esta expresión:\n",
        "\n",
        "<center>\n",
        "<img src = \"https://drive.google.com/uc?export=view&id=1gdXMXqTH461HglCpHzPdCmFDyUR6jRd1\" alt = \"Slice inverso de listas\" width = \"60%\">  </img> </center>"
      ]
    },
    {
      "cell_type": "code",
      "metadata": {
        "id": "sP2azFdY7PBN"
      },
      "source": [
        "lista[ 5 : 1 : -1]"
      ],
      "execution_count": null,
      "outputs": []
    },
    {
      "cell_type": "markdown",
      "metadata": {
        "id": "7lsgCo0j7v1A"
      },
      "source": [
        "En la primera expresión el valor $5$ es el final y por lo tanto es un valor que **NO se incluye** en la lista, mientras que en la segunda expresión el $5$ es el inicio y por lo tantoes el primer valor a incluir (la cadena **`'F'`**) hasta encontrar la casilla indicada con el valor $1$, cuyo valor es el primero que **NO se incluye** en la lista (el valor **`'B'`**).\n",
        "\n",
        "\n",
        "Para ilustrar esta idea, veamos la ejecución de un ciclo con la sentencia **`for`** creando un rango numérico con los valores indicados y usandolos como índice del arreglo:"
      ]
    },
    {
      "cell_type": "code",
      "metadata": {
        "cellView": "form",
        "id": "j1c825KY9Xda"
      },
      "source": [
        "#@markdown * **Ejecute esta celda para instalar _Python Tutor_.**\n",
        "!pip3 -q install tutormagic\n",
        "%load_ext tutormagic"
      ],
      "execution_count": null,
      "outputs": []
    },
    {
      "cell_type": "code",
      "metadata": {
        "id": "-kx61aQs8Wes"
      },
      "source": [
        "%%tutor -s -h 500\n",
        "\n",
        "lista = list('ABCDEF')\n",
        "\n",
        "\n",
        "print('I. Troceado normal.')\n",
        "for i in range(1, 5):\n",
        "  print( f\"i: { i }\\t valor: { lista[i] }\" )\n",
        "\n",
        "print('\\nII. Troceado inverso.')\n",
        "for i in range(5, 1, -1):\n",
        "  print( f\"i: { i }\\t valor: { lista[i] }\" )"
      ],
      "execution_count": null,
      "outputs": []
    },
    {
      "cell_type": "markdown",
      "metadata": {
        "id": "-r6CZ8W4G55d"
      },
      "source": [
        "### **2.2. Matrices**\n",
        "---\n",
        "\n",
        "Como se mencionó al introducir el concepto de listas, estas pueden almacenar **cualquier tipo de dato**, incluyendo a las **propias listas**. Esta funcionalidad puede ser utilizada para representar **matrices**, un arreglo rectangular de datos compuesto de filas y columnas. Es común encontrar este tipo de datos en la forma de tablas. Una tabla, como una tabla de multiplicar o una tabla de reportes financieros, no es más que una lista de filas, que a su vez son una lista de elementos indexados por columna.\n",
        "\n",
        "\n",
        "Por ejemplo, la matriz:\n",
        "$\\begin{bmatrix}\n",
        "    3&6&9\\\\\n",
        "    4&8&12\\\\\n",
        "    5&10&15\\\\\n",
        "\\end{bmatrix}$\n",
        "puede ser representada de la siguiente manera en forma de lista de listas:\n",
        "\n",
        "\n",
        "\n",
        "\n",
        "<center>\n",
        "<img src = \"https://drive.google.com/uc?export=view&id=1b6IJdchqAyBgmF11zrlAxCzUZwu3_KGi\" alt = \"Matriz\" width = \"40%\">  </img> </center>\n",
        "\n",
        "\n",
        "\n",
        "\n",
        "En _Python_, se representa la matriz como una lista de listas donde las listas internas corresponden a las filas de la matriz:\n"
      ]
    },
    {
      "cell_type": "code",
      "metadata": {
        "id": "_aGoAwZK-fYi"
      },
      "source": [
        "matriz = [\n",
        "  [3, 6, 9],      # Fila 0 (Lista)\n",
        "  [4, 8, 12],     # Fila 1 (Lista)\n",
        "  [5, 10, 15]     # Fila 2 (Lista)\n",
        "]\n",
        "\n",
        "print(matriz)"
      ],
      "execution_count": null,
      "outputs": []
    },
    {
      "cell_type": "markdown",
      "metadata": {
        "id": "kujKsdqCFPCT"
      },
      "source": [
        "\n",
        "\n",
        "En una matriz, si accedemos a uno de los elementos estamos accediendo a una de estas filas:"
      ]
    },
    {
      "cell_type": "code",
      "metadata": {
        "id": "LMplh8bEFTKL"
      },
      "source": [
        " matriz[1]"
      ],
      "execution_count": null,
      "outputs": []
    },
    {
      "cell_type": "markdown",
      "metadata": {
        "id": "f6K-nQvRFXzC"
      },
      "source": [
        "> **Nota**: siempre y cuando seamos consistentes en nuestra definición, una matriz también podría interpretarse como una lista de **columnas**.\n",
        "\n",
        "Como el elemento al que accedemos en la lista es también una lista, podemos aplicar directamente las llaves cuadradas (**`[`** y **`]`**) para  acceder a un elemento en particular ubicado en esa lista.\n",
        "\n",
        "Por ejemplo, si queremos acceder al $10$ ubicado en la segunda posición de la tercera columna tenemos que:\n",
        "1. Acceder a la $3$ra fila (posición $2$ en la lista).\n",
        "2. Acceder al $2$do elemento de la fila (posición $1$ en la lista).\n",
        "\n",
        "\n",
        "<center>\n",
        "<img src = \"https://drive.google.com/uc?export=view&id=1yw7lFsawdOo19AhaW90j1RujqMXRLXP8\" alt = \"Matriz\" width = \"40%\">  </img> </center>\n",
        "\n"
      ]
    },
    {
      "cell_type": "code",
      "metadata": {
        "id": "OXWMGOKO0vri"
      },
      "source": [
        "# Elemento en la fila en posición 2 y columna en posición 1.\n",
        "matriz[2][1]"
      ],
      "execution_count": null,
      "outputs": []
    },
    {
      "cell_type": "code",
      "metadata": {
        "id": "GHx4u_XWxpzN",
        "cellView": "form"
      },
      "source": [
        "#@markdown * **Ejecute esta celda para instalar _Python Tutor_.**\n",
        "!pip3 -q install tutormagic\n",
        "%load_ext tutormagic"
      ],
      "execution_count": null,
      "outputs": []
    },
    {
      "cell_type": "code",
      "metadata": {
        "id": "uWbxSv9VHn0x"
      },
      "source": [
        "%%tutor -s -h 500\n",
        "matriz = [\n",
        "  [3, 6, 9],\n",
        "  [4, 8, 12],\n",
        "  [5, 10, 15]\n",
        "]\n",
        "\n",
        "print(matriz)            # Matriz (Lista de listas).\n",
        "\n",
        "print(matriz[0])         # Fila en la posición 0 (Lista).\n",
        "print(matriz[1])         # Fila en la posición 1 (Lista).\n",
        "print(matriz[2])         # Fila en la posición 2 (Lista).\n",
        "\n",
        "print(matriz[0][0])      # Elemento en la fila 0 y columna 0 (Número).\n",
        "print(matriz[0][1])      # Elemento en la fila 0 y columna 1 (Número).\n",
        "print(matriz[1][2])      # Elemento en la fila 1 y columna 2 (Número)."
      ],
      "execution_count": null,
      "outputs": []
    },
    {
      "cell_type": "markdown",
      "metadata": {
        "id": "gwY430gjHD6J"
      },
      "source": [
        "### **2.3. Iterar sobre elementos**\n",
        "---\n",
        "La iteracion de listas puede realizarse de distintas maneras. En primer lugar, podemos utilizar operaciones de acceso y una variable auxiliar para iterar por los valores de una lista con una sentencia **`while`**. De esta manera no alteramos el contenido de la lista."
      ]
    },
    {
      "cell_type": "code",
      "metadata": {
        "id": "39ZLWQ2n8RGx"
      },
      "source": [
        "lista = ['Primero', 'Segundo', 'Tercero', 'Cuarto', 'Quinto']\n",
        "\n",
        "n = len(lista)\n",
        "i = 0\n",
        "\n",
        "while i < n:\n",
        "  print(\"valor: \", lista[i])\n",
        "  i += 1"
      ],
      "execution_count": null,
      "outputs": []
    },
    {
      "cell_type": "markdown",
      "metadata": {
        "id": "cNJFB8vv8Dey"
      },
      "source": [
        "Las **listas**, al igual que las demás colecciones que veremos en esta unidad son objetos **iterables** por definición. En el caso de la lista el proceso es sencillo: se itera por los valores de la lista de inicio a fin.\n",
        "\n",
        "Al ser iterable, podemos utilizar una lista como el valor iterable de una sentencia **`for`**:"
      ]
    },
    {
      "cell_type": "code",
      "metadata": {
        "cellView": "form",
        "id": "_pdXCR7u7a7U"
      },
      "source": [
        "#@markdown * **Ejecute esta celda para instalar _Python Tutor_.**\n",
        "!pip3 -q install tutormagic\n",
        "%load_ext tutormagic"
      ],
      "execution_count": null,
      "outputs": []
    },
    {
      "cell_type": "code",
      "metadata": {
        "id": "R_lKkfR77a7U"
      },
      "source": [
        "%%tutor -s -h 500\n",
        "for elemento in ['Primero', 'Segundo', 'Tercero', 'Cuarto', 'Quinto']:\n",
        "  print(\"valor: \", elemento)"
      ],
      "execution_count": null,
      "outputs": []
    },
    {
      "cell_type": "markdown",
      "metadata": {
        "id": "mHAu_Ahs92uA"
      },
      "source": [
        "Esta operación no es destructiva, pues se asigna en una variable el valor de cada elemento. Si esta variable es modificada, el valor almacenado en la lista no cambia."
      ]
    },
    {
      "cell_type": "code",
      "metadata": {
        "id": "g5DtTqXY-BSJ"
      },
      "source": [
        "%%tutor -s -h 500\n",
        "\n",
        "lista = [ 'A', 'B', 'C']\n",
        "for elemento in lista:\n",
        "  elemento = 'D'\n",
        "\n",
        "print(lista)"
      ],
      "execution_count": null,
      "outputs": []
    },
    {
      "cell_type": "markdown",
      "metadata": {
        "id": "hJQO-LkKGjRA"
      },
      "source": [
        "## **3. Operaciones en listas**\n",
        "---\n",
        "Las cadenas de texto tienen muchas similitudes con las listas, pues al igual que estas son una secuencia de valores (en este caso **caracteres**) en donde el orden es indispensable. Es en este sentido en que algunas operaciones vistas previamente con cadenas de texto también son válidas en las listas y viceversa.\n",
        "\n",
        "Por ejemplo, los conceptos que acabamos de cubrir de acceso de datos mediante índices y troceado **también son válidos con las cadenas de texto**:\n",
        "\n"
      ]
    },
    {
      "cell_type": "code",
      "metadata": {
        "id": "8tkDfK8-SEp7"
      },
      "source": [
        "# Primer elemento de la cadena.\n",
        "\"Python\"[0]"
      ],
      "execution_count": null,
      "outputs": []
    },
    {
      "cell_type": "code",
      "metadata": {
        "id": "z0Z8llk5SJ4g"
      },
      "source": [
        "# Últimos 4 caracteres de la cadena.\n",
        "\"El código es 0558\"[-4:]"
      ],
      "execution_count": null,
      "outputs": []
    },
    {
      "cell_type": "code",
      "metadata": {
        "id": "D0iEDVwHSZ-A"
      },
      "source": [
        "# Omitimos el inicio y el final para recorrer toda la cadena a un paso de 3 unidades.\n",
        "msg = \"EvXs3Xt2XejX XaeX3sXc Xau2XngX XamXveXdndXsaXaXejaXeXa X3sX$e&XcaXraXe2Xt2Xo9X.\"\n",
        "\n",
        "msg[::3]"
      ],
      "execution_count": null,
      "outputs": []
    },
    {
      "cell_type": "markdown",
      "metadata": {
        "id": "yXUO16BkTItV"
      },
      "source": [
        "Además del acceso, las cadenas y las listas comparten el uso de los operadores de **concatenación** (**`+`**) y **repetición** (**`*`**). En las listas la concatenación consiste en añadir la segunda lista al final de la primera.\n"
      ]
    },
    {
      "cell_type": "code",
      "metadata": {
        "id": "AXnFayMETfgv"
      },
      "source": [
        "# Concatenamos dos listas distintas.\n",
        "[1, 2, 3, 4] + list('abcd')"
      ],
      "execution_count": null,
      "outputs": []
    },
    {
      "cell_type": "markdown",
      "metadata": {
        "id": "NcW4AGBFTkbU"
      },
      "source": [
        "Can la repetición se realiza una concatenación de la misma cadena un total de $x$ veces."
      ]
    },
    {
      "cell_type": "code",
      "metadata": {
        "id": "MZLbdRq-TuQv"
      },
      "source": [
        "# Repetición de la lista.\n",
        "[10, 20, 30, 40] * 3"
      ],
      "execution_count": null,
      "outputs": []
    },
    {
      "cell_type": "markdown",
      "metadata": {
        "id": "eeb1tQFKTxvw"
      },
      "source": [
        "No obstante, ninguna de estas operaciones modifican la lista original. Veamos un ejemplo con _Python Tutor_."
      ]
    },
    {
      "cell_type": "code",
      "metadata": {
        "cellView": "form",
        "id": "CqvIB7P7T9Mq"
      },
      "source": [
        "#@markdown * **Ejecute esta celda para instalar _Python Tutor_.**\n",
        "!pip3 -q install tutormagic\n",
        "%load_ext tutormagic"
      ],
      "execution_count": null,
      "outputs": []
    },
    {
      "cell_type": "code",
      "metadata": {
        "id": "fhrIZhyqT9Mr"
      },
      "source": [
        "%%tutor -s -h 500\n",
        "\n",
        "lista = list( range(10) )\n",
        "print(lista)\n",
        "\n",
        "print(lista[::2])\n",
        "print(lista + list(range(10, 15)) )\n",
        "print(lista * 3)\n",
        "\n",
        "# Volvemos a imprimir la lista original.\n",
        "print(lista)"
      ],
      "execution_count": null,
      "outputs": []
    },
    {
      "cell_type": "markdown",
      "metadata": {
        "id": "NBGJShoTU3Q3"
      },
      "source": [
        "La lista permanece intacta, al igual que sucede con una cadena de texto involucrada en estas operaciones. Simplemente se crea una nueva estructura de datos con el resultado."
      ]
    },
    {
      "cell_type": "markdown",
      "metadata": {
        "id": "kn0VWBvOVB82"
      },
      "source": [
        "### **3.1. Modificar elementos**\n",
        "---\n",
        "Cada posición de una lista es en esencia una variable que no tiene nombre propio, sino que depende del nombre de su estructura y un operador de acceso (llaves cuadradas **`[]`**).\n",
        "\n",
        "Ya vimos cómo se realiza el acceso a valores particulares de una lista:"
      ]
    },
    {
      "cell_type": "code",
      "metadata": {
        "id": "3co-xM5AaMUP"
      },
      "source": [
        "lista = [100, 200, 300]\n",
        "\n",
        "lista[0]"
      ],
      "execution_count": null,
      "outputs": []
    },
    {
      "cell_type": "markdown",
      "metadata": {
        "id": "ycXAlp88aSW3"
      },
      "source": [
        "Al igual que las variables, podemos **reasignar** el valor almacenado en cada posición por cualquier tipo de dato. La posición en memoria que le corresponde se actualiza con la nueva información y al volver a acceder a partir de la lista a su valor se obtiene el valor modificado."
      ]
    },
    {
      "cell_type": "code",
      "metadata": {
        "id": "DkCFSuhPaR4d"
      },
      "source": [
        "lista[0] = 456\n",
        "\n",
        "lista"
      ],
      "execution_count": null,
      "outputs": []
    },
    {
      "cell_type": "code",
      "metadata": {
        "cellView": "form",
        "id": "grRBp4YqabLC"
      },
      "source": [
        "#@markdown * **Ejecute esta celda para instalar _Python Tutor_.**\n",
        "!pip3 -q install tutormagic\n",
        "%load_ext tutormagic"
      ],
      "execution_count": null,
      "outputs": []
    },
    {
      "cell_type": "code",
      "metadata": {
        "id": "8O1oKTcGabLD"
      },
      "source": [
        "%%tutor -s -h 500\n",
        "# Creamos una lista con 10 valores 0.\n",
        "lista =  [0] * 10\n",
        "\n",
        "for i in range(10):\n",
        "  lista[i] = 100 + i * 100"
      ],
      "execution_count": null,
      "outputs": []
    },
    {
      "cell_type": "markdown",
      "metadata": {
        "id": "EuqSewZqdEh0"
      },
      "source": [
        "Note como el contenido de la lista cambia cada vez que se hacen asignaciones en el ciclo con nuevos valores. Como se mencionó antes, el contenido de estas variables puede ser otra lista con un valor distinto. Veamos un ejemplo de creación de una matriz con un par de bucles anidados."
      ]
    },
    {
      "cell_type": "code",
      "metadata": {
        "cellView": "form",
        "id": "jPHy9yogdo1S"
      },
      "source": [
        "#@markdown * **Ejecute esta celda para instalar _Python Tutor_.**\n",
        "!pip3 -q install tutormagic\n",
        "%load_ext tutormagic"
      ],
      "execution_count": null,
      "outputs": []
    },
    {
      "cell_type": "code",
      "metadata": {
        "id": "6O3_rSYodo1V"
      },
      "source": [
        "%%tutor -s -h 500\n",
        "# Creamos una lista con 4 sublistas con 3 valores en 0.\n",
        "lista =  [[0, 0, 0],\n",
        "          [0, 0, 0],\n",
        "          [0, 0, 0],\n",
        "          [0, 0, 0]]\n",
        "\n",
        "for i in range(4):\n",
        "  for j in range(3):\n",
        "    lista[i][j] = (i + 1) * (j + 1)"
      ],
      "execution_count": null,
      "outputs": []
    },
    {
      "cell_type": "markdown",
      "metadata": {
        "id": "42NYu-V9Vk7d"
      },
      "source": [
        "> **¿Qué pasa si intentamos asignar un valor en una posición fuera del rango de la lista?**\n",
        "\n",
        "En el ejercicio anterior se declaró una lista de tamaño $3 \\times 3$ desde el principio porque **no se puede** asignar valores a posiciones fuera de rango.\n",
        "\n",
        "Veamos un ejemplo:"
      ]
    },
    {
      "cell_type": "code",
      "metadata": {
        "id": "GOpeDPe0WCRa"
      },
      "source": [
        "lista_vacia = []\n",
        "\n",
        "lista_vacia[0] = 5000"
      ],
      "execution_count": null,
      "outputs": []
    },
    {
      "cell_type": "markdown",
      "metadata": {
        "id": "mI1txBIKWKfJ"
      },
      "source": [
        "Estas operaciones solo pueden utilizarse en posiciones que ya existen en la lista. En este caso, ni siquiera la posición $0$ existe, pues esta implicaría que la lista tiene por lo menos tamaño $1$, que no es el caso.\n",
        "\n",
        "Entonces, ¿cómo ampliamos el tamaño de una lista para añadir más elementos?"
      ]
    },
    {
      "cell_type": "markdown",
      "metadata": {
        "id": "hK83N9gffX8p"
      },
      "source": [
        "### **3.2. Agregar elementos**\n",
        "---\n",
        "Como se mecionó antes, la longitud de una lista es **variable**, por lo que se debería permitir tanto **añadir** como **eliminar** posiciones con valores nuevos. ¿Cómo se puede lograr esto?\n",
        "\n",
        "_Python_ permite realizar una operación en las listas en la que se habilita un espacio nuevo y se actualiza el tamaño de la lista. Lo normal es que este espacio sea asignado justo al final, de manera que en memoria los datos estén almacenados en el mismo orden que en la lista.\n",
        "\n",
        "> Tal como funciona el *hardware* de los computadores y el manejo de su memoria, esto permite que el acceso a cualquiera de los datos de la lista **tome el mismo tiempo** sin importar su posición. Si esto no ocurriera, tendríamos que recorrer una a una las posiciones aisladas de la memoria hasta encontrar el elemento de la posición que deseamos. Por el contrario, al estar en el mismo orden, se puede calcular fácilmente su ubicación con una suma sencilla.\n",
        "\n",
        "\n",
        "_Python_ dispone de múltiples **métodos** en sus estructuras de datos. Uno de ellos es el método **`append(elemento)`**, que añade el nuevo valor al final de la lista, asignando una posición nueva. Esto permite emular el comportamiento de una **fila**, como la que se utiliza en bancos o supermercados, o para programar una cita por orden de llegada. De esta forma no nos preocupamos en qué posición quedará el nuevo elemento. Además la gestión de la memoria es sencilla, pues solo es necesario habilitar el nuevo espacio y asignarle su valor inicial.\n",
        "\n",
        "\n",
        "\n",
        "<center>\n",
        "<img src = \"https://drive.google.com/uc?export=view&id=1FHNQp5nB4Y7i4aN6pYcqutG29-CAZUgk\" alt = \"Índice de listas\" width = \"50%\">  \n",
        "</img>\n",
        "</center>\n",
        "\n",
        "</br>\n",
        "\n",
        "\n",
        "\n",
        "\n",
        "\n"
      ]
    },
    {
      "cell_type": "code",
      "metadata": {
        "id": "ih1dPEPyhXXa"
      },
      "source": [
        "# Creamos una lista inicial\n",
        "lista_inicial = [ 'Uno', 'Dos', 'Tres' ]\n",
        "\n",
        "lista_inicial"
      ],
      "execution_count": null,
      "outputs": []
    },
    {
      "cell_type": "code",
      "metadata": {
        "id": "xYzKf8IOhgMd"
      },
      "source": [
        "lista_inicial.append('Cuatro')"
      ],
      "execution_count": null,
      "outputs": []
    },
    {
      "cell_type": "markdown",
      "metadata": {
        "id": "AVdelKrBhj6L"
      },
      "source": [
        "Esta función no retorna un resultado, pero cuando volvamos a consultar la lista notaremos que el elemento se agregó correctamente."
      ]
    },
    {
      "cell_type": "code",
      "metadata": {
        "id": "JLRZ7ULPhroi"
      },
      "source": [
        "lista_inicial"
      ],
      "execution_count": null,
      "outputs": []
    },
    {
      "cell_type": "markdown",
      "metadata": {
        "id": "0D2SUN1ShuQ4"
      },
      "source": [
        "> **¿Y si queremos añadir el elemento en otra posición, como por ejemplo el inicio?**\n",
        "\n",
        "Para esto disponemos del método **`insert(pos, elemento)`**, que podemos utilizar cuando **SÍ** nos interesa ubicar nuestro elemento en una posición específica. En ella especificamos la posición, un número entero con un índice válido (incluyendo índices negativos) y el elemento en cuestión. De esta forma podemos agregar elementos al principio de la fila usando $0$ como índice, lo que nos permite emular el comportamiento de funciones como opciones de deshacer o rehacer en programas con historial, que devuelven el último estado que fue almacenado.\n",
        "\n",
        "<center>\n",
        "<img src = \"https://drive.google.com/uc?export=view&id=1EJSBD95Db8eQ0zzWh3HGAc3Ytaz_lJHC\" alt = \"Índice de listas\" width = \"50%\">  </img> </center>\n",
        "\n",
        "</br>"
      ]
    },
    {
      "cell_type": "code",
      "metadata": {
        "id": "fCqzBUKrip1H"
      },
      "source": [
        "lista_inicial.insert(0, 'Cero')"
      ],
      "execution_count": null,
      "outputs": []
    },
    {
      "cell_type": "markdown",
      "metadata": {
        "id": "WcbmIv0Di0Lk"
      },
      "source": [
        "Veamos cómo se modificó la lista."
      ]
    },
    {
      "cell_type": "code",
      "metadata": {
        "id": "8HkCuLiNitBC"
      },
      "source": [
        "lista_inicial"
      ],
      "execution_count": null,
      "outputs": []
    },
    {
      "cell_type": "markdown",
      "metadata": {
        "id": "AZYVs_pfmWeZ"
      },
      "source": [
        "La función **`append`** parece equivalente a realizar una instrucción como la siguiente con **`insert`**:\n",
        "\n",
        "```python\n",
        "lista.insert(-1, elemento)\n",
        "```\n",
        "\n",
        "Sin embargo, hacer esto produce un resultado inesperado:"
      ]
    },
    {
      "cell_type": "code",
      "metadata": {
        "id": "di_WPlLMmV8h"
      },
      "source": [
        "lista_inicial.insert(-1, '¿Último?')\n",
        "\n",
        "lista_inicial"
      ],
      "execution_count": null,
      "outputs": []
    },
    {
      "cell_type": "markdown",
      "metadata": {
        "id": "XVQpzhTCm193"
      },
      "source": [
        "La instrucción indica la posición en la que se va a añadir el elemento. En este sentido, la posición representada por $-1$ deja de ser la última posición cuando el tamaño de la lista crece."
      ]
    },
    {
      "cell_type": "markdown",
      "metadata": {
        "id": "tFFwMIs4i8X3"
      },
      "source": [
        "> **¿Qué pasa con el resto de elementos cuando agregamos un nuevo elemento en medio de la lista?**\n",
        "\n",
        "Cuando un elemento es agregado, los elementos ubicados después de este **aumentan** el número de su índice. Por debajo _Python_ asigna una nueva posición al final y **desplaza** todos los elementos a partir de la posición dada. El elemento insertado pasa a ocupar la posición siguiente, y así sucesivamente. Los elementos anteriores al insertado no se ven alterados.\n",
        "\n",
        "Por ejemplo, si insertamos un elemento en la posición $3$, los $3$ primeros elementos (índices $0$, $1$ y $2$) se mantienen intactos y con el mismo índice, mientras que el resto de la lista ahora tienen que ser accedidos con su índice anterior más $1$ unidad. Veamos un ejemplo:"
      ]
    },
    {
      "cell_type": "code",
      "metadata": {
        "cellView": "form",
        "id": "A2UPe8OtjoGG"
      },
      "source": [
        "#@markdown * **Ejecute esta celda para instalar _Python Tutor_.**\n",
        "!pip3 -q install tutormagic\n",
        "%load_ext tutormagic"
      ],
      "execution_count": null,
      "outputs": []
    },
    {
      "cell_type": "code",
      "metadata": {
        "id": "JDJHo7sDjoGG"
      },
      "source": [
        "%%tutor -s -h 500\n",
        "# Creamos una lista con 4 listas con 3 valores en 0.\n",
        "lista =  list(range(10))\n",
        "\n",
        "print(\"Los elementos de la lista corresponden con su posición en este momento.\")\n",
        "print(lista)\n",
        "\n",
        "lista.append('A')      # Ningún elemento cambia su índice.\n",
        "print(lista)\n",
        "\n",
        "lista.insert(0, 'B')   # Todos los elementos aumentan su índice.\n",
        "print(lista)\n",
        "\n",
        "lista.insert(6, 'C')   # Solo la mitad de los elementos aumentan su índice.\n",
        "print(lista)"
      ],
      "execution_count": null,
      "outputs": []
    },
    {
      "cell_type": "markdown",
      "metadata": {
        "id": "ADeZMK4Ik2tK"
      },
      "source": [
        "### **3.3. Eliminar elementos**\n",
        "---\n",
        "> **¿Qué pasaría si solo agregamos elementos y nunca los removemos?**\n",
        "\n",
        "Si nuestro programa está en un escenario de constante aumento de datos, es importante considerar la capacidad de memoria de nuestro dispositivo o de nuestra infraestructura. Por poner un ejemplo, los servicios de correo electrónico solo mantienen por un tiempo limitado los correos no deseados, que son eliminados al finalizar. De esta manera no se desperdician recursos en correos sin importancia aparente.\n",
        "\n",
        "En este sentido, es importante deshacernos de datos que no sean relevantes para el resto de la ejecución de nuestro programa. Nuevamente, _Python_ dispone de funciones que permiten eliminar elementos de una lista para liberar las posiciones que quedan sin utilizar.\n",
        "\n",
        "\n",
        "En _Python_ podemos eliminar el elemento por su valor y eliminarlo por su posición.\n",
        "\n",
        "\n",
        "* **`remove(elemento)`**: esta función nos permite eliminar un elemento con un valor conocido. Sin importar su posición, _Python_ compara valor a valor desde el inicio de la lista y elimina la primera aparición del elemento.\n",
        "\n",
        "\n",
        "<center>\n",
        "<img src = \"https://drive.google.com/uc?export=view&id=13UmsfxJa497e9UjWQ-5cvJiCpjFMHLD2\" alt = \"Índice de listas\" width = \"40%\">  </img> </center>\n",
        "\n",
        "</br>"
      ]
    },
    {
      "cell_type": "code",
      "metadata": {
        "id": "qWeUM1B1rxfD"
      },
      "source": [
        "# Si el elemento está repetido, solo se elimina la primera aparición.\n",
        "lista = ['A', 'B', 'C', 'B', 'A']\n",
        "\n",
        "lista.remove('A')"
      ],
      "execution_count": null,
      "outputs": []
    },
    {
      "cell_type": "code",
      "metadata": {
        "id": "vPjjjzXusCYN"
      },
      "source": [
        "lista"
      ],
      "execution_count": null,
      "outputs": []
    },
    {
      "cell_type": "markdown",
      "metadata": {
        "id": "IQORc5vys5xH"
      },
      "source": [
        "* **`pop(posición)`**: por otro lado, disponemos de un método que permite eliminar el elemento ubicado en una posición dada, sin importar su valor. Si no se indica una posición, se elimina el elemento en la **última posición**. Este método hace que _Python_ se dirija directamente a la posición dada sin tener que realizar operaciones de comparación con el valor de sus elementos.\n",
        "\n",
        "\n",
        "\n",
        "<center>\n",
        "<img src = \"https://drive.google.com/uc?export=view&id=1f71koKAGrIYjODIDV-NdpOyxcB11hEwN\" alt = \"Índice de listas\" width = \"40%\">  </img> </center>\n",
        "\n",
        "</br>\n",
        "\n",
        "Además, dado que a diferencia de antes **no conocemos el valor** que eliminamos, la función **`pop`** retorna el valor eliminado, podemos tomar este valor y asignarlo a una variable para utilizarlo en otra tarea. Por ejemplo, para mover un elemento de sitio en la lista podemos ubicarlo, eliminarlo con **`pop`**, asignarlo a una variable y agregarlo nuevamente a la lista en una posición distinta.\n"
      ]
    },
    {
      "cell_type": "code",
      "metadata": {
        "id": "rPCRH3lkrrBf"
      },
      "source": [
        "# Eliminamos el primer elemento\n",
        "print(lista)\n",
        "eliminado = lista.pop(0)\n",
        "\n",
        "eliminado"
      ],
      "execution_count": null,
      "outputs": []
    },
    {
      "cell_type": "code",
      "metadata": {
        "id": "4lubPheNrzZD"
      },
      "source": [
        "# Vemos el contenido de la lista.\n",
        "print(lista)"
      ],
      "execution_count": null,
      "outputs": []
    },
    {
      "cell_type": "code",
      "metadata": {
        "cellView": "form",
        "id": "tj2RYBn7uy2g"
      },
      "source": [
        "#@markdown * **Ejecute esta celda para instalar _Python Tutor_.**\n",
        "!pip3 -q install tutormagic\n",
        "%load_ext tutormagic"
      ],
      "execution_count": null,
      "outputs": []
    },
    {
      "cell_type": "code",
      "metadata": {
        "id": "o4094fwCuy2p"
      },
      "source": [
        "%%tutor -s -h 500\n",
        "lista = ['Primero', 'Segundo', 'Tercero', 'Cuarto', 'Quinto']\n",
        "\n",
        "while len(lista) > 0:\n",
        "  eliminado = lista.pop(0)\n",
        "  print(eliminado)"
      ],
      "execution_count": null,
      "outputs": []
    },
    {
      "cell_type": "markdown",
      "metadata": {
        "id": "zlyT49Pau6NC"
      },
      "source": [
        "Note que al igual que con la inserción de elementos los elementos ubicados después de una operación de eliminación tienen un cambio en su índice, reduciendo su valor en $1$. El elemento que estaba justo después del eliminado pasa a ocupar su posición y a ser representado por su índice.\n",
        "\n",
        "Esta es una forma destructiva de **iterar** sobre los elementos de una lista, ya que la eliminación es una operación que cuando se utiliza modifica el contenido de la lista.\n",
        "\n",
        "> **¿Existe algún método no destructivo de iterar sobre los elementos de una lista?**"
      ]
    },
    {
      "cell_type": "markdown",
      "metadata": {
        "id": "u5FIuEOC-3AJ"
      },
      "source": [
        "### **3.4. Listas por comprensión**\n",
        "---\n",
        "Considere el siguiente ejemplo. Usted ejecuta un programa que le retorna una lista de valores numéricos con los resultados de un experimento. Para imprimirlos en su reporte, ve necesario crear una nueva lista con cadenas de texto en un formato común, con $4$ dígitos decimales y la unidad en centímetros. Además, solo le interesa reportar los resultados válidos, que en esta ocasión son aquellos que son positivos.\n",
        "\n",
        "Veamos el código creado con este objetivo:"
      ]
    },
    {
      "cell_type": "code",
      "metadata": {
        "id": "EtQJNSrIAPQu"
      },
      "source": [
        "lista_original = [ -5.589545, 10.998, 2.4, 99e-3, -85.22, -0.001]\n",
        "\n",
        "nueva_lista = []\n",
        "\n",
        "for elemento in lista_original:\n",
        "  if elemento > 0:          # Solo valores positivos.\n",
        "    nueva_lista.append(f\"{elemento:.2f} cm\")\n",
        "\n",
        "print(nueva_lista)"
      ],
      "execution_count": null,
      "outputs": []
    },
    {
      "cell_type": "markdown",
      "metadata": {
        "id": "rsXPslAvA6ua"
      },
      "source": [
        "Esta operación es **muy común**. Tan común, que en el desarrollo de _Python_ se planteó un método de creación de listas llamado **listas por comprensión** o _list comprehension_ en inglés. Esta se plantea como una forma de describir el proceso de creación de la lista a partir de iterar otro objeto. La estructura de una lista por comprensión es la siguiente:\n",
        "\n",
        "```python\n",
        "[expresión for elemento in iterable if condición]\n",
        "```\n",
        "\n",
        "Que corresponde a esta operación realizada con una sentencia **`for`**:\n",
        "\n",
        "```python\n",
        "l = []\n",
        "\n",
        "for elemento in iterable:\n",
        "   if condición:\n",
        "     l.append(expresión)\n",
        "```\n",
        "\n",
        "La expresión es el nuevo valor a representar cada elemento del iterable. Además, podemos agregar una condición para solo considerar algunos de los valores."
      ]
    },
    {
      "cell_type": "code",
      "metadata": {
        "id": "bTlEyDXoVxVn"
      },
      "source": [
        "#@markdown **Animación:** En este animación se presenta la equivalencia entre la creación de listas con sentencias de control y la definición de expresiones de comprensión de listas.\n",
        "\n",
        "from IPython.display import HTML\n",
        "\n",
        "HTML('<iframe style=\"width:768px; height: 432px;\" src=\"https://drive.google.com/file/d/17qggPtioB-UWLRVUb6ZYha4XWES6Bvst/preview\"></iframe>')"
      ],
      "execution_count": null,
      "outputs": []
    },
    {
      "cell_type": "markdown",
      "metadata": {
        "id": "QbkqYApHGjaj"
      },
      "source": [
        "Veamos la ejecución de este ejemplo con _Python Tutor_:"
      ]
    },
    {
      "cell_type": "code",
      "metadata": {
        "cellView": "form",
        "id": "00FPv9oOGwsP"
      },
      "source": [
        "#@markdown * **Ejecute esta celda para instalar _Python Tutor_.**\n",
        "!pip3 -q install tutormagic\n",
        "%load_ext tutormagic"
      ],
      "execution_count": null,
      "outputs": []
    },
    {
      "cell_type": "code",
      "metadata": {
        "id": "OuQNwd89GwsP"
      },
      "source": [
        "%%tutor -s -h 500\n",
        "num = [1, 2, 3, 4, 5, 6, 7, 8]\n",
        "\n",
        "# Con sentencias if y for:\n",
        "l1 = []\n",
        "\n",
        "for x in num:\n",
        "  if x < 5:\n",
        "    l1.append(x ** 2)\n",
        "print(l1)\n",
        "\n",
        "# Con expresiones de comprensión de listas:\n",
        "l2 = [x ** 2 for x in num if x < 5]\n",
        "print(l2)"
      ],
      "execution_count": null,
      "outputs": []
    },
    {
      "cell_type": "markdown",
      "metadata": {
        "id": "MjYhqhCaH1J5"
      },
      "source": [
        "De esta manera podemos iterar colecciones como listas o cadenas de texto y generar listas con expresiones cortas y expresivas.\n",
        "\n",
        "\n",
        "Con esta sintaxis también podemos definir listas creadas con ciclos anidados escribiendo dos o más componentes **`for`** en la expresión con dos iterables distintos.\n",
        "\n",
        "Por ejemplo, creemos una lista de parejas de valores, cada componente variando entre $0$ y $4$, con la restricción de que el primer componente sea menor que el segundo:"
      ]
    },
    {
      "cell_type": "markdown",
      "metadata": {
        "id": "BgRY9fR7OuX8"
      },
      "source": [
        "Primero, sin usar listas por comprensión:"
      ]
    },
    {
      "cell_type": "code",
      "metadata": {
        "id": "9MgCWKuJOuYB"
      },
      "source": [
        "lista = []\n",
        "for i in range(6):\n",
        "  for j in range(6):\n",
        "    if i < j:\n",
        "      lista.append(f\"{i}<{j}\")\n",
        "print(lista)"
      ],
      "execution_count": null,
      "outputs": []
    },
    {
      "cell_type": "markdown",
      "metadata": {
        "id": "XkdKanPvOuYO"
      },
      "source": [
        "Ahora usando listas por comprensión:"
      ]
    },
    {
      "cell_type": "code",
      "metadata": {
        "id": "zdnFE_Z5Op3D"
      },
      "source": [
        "lista = [f\"{i}<{j}\" for i in range(6) for j in range(6) if i < j]\n",
        "print(lista)"
      ],
      "execution_count": null,
      "outputs": []
    },
    {
      "cell_type": "markdown",
      "metadata": {
        "id": "Vs9Hm9-HALCl"
      },
      "source": [
        "El primer **`for`** corresponde al más externo, y a medida que se indican más fragmentos de iteración se interpretan como ciclos anidados internos. Una forma de escribir esta expresión para entender su equivalente es la siguiente:"
      ]
    },
    {
      "cell_type": "code",
      "metadata": {
        "id": "uIOYT8pTAJnY"
      },
      "source": [
        "lista = [f\"{i}, {j}, {k}\"   # Expresión evaluada en cada ciclo más interno.\n",
        "              for i in range(3) # Ciclo externo.\n",
        "                  for j in range(3) # Ciclo interno intermedio\n",
        "                    for k in range(3) # Ciclo interno.\n",
        "                        if i + j < k    # Condición evaluada.\n",
        "         ]\n",
        "\n",
        "print(lista)"
      ],
      "execution_count": null,
      "outputs": []
    },
    {
      "cell_type": "markdown",
      "metadata": {
        "id": "wMJT6Cp_vWnH"
      },
      "source": [
        "### **3.5. Operaciones de utilidad**\n",
        "---\n",
        "_Python_ define otras funciones que permiten realizar operaciones comunes con una sola instrucción. En esta sección nombraremos las más importantes. Si desea explorar más funciones, lo invitamos a profundizar la [documentación oficial de _Python_](https://docs.python.org/3/tutorial/datastructures.html).\n",
        "\n",
        "\n",
        "* **`sort()`**: como se ha discutido desde el principio de este material, una de las propiedades más importantes de las listas es el **orden**. Con el método **`sort`** podemos reorganizar los elementos para que el orden cumpla ciertas reglas, dadas por los operadores de comparación de **mayor** y **menor**. Con esto, podemos organizar valores numéricos en orden numérico y valores de texto en orden lexicográfico.\n",
        "\n"
      ]
    },
    {
      "cell_type": "code",
      "metadata": {
        "id": "ojP80J-nwwop"
      },
      "source": [
        "lista = list(range(20, 0, -1))\n",
        "lista"
      ],
      "execution_count": null,
      "outputs": []
    },
    {
      "cell_type": "code",
      "metadata": {
        "id": "bk28fAJNw2TL"
      },
      "source": [
        "lista.sort()\n",
        "print(lista)"
      ],
      "execution_count": null,
      "outputs": []
    },
    {
      "cell_type": "markdown",
      "metadata": {
        "id": "KfK27BLQw7bQ"
      },
      "source": [
        "También podemos realizar el ordenamiento de mayor a menor, usando la función con el argumento **`reverse = True`**.\n",
        "\n",
        "> **Nota**: este tipo de argumento se verá en profundidad en la siguiente unidad. De momento le importa saber que puede escribirlo para invertir el orden en el que se organiza la lista."
      ]
    },
    {
      "cell_type": "code",
      "metadata": {
        "id": "3d84O1d7xX_-"
      },
      "source": [
        "lista.sort(reverse = True)\n",
        "print(lista)"
      ],
      "execution_count": null,
      "outputs": []
    },
    {
      "cell_type": "markdown",
      "metadata": {
        "id": "l5SXYFXrxd7b"
      },
      "source": [
        "* **`clear()`**: este método permite simplemente **vaciar la lista** al eliminar todos sus elementos. Es útil en bucles en los que cada iteración requiere de una lista vacía.\n"
      ]
    },
    {
      "cell_type": "code",
      "metadata": {
        "id": "tIwZy56Gxyt3"
      },
      "source": [
        "lista.clear()\n",
        "\n",
        "print(lista)"
      ],
      "execution_count": null,
      "outputs": []
    },
    {
      "cell_type": "markdown",
      "metadata": {
        "id": "4FptvYYmygZO"
      },
      "source": [
        "* **`reverse()`**:  este método invierte por completo el orden de la lista. No se debe confundir con un troceado con paso negativo (con código como **`lista[::-1]`**) pues este último no modifica la lista."
      ]
    },
    {
      "cell_type": "code",
      "metadata": {
        "id": "a_6oY5HPzS14"
      },
      "source": [
        "lista = list(range(10))\n",
        "\n",
        "lista"
      ],
      "execution_count": null,
      "outputs": []
    },
    {
      "cell_type": "code",
      "metadata": {
        "id": "jlql-AwRznhY"
      },
      "source": [
        "# Usamos troceado con paso negativo.\n",
        "lista[::-1]"
      ],
      "execution_count": null,
      "outputs": []
    },
    {
      "cell_type": "code",
      "metadata": {
        "id": "1esOfySPzsRJ"
      },
      "source": [
        "# La lista original permanece intacta.\n",
        "lista"
      ],
      "execution_count": null,
      "outputs": []
    },
    {
      "cell_type": "code",
      "metadata": {
        "id": "uoaLZv52zvde"
      },
      "source": [
        "# Con 'reverse' la lista SÍ modifica su contenido.\n",
        "lista.reverse()\n",
        "\n",
        "print(lista)"
      ],
      "execution_count": null,
      "outputs": []
    },
    {
      "cell_type": "markdown",
      "metadata": {
        "id": "hiNf7g11x3dw"
      },
      "source": [
        "* **`index(elemento)`**: sin necesidad de modificar la lista ni explorar sus distintos elementos, podemos utilizar este método para encontrar el índice de la primera aparición de un elemento dado. Si el elemento no está en la lista se retorna un error de valor no encontrado o **`ValueError`**.\n"
      ]
    },
    {
      "cell_type": "code",
      "metadata": {
        "id": "esgUnzHQyVLH"
      },
      "source": [
        "lista = [5, 10, 15, 20, 25]\n",
        "\n",
        "lista.index(15)"
      ],
      "execution_count": null,
      "outputs": []
    },
    {
      "cell_type": "code",
      "metadata": {
        "id": "fJCzaCmAybHx"
      },
      "source": [
        "# El elemento no está en la lista.\n",
        "lista.index(30)"
      ],
      "execution_count": null,
      "outputs": []
    },
    {
      "cell_type": "markdown",
      "metadata": {
        "id": "fct2waBU2cRq"
      },
      "source": [
        "* **`count(elemento)`**: otra función importante es **`count`**, que permite determinar cuántas apariciones distintas tiene un elemento dado en la lista.\n"
      ]
    },
    {
      "cell_type": "code",
      "metadata": {
        "id": "GzlfYqzw3Bpe"
      },
      "source": [
        "# Creamos una lista con 100 repeticiones de un elemento.\n",
        "lista = ['Elemento']  * 100\n",
        "\n",
        "lista.count('Elemento')"
      ],
      "execution_count": null,
      "outputs": []
    },
    {
      "cell_type": "markdown",
      "metadata": {
        "id": "3FpMoaOH33sS"
      },
      "source": [
        "* **`max(lista)`** | **`min(lista)`**: Si bien no son métodos de un objeto de tipo lista, las funciones generales de _Python_ **`max`** y **`min`** de _Python_ son muy valiosas en muchos casos. Estas permiten identificar el valor máximo y mínimo de una lista, respectivamente. Para esto se realizan comparaciones con los operadores de mayor y menor, por lo que la operación está soportada para los tipos que permitan este tipo de operaciones, como las cadenas de texto."
      ]
    },
    {
      "cell_type": "code",
      "metadata": {
        "id": "zVZV6lNH4bbv"
      },
      "source": [
        "lista = list('ABCDEFGHIJKLMNOPQRSTUVWXYZ')\n",
        "\n",
        "max(lista)"
      ],
      "execution_count": null,
      "outputs": []
    },
    {
      "cell_type": "code",
      "metadata": {
        "id": "VgMKtZsv4qTm"
      },
      "source": [
        "min(lista)"
      ],
      "execution_count": null,
      "outputs": []
    },
    {
      "cell_type": "markdown",
      "metadata": {
        "id": "VnjY2Fs93aPF"
      },
      "source": [
        "> **Pregunta**: ¿Qué operación debería durar menos? ¿hay forma de saberlo?\n",
        "* Identificar si un elemento está en una lista.\n",
        "* Contar cuántas veces aparece un elemento en una lista.\n",
        "* Encontrar el valor máximo de una lista.\n",
        "\n",
        "<details>\n",
        "  <summary> <b>Respuesta</b> </summary>\n",
        "\n",
        "> Tanto la operación de conteo y de valor máximo requieren de realizar una comparación con **todos los valores** de una lista. De otro modo, no se puede afirmar que en los valores no revisados no existe un elemento que corresponde con alguno de esos criterios.\n",
        ">\n",
        "> Por otro lado, la operación de **encontrar** un elemento puede durar potencialmente menos tiempo. En el caso en que el elemento se encuentre en una de las primeras posiciones, el programa puede terminar (por ejemplo, con la sentencia **`break`**) pues ya se puede resolver la pregunta. Sin embargo, no podemos afirmar que este programa dura menos, pues en el **peor de los casos** el elemento no estará y también tendremos que revisar todos los elementos, dejandonos un coste computacional similar al de las otras dos operaciones, sin pensar en detalles específicos como el tipo de operación.\n",
        "\n",
        "\n",
        "</details>\n"
      ]
    },
    {
      "cell_type": "markdown",
      "metadata": {
        "id": "lutTXdt661fl"
      },
      "source": [
        "* **`copy()`**: este método retorna una copia del contenido de la lista. Este puede ser asignado a una variable distinta."
      ]
    },
    {
      "cell_type": "code",
      "metadata": {
        "id": "boPEzrcKIsMi"
      },
      "source": [
        "copia = [0, 1, 2].copy()\n",
        "\n",
        "copia"
      ],
      "execution_count": null,
      "outputs": []
    },
    {
      "cell_type": "markdown",
      "metadata": {
        "id": "BkhwaUwRI0ML"
      },
      "source": [
        "> **¿En qué se diferencia una copia creada de esta forma de una expresión como la siguiente?**\n",
        "\n",
        "```python\n",
        "copia = lista[:]\n",
        "```"
      ]
    },
    {
      "cell_type": "markdown",
      "metadata": {
        "id": "gDMweRFLHPqY"
      },
      "source": [
        "## **4. Referencias y apuntadores**\n",
        "---\n",
        "Si ejecutamos estas declaraciones de asignación:\n",
        "\n",
        "```python\n",
        "a = \"banana\"\n",
        "b = \"banana\"\n",
        "```\n",
        "\n",
        "sabemos que la variable **`a`** y la variable **`b`** se referirán a la cadena **`\"banana\"`**, que está almacenada en la memoria del computador. Sin embargo,  no sabemos si ambos **apuntan** a la misma cadena almacenada en el mismo sitio.\n",
        "\n",
        "Hay dos formas posibles en que el intérprete de _Python_ podría organizar sus estados internos:\n",
        "\n",
        "<center>\n",
        "<img src = \"https://drive.google.com/uc?export=view&id=1c0JXJ0PXHNxKtt7WeqKeCumWF3zLC-6R\" alt = \"Índice de listas\" width = \"30%\">  </img> </center>\n",
        "o también:\n",
        "\n",
        "<center>\n",
        "<img src = \"https://drive.google.com/uc?export=view&id=1j5YeDMyO73ykX-B-Vs9mUqmeBGrQB3-T\" alt = \"Índice de listas\" width = \"30%\">  </img> </center>\n",
        "\n",
        "En el primer caso,  **`a`** y **`b`** se refieren a dos cadenas diferentes que tienen el mismo valor. En el segundo caso, se **refieren** al **mismo objeto**. Un objeto es algo a lo que una variable puede referirse y está almacenado en la memoria del computador.\n",
        "\n",
        "Para determinar cuál de los dos escenarios se cumple podemos probar si los dos nombres se refieren al mismo objeto con el operador **`is`**. El operador **`is`** devolverá el valor _booleano_ verdadero si las dos referencias corresponden al mismo objeto.\n",
        "\n",
        "\n"
      ]
    },
    {
      "cell_type": "code",
      "metadata": {
        "id": "dfkrrEvMJOyj"
      },
      "source": [
        "a = \"banana\"\n",
        "b = \"banana\"\n",
        "\n",
        "print(a is b)"
      ],
      "execution_count": null,
      "outputs": []
    },
    {
      "cell_type": "markdown",
      "metadata": {
        "id": "2CXcutyDJOyj"
      },
      "source": [
        "La respuesta es **`True`**. Esto nos dice que tanto **`a`** como **`b`** se refieren al mismo objeto, lo que implica que el segundo diagrama de referencia es el que describe la relación. Dado que las cadenas no se pueden modificar, _Python_ puede optimizar los recursos haciendo que dos nombres que se refieren al mismo valor literal de cadena se refieran al mismo objeto.\n",
        "\n",
        "Este no es el caso de las listas. Considere el siguiente ejemplo:"
      ]
    },
    {
      "cell_type": "code",
      "metadata": {
        "cellView": "form",
        "id": "MAw36ZJdLfbw"
      },
      "source": [
        "#@markdown * **Ejecute esta celda para instalar _Python Tutor_.**\n",
        "!pip3 -q install tutormagic\n",
        "%load_ext tutormagic"
      ],
      "execution_count": null,
      "outputs": []
    },
    {
      "cell_type": "code",
      "metadata": {
        "id": "NyuTyx0CJOyj"
      },
      "source": [
        "%%tutor -s -h 400\n",
        "a = [81, 82, 83]\n",
        "b = [81, 82, 83]\n",
        "\n",
        "\n",
        "print(a is b)\n",
        "print(a == b)"
      ],
      "execution_count": null,
      "outputs": []
    },
    {
      "cell_type": "markdown",
      "metadata": {
        "id": "8fUxJJbFJOyk"
      },
      "source": [
        "Aquí,  **`a`** y **`b`** se refieren a dos listas diferentes, cada una de las cuales tiene los mismos valores de elementos. El diagrama de referencia para este ejemplo se ve así:\n",
        "\n",
        "\n",
        "\n",
        "\n",
        "\n",
        "<center>\n",
        "<img src = \"https://drive.google.com/uc?export=view&id=1hCDBl8qjdpLko0A2wT34_sZdt4FrPkiM\" alt = \"Índice de listas\" width = \"60%\">  </img> </center>\n",
        "\n",
        "Hay otra cosa importante a tener en cuenta sobre este diagrama de referencia: **la variable $a$ es una referencia a una lista de referencias**. Esas referencias realmente están asociadas a los valores enteros en la lista. En otras palabras, una lista es una colección de referencias a objetos.\n",
        "\n",
        "Curiosamente, aunque $a$ y $b$ son dos listas diferentes (dos colecciones de referencias diferentes), su contenido, con valores como $81$, es compartido por ambas. Al igual que las cadenas, los enteros tampoco son objetos modificables, por lo que _Python_ optimiza y permite que todos compartan el mismo objeto en forma de **valor literal**.\n",
        "\n",
        "> **¿Qué pasaría si dos variables apuntan al mismo objeto?**\n",
        "\n",
        "Dado que las variables también son referencias a objetos, si asignamos una variable a otra, se reasignará la **referencia**, y por tanto, ambas variables se referirían al mismo objeto:"
      ]
    },
    {
      "cell_type": "code",
      "metadata": {
        "cellView": "form",
        "id": "v4zZhe2KLf_8"
      },
      "source": [
        "#@markdown * **Ejecute esta celda para instalar _Python Tutor_.**\n",
        "!pip3 -q install tutormagic\n",
        "%load_ext tutormagic"
      ],
      "execution_count": null,
      "outputs": []
    },
    {
      "cell_type": "code",
      "metadata": {
        "id": "1yguOlH0JOyk"
      },
      "source": [
        "%%tutor -s\n",
        "\n",
        "a = [81, 82, 83]\n",
        "b = a\n",
        "\n",
        "print(a is b)"
      ],
      "execution_count": null,
      "outputs": []
    },
    {
      "cell_type": "markdown",
      "metadata": {
        "id": "Mn4QenvqJOyk"
      },
      "source": [
        "Como puede ver en la representación de las listas en los últimos dos ejemplos de _Python Tutor_, el diagrama de referencia de este escenario se ve así:\n",
        "\n",
        "<center>\n",
        "<img src = \"https://drive.google.com/uc?export=view&id=1k_8GdRrZ6b0b96ebXct64va8SvvMIeUr\" alt = \"Índice de listas\" width = \"60%\">  </img> </center>\n",
        "\n",
        "\n",
        "Debido a que la misma lista tiene dos nombres diferentes, $a$ y $b$, decimos que tiene un **alias**. **Los cambios realizados con un alias afectan al otro.**\n",
        "\n",
        "En el ejemplo de código descrito a continuación, puede ver que $a$ y $b$ se refieren a la misma lista después de ejecutar la instrucción de asignación **`b = a`**."
      ]
    },
    {
      "cell_type": "code",
      "metadata": {
        "cellView": "form",
        "id": "XbSlKJCpL-wh"
      },
      "source": [
        "#@markdown * **Ejecute esta celda para instalar _Python Tutor_.**\n",
        "!pip3 -q install tutormagic\n",
        "%load_ext tutormagic"
      ],
      "execution_count": null,
      "outputs": []
    },
    {
      "cell_type": "code",
      "metadata": {
        "id": "YPrZS1EqJOyl"
      },
      "source": [
        "%%tutor -s -h 500\n",
        "\n",
        "a = [81, 82, 83]\n",
        "b = a\n",
        "print(a is b)\n",
        "\n",
        "print(a)\n",
        "print(b)\n",
        "\n",
        "a[1] = \"wow\"\n",
        "\n",
        "print(a)\n",
        "print(b)"
      ],
      "execution_count": null,
      "outputs": []
    },
    {
      "cell_type": "markdown",
      "metadata": {
        "id": "JAzY-u5VJOyl"
      },
      "source": [
        "Si queremos modificar una lista y también conservar una copia del original, necesitamos poder hacer una copia de la lista en sí y no solo de la referencia.\n",
        "Este proceso, posible con el método **`copy`**, a veces se denomina **clonación** (para evitar la ambigüedad de la palabra **copia**).\n",
        "\n",
        "La forma más fácil de clonar una lista es usar la sintaxis de troceado para obtener una sub-lista completa clonada. Recuerde que estas operaciones de acceso generan un objeto distinto al original y no una referencia al mismo espacio de memoria."
      ]
    },
    {
      "cell_type": "code",
      "metadata": {
        "cellView": "form",
        "id": "QCzqBzEMMvkA"
      },
      "source": [
        "#@markdown * **Ejecute esta celda para instalar _Python Tutor_.**\n",
        "!pip3 -q install tutormagic\n",
        "%load_ext tutormagic"
      ],
      "execution_count": null,
      "outputs": []
    },
    {
      "cell_type": "code",
      "metadata": {
        "id": "C7tNYAfkJOyl"
      },
      "source": [
        "%%tutor -s -h 500\n",
        "\n",
        "a = [81, 82, 83]\n",
        "b = a[:]\n",
        "print(a is b)\n",
        "\n",
        "print(a)\n",
        "print(b)\n",
        "\n",
        "a[1] = \"wow\"\n",
        "\n",
        "print(a)\n",
        "print(b)"
      ],
      "execution_count": null,
      "outputs": []
    },
    {
      "cell_type": "markdown",
      "metadata": {
        "id": "2gYWiSS9JOyl"
      },
      "source": [
        "Como una lista puede tener listas anidadas, podemos acceder así:"
      ]
    },
    {
      "cell_type": "code",
      "metadata": {
        "cellView": "form",
        "id": "w-02wJWxM6Zo"
      },
      "source": [
        "#@markdown * **Ejecute esta celda para instalar _Python Tutor_.**\n",
        "!pip3 -q install tutormagic\n",
        "%load_ext tutormagic"
      ],
      "execution_count": null,
      "outputs": []
    },
    {
      "cell_type": "code",
      "metadata": {
        "id": "CvdBOwn9JOyl"
      },
      "source": [
        "%%tutor -s -h 500\n",
        "\n",
        "a = [[10, 11, 12], [20, 21, 22], [30, 31, 32]]\n",
        "b = a[0]\n",
        "\n",
        "print(a[0])\n",
        "print(a[0][2])\n",
        "\n",
        "print(b)\n",
        "print(b[2])"
      ],
      "execution_count": null,
      "outputs": []
    },
    {
      "cell_type": "markdown",
      "metadata": {
        "id": "5zFyCzQ-JOym"
      },
      "source": [
        "Cuando se clona una lista, no se clonan las listas internas, pues la clonación solo realiza una copia del contenido, que puede ser una referencia a un objeto, como por ejemplo una lista.\n",
        "\n",
        "El siguiente código ilustra lo que pasa con las listas internas. Preste especial atención a la representación de las variables y distinga cuándo se contiene un valor y cuándo se contiene una referencia a otro objeto."
      ]
    },
    {
      "cell_type": "code",
      "metadata": {
        "cellView": "form",
        "id": "h9UIJdwNNGX9"
      },
      "source": [
        "#@markdown * **Ejecute esta celda para instalar _Python Tutor_.**\n",
        "!pip3 -q install tutormagic\n",
        "%load_ext tutormagic"
      ],
      "execution_count": null,
      "outputs": []
    },
    {
      "cell_type": "code",
      "metadata": {
        "id": "NoJNEfbmJOym"
      },
      "source": [
        "%%tutor -s -h 500\n",
        "\n",
        "a = [list(range(3))] * 3\n",
        "print(a)\n",
        "\n",
        "b = a\n",
        "c = a[:]\n",
        "\n",
        "b[1] = 10\n",
        "c[2] = 20\n",
        "c[0][1] = 30\n",
        "\n",
        "print(a)"
      ],
      "execution_count": null,
      "outputs": []
    },
    {
      "cell_type": "markdown",
      "metadata": {
        "id": "Z2w2KgrOPvQ1"
      },
      "source": [
        "## **5. Tuplas**\n",
        "---\n",
        "Hasta ahora, hemos visto dos tipos de colecciones secuenciales: las cadenas de texto, que se componen de caracteres; y listas, que se componen de elementos de cualquier tipo.\n",
        "\n",
        "Una de las diferencias que notamos es que los elementos de una lista pueden modificarse, mientras que los caracteres de una cadena no."
      ]
    },
    {
      "cell_type": "code",
      "metadata": {
        "id": "dUBOs06eOTDn"
      },
      "source": [
        "cadena = \"Python 2\"\n",
        "\n",
        "cadena[-1] = '3'"
      ],
      "execution_count": null,
      "outputs": []
    },
    {
      "cell_type": "markdown",
      "metadata": {
        "id": "raCgCpbVOShA"
      },
      "source": [
        "En otras palabras, las cadenas de texto son **inmutables** y las listas son **mutables**.\n",
        "\n",
        "Una **tupla**, es una secuencia de elementos de cualquier tipo, muy similar a la **lista**, pero con la característica de la **inmutabilidad**. Las tuplas y las listas comparte muchas de las funcionalidades que no modifican su contenido, como las operaciones de acceso y el uso de operadores.\n",
        "\n",
        "<center>\n",
        "<img src = \"https://drive.google.com/uc?export=view&id=1N8_ZSvNsf2GjMaLC9lsGBNTfF6AUQOo7\" alt = \"Índice de listas\" width = \"60%\">  </img> </center>\n",
        "\n",
        "\n",
        "\n",
        "En _Python_, podemos crear tuplas directamente como una secuencia de valores separados por comas **`,`**. Aunque no es necesario, es común encerrar las tuplas en **paréntesis** **`(`** y **`)`**.\n",
        "\n",
        "\n",
        "```python\n",
        "# Regla de escritura de tuplas en Python.\n",
        "a, b, c, d\n",
        "(a, b, c, d)\n",
        "```\n",
        "\n",
        "Veamos un ejemplo:\n"
      ]
    },
    {
      "cell_type": "code",
      "metadata": {
        "id": "Y6iwPk7WOl-R"
      },
      "source": [
        "tupla = 0, 'Cero', False\n",
        "\n",
        "tupla"
      ],
      "execution_count": null,
      "outputs": []
    },
    {
      "cell_type": "markdown",
      "metadata": {
        "id": "Ep0Z0r9BRuuD"
      },
      "source": [
        "Este objeto es de tipo **`tuple`** y al igual que las listas puede usarse dentro de cualquier expresión."
      ]
    },
    {
      "cell_type": "code",
      "metadata": {
        "id": "iunvpE4bRymF"
      },
      "source": [
        "type(tupla)"
      ],
      "execution_count": null,
      "outputs": []
    },
    {
      "cell_type": "markdown",
      "metadata": {
        "id": "NqianhuM-_69"
      },
      "source": [
        "> **¿cómo podemos crear una tupla vacía o una tupla de un solo elemento?**\n",
        "\n",
        "Para definir una tupla vacía debemos usar obligatoriamente los paréntesis, sin elementos ni comas dentro, o usar la función constructora **`tuple`** sin argumentos.  "
      ]
    },
    {
      "cell_type": "code",
      "metadata": {
        "id": "ny8nqq5I_JMY"
      },
      "source": [
        "t = ()\n",
        "\n",
        "type(t)"
      ],
      "execution_count": null,
      "outputs": []
    },
    {
      "cell_type": "code",
      "metadata": {
        "id": "BfQc_jj7_yJ7"
      },
      "source": [
        "# Con la función tuple()\n",
        "t = tuple()\n",
        "\n",
        "t"
      ],
      "execution_count": null,
      "outputs": []
    },
    {
      "cell_type": "markdown",
      "metadata": {
        "id": "4ugyoop__e4h"
      },
      "source": [
        "Por otro lado, para crear tuplas de $1$ elemento tenemos que definir una coma al final de nuestra única expresión."
      ]
    },
    {
      "cell_type": "code",
      "metadata": {
        "id": "HMJeVl-y_mse"
      },
      "source": [
        "# Sin la coma se interpreta como un valor normal\n",
        "t = ('tupla')\n",
        "\n",
        "type(t)"
      ],
      "execution_count": null,
      "outputs": []
    },
    {
      "cell_type": "code",
      "metadata": {
        "id": "Vh3lJ4A__tXP"
      },
      "source": [
        "# Con la coma se interpreta como una tupla de 1 elemento.\n",
        "t = ('tupla', )\n",
        "\n",
        "type(t)"
      ],
      "execution_count": null,
      "outputs": []
    },
    {
      "cell_type": "markdown",
      "metadata": {
        "id": "SDhTAPQYPvRB"
      },
      "source": [
        "Las tuplas son útiles, entre otras cosas, para representar **registros**. Estos son fragmentos de información relacionada, como el registro que representa una pelicula, actor o director y toda su información correspondiente en una base de datos de películas. Las tuplas nos permiten juntar información relacionada y utilizarla como una sola cosa, sin el riesgo de la modificación de alguno de sus valores.\n",
        "\n",
        "Como mencionamos antes, las tuplas admiten las mismas operaciones de secuencia que las cadenas de caracteres y las listas. Por ejemplo, se puede iterar una tupla con una sentencia **`for`**:"
      ]
    },
    {
      "cell_type": "code",
      "metadata": {
        "id": "7GaC6r0MPvRB"
      },
      "source": [
        "for item in tupla:\n",
        "  print(item)"
      ],
      "execution_count": null,
      "outputs": []
    },
    {
      "cell_type": "markdown",
      "metadata": {
        "id": "yk5N6SMyPvRB"
      },
      "source": [
        "Al igual que con las cadenas, si intentamos usar la asignación de elementos para modificar uno de los elementos de la tupla, obtenemos un **error de tipo** o **`TypeError`**:"
      ]
    },
    {
      "cell_type": "code",
      "metadata": {
        "id": "Skanqpg4PvRC"
      },
      "source": [
        "tupla[0] = 'X'"
      ],
      "execution_count": null,
      "outputs": []
    },
    {
      "cell_type": "markdown",
      "metadata": {
        "id": "YWom1dk6YDo8"
      },
      "source": [
        "Si bien las tuplas son datos inmutables, se puede **reasignar una variable** con una **tupla nueva** que contenga información diferente, como con las cadenas de texto. Para construir la tupla nueva, es conveniente que podamos reutilizar partes de la tupla original. Al realizar operaciones como la concatenación se genera una tupla nueva y no se modifican los objetos originales.\n",
        "\n",
        "\n",
        "\n",
        "\n",
        "\n",
        "<center>\n",
        "<img src = \"https://drive.google.com/uc?export=view&id=1DqjTH1syVYy_oQeWS7KFg-ucGFGULe4M\" alt = \"Índice de listas\" width = \"70%\">  </img> </center>\n",
        "\n",
        "\n",
        "\n",
        "\n",
        "\n",
        "De esta manera podríamos **modificar** una variable que contenga una tupla, más no la tupla en sí misma.\n",
        "\n",
        "\n",
        "\n",
        "\n",
        "\n",
        "\n"
      ]
    },
    {
      "cell_type": "code",
      "metadata": {
        "id": "hkBky0WNPvRC"
      },
      "source": [
        "# Declaramos la tupla inicial.\n",
        "tupla = 0, 'Cero', False\n",
        "\n",
        "# Resasignamos con el resultado de la operación.\n",
        "tupla = tupla + (1, 'Uno')\n",
        "\n",
        "print(tupla)"
      ],
      "execution_count": null,
      "outputs": []
    },
    {
      "cell_type": "markdown",
      "metadata": {
        "id": "PexJgjjXPvRC"
      },
      "source": [
        "### **5.1. Desempaquetado de tuplas**\n",
        "---\n",
        "En _Python_ las tuplas son más que una secuencia normal. De hecho, son la base de una poderosa función de **asignación de tuplas** que permite que se asignen **múltiples valores** en una sola declaración.\n",
        "\n",
        "Esta función, conocida comúnmente como **desempaquetado de tuplas**, implica el uso de una **tupla de variables** en la parte izquierda y un **iterable, como una tupla o una lista, del mismo tamaño con valores** en la parte derecha de una asignación."
      ]
    },
    {
      "cell_type": "code",
      "metadata": {
        "cellView": "form",
        "id": "qZu1xeFPUNFO"
      },
      "source": [
        "#@markdown * **Ejecute esta celda para instalar _Python Tutor_.**\n",
        "!pip3 -q install tutormagic\n",
        "%load_ext tutormagic"
      ],
      "execution_count": null,
      "outputs": []
    },
    {
      "cell_type": "code",
      "metadata": {
        "id": "dy4eNywoPvRC"
      },
      "source": [
        "%%tutor -s -h 500\n",
        "tupla = 1, 2, 3\n",
        "a, b, c = tupla\n",
        "\n",
        "print(a)\n",
        "print(b)\n",
        "print(c)"
      ],
      "execution_count": null,
      "outputs": []
    },
    {
      "cell_type": "markdown",
      "metadata": {
        "id": "FuCzEDbTPvRD"
      },
      "source": [
        "En ocasiones, es útil intercambiar los valores de dos variables. Con las declaraciones de asignación convencionales, tenemos que usar una **variable auxiliar temporal**. Por ejemplo, para intercambiar $a$ y $b$:"
      ]
    },
    {
      "cell_type": "markdown",
      "metadata": {
        "id": "5Er53EVVPvRD"
      },
      "source": [
        "* De la forma tradicional. Si asignaramos uno de los valores directamente, el valor del otro sería reemplazado y no se podría recuperar, a menos de que fuera guardado en un sitio temporal."
      ]
    },
    {
      "cell_type": "code",
      "metadata": {
        "id": "KpaNl3f6PvRD"
      },
      "source": [
        "%%tutor --s -h 500\n",
        "a, b = 'Alice', 'Bob'\n",
        "\n",
        "temp = b\n",
        "b = a\n",
        "a = temp\n",
        "\n",
        "print(a, b)"
      ],
      "execution_count": null,
      "outputs": []
    },
    {
      "cell_type": "markdown",
      "metadata": {
        "id": "GyziK5N6PvRD"
      },
      "source": [
        "Con desempaquetado de tuplas las asignaciones se realizan de manera simultanea, por lo que no es necesario utilizar una variable adicional. Esto es útil, por ejemplo, para intercambiar el valor de dos variables sin usar una tercea variable auxiliar"
      ]
    },
    {
      "cell_type": "code",
      "metadata": {
        "id": "oFcyq8h4PvRE"
      },
      "source": [
        "%%tutor --s -h 500\n",
        "\n",
        "a, b = 10, -100\n",
        "\n",
        "a, b = b, a\n",
        "print(a, b)"
      ],
      "execution_count": null,
      "outputs": []
    },
    {
      "cell_type": "markdown",
      "metadata": {
        "id": "cbaMGgLpVPf-"
      },
      "source": [
        "Continuando con el ejemplo anterior, podemos darle significado a los valores de una tupla que represente un registro de una base de datos del elenco de peliculas, asignando una variable a cada uno de sus elementos:"
      ]
    },
    {
      "cell_type": "code",
      "metadata": {
        "id": "wskdMqeGPvRA"
      },
      "source": [
        "# Creamos una tupla que representa un registro de una base de datos de registras.\n",
        "registro = (\"Julia\", \"Roberts\", 1967, \"Duplicity\", 2009, \"Actress\", \"Atlanta, Georgia\")\n",
        "print(registro)"
      ],
      "execution_count": null,
      "outputs": []
    },
    {
      "cell_type": "code",
      "metadata": {
        "id": "mIzOK0gSUTrC"
      },
      "source": [
        "nombre, apellido, nacimiento, pelicula, pelicula_año, profesion, lugar_nacimiento = registro\n",
        "\n",
        "print(nombre)\n",
        "print(nacimiento)\n",
        "print(pelicula)\n",
        "print(pelicula_año)\n",
        "print(profesion)"
      ],
      "execution_count": null,
      "outputs": []
    },
    {
      "cell_type": "markdown",
      "metadata": {
        "id": "oGLOkzZGPvRD"
      },
      "source": [
        "Esto es equivalente a realizar siete sentencias de asignación en una única línea. Por ejemplo, podemos utilizar la función **`split()`** con la entrada del programa y desempaquetar los valores de la lista obtenida en varias variables."
      ]
    },
    {
      "cell_type": "code",
      "metadata": {
        "id": "P77W7kELaWtH"
      },
      "source": [
        "# Ingrese una cadena como \"Hello world\"\n",
        "a, b = input(\"Ingrese dos palabras separadas por espacio: \").split()\n",
        "\n",
        "print(a)\n",
        "print(b)"
      ],
      "execution_count": null,
      "outputs": []
    },
    {
      "cell_type": "markdown",
      "metadata": {
        "id": "cOV9BPBVZ0n-"
      },
      "source": [
        "Si la celda anterior le generó un error probablemente se trate de una inconsistencia en la cantidad de variables y valores. Un requisito para la correcta ejecución es que el número de variables a la izquierda debe coincidir con el número de elementos en la tupla (aunque también se puede con listas y otras colecciones). De lo contrario, se producirá un **error de valor** o **`ValueError`**:"
      ]
    },
    {
      "cell_type": "code",
      "metadata": {
        "id": "HvGitGnmVcMp"
      },
      "source": [
        "# Más valores que variables.\n",
        "a, b = 'A', 'B', 'C'"
      ],
      "execution_count": null,
      "outputs": []
    },
    {
      "cell_type": "code",
      "metadata": {
        "id": "B37j9z5bVusX"
      },
      "source": [
        "# Más variables que valores.\n",
        "a, b, c = 'A', 'B'"
      ],
      "execution_count": null,
      "outputs": []
    },
    {
      "cell_type": "markdown",
      "metadata": {
        "id": "kN3QJDrCPvRE"
      },
      "source": [
        "> **¿Qué hacemos si obtenemos una tupla con un tamaño indefinido pero solo nos interesa una porción de los valores?**\n",
        "\n",
        "Una alternativa es utilizar como última variable de la tupla una variable que tome como valor todos los elementos restantes. Este tipo de variable se especifica con un asterisco como prefijo (**`*d`**), indicando que el resultado es una lista en vez de un valor:"
      ]
    },
    {
      "cell_type": "code",
      "metadata": {
        "id": "bXmDgc0NPvRE"
      },
      "source": [
        "(a, b, c, *d) = (1, 2, 3, 4, 5, 6)\n",
        "print(a, b, c)\n",
        "print(d)"
      ],
      "execution_count": null,
      "outputs": []
    },
    {
      "cell_type": "markdown",
      "metadata": {
        "id": "lvp3l2Sjb9ZW"
      },
      "source": [
        "### **5.2. Iterar sobre colecciones de tuplas**\n",
        "---\n",
        "El desempaquetado de tuplas es válido en cualquier expresión que pueda esperar una tupla. Por ejemplo, en las sentencias **`for`** el valor de cada ciclo puede ser una tupla si iteramos sobre una colección de tuplas. Para finalizar, vamos a ver dos funciones muy importantes que retornan colecciones de tuplas usadas para crear **iterables** especiales.\n",
        "\n",
        "* **`enumerate(iterable)`**: esta función de _Python_ permite tomar un iterable y generar un iterable de **tuplas** que tome cada elemento y retorne una tupla con dos valores: su **índice** y su **valor**.\n",
        "\n",
        "\n",
        "<center>\n",
        "<img src = \"https://drive.google.com/uc?export=view&id=1vWdz3e_c9qntbiDjulVw7iTy3RdZzmbC\" alt = \"Índice de listas\" width = \"60%\">  </img> </center>\n",
        "\n",
        "\n",
        "</br>"
      ]
    },
    {
      "cell_type": "code",
      "metadata": {
        "id": "eA2kyGM2o6JX"
      },
      "source": [
        "lista = ['Uno', 'Dos', 'Tres']\n",
        "\n",
        "for tupla in enumerate(lista):\n",
        "  print(tupla)"
      ],
      "execution_count": null,
      "outputs": []
    },
    {
      "cell_type": "markdown",
      "metadata": {
        "id": "l4CZupYTpCF-"
      },
      "source": [
        "Podemos utilizar **desempaquetado de tuplas** directamente en la sentencia **`for`** e iterar sobre los valores. En este caso, podríamos reemplazar **`tupla`** por **`ind, val`** o el nombre que queramos. Veamos un ejemplo con _Python Tutor_ :"
      ]
    },
    {
      "cell_type": "code",
      "metadata": {
        "id": "CkKLRkkUcK70"
      },
      "source": [
        "%%tutor -s -h 500\n",
        "lista = list('ABC')\n",
        "\n",
        "# Iteración de índice y valor tradicional.\n",
        "print('Con range')\n",
        "for i in range(len(lista)): # Iteramos sobre el rango de índices.\n",
        "  valor = lista[i]   # Usamos el  índice para acceder al elemento.\n",
        "  print(f'Índice:\\t {i}, Valor:\\t {valor}')\n",
        "\n",
        "\n",
        "# Equivalente con enumerate.\n",
        "print('Con enumerate')\n",
        "for i, valor in enumerate(lista):\n",
        "  print(f'Índice:\\t {i}, Valor:\\t {valor}')"
      ],
      "execution_count": null,
      "outputs": []
    },
    {
      "cell_type": "markdown",
      "metadata": {
        "id": "oE03PcUmpbkW"
      },
      "source": [
        "* **`zip(*iterables)`**: esta función de _Python_ permite tomar $2$ o más iterables como argumento y emparejar sus valores, generando una tupla con el valor que iteraríamos en cada momento. Esto es muy util para realizar operaciones entre los valores de dos colecciones, o para unir los valores en una tabla.\n",
        "\n",
        "<center>\n",
        "<img src = \"https://drive.google.com/uc?export=view&id=1fWZ2ghaxzm_Vl32s8o3ddNDQnTZJXrUO\" width = \"60%\">  </img>\n",
        "</center>\n",
        "\n",
        "</br>"
      ]
    },
    {
      "cell_type": "code",
      "metadata": {
        "id": "848diskqiAGX"
      },
      "source": [
        "for tupla in zip('ABC', 'abc'):  # Podemos utilizar cualquier iterable.\n",
        "  print(tupla)"
      ],
      "execution_count": null,
      "outputs": []
    },
    {
      "cell_type": "code",
      "metadata": {
        "id": "Ar73KHgNrmG1"
      },
      "source": [
        "%%tutor -s -h 500\n",
        "A = [0, 1, 2]\n",
        "B = [3, 4, 5]\n",
        "C = [6, 7, 8]\n",
        "\n",
        "# Iteración de índice y valores tradicional.\n",
        "print('Con range')\n",
        "for i in range(3):  # Iteramos sobre el rango de índices.\n",
        "  a = A[i]   # Usamos el índice para acceder a cada elemento.\n",
        "  b = B[i]\n",
        "  c = C[i]\n",
        "\n",
        "  print(f'Índice:\\t {i}, Valores:\\t {a}, {b}, {c}')\n",
        "\n",
        "\n",
        "# Equivalente con zip.\n",
        "print('Con zip')\n",
        "for a, b, c in zip(A, B, C):\n",
        "  print(f'Índice:\\t {i}, Valores:\\t {a}, {b}, {c}')"
      ],
      "execution_count": null,
      "outputs": []
    },
    {
      "cell_type": "markdown",
      "metadata": {
        "id": "EFjI_2EnuprP"
      },
      "source": [
        "Incluso podemos aprovechar el desempaquetado en la creación de **listas por comprensión**. Veamos un ejemplo:"
      ]
    },
    {
      "cell_type": "code",
      "metadata": {
        "id": "gPwqNEs9uv1f"
      },
      "source": [
        "[a + b for a, b in zip('ABC', 'DEF')]"
      ],
      "execution_count": null,
      "outputs": []
    },
    {
      "cell_type": "markdown",
      "metadata": {
        "id": "DB_GPl1ou_YI"
      },
      "source": [
        "## **Referencias**\n",
        "---\n",
        "Este material fue tomado y adaptado del libro _How to Think Like a Computer Scientist: Learning with Python 3_, capítulo 11 (versión en inglés) y  8 (versión en español).\n",
        "\n",
        " > _Copyright (C) Brad Miller, David Ranum, Jeffrey Elkner, Peter Wentworth, Allen B. Downey, Chris\n",
        "Meyers, and Dario Mitchell. Permission is granted to copy, distribute\n",
        "and/or modify this document under the terms of the GNU Free Documentation\n",
        "License, Version 1.3 or any later version published by the Free Software\n",
        "Foundation; with Invariant Sections being Forward, Prefaces, and\n",
        "Contributor List, no Front-Cover Texts, and no Back-Cover Texts. A copy of\n",
        "the license is included in the section entitled “GNU Free Documentation\n",
        "License”_\n",
        "\n",
        "*   [P. Wentworth, J. Elkner, A.B. Downey, C. Meyers - How to Think Like a Computer\n",
        "Scientist: Learning with Python 3\n",
        "Documentation (3rd Edition)](http://www.ict.ru.ac.za/Resources/cspw/thinkcspy3/thinkcspy3.pdf)\n",
        "*   [How to Think Like a Computer Scientist: Interactive Edition](http://interactivepython.org/courselib/static/thinkcspy/index.html)\n",
        "*   [Aprenda a Pensar Como un Programador\n",
        "con Python\n",
        " (español)](https://argentinaenpython.com/quiero-aprender-python/aprenda-a-pensar-como-un-programador-con-python.pdf)\n"
      ]
    },
    {
      "cell_type": "markdown",
      "metadata": {
        "id": "4r5hSQAz6d-g"
      },
      "source": [
        "## **Recursos adicionales**\n",
        "---\n",
        "\n",
        "En esta sección encontrará material adicional para reforzar los temas y conceptos discutidos:\n",
        "\n",
        "* [*Python* 3: documentación oficial.](https://docs.python.org/3/)\n",
        "* [_Python_ - Tutorial de _Python_ (Español)](https://docs.python.org/es/3.7/tutorial/)\n"
      ]
    },
    {
      "cell_type": "markdown",
      "metadata": {
        "id": "uJLF2Soq64YL"
      },
      "source": [
        "## **Créditos**\n",
        "---\n",
        "\n",
        "* **Profesores:**\n",
        "  * [Felipe Restrepo Calle, PhD](https://dis.unal.edu.co/~ferestrepoca/)\n",
        "  * [Fabio Augusto González, PhD](https://dis.unal.edu.co/~fgonza/)\n",
        "  * [Jorge Eliecer Camargo, PhD](https://dis.unal.edu.co/~jecamargom/)\n",
        "* **Asistentes docentes:**\n",
        "  - Alberto Nicolai Romero Martínez\n",
        "  - Edder Hernández Forero\n",
        "\n",
        "**Universidad Nacional de Colombia** - *Facultad de Ingeniería*"
      ]
    }
  ]
}