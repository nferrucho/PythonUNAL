{
  "nbformat": 4,
  "nbformat_minor": 0,
  "metadata": {
    "colab": {
      "private_outputs": true,
      "provenance": [],
      "toc_visible": true,
      "include_colab_link": true
    },
    "kernelspec": {
      "name": "python3",
      "display_name": "Python 3"
    },
    "language_info": {
      "name": "python"
    }
  },
  "cells": [
    {
      "cell_type": "markdown",
      "metadata": {
        "id": "view-in-github",
        "colab_type": "text"
      },
      "source": [
        "<a href=\"https://colab.research.google.com/github/nferrucho/PythonUNAL/blob/main/Copia_de_NBK_3_2_Colecciones_no_ordenadas.ipynb\" target=\"_parent\"><img src=\"https://colab.research.google.com/assets/colab-badge.svg\" alt=\"Open In Colab\"/></a>"
      ]
    },
    {
      "cell_type": "markdown",
      "source": [
        "<img src = \"https://drive.google.com/uc?export=view&id=15valhk8csdphKsJ6VGL57wAmw-bCsxL-\" alt = \"Si no puede ver este encabezado le recomendamos que utilice un navegador distinto. Los navegadores probados son Google Chrome, Opera y Microsoft Edge.\" width = \"80%\">  </img>"
      ],
      "metadata": {
        "id": "QGZGmAghRRfW"
      }
    },
    {
      "cell_type": "markdown",
      "metadata": {
        "id": "qCo5PrkGaT7t"
      },
      "source": [
        "# **Colecciones no ordenadas de datos con _Python_**\n",
        "---\n",
        "¡Le damos la bienvenida a la tercera unidad del módulo de **Introducción a la programación con _Python_**!\n",
        "\n",
        "En este segundo material se discutirá la necesidad de plantear estrategias para la creación, consulta y manejo de estructuras con múltiples datos en los que el orden no importa, y en particular, de las colecciones de datos no ordenadas disponibles por defecto en _Python_."
      ]
    },
    {
      "cell_type": "markdown",
      "metadata": {
        "id": "2bTnAdrVyEyl"
      },
      "source": [
        "## **1.  Colecciones no ordenadas**\n",
        "---\n",
        "\n",
        "En la mayoría de los casos es suficiente con disponer de nuestros datos de manera ordenada y usar su posición para identificar y acceder a sus elementos. Sin embargo, es frecuente encontrar tareas en los que se necesite una forma distinta de identificación de los elementos de una colección que no corresponda con una posición, o donde no sea importante considerar un orden para los datos.\n",
        "\n",
        "Por ejemplo, en una aplicación con carrito de compras y opción de búsqueda de productos lo ideal sería poder identificar los productos por características que los identifiquen como su nombre, para acceder rápidamente y actualizar su valor.\n",
        "\n",
        "</br>\n",
        "\n",
        "<center>\n",
        "<img src = \"https://drive.google.com/uc?export=view&id=19S5EEvVQZbNO81CFvJ6_tDd6OWabKEQb\" alt = \"Encabezado MLDS\" width = \"30%\">  </img> </center>\n",
        "\n",
        "\n",
        "Si bien podría representarse este tipo de colección con una lista, surgen algunos problemas que podrían afectar el desempeño de nuestro programa. Si partimos de un nombre del producto y tenemos que encontrar el elemento correspondiente en una lista, tenemos que revisar **todo el contenido** en el peor de los casos (cuando esté en el último lugar). Es por esto que en computación se han planteado estructuras y algoritmos para permitir el acceso e identificación de elementos a partir de otros tipos de datos y para optimizar algunas operaciones para escenarios concretos.\n",
        "\n",
        "En este material discutiremos las **colecciones no ordenadas** de _Python_, al igual que sus operaciones y reglas  de escritura.\n"
      ]
    },
    {
      "cell_type": "markdown",
      "metadata": {
        "id": "BjZ2aH2AKr57"
      },
      "source": [
        "## **2. Diccionarios**\n",
        "---\n",
        "\n",
        "Los colecciones que se han visto hasta ahora (cadenas, listas y tuplas) usan enteros para identificar a sus elementos en forma de **índices**. En estas colecciones los elementos están ubicados en una **posición determinada** y así se accede a sus valores.\n",
        "\n",
        "Si intentamos usar cualquier otro tipo como índice se provocará un error.\n",
        "\n"
      ]
    },
    {
      "cell_type": "code",
      "metadata": {
        "id": "xdCzprkSTFdj"
      },
      "source": [
        "lista = [0, 1, 2]\n",
        "\n",
        "lista['0']          # Esta evaluación produciría un error."
      ],
      "execution_count": null,
      "outputs": []
    },
    {
      "cell_type": "markdown",
      "metadata": {
        "id": "Jsx5w31WTE4r"
      },
      "source": [
        "Para identificar múltiples elementos a partir de otro tipo de valores tenemos que realizar un **mapa** que nos permita conectar un identificador a un valor concreto. En este sentido _Python_ dispone de los **diccionarios**, un tipo de colección especial que puede contener elementos representados a partir del mapeo de **claves** a los **valores** a los que se asocian, tal como en un diccionario como el de la lengua española asocia palabras (claves) a sus significados (valores).\n",
        "\n",
        "\n",
        "</br>\n",
        "\n",
        "<center>\n",
        "<img src = \"https://drive.google.com/uc?export=view&id=1vPdyu02zgzLdqFWdCc5Ki1JowrfHo6DK\" width = \"50%\">  </img>\n",
        "</center>\n",
        "\n",
        "</br>\n",
        "\n",
        "\n",
        "\n",
        "Para crear diccionarios en _Python_ usamos una sintaxis especial delimitada por **llaves curvadas** (**`{`** y **`}`**). Dentro de ellas, se expresan parejas, separadas por comas, de **clave y valor**, separadas por el símbolo de dos puntos **`:`** de la siguiente forma:\n",
        "\n",
        "\n",
        "```python\n",
        "# Se puede escribir en varias líneas hasta el separador } final.\n",
        "{\n",
        "  clave_1 : valor_1,\n",
        "  clave_2 : valor_2,\n",
        "  clave_3 : valor_3\n",
        "}\n",
        "```"
      ]
    },
    {
      "cell_type": "markdown",
      "metadata": {
        "id": "EYnq07_xX0am"
      },
      "source": [
        "Como ejemplo, crearemos un diccionario para traducir las palabras en inglés al español. Para este diccionario, las claves son cadenas (palabras en Inglés) y los valores también serán cadenas (palabreas en Español).\n"
      ]
    },
    {
      "cell_type": "code",
      "metadata": {
        "cellView": "form",
        "id": "4NbWC23flnnX"
      },
      "source": [
        "#@markdown * **Ejecute esta celda para instalar _Python Tutor_.**\n",
        "!pip3 -q install tutormagic\n",
        "%load_ext tutormagic"
      ],
      "execution_count": null,
      "outputs": []
    },
    {
      "cell_type": "code",
      "metadata": {
        "id": "P6tA-RWpKr6J"
      },
      "source": [
        "%%tutor -s -h 500\n",
        "\n",
        "eng2sp = {\n",
        "    'one': 'uno',\n",
        "    'two': 'dos',\n",
        "    'three': 'tres',\n",
        "}\n",
        "\n",
        "print(eng2sp)"
      ],
      "execution_count": null,
      "outputs": []
    },
    {
      "cell_type": "markdown",
      "metadata": {
        "id": "2LwccPF2Kr6K"
      },
      "source": [
        "\n",
        "\n",
        "\n",
        "Los pares **clave-valor** del diccionario están separados por comas (**`,`**) y cada par contiene una clave y un valor separados por dos puntos (**`:`**).\n",
        "\n",
        "\n",
        "\n",
        "<center>\n",
        "<img src = \"https://drive.google.com/uc?export=view&id=1t2k-jJOpcpSv_dr7lxQP9LU7vdwcsQMo\" width = \"40%\">  </img>\n",
        "</center>\n",
        "\n",
        "</br>\n",
        "\n",
        "\n",
        "Podemos crear un diccionario vacío con un par de llaves curvadas vacías:"
      ]
    },
    {
      "cell_type": "code",
      "metadata": {
        "id": "am4CqjKqKr6L"
      },
      "source": [
        "d = {}\n",
        "\n",
        "d"
      ],
      "execution_count": null,
      "outputs": []
    },
    {
      "cell_type": "markdown",
      "metadata": {
        "id": "TVoo0IwkbV1i"
      },
      "source": [
        "Tanto este como el diccionario anterior tiene tipo **`dict`**, sin importar su contenido."
      ]
    },
    {
      "cell_type": "code",
      "metadata": {
        "id": "LOS5wb6WbbXW"
      },
      "source": [
        "type(d)"
      ],
      "execution_count": null,
      "outputs": []
    },
    {
      "cell_type": "markdown",
      "metadata": {
        "id": "JCGoCqL7capA"
      },
      "source": [
        "Las claves del diccionario pueden ser de cualquier tipo de dato **inmutable**, que puede estar asociada a cualquier valor de _Python_ **mutable o inmutable**.\n",
        "\n",
        "\n",
        "Es importante que las claves sean **inmutables** o de lo contrario se generará un error de tipo o **`TypeError`**. Esto se debe a que no se debería intentar identificar un valor con un dato que pueda cambiar más adelante, como una lista o un diccionario pues, entre otras cosas, las **claves de un diccionario son únicas**. De esta manera cuando se acceda a un valor se obtiene siempre el resultado esperado y no hay ambigüedades al realizar una consulta.\n",
        "\n",
        "\n",
        "Si se identificara algún valor con un clave de valor mutable como una lista, al ser de contenido variable, no sería posible asegurar que dos objetos tienen contenido distinto si en algún punto del programa estos pueden ser modificados."
      ]
    },
    {
      "cell_type": "code",
      "metadata": {
        "id": "AnV2VnJwcsZB"
      },
      "source": [
        "# Usar llaves mutables genera un error de tipo.\n",
        "{\n",
        "    [0, 1] : \"0-1\"\n",
        "}"
      ],
      "execution_count": null,
      "outputs": []
    },
    {
      "cell_type": "markdown",
      "metadata": {
        "id": "7PcdKT0kc79R"
      },
      "source": [
        "Los valores inmutables más comunes permitidos como llaves son los **números**, las **cadenas de texto** y las **tuplas** con contenido inmutable."
      ]
    },
    {
      "cell_type": "code",
      "metadata": {
        "cellView": "form",
        "id": "clAIzIyxlvNg"
      },
      "source": [
        "#@markdown * **Ejecute esta celda para instalar _Python Tutor_.**\n",
        "!pip3 -q install tutormagic\n",
        "%load_ext tutormagic"
      ],
      "execution_count": null,
      "outputs": []
    },
    {
      "cell_type": "code",
      "metadata": {
        "id": "NLwOdixLdVi8"
      },
      "source": [
        "%%tutor -s -h 500\n",
        "diccionario = {\n",
        "    100: 'Número',\n",
        "    'abc': 'Cadena',\n",
        "    (100, 'abc'): 'Tupla'\n",
        "}\n",
        "\n",
        "print(diccionario)"
      ],
      "execution_count": null,
      "outputs": []
    },
    {
      "cell_type": "markdown",
      "metadata": {
        "id": "VUegnAFPdU4F"
      },
      "source": [
        "Por otro lado, los **valores SÍ pueden ser mutables**. Podemos, por ejemplo, tener un diccionario con listas como valores."
      ]
    },
    {
      "cell_type": "code",
      "metadata": {
        "cellView": "form",
        "id": "q9jDJ3gbl3ql"
      },
      "source": [
        "#@markdown * **Ejecute esta celda para instalar _Python Tutor_.**\n",
        "!pip3 -q install tutormagic\n",
        "%load_ext tutormagic"
      ],
      "execution_count": null,
      "outputs": []
    },
    {
      "cell_type": "code",
      "metadata": {
        "id": "Bt8EuWcKe75x"
      },
      "source": [
        "%%tutor -s -h 500\n",
        "diccionario = {\n",
        "    'A': [0, 1],\n",
        "    'B': [2, 5],\n",
        "}\n",
        "\n",
        "print(diccionario)"
      ],
      "execution_count": null,
      "outputs": []
    },
    {
      "cell_type": "markdown",
      "metadata": {
        "id": "hrErVVNRKr6O"
      },
      "source": [
        "### **2.1. Operaciones en diccionarios**\n",
        "---\n",
        "\n",
        "Los diccionarios son objetos **mutables**, por lo que una vez tengamos un diccionario con valores podemos realizar distintas operaciones sobre este, que pueden o no modificar su contenido.\n",
        "La más básica es la operación de **acceso** a los datos. Este se realiza con las llaves cuadradas **`[]`** como si se tratara de una lista, pero con la clave en el lugar donde se indicaría el índice.\n"
      ]
    },
    {
      "cell_type": "code",
      "metadata": {
        "id": "zGrEY31wKr6M"
      },
      "source": [
        "inventario = {'manzanas': 430, 'bananos': 312, 'naranjas': 525, 'peras': 217}\n",
        "\n",
        "inventario['manzanas']"
      ],
      "execution_count": null,
      "outputs": []
    },
    {
      "cell_type": "markdown",
      "metadata": {
        "id": "tjL3zLwRfF90"
      },
      "source": [
        "Al igual que en las listas, podemos actualizar el valor almacenado en esa pareja con una asignación y usarlo como cualquier otra expresión:"
      ]
    },
    {
      "cell_type": "code",
      "metadata": {
        "id": "QvZqiUTQfPQa"
      },
      "source": [
        "# Cambiamos el valor asociado a las manzanas\n",
        "inventario['manzanas'] = 500\n",
        "\n",
        "inventario"
      ],
      "execution_count": null,
      "outputs": []
    },
    {
      "cell_type": "code",
      "metadata": {
        "id": "ZNN5cO3x5a0D"
      },
      "source": [
        "# Accedemos a dos valores y los usamos como expresiones numéricas.\n",
        "inventario['manzanas'] + inventario['peras']"
      ],
      "execution_count": null,
      "outputs": []
    },
    {
      "cell_type": "markdown",
      "metadata": {
        "id": "Eq8wMOC3Kr6Q"
      },
      "source": [
        "La función de longitud **`len(colección)`** también funciona en los diccionarios. En este caso, retorna el número de pares clave-valor:"
      ]
    },
    {
      "cell_type": "code",
      "metadata": {
        "id": "v_ZZMDaEKr6Q"
      },
      "source": [
        "len(inventario)"
      ],
      "execution_count": null,
      "outputs": []
    },
    {
      "cell_type": "markdown",
      "metadata": {
        "id": "g5yqKtJ9fqYR"
      },
      "source": [
        "> **¿Qué pasa si intentamos asignar un valor a una clave que no esté en el diccionario?**\n",
        "\n",
        "A diferencia de las listas, no es necesario que exista una casilla antes de asignarle una cantidad. De hecho, esta es la forma de **añadir parejas nuevas** a nuestro diccionario.\n",
        "\n",
        "\n",
        "Por ejemplo, si queremos añadir una fruta nueva, simplemente asignamos un valor a una clave nueva y _Python_ automáticamente aumenta el tamaño y asigna la nueva pareja clave-valor.\n",
        "\n",
        "\n"
      ]
    },
    {
      "cell_type": "code",
      "metadata": {
        "id": "YOEiLacPgR1r"
      },
      "source": [
        "inventario['uvas'] = 1000\n",
        "\n",
        "inventario"
      ],
      "execution_count": null,
      "outputs": []
    },
    {
      "cell_type": "markdown",
      "metadata": {
        "id": "HSWDLiS-gLEy"
      },
      "source": [
        "> **¿Qué pasa si intentamos acceder a una pareja con una clave que no esté en el diccionario?**\n",
        "\n",
        "En este caso, la pareja no existe y por tanto no hay ningún válido que retornar. Cuando se intenta una evaluación como esta _Python_ genera un error de clave o **`KeyError`**:"
      ]
    },
    {
      "cell_type": "code",
      "metadata": {
        "id": "8_ie7Z8IgtW8"
      },
      "source": [
        "# Intentamos acceder a un elemento que no existe en el diccionario.\n",
        "inventario['curubas']"
      ],
      "execution_count": null,
      "outputs": []
    },
    {
      "cell_type": "markdown",
      "metadata": {
        "id": "5ebpeE7rg2oN"
      },
      "source": [
        "De igual manera, podemos utilizar el método **`get`** en el diccionario para obtener un valor. Este retorna **`None`** cuando la llave no existe en el diccionario en vez de generar un error."
      ]
    },
    {
      "cell_type": "code",
      "metadata": {
        "id": "0OTpW29DhBfe"
      },
      "source": [
        "curubas = inventario.get('curubas')\n",
        "\n",
        "print(curubas)"
      ],
      "execution_count": null,
      "outputs": []
    },
    {
      "cell_type": "markdown",
      "metadata": {
        "id": "ISzNDGx4hSep"
      },
      "source": [
        "Además de esto, podemos pasar un **valor por defecto** como argumento que será retornado cuando la llave no exista. Por ejemplo, para productos que no están en inventario podemos querer definir que el diccionario retorne una cantidad de $0$ unidades disponibles."
      ]
    },
    {
      "cell_type": "code",
      "metadata": {
        "id": "-82ZZ0PMhfn1"
      },
      "source": [
        "# ¿Cuántas curubas tenemos en el inventario?\n",
        "inventario.get('curubas', 0)"
      ],
      "execution_count": null,
      "outputs": []
    },
    {
      "cell_type": "code",
      "metadata": {
        "id": "MV3wrRauhifK"
      },
      "source": [
        "# Sigue sin existir la pareja 'curuba': 0, es solo una utilidad para evitar errores.\n",
        "inventario"
      ],
      "execution_count": null,
      "outputs": []
    },
    {
      "cell_type": "markdown",
      "metadata": {
        "id": "J5BBBBtgiG94"
      },
      "source": [
        "> **¿Cómo podemos eliminar elementos de un diccionario?**\n",
        "\n",
        "Para eliminar los elementos de un diccionario tenemos que realizarlo a través de su clave, usando el método **`pop`**, al igual que en las listas. Este retorna el **valor** eliminado."
      ]
    },
    {
      "cell_type": "code",
      "metadata": {
        "id": "UB_zG3YFihCb"
      },
      "source": [
        "bananos = inventario.pop('bananos')"
      ],
      "execution_count": null,
      "outputs": []
    },
    {
      "cell_type": "code",
      "metadata": {
        "id": "wB9hHDusimbf"
      },
      "source": [
        "bananos"
      ],
      "execution_count": null,
      "outputs": []
    },
    {
      "cell_type": "markdown",
      "metadata": {
        "id": "QVoDaalwirLc"
      },
      "source": [
        "Si lo volvemos a ejecutar producirá un error de clave no existente."
      ]
    },
    {
      "cell_type": "code",
      "metadata": {
        "id": "nujf9W2EiuUT"
      },
      "source": [
        "inventario.pop('bananos')"
      ],
      "execution_count": null,
      "outputs": []
    },
    {
      "cell_type": "markdown",
      "metadata": {
        "id": "X73-eNAcizc3"
      },
      "source": [
        "Nuevamente, podemos definir un **valor por defecto** a asignar a la variable en el caso que el elemento no se encuentre en el diccionario."
      ]
    },
    {
      "cell_type": "code",
      "metadata": {
        "id": "0cpIamFoi8tq"
      },
      "source": [
        "inventario.pop('bananos', 0)"
      ],
      "execution_count": null,
      "outputs": []
    },
    {
      "cell_type": "markdown",
      "metadata": {
        "id": "-_r0xPFvRgAC"
      },
      "source": [
        "En este caso se retorna $0$ cuando la clave indicada no se encuentra en el diccionario y no se modifica ninguno de sus elementos. De lo contrario, se retorna el valor que tiene asociado y se elimina del diccionario."
      ]
    },
    {
      "cell_type": "markdown",
      "metadata": {
        "id": "mTuLisHNKr6R"
      },
      "source": [
        "### **2.2. Iterar sobre diccionarios**\n",
        "---\n",
        "Al igual que en otras colecciones, podemos comprobar rápidamente si una llave está definida en el diccionario con el operador **`in`**, o usarlo para iterar sobre las claves del diccionario.\n"
      ]
    },
    {
      "cell_type": "code",
      "metadata": {
        "cellView": "form",
        "id": "sCZzoEUXmPdg"
      },
      "source": [
        "#@markdown * **Ejecute esta celda para instalar _Python Tutor_.**\n",
        "!pip3 -q install tutormagic\n",
        "%load_ext tutormagic"
      ],
      "execution_count": null,
      "outputs": []
    },
    {
      "cell_type": "code",
      "metadata": {
        "id": "IgTBzSovjwFC"
      },
      "source": [
        "%%tutor -s -h 500\n",
        "inventario = {'manzanas': 430, 'naranjas': 525, 'peras': 217}\n",
        "\n",
        "# in para evaluar pertenencia.\n",
        "print('manzanas' in inventario)\n",
        "\n",
        "# in para iterar sobre un objeto.\n",
        "for producto in inventario:\n",
        "  print(f'clave:{producto}  valor:{inventario[producto]}')"
      ],
      "execution_count": null,
      "outputs": []
    },
    {
      "cell_type": "markdown",
      "metadata": {
        "id": "nu29V0gFja1-"
      },
      "source": [
        "> **¿Y si quisiéramos saber si un valor específico está asociado a alguna de las llaves o iterar sobre sus valores?**\n",
        "\n",
        "El comportamiento por defecto cuando se utiliza al operador **`in`**, tanto para verificar la pertenencia como para iterar sobre la colección es usar las **claves** del diccionario.\n",
        "\n",
        "Se puede considerar que las **claves** y los **valores** de un diccionario son colecciones distintas que están asociadas o conectadas en una misma estructura.\n",
        "\n",
        "<center>\n",
        "<img src = \"https://drive.google.com/uc?export=view&id=1WoCVts4NULhW7jXKGGVwzpzd8YgrooGG\" width = \"50%\">  </img>\n",
        "</center>\n",
        "\n",
        "</br>\n",
        "\n",
        "\n",
        "_Python_ permite acceder a estas colecciones, y a la colección de parejas **clave-valor** en forma de tupla con los métodos **`keys()`** , **`values()`** y **`items()`**, respectivamente.\n",
        "\n",
        "\n",
        "\n",
        "\n"
      ]
    },
    {
      "cell_type": "code",
      "metadata": {
        "id": "wfvFGF88Tqgo"
      },
      "source": [
        "inventario = {'manzanas': 430, 'naranjas': 525, 'peras': 217}"
      ],
      "execution_count": null,
      "outputs": []
    },
    {
      "cell_type": "code",
      "metadata": {
        "id": "cNh-jt9VTuOL"
      },
      "source": [
        "inventario.keys()"
      ],
      "execution_count": null,
      "outputs": []
    },
    {
      "cell_type": "code",
      "metadata": {
        "id": "xE35Zq5aTw7F"
      },
      "source": [
        "inventario.items()"
      ],
      "execution_count": null,
      "outputs": []
    },
    {
      "cell_type": "code",
      "metadata": {
        "id": "HHZUexmOTzWL"
      },
      "source": [
        "inventario.values()"
      ],
      "execution_count": null,
      "outputs": []
    },
    {
      "cell_type": "markdown",
      "metadata": {
        "id": "azKqQKRbTpt_"
      },
      "source": [
        "\n",
        "Por ejemplo, podemos verificar si una clave está en el diccionario de forma explícita de la siguiente forma:\n"
      ]
    },
    {
      "cell_type": "code",
      "metadata": {
        "id": "PtWs6gqCkudu"
      },
      "source": [
        "# Usando el comportamiento por defecto del operador in en diccionarios.\n",
        "'curuba' in inventario"
      ],
      "execution_count": null,
      "outputs": []
    },
    {
      "cell_type": "code",
      "metadata": {
        "id": "e0wE15Ho7U7x"
      },
      "source": [
        "# Usando el método .keys()\n",
        "'curuba' in inventario.keys()"
      ],
      "execution_count": null,
      "outputs": []
    },
    {
      "cell_type": "markdown",
      "metadata": {
        "id": "hfDrCljfk4Sh"
      },
      "source": [
        "Por otro lado, podríamos querer obtener la suma de cantidades de los artículos del inventario. Para esto podríamos iterar sobre sus valores con el método **`values`**."
      ]
    },
    {
      "cell_type": "code",
      "metadata": {
        "cellView": "form",
        "id": "16TljZX9jhH-"
      },
      "source": [
        "#@markdown * **Ejecute esta celda para instalar _Python Tutor_.**\n",
        "!pip3 -q install tutormagic\n",
        "%load_ext tutormagic"
      ],
      "execution_count": null,
      "outputs": []
    },
    {
      "cell_type": "code",
      "metadata": {
        "id": "gz5CFz5xKr6R"
      },
      "source": [
        "%%tutor -s -h 500\n",
        "inventario = {'manzanas': 430, 'bananos': 312, 'naranjas': 525, 'peras': 217}\n",
        "\n",
        "sum = 0\n",
        "# Iteramos sobre los valores usando el método \".values\"\n",
        "for cantidad in inventario.values():\n",
        "  sum += cantidad\n",
        "\n",
        "print(f\"El inventario tiene un total de {sum} artículos\")"
      ],
      "execution_count": null,
      "outputs": []
    },
    {
      "cell_type": "markdown",
      "metadata": {
        "id": "XAG7D_VomwNt"
      },
      "source": [
        "Finalmente, podemos iterar sobre la pareja clave-valor con el método **`items()`**. En este caso aplica el concepto de **desempaquetado de tuplas** visto en el material anterior, pues las parejas clave-valor son retornadas por este método en forma de tuplas de la forma **`(clave, valor)`**."
      ]
    },
    {
      "cell_type": "code",
      "metadata": {
        "cellView": "form",
        "id": "hO3tRRnfm-Ph"
      },
      "source": [
        "#@markdown * **Ejecute esta celda para instalar _Python Tutor_.**\n",
        "!pip3 -q install tutormagic\n",
        "%load_ext tutormagic"
      ],
      "execution_count": null,
      "outputs": []
    },
    {
      "cell_type": "code",
      "metadata": {
        "id": "BFlSvtaZm-Pk"
      },
      "source": [
        "%%tutor -s -h 500\n",
        "inventario = {'manzanas': 430, 'bananos': 312, 'naranjas': 525, 'peras': 217}\n",
        "\n",
        "for producto, cantidad in inventario.items():\n",
        "  print(f\"Total de existencias de {producto}: {cantidad}.\")"
      ],
      "execution_count": null,
      "outputs": []
    },
    {
      "cell_type": "markdown",
      "metadata": {
        "id": "N97ZJOUZKr6T"
      },
      "source": [
        "## **3. Conjuntos (_sets_)**\n",
        "---\n",
        "\n",
        "La estructura de datos de los diccionarios nos permite definir un nuevo método de acceso a una colección de datos. En esta sección, discutiremos un tipo de colección especial en la que no es importante acceder a los elementos sino optimizar algunas operaciones como la pertenencia.\n",
        "\n",
        "Por ejemplo, en un sistema de gestión de usuarios de una institución educativa se puede tener registro de los usuarios distinguiendo por su rol, con una colección para estudiantes, docentes y trabajadores. En este caso, al igual que antes, el orden no importa pues no representa nada para sus elementos. Sin embargo, una operación frecuente que se tiene es verificar si un nombre de usuario corresponde a alguno de estos roles.\n",
        "\n",
        "\n",
        "\n",
        "En este escenario, solo nos interesa agregar elementos sin que se repitan y determinar si un valor pertenece o no a cada colección. Para sistemas grandes, es importante considerar el tiempo que toma cada tipo de operación. En una lista, para saber si un elemento existe o no, es necesario revisar valor a valor hasta dar con el que corresponde. Sin embargo, si este valor no está en la colección, se tiene que revisar **cada valor**. Además, tenemos que realizar un esfuerzo adicional al agregar elementos, pues tenemos que saber si ya está en la lista para decidir si se agrega o no.\n",
        "\n",
        "\n",
        "Para casos como este, se recomienda utilizar un **conjunto**, una colección compuesta por elementos únicos (sin repetir), que no está ordenada ni indexada. Este concepto nace de las matemáticas (en particular, de la rama de la [**teoría de conjuntos**](https://es.wikipedia.org/wiki/Teoría_de_conjuntos)) y es el caso más general de colección cuando el orden no es un factor relevante.\n",
        "\n",
        "\n",
        "</br>\n",
        "<center>\n",
        "<img src = \"https://drive.google.com/uc?export=view&id=1BevkFM2T7Fp4iv-vP4xmjEpcjwXAfaUO\" width = \"50%\">  </img>\n",
        "</center>\n",
        "\n",
        "</br>\n",
        "\n",
        "En este sentido, se podría decir que las **claves** de un diccionario son un un conjunto de valores, pues no importa el orden de los elementos y sus valores no se pueden repetir.\n",
        "\n",
        "En _Python_, al igual que los diccionarios y gracias a su estrecha relación, los conjuntos están escritos con llaves curvadas (**`{`** y **`}`**) de la siguiente forma:\n",
        "\n",
        "```python\n",
        "# Conjunto de 3 elementos distintos.\n",
        "{elemento1, elemento2, elemento3}\n",
        "```\n",
        "\n",
        "\n",
        "Note que sus reglas de escritura son también similares a las de las listas, pues cada uno de sus elementos es una expresión normal, y se diferencia de la definición de diccionarios por la ausencia de separadores de clave-valor con el símbolo de dos puntos (**`:`**).\n",
        "\n",
        "\n",
        "Veamos un ejemplo:\n",
        "\n"
      ]
    },
    {
      "cell_type": "code",
      "metadata": {
        "cellView": "form",
        "id": "4KD5iCXAc_tm"
      },
      "source": [
        "#@markdown * **Ejecute esta celda para instalar _Python Tutor_.**\n",
        "!pip3 -q install tutormagic\n",
        "%load_ext tutormagic"
      ],
      "execution_count": null,
      "outputs": []
    },
    {
      "cell_type": "code",
      "metadata": {
        "id": "3NNgb1LBprEl"
      },
      "source": [
        "%%tutor -s -h 300\n",
        "\n",
        "# Definición de un conjunto a partir de valores iniciales.\n",
        "conjunto = {\"A\", \"B\", \"B\", \"A\", \"C\", \"A\"}\n",
        "\n",
        "print(conjunto)"
      ],
      "execution_count": null,
      "outputs": []
    },
    {
      "cell_type": "markdown",
      "metadata": {
        "id": "o6t5lO8ENNdQ"
      },
      "source": [
        "Note que aunque en la definición hay valores repetidos, estos solo son considerados una vez en la colección y son impresos en un orden arbitrario. Este objeto tiene tipo **`set`**, sin importar su contenido."
      ]
    },
    {
      "cell_type": "code",
      "metadata": {
        "id": "kJfRgi-TNdZs"
      },
      "source": [
        "conjunto = {\"A\", \"B\", \"B\", \"A\", \"C\", \"A\"}\n",
        "\n",
        "type(conjunto)"
      ],
      "execution_count": null,
      "outputs": []
    },
    {
      "cell_type": "markdown",
      "metadata": {
        "id": "t99PuEuBcqJl"
      },
      "source": [
        "Además, podemos usar la función de longitud **`len(conjunto)`** para conocer la cantidad de elementos únicos que tiene el conjunto."
      ]
    },
    {
      "cell_type": "code",
      "metadata": {
        "id": "PWLdv9pic4Hz"
      },
      "source": [
        "len(conjunto)"
      ],
      "execution_count": null,
      "outputs": []
    },
    {
      "cell_type": "markdown",
      "metadata": {
        "id": "opq-e69HNvbn"
      },
      "source": [
        "> **¿Cómo creamos un conjunto vacío?**\n",
        "\n",
        "Al compartir separador con los diccionarios, si se escribe una expresión con llaves curvadas sin contenido dentro se generará un **diccionario vacío**. Para crear un conjunto sin elementos, se tiene que usar el constructor **`set(iterable)`** sin argumentos."
      ]
    },
    {
      "cell_type": "code",
      "metadata": {
        "id": "sCid6IjIP6Xc"
      },
      "source": [
        "# Diccionario vacío. NO es un conjunto vacío.\n",
        "d = {}\n",
        "\n",
        "type(d)"
      ],
      "execution_count": null,
      "outputs": []
    },
    {
      "cell_type": "code",
      "metadata": {
        "id": "6iVYaeJcQAjj"
      },
      "source": [
        "# Conjunto vacío con set().\n",
        "s = set()\n",
        "\n",
        "type(s)"
      ],
      "execution_count": null,
      "outputs": []
    },
    {
      "cell_type": "markdown",
      "metadata": {
        "id": "2GyDh7gYQFjE"
      },
      "source": [
        "Al igual que con las llaves del diccionario, un conjunto solo puede contener **valores inmutables**. De esta manera se puede garantizar que el elemento almacenado es único y que su valor no va a cambiar en el resto de la ejecución.\n",
        "\n",
        "\n",
        "Por esta razón, no podemos usar **listas**, **diccionarios** ni otros **conjuntos** como elementos de un conjunto."
      ]
    },
    {
      "cell_type": "code",
      "metadata": {
        "id": "jsWWyiYBQfPC"
      },
      "source": [
        "# No se pueden usar conjuntos, listas o diccionarios como elementos de un conjunto.\n",
        "{{1, 2}, [3, 4], {5 : 6}}"
      ],
      "execution_count": null,
      "outputs": []
    },
    {
      "cell_type": "code",
      "metadata": {
        "id": "hyWPm8l5aNNl"
      },
      "source": [
        "# Conjunto de datos inmutables.\n",
        "{100, '100', (20, '20', (30, '30'))}"
      ],
      "execution_count": null,
      "outputs": []
    },
    {
      "cell_type": "markdown",
      "metadata": {
        "id": "G1fwqSmZQ2DU"
      },
      "source": [
        "El error retornado es un error de tipo con el siguiente texto. **`TypeError: unhashable type: 'set'`**, que puede traducirse al español como \"El tipo de dato 'set' no es _hashable_\". La palabra _hashable_ se refiere a la operación de [**hashing**](https://es.wikipedia.org/wiki/Función_hash), un tipo de función que transforma un valor de un tipo determinado en un **valor único**, como un valor numérico, que es usado en los diccionarios y conjuntos de _Python_ para identificar y distinguir los valores de manera rápida. Para distinguir entre los valores tenemos que considerar todo su contenido, por lo que para valores mutables que tienen contenido en cambio constante la función de _hash_ generaría valores distintos en distintos puntos de la ejecución, lo que dificulta esta tarea de identificación.\n",
        "\n",
        "\n",
        "Con la función **`hash(objeto)`** podemos ver algunos ejemplos de los valores generados por _Python_ en esta operación. Tenga en cuenta que esta función no es muy útil para propósitos generales, pero permite ilustrar por qué solo se permiten algunos tipos como claves de diccionarios o elementos de conjuntos en _Python_."
      ]
    },
    {
      "cell_type": "code",
      "metadata": {
        "id": "MSyv9TMCayYC"
      },
      "source": [
        "# Hash de un número entero.\n",
        "hash(1050)"
      ],
      "execution_count": null,
      "outputs": []
    },
    {
      "cell_type": "code",
      "metadata": {
        "id": "4yep3760b8Km"
      },
      "source": [
        "# Hash de un número flotante.\n",
        "hash(123.5)"
      ],
      "execution_count": null,
      "outputs": []
    },
    {
      "cell_type": "code",
      "metadata": {
        "id": "EOUREMFdcDSW"
      },
      "source": [
        "# Hash de una cadena de texto.\n",
        "hash('Python')"
      ],
      "execution_count": null,
      "outputs": []
    },
    {
      "cell_type": "code",
      "metadata": {
        "id": "-OSd4XkmcI4t"
      },
      "source": [
        "# Hash de una tupla.\n",
        "hash(('a', 50))"
      ],
      "execution_count": null,
      "outputs": []
    },
    {
      "cell_type": "markdown",
      "metadata": {
        "id": "6rTOyTGwdv9y"
      },
      "source": [
        "### **3.1. Operaciones en conjuntos**\n",
        "---\n",
        "\n",
        "Siguiendo con la definición de un conjunto, solo se pueden realizar ciertas operaciones fundamentales en este tipo de estructuras. Como no existe el orden ni un valor asociado al que queramos acceder, solo podemos determinar si un valor se encuentra o no en el conjunto.\n",
        "\n",
        "\n",
        "Esto es posible con el operador **`in`**, tal como se haría en listas, pero con una diferencia notable de velocidad mientras mayor sea el tamaño de la colección. Veamos un ejemplo con una lista y un conjunto con $1000000$ elementos.\n",
        "\n",
        "\n",
        "\n",
        "\n",
        "\n",
        "\n",
        "\n",
        "\n"
      ]
    },
    {
      "cell_type": "code",
      "metadata": {
        "id": "PEmXYSQrekeK"
      },
      "source": [
        "# Lista con 1000000 cadenas únicas.\n",
        "lista = [ f'{a:6} unidades' for a in range(1000000)]\n",
        "\n",
        "len(lista)"
      ],
      "execution_count": null,
      "outputs": []
    },
    {
      "cell_type": "code",
      "metadata": {
        "id": "9pMB5ZbVe7j6"
      },
      "source": [
        "# Lista con 1000000 cadenas únicas.\n",
        "conjunto = set(lista)\n",
        "\n",
        "len(conjunto)"
      ],
      "execution_count": null,
      "outputs": []
    },
    {
      "cell_type": "markdown",
      "metadata": {
        "id": "GF_7nZZAiCef"
      },
      "source": [
        "Para ver la diferencia en el tiempo de la consulta podemos utilizar el comando de celda **`%%timeit`**. Este es un comando especial disponible en los _Jupyter Notebooks_ que nos permite conocer el tiempo que se toma en ejecutar una celda de código."
      ]
    },
    {
      "cell_type": "code",
      "metadata": {
        "id": "ugnzLZOGetzM"
      },
      "source": [
        "%%timeit\n",
        "'999999 unidades' in lista"
      ],
      "execution_count": null,
      "outputs": []
    },
    {
      "cell_type": "markdown",
      "metadata": {
        "id": "zspQnyTBjCFI"
      },
      "source": [
        "La operación anterior toma cerca de $20$ milisegundos (puede variar con relación a la máquina usada).  Estos son aproximadamente $0.020$ segundos por ejecución."
      ]
    },
    {
      "cell_type": "code",
      "metadata": {
        "id": "1O0TSuejfo3m"
      },
      "source": [
        "%%timeit\n",
        "'999999 unidades' in conjunto"
      ],
      "execution_count": null,
      "outputs": []
    },
    {
      "cell_type": "markdown",
      "metadata": {
        "id": "-U-HknHPjxUZ"
      },
      "source": [
        "Si se utiliza un conjunto, la operación toma cerca de $65$ **nanosegundos**. Estos son aproximadamente $0.000000065$ segundos, casi un millón de veces menos que al realizarlo en una lista. Además, la operación es optimizada por _Python_ cuando se realiza múltiples veces.\n",
        "\n",
        "\n",
        "> **Nota:** estos resultados fueron obtenidos en un entorno de ejecución de _Google Colaboratory_. Lo invitamos a que realice las mismas pruebas y determine la diferencia con su propio entorno y evidencie la mejora.\n",
        "\n",
        "\n",
        "Esta diferencia es mayor cuando el tamaño de la colección es grande, y cuando se realizan muchas operaciones de este tipo. Si una tarea no tiene este tipo de condiciones, se puede utilizar una lista sin un impacto mayor en el rendimiento."
      ]
    },
    {
      "cell_type": "code",
      "metadata": {
        "id": "H2UKwBUfk0XD"
      },
      "source": [
        "%%timeit\n",
        "# Para problemas con menos datos y menos operaciones no existe tanta diferencia.\n",
        "'a' in ['a', 'b', 'c']"
      ],
      "execution_count": null,
      "outputs": []
    },
    {
      "cell_type": "code",
      "metadata": {
        "id": "VB-E_Orjk5Ps"
      },
      "source": [
        "%%timeit\n",
        "# El uso de conjuntos no aporta tanta mejora en ciertos problemas.\n",
        "'a' in {'a', 'b', 'c'}"
      ],
      "execution_count": null,
      "outputs": []
    },
    {
      "cell_type": "markdown",
      "metadata": {
        "id": "xKVKBD96lDxT"
      },
      "source": [
        "También podemos evaluar si un elemento **NO** pertenece a un conjunto añadiendo el operador **`not`** antes del operador **`in`**. Veamos un ejemplo:"
      ]
    },
    {
      "cell_type": "code",
      "metadata": {
        "id": "S4bhtSrYlUb3"
      },
      "source": [
        "'Python' not in conjunto"
      ],
      "execution_count": null,
      "outputs": []
    },
    {
      "cell_type": "markdown",
      "metadata": {
        "id": "8AzTGmJJl-Z7"
      },
      "source": [
        "> **¿Y cómo podemos cambiar el contenido del conjunto?**\n",
        "\n",
        "Para añadir nuevos elementos a un conjunto podemos utilizar la función **`add(elemento)`**, que recibe un valor inmutable y lo agrega al conjunto."
      ]
    },
    {
      "cell_type": "code",
      "metadata": {
        "id": "IWTj9ugDJB9Q"
      },
      "source": [
        "# Creamos un conjunto vacío y le añadimos elementos.\n",
        "paises = set()\n",
        "\n",
        "paises.add('Colombia')\n",
        "paises.add('Brasil')\n",
        "paises.add('Venezuela')\n",
        "paises.add('Perú')\n",
        "\n",
        "paises"
      ],
      "execution_count": null,
      "outputs": []
    },
    {
      "cell_type": "markdown",
      "metadata": {
        "id": "h4xI9DTRJPtr"
      },
      "source": [
        "Si intentamos añadir algún valor que ya esté en el conjunto, la operación termina sin retornar ningún error ni modificar el conjunto."
      ]
    },
    {
      "cell_type": "code",
      "metadata": {
        "id": "-nOmkMMOQKeE"
      },
      "source": [
        "# Añadimos un elemento.\n",
        "paises.add('Argentina')\n",
        "\n",
        "paises"
      ],
      "execution_count": null,
      "outputs": []
    },
    {
      "cell_type": "code",
      "metadata": {
        "id": "sQ7SgeieJYwq"
      },
      "source": [
        "# Intentamos añadir un elemento repetido.\n",
        "paises.add('Colombia')\n",
        "\n",
        "paises"
      ],
      "execution_count": null,
      "outputs": []
    },
    {
      "cell_type": "markdown",
      "metadata": {
        "id": "rtbZVpt0JhTG"
      },
      "source": [
        "Por su parte, si queremos eliminar elementos del conjunto podemos usar la función **`remove(elemento)`** o la función **`discard(elemento)`**. La diferencia es que **`remove`** genera un error si el elemento no existe, mientras que **`discard`** solo lo elimina si está presente y no hace nada en caso contrario."
      ]
    },
    {
      "cell_type": "code",
      "metadata": {
        "id": "Ef02sbeRKWbg"
      },
      "source": [
        "paises.remove('Brasil')\n",
        "\n",
        "paises"
      ],
      "execution_count": null,
      "outputs": []
    },
    {
      "cell_type": "code",
      "metadata": {
        "id": "JcAr6xsYKUnm"
      },
      "source": [
        "# El método 'remove' genera un error si el elemento no pertenece al conjunto.\n",
        "paises.remove('Brasil')"
      ],
      "execution_count": null,
      "outputs": []
    },
    {
      "cell_type": "code",
      "metadata": {
        "id": "wv5pgrHqK9Gh"
      },
      "source": [
        "paises.discard('Venezuela')\n",
        "\n",
        "paises"
      ],
      "execution_count": null,
      "outputs": []
    },
    {
      "cell_type": "code",
      "metadata": {
        "id": "yB_TO1O1K_r5"
      },
      "source": [
        "# El método 'discard' no genera error si el elemento no pertenece.\n",
        "paises.discard('Venezuela')\n",
        "\n",
        "paises"
      ],
      "execution_count": null,
      "outputs": []
    },
    {
      "cell_type": "markdown",
      "metadata": {
        "id": "zMBtVOa0LTqB"
      },
      "source": [
        "Por otro lado, podemos eliminar un elemento arbitrario con el método **`pop`**. El elemento retornado depende de la implementación de _hash_ y **no es aleatorio**, simplemente es cualquiera de los elementos ubicado convenientemente para eliminarse."
      ]
    },
    {
      "cell_type": "code",
      "metadata": {
        "id": "IIEyr52MLWdB"
      },
      "source": [
        "eliminado = paises.pop()\n",
        "\n",
        "eliminado"
      ],
      "execution_count": null,
      "outputs": []
    },
    {
      "cell_type": "markdown",
      "metadata": {
        "id": "nFK8gRYTMKlu"
      },
      "source": [
        "Podemos vaciar el conjunto con el método **`clear`**, al igual que en diccionarios y listas."
      ]
    },
    {
      "cell_type": "code",
      "metadata": {
        "id": "cLpXCbVnMLWT"
      },
      "source": [
        "# Vaciamos el conjunto.\n",
        "paises.clear()"
      ],
      "execution_count": null,
      "outputs": []
    },
    {
      "cell_type": "markdown",
      "metadata": {
        "id": "TFofowOaNkdO"
      },
      "source": [
        "Tenga en cuenta que si se ejecuta la función **`pop`** en un conjunto vacío se producirá un error, pues no se tiene nada que retornar."
      ]
    },
    {
      "cell_type": "code",
      "metadata": {
        "id": "e1dwHORnNimz"
      },
      "source": [
        "# Si el conjunto no tiene elementos, se producirá un error.\n",
        "paises.pop()"
      ],
      "execution_count": null,
      "outputs": []
    },
    {
      "cell_type": "markdown",
      "metadata": {
        "id": "9lbxZpOTakl9"
      },
      "source": [
        "### **3.2. Operadores de conjuntos**\n",
        "---\n",
        "Los conjuntos de _Python_ son una representación computacional de un objeto matemático muy importante, del cual se desprenden múltiples propiedades y operaciones permitidas, estudiadas en el rama del **álgebra de conjuntos**.\n",
        "\n",
        "\n",
        "En _Python_, podemos apoyarnos en el uso de múltiples operadores básicos que permiten ejecutar algunas de estas operaciones. En esta sección no se pretende profundizar en el transfondo matemático de dichas operaciones, sino realizar una descripción general y presentar de manera práctica su utilidad.\n",
        "\n",
        "\n",
        "\n",
        "\n"
      ]
    },
    {
      "cell_type": "markdown",
      "metadata": {
        "id": "cHeArnhabz89"
      },
      "source": [
        "#### **3.2.1. Operaciones relacionales**\n",
        "---\n",
        "\n",
        "En primer lugar vamos a considerar el uso de los **operadores relacionales básicos** utilizados previamente en objetos numéricos y de texto. En el caso de los conjuntos, estos permiten determinar la **inclusión** de un conjunto dentro de otro.\n",
        "\n",
        "\n",
        "En _Python_ se pueden usar los operadores relacionales para evaluar la relación de inclusión de dos conjuntos. Por ejemplo, para determinar si dos conjuntos son iguales (es decir, que tienen los mismos elementos), podemos usar el operador de igualdad **`==`**.\n",
        "\n",
        "\n",
        "<center>\n",
        "<img src = \"https://drive.google.com/uc?export=view&id=1649gw5ZolXzXTOM0J1R5Zw0t26b0uGQ7\" width = \"50%\">  </img>\n",
        "</center>\n",
        "\n",
        "</br>\n",
        "\n"
      ]
    },
    {
      "cell_type": "code",
      "metadata": {
        "id": "kVk14HkjmMEk"
      },
      "source": [
        "# Los conjuntos tienen los mismos elementos.\n",
        "{1, 2, 2, 1} == {2, 1}"
      ],
      "execution_count": null,
      "outputs": []
    },
    {
      "cell_type": "markdown",
      "metadata": {
        "id": "dI4x1IPwAqtS"
      },
      "source": [
        "De igual manera, el operador de desigualdad **`!=`** permite evaluar cuando por lo menos uno de los elementos no está en ambos conjuntos.\n",
        "\n",
        "<center>\n",
        "<img src = \"https://drive.google.com/uc?export=view&id=1k3Tb-S9o2YxpzJ-RugFTOOGLm4XPwO6j\" width = \"50%\">  </img>\n",
        "</center>\n",
        "\n",
        "</br>\n"
      ]
    },
    {
      "cell_type": "code",
      "metadata": {
        "id": "0rhMQ0URA6RQ"
      },
      "source": [
        "# Los conjuntos son distintos.\n",
        "{1, 2, 2, 1} != {2, 1, 3}"
      ],
      "execution_count": null,
      "outputs": []
    },
    {
      "cell_type": "markdown",
      "metadata": {
        "id": "EMW0zye6mSc-"
      },
      "source": [
        "Ahora considere el conjunto de paises de américa latina. Este está **incluido** en el conjunto de países del mundo, pero no al contrario.\n",
        "\n",
        "* Todos los países de américa latina son también paises del mundo.\n",
        "* No todos los países del mundo son también países de américa latina. Por ejemplo, Alemania o Japón son países del mundo pero no son países de américa latina.\n",
        "\n",
        "</br>\n",
        "<center>\n",
        "<img src = \"https://drive.google.com/uc?export=view&id=1VHHcOLIiSfzW2ivkQON73mmSvkgEhX09\" width = \"50%\">  </img>\n",
        "</center>\n",
        "\n",
        "</br>\n",
        "\n",
        "\n",
        "Esta es la relación de inclusión entre conjuntos. Se puede decir que el conjunto $A$ (países de américa latina) es un **subconjunto** de $B$ (países del mundo). Y a su vez, se suele decir que $B$ es un **superconjunto** de $A$.\n",
        "Un conjunto es subconjunto del otro si este último tiene todos sus elementos.\n",
        "\n",
        "</br>\n",
        "<center>\n",
        "<img src = \"https://drive.google.com/uc?export=view&id=1Oryc3io92UeSbog1FtSishl1elrZH2Vj\" width = \"80%\">  </img>\n",
        "</center>\n",
        "\n",
        "</br>\n",
        "\n",
        "\n",
        "> **Nota:** un conjunto es tanto **subconjunto** como **superconjunto** de sí mismo, debido a que la condición de contención de todos los elementos se cumple en ambos casos.\n",
        "\n",
        "\n",
        "\n",
        "\n",
        "\n",
        "Para saber si un conjunto **`a`** es **subconjunto** de un conjunto **`b`** tenemos el operador **`<=`**, que determina si el primer conjunto es subconjunto del segundo."
      ]
    },
    {
      "cell_type": "code",
      "metadata": {
        "id": "-u2ei584tZl6"
      },
      "source": [
        "a = {0, 1, 2}\n",
        "b = {0, 1, 2, 3}\n",
        "\n",
        "a <= b    # ¿a es subconjunto de b?"
      ],
      "execution_count": null,
      "outputs": []
    },
    {
      "cell_type": "markdown",
      "metadata": {
        "id": "tdFAPVIVt7hx"
      },
      "source": [
        "De manera contraria, si queremos saber si **`a`** es **superconjunto** de **`b`** podemos utilizar el operador **`>=`**:"
      ]
    },
    {
      "cell_type": "code",
      "metadata": {
        "id": "UGQCvmn0uZFB"
      },
      "source": [
        "a = {0, 1, 2}\n",
        "b = {0, 1, 2, 3}\n",
        "\n",
        "a >= b   # ¿a es superconjunto de b?"
      ],
      "execution_count": null,
      "outputs": []
    },
    {
      "cell_type": "markdown",
      "metadata": {
        "id": "7J7HMIv9te6N"
      },
      "source": [
        "Dado que un conjunto es al mismo tiempo **subconjunto y superconjunto de sí mismo**, está expresión también es verdadera cuando los valores son iguales.\n",
        "\n",
        "</br>\n",
        "<center>\n",
        "<img src = \"https://drive.google.com/uc?export=view&id=1ApmIVsRhhyAiV-Iq1mF_vNXwd4E1pogc\" width = \"60%\">  </img>\n",
        "</center>\n",
        "\n",
        "</br>\n"
      ]
    },
    {
      "cell_type": "code",
      "metadata": {
        "id": "xA_rfFqTtuPC"
      },
      "source": [
        "a = {0, 1, 2}\n",
        "b = {2, 0, 1}\n",
        "\n",
        "print(a == b)    # Los conjuntos tienen los mismos elementos.\n",
        "print(a <= b)    # B tiene todos los elementos de A.\n",
        "print(a >= b)    # A tiene todos los elementos de B."
      ],
      "execution_count": null,
      "outputs": []
    },
    {
      "cell_type": "markdown",
      "metadata": {
        "id": "rgKZWwHC99_B"
      },
      "source": [
        "Si queremos excluir en nuestra comparacion el caso en que los conjuntos iguales estaremos verificando si uno de los conjuntos es  **subconjunto o superconjunto propio** del otro.\n",
        "\n",
        "\n",
        "</br>\n",
        "<center>\n",
        "<img src = \"https://drive.google.com/uc?export=view&id=1e1Esr5gN-L2Qf3K1-8BM58WAbVL3aJMb\" width = \"70%\">  </img>\n",
        "</center>\n",
        "\n",
        "</br>\n",
        "\n",
        "\n",
        "Para realizar estas evaluaciones, utilizamos los operadores **`<`** en el caso de los subconjuntos y **`>`** en el caso de los superconjuntos."
      ]
    },
    {
      "cell_type": "code",
      "metadata": {
        "id": "Gj-VkUAIAC5K"
      },
      "source": [
        "a = {10, 20}\n",
        "b = {10, 20, 30}\n",
        "\n",
        "\n",
        "print(a < b)   # ¿a es subconjunto propio de b?\n",
        "print(a > b)   # ¿a es superconjunto propio de b?"
      ],
      "execution_count": null,
      "outputs": []
    },
    {
      "cell_type": "code",
      "metadata": {
        "id": "OJgWjpvaAV4b"
      },
      "source": [
        "# Ya no se consideran los casos en que ambos conjuntos son iguales.\n",
        "print(a <= a)   # Un conjunto es subconjunto y superconjunto de sí mismo.\n",
        "print(a < a)    # Un conjunto NO es subconjunto ni superconjunto propio de sí mismo."
      ],
      "execution_count": null,
      "outputs": []
    },
    {
      "cell_type": "markdown",
      "metadata": {
        "id": "Plehx_FJAhP_"
      },
      "source": [
        "Para finalizar, presentamos una tabla de resumen del uso de los $6$ operadores relacionales para la evaluación de la relación de inclusión entre conjuntos, con su descripción, operador en el lenguaje _Python_ y si le interesa indagar más en la teoría de conjuntos, su equivalente en notación matemática.\n",
        "\n",
        "</br>\n",
        "\n",
        "| **Símbolos del operador** | **Operación representada** | **Escritura** | **Notación** | **Descripción** |\n",
        "| --- | --- | --- | --- | --- |\n",
        "| **`in`** | $x$ pertenece al conjunto $B$ | **`x in B`** | $x \\in B$ | $x$ es un elemento de $A$.|\n",
        "| **`not in`** | $x$ no pertenece al conjunto $B$ | **`x not in B`** | $x \\notin B$ | $x$ no es un elemento de $A$.|\n",
        "| **`==`** | $A$ es igual que $B$ | **`A == B`** | $A = B$ | $A$ y $B$ tienen exactamente los mismos elementos.|\n",
        "| **`!=`** | $A$ no es igual que $B$ | **`A != B`** | $A \\ne B$ | Por lo menos un elemento de $A$ o de $B$ no está en el otro. |\n",
        "| **`>=`**  | $A$ es un superconjunto de $B$   | **`A >= B`** | $A \\supseteq B$ | Todos los elementos de $B$ están también en $A$. |\n",
        "| **`<=`**  | $A$ es un subconjunto de $B$ | **`A <= B`** | $A \\subseteq B$ | Todos los elementos de $A$ están también en $B$.|\n",
        "| **`>`**  | $A$ es un superconjunto propio de $B$ | **`A > B`** |$A \\supset B$ | Los conjuntos son distintos y todos los elementos de $B$ están también en $A$. |\n",
        "| **`<`**  | $A$ es un subconjunto propio de $B$ | **`A < B`** | $A \\subset B$ | Los conjuntos son distintos y todos los elementos de $A$ están también en $B$. |"
      ]
    },
    {
      "cell_type": "markdown",
      "metadata": {
        "id": "IxMQj-ovGUYW"
      },
      "source": [
        "#### **3.2.2. Álgebra de conjuntos**\n",
        "---\n",
        "\n",
        "Además de los operadores utilizados para la comparación, existen otras operaciones que consisten en la creación de nuevos conjuntos. Estas operaciones corresponden a las operaciones del **álgebra de conjuntos**, que proviene de las matemáticas.\n",
        "\n",
        "Por ejemplo, imagine un sistema de gestión de usuarios de una institución educativa, en la que se tiene un conjunto de nombres de usuario para estudiantes y un conjunto para trabajadores. Dado que la institución permite a los estudiantes trabajar mientras continuan con sus estudios.\n",
        "\n",
        "Para representar este escenario, podemos usar un [**diagrama de Venn**](https://es.wikipedia.org/wiki/Diagrama_de_Venn), un tipo de figura en la que representamos a los conjuntos con círculos y solapar los elementos que están ubicados en ambos conjuntos.\n",
        "\n",
        "\n",
        "<center>\n",
        "<img src = \"https://drive.google.com/uc?export=view&id=1abvaweWP2AmMkUz8ZsA6goGdj2lfCbiY\" width = \"60%\">  </img>\n",
        "</center>\n",
        "\n",
        "</br>\n",
        "\n",
        "En el álgebra de conjuntos se consideran operaciones para generar conjuntos con los elementos ubicados en áreas específicas de este diagrama.\n",
        "\n",
        "\n",
        "Primero, considere que se quiere realizar un reporte de **todos** los usuarios, tanto estudiantes como trabajadores, sin repetir un reporte. En este caso, queremos generar el conjunto de la **unión** de dos conjuntos (escrita en matemáticas como $A \\cup B$), representado en el diagrama por el área sombreada:\n",
        "\n",
        "\n",
        "<center>\n",
        "<img src = \"https://drive.google.com/uc?export=view&id=13HQVDpqX3OY0gWDpUXCqNO6sA9KZzlNz\" width = \"40%\">  </img>\n",
        "</center>\n",
        "\n",
        "</br>\n",
        "\n",
        "\n",
        "Para obtener la **unión** de dos conjuntos en _Python_, podemos utilizar el operador **`|`**. Veamos un ejemplo:\n",
        "\n",
        "\n",
        "\n"
      ]
    },
    {
      "cell_type": "code",
      "metadata": {
        "cellView": "form",
        "id": "elfS7DNQgceV"
      },
      "source": [
        "#@markdown * **Ejecute esta celda para instalar _Python Tutor_.**\n",
        "!pip3 -q install tutormagic\n",
        "%load_ext tutormagic"
      ],
      "execution_count": null,
      "outputs": []
    },
    {
      "cell_type": "code",
      "metadata": {
        "id": "iwORU2AzWel5"
      },
      "source": [
        "%%tutor -s -h 300\n",
        "estudiantes = {'Andrea', 'Beto', 'Carlos', 'Daniela', 'Elena'}\n",
        "\n",
        "trabajadores = {'Andrea', 'Elena', 'Ignacio', 'Olga', 'Uriel'}\n",
        "\n",
        "union = estudiantes | trabajadores\n",
        "\n",
        "print(union)"
      ],
      "execution_count": null,
      "outputs": []
    },
    {
      "cell_type": "markdown",
      "metadata": {
        "id": "quXfRUR2a4qw"
      },
      "source": [
        "En algún punto, se decide realizar un proceso especial para los estudiantes que han estado vinculados también como trabajadores, es decir, los usuarios que están en ambos conjuntos. Esta operación corresponde a generar el conjunto de **intersección** de dos conjuntos (escrita en matemáticas como $A \\cap B$), representado en el diagrama por el área sombreada:\n",
        "\n",
        "<center>\n",
        "<img src = \"https://drive.google.com/uc?export=view&id=1uvQf0lGr91GsKeu2pQ20qKnYsEamJ11_\" width = \"40%\">  </img>\n",
        "</center>\n",
        "\n",
        "</br>\n",
        "\n",
        "Para obtener la **intersección** de dos conjuntos en _Python_ podemos utilizar el operador **`&`**. Veamos un ejemplo:"
      ]
    },
    {
      "cell_type": "code",
      "metadata": {
        "cellView": "form",
        "id": "su38sX_dgi4S"
      },
      "source": [
        "#@markdown * **Ejecute esta celda para instalar _Python Tutor_.**\n",
        "!pip3 -q install tutormagic\n",
        "%load_ext tutormagic"
      ],
      "execution_count": null,
      "outputs": []
    },
    {
      "cell_type": "code",
      "metadata": {
        "id": "ux0EXwUmbp3y"
      },
      "source": [
        "%%tutor -s -h 300\n",
        "estudiantes = {'Andrea', 'Beto', 'Carlos', 'Daniela', 'Elena'}\n",
        "\n",
        "trabajadores = {'Andrea', 'Elena', 'Ignacio', 'Olga', 'Uriel'}\n",
        "\n",
        "interseccion = estudiantes & trabajadores\n",
        "\n",
        "print(interseccion)"
      ],
      "execution_count": null,
      "outputs": []
    },
    {
      "cell_type": "markdown",
      "metadata": {
        "id": "ZDmGCZNwdAeB"
      },
      "source": [
        "La institución decide ofrecer convocatorias para los estudiantes que no estén ya vinculados como trabajadores, es decir, los que están en el conjunto de estudiantes pero no en el de trabajadores. Esta operación corresponde a generar el conjunto de **diferencia** entre dos conjuntos (escrita en matemáticas como $A - B$), representa en el diagrama por el área sombreada.\n",
        "\n",
        "\n",
        "<center>\n",
        "<img src = \"https://drive.google.com/uc?export=view&id=1r-Q8IF6Zbsqw3_8LdoIpSblQH-cjARnd\" width = \"40%\">  </img>\n",
        "</center>\n",
        "\n",
        "</br>\n",
        "\n",
        "Para obtener la **diferencia** de dos conjuntos en _Python_ podemos utilizar el operador **`-`**. Veamos un ejemplo:"
      ]
    },
    {
      "cell_type": "code",
      "metadata": {
        "cellView": "form",
        "id": "H-ro_4pNhTDR"
      },
      "source": [
        "#@markdown * **Ejecute esta celda para instalar _Python Tutor_.**\n",
        "!pip3 -q install tutormagic\n",
        "%load_ext tutormagic"
      ],
      "execution_count": null,
      "outputs": []
    },
    {
      "cell_type": "code",
      "metadata": {
        "id": "LbSc-mW5hTDS"
      },
      "source": [
        "%%tutor -s -h 300\n",
        "estudiantes = {'Andrea', 'Beto', 'Carlos', 'Daniela', 'Elena'}\n",
        "\n",
        "trabajadores = {'Andrea', 'Elena', 'Ignacio', 'Olga', 'Uriel'}\n",
        "\n",
        "diferencia = estudiantes - trabajadores\n",
        "\n",
        "print(diferencia)"
      ],
      "execution_count": null,
      "outputs": []
    },
    {
      "cell_type": "markdown",
      "metadata": {
        "id": "hEnJgh2ph1Jx"
      },
      "source": [
        "Finalmente, se requería enviar un correo con instrucciones para un trámite específico que solo era válido para aquellos usuarios que solo tenían un rol, es decir, que no estaban al tiempo en ambos conjuntos. Esta operación corresponde a generar el conjunto de **diferencia simétrica** entre dos conjuntos (escrita en matemáticas como $A \\bigtriangleup B$), representada en el diagrama por el área sombreada.\n",
        "\n",
        "\n",
        "<center>\n",
        "<img src = \"https://drive.google.com/uc?export=view&id=1fKqSk5MIZPrlHgWoJw6rnM3VA9dF-lPG\" width = \"40%\">  </img>\n",
        "</center>\n",
        "\n",
        "</br>\n",
        "\n",
        "Para obtener la **diferencia simétrica** de dos conjuntos en _Python_ podemos utilizar el operador **`^`**. Veamos un ejemplo:\n"
      ]
    },
    {
      "cell_type": "code",
      "metadata": {
        "cellView": "form",
        "id": "z5kvMycviq5w"
      },
      "source": [
        "#@markdown * **Ejecute esta celda para instalar _Python Tutor_.**\n",
        "!pip3 -q install tutormagic\n",
        "%load_ext tutormagic"
      ],
      "execution_count": null,
      "outputs": []
    },
    {
      "cell_type": "code",
      "metadata": {
        "id": "-L8Rt9_liq56"
      },
      "source": [
        "%%tutor -s -h 300\n",
        "estudiantes = {'Andrea', 'Beto', 'Carlos', 'Daniela', 'Elena'}\n",
        "\n",
        "trabajadores = {'Andrea', 'Elena', 'Ignacio', 'Olga', 'Uriel'}\n",
        "\n",
        "diferencia_sim = estudiantes ^ trabajadores\n",
        "\n",
        "print(diferencia_sim)"
      ],
      "execution_count": null,
      "outputs": []
    },
    {
      "cell_type": "markdown",
      "metadata": {
        "id": "dYceIwSajBKm"
      },
      "source": [
        "En la siguiente tabla disponemos de los $4$ operadores de álgebra de conjuntos descritos en esta sección, con sus operadores, descripción y equivalente en notación matemática.\n",
        "\n",
        "</br>\n",
        "\n",
        "| **Símbolos del operador** | **Operación representada** | **Escritura** | **Notación** | **Descripción** |\n",
        "| --- | --- | --- | --- | --- |\n",
        "| **`&`** | Intersección de $A$ y $B$ | **`A & B`** | $A \\cap B$ | Conjunto de elementos que pertenecen a $A$ y también pertenecen a $B$. |\n",
        "| **`\\|`** | Unión de $A$ y $B$| **`A \\| B`** | $A \\cup B$ | Conjunto de elementos que pertenecen a $A$ o pertenecen a $B$. |\n",
        "| **`-`**  | Diferencia de $A$ y $B$   | **`A - B`** | $A - B$ | Conjunto de elementos que pertenecen a $A$ pero no pertenecen a $B$. |\n",
        "| **`^`**  | Diferencia simétrica de $A$ y $B$ | **`A ^ B`** | $A \\bigtriangleup B$ | Conjunto de elementos que pertenecen a $A$ o pertenecen a $B$ pero no a los dos.|\n",
        "</br>\n",
        "\n",
        "Podemos expandir nuevamente la tabla de precedencia de operadores. Estos operadores comparten su posición en la tabla con sus equivalente en símbolos para otros tipos de datos.\n",
        "\n",
        "| Operador | Asociatividad | Descripción |\n",
        "| --- | --- | --- |\n",
        "| **`(expresión)`** |  Izquierda a derecha | Expresión en paréntesis. |\n",
        "|  __`**`__  | Derecha a izquierda | Exponenciación. |\n",
        "| **`-x`**, **`+x`** | Izquierda a derecha | Positivo y negativo. |\n",
        "| **`*`**, **`/`**, **`%`** , **`//`**|Izquierda a derecha |  Multiplicación, división, módulo y división piso. |\n",
        "| **`+`**, **`-`**| **Izquierda a derecha** | **Adición, substracción y diferencia de conjuntos.** |\n",
        "| **`==`**, **`!=`**, **`>`**,**`<`**, **`>=`**, **`<=`**| **Izquierda a derecha** | **Operadores relacionales y de inclusión de conjuntos.** |\n",
        "| **`&`** |  **Izquierda a derecha** | **Unión de conjuntos** |\n",
        "| **`^`** |  **Izquierda a derecha** | **Unión de conjuntos** |\n",
        "| **`\\|`** |  **Izquierda a derecha**| **Unión de conjuntos**. |\n",
        "| **`not`** |  Izquierda a derecha | Negación lógica. |\n",
        "| **`and`** |  Izquierda a derecha | Disyunción lógica. |\n",
        "| **`or`** |  Izquierda a derecha | Conjunción lógica. |\n",
        "| **`=`**| Derecha a izquierda | Asignación. |\n",
        "\n",
        "</br>\n",
        "\n",
        "\n"
      ]
    },
    {
      "cell_type": "markdown",
      "metadata": {
        "id": "0JdMI8oInfCV"
      },
      "source": [
        "## **4. Comprensión de conjuntos y diccionarios (Opcional)**\n",
        "---\n",
        "\n",
        "Al igual que en las listas, _Python_ permite la definición de expresiones que retornan diccionarios o conjuntos a partir de la iteración de objetos y evaluación de condiciones. Recuerde que estas listas por comprensión están compuestas por:\n",
        "\n",
        "* Una **expresión** en la que se define la operación que se realiza sobre cada valor.\n",
        "* Una **iteración** en la que se define de dónde provienen los valores\n",
        "* Una **condición** en la que se define los requisitos lógicos necesarios para incluir un valor en la colección creada.\n",
        "\n",
        "\n",
        "\n",
        "\n",
        "\n",
        "\n",
        "\n"
      ]
    },
    {
      "cell_type": "code",
      "metadata": {
        "id": "ZT9BjIgP8Gmu"
      },
      "source": [
        "# Lista con:\n",
        "  # Expresión: valor ** 2\n",
        "  # Iteración: for valor in range(20)\n",
        "  # Condición: if valor < 5\n",
        "[valor ** 2 for valor in range(20) if valor < 5]"
      ],
      "execution_count": null,
      "outputs": []
    },
    {
      "cell_type": "markdown",
      "metadata": {
        "id": "vXrwKvVmuu6L"
      },
      "source": [
        "\n",
        "En esta sección veremos los detalles que se deben considerar a la hora de crear otros tipos de colecciones por comprensión."
      ]
    },
    {
      "cell_type": "markdown",
      "metadata": {
        "id": "kxSMg5548Fms"
      },
      "source": [
        "### **4.1. Comprensión de diccionarios**\n",
        "---\n",
        "_Python_ permite crear diccionarios complejos en una sola expresión con la sintaxis de **diccionarios por comprensión**. Estos se escriben de la siguiente manera:\n",
        "\n",
        "```python\n",
        "{ clave: valor for valor in iterable if condición }\n",
        "```\n",
        "\n",
        "Note que lo único que cambia con respecto a las listas por comprensión es el uso del separador asociado a los diccionarios de llaves curvadas (**`{}`**) y el uso del símbolo de dos puntos (**`:`**) en la expresión para diferenciar la clave del valor.\n",
        "\n",
        "Veamos un ejemplo, en el que asociamos una cadena con la cantidad de caracteres que tiene:"
      ]
    },
    {
      "cell_type": "code",
      "metadata": {
        "cellView": "form",
        "id": "7SlKczDfoXmp"
      },
      "source": [
        "#@markdown * **Ejecute esta celda para instalar _Python Tutor_.**\n",
        "!pip3 -q install tutormagic\n",
        "%load_ext tutormagic"
      ],
      "execution_count": null,
      "outputs": []
    },
    {
      "cell_type": "code",
      "metadata": {
        "id": "Ra5cVw_doXmz"
      },
      "source": [
        "%%tutor -s -h 500\n",
        "cadenas = ['Listas', 'Tuplas', 'Diccionarios', 'Cadenas', 'Números']\n",
        "\n",
        "# Usando un ciclo for normal.\n",
        "diccionario = {}\n",
        "for cadena in cadenas:\n",
        "  if 'e' not in cadena:\n",
        "    diccionario[cadena] = len(cadena)\n",
        "\n",
        "# Usando comprensión de diccionarios.\n",
        "diccionario2 = {cadena: len(cadena) for cadena in cadenas if 'e' not in cadena}"
      ],
      "execution_count": null,
      "outputs": []
    },
    {
      "cell_type": "markdown",
      "metadata": {
        "id": "8hMFCBogBkcj"
      },
      "source": [
        "De igual manera, podemos escribir iteraciones consecutivas para definir **ciclos anidados**. Esto es clave en el uso de diccionarios, pues comunmente una de las iteraciones corresponde a los valores usados como la clave y otro a los valores usados como su valor asociado."
      ]
    },
    {
      "cell_type": "code",
      "metadata": {
        "cellView": "form",
        "id": "4AKNn9e5sbf3"
      },
      "source": [
        "#@markdown * **Ejecute esta celda para instalar _Python Tutor_.**\n",
        "!pip3 -q install tutormagic\n",
        "%load_ext tutormagic"
      ],
      "execution_count": null,
      "outputs": []
    },
    {
      "cell_type": "code",
      "metadata": {
        "id": "5tFJ429sB5RJ"
      },
      "source": [
        "%%tutor -s -h 500\n",
        "claves =  ['A', 'B', 'C']\n",
        "valores = ['a', 'b', 'c']\n",
        "\n",
        "# Usando un ciclo for normal.\n",
        "diccionario = {}\n",
        "for clave in claves:\n",
        "  for valor in valores:\n",
        "    if clave.lower() != valor:\n",
        "      diccionario[clave] = valor\n",
        "\n",
        "# Usando comprensión de diccionarios.\n",
        "diccionario2 = {clave: valor for clave in claves for valor in valores if clave.lower() != valor}"
      ],
      "execution_count": null,
      "outputs": []
    },
    {
      "cell_type": "markdown",
      "metadata": {
        "id": "fNedIDZiCjT5"
      },
      "source": [
        "Como puede notar en el ejemplo anterior, a diferencia de las listas por comprensión, si en alguno de los ciclos se repite alguna clave, el último valor encontrado reemplaza a cualquier valor asociado previamente a su clave.\n",
        "\n",
        "Tenga esto en mente al definir diccionarios con este tipo de expresión."
      ]
    },
    {
      "cell_type": "markdown",
      "metadata": {
        "id": "SWJuicjxlMnm"
      },
      "source": [
        "### **4.2. Conjuntos por comprensión**\n",
        "---\n",
        "_Python_ permite la creación de conjuntos a partir de expresiones, iteradores y condiciones con la sintaxis de **comprensión de conjuntos**. Esta es casi idéntica a la comprensión de listas, pero con el uso del separador de llaves curvadas (**`{`** y **`}`**).\n",
        "\n",
        "```python\n",
        "{ expresión for elemento in iterador if condición }\n",
        "```\n",
        "\n",
        "Este tipo de expresión se distingue de los diccionarios por comprensión por la ausencia del separador de dos puntos (**`:`**) en sus expresiones.\n",
        "\n",
        "Veamos un ejemplo:"
      ]
    },
    {
      "cell_type": "code",
      "metadata": {
        "id": "fckWY7QJqu7J"
      },
      "source": [
        "{x for x in range(10) if x < 5}"
      ],
      "execution_count": null,
      "outputs": []
    },
    {
      "cell_type": "markdown",
      "metadata": {
        "id": "xINYQm7Fqo5Q"
      },
      "source": [
        "Este tipo de expresión es recomendada cuando queremos obtener valores únicos de una colección distinta. Por ejemplo, podemos tomar una cadena, y generar un conjunto de los caracteres sin repetición en minúsculas de la misma."
      ]
    },
    {
      "cell_type": "code",
      "metadata": {
        "id": "gmVGYpR8oh_w"
      },
      "source": [
        "# Conjunto para obtener los caracteres usados en una cadena.\n",
        "cadena = 'Introducción a la programación con Python'\n",
        "\n",
        "{ x.lower() for x in cadena if x.isalpha() }"
      ],
      "execution_count": null,
      "outputs": []
    },
    {
      "cell_type": "code",
      "metadata": {
        "cellView": "form",
        "id": "oBjxMLqnscUb"
      },
      "source": [
        "#@markdown * **Ejecute esta celda para instalar _Python Tutor_.**\n",
        "!pip3 -q install tutormagic\n",
        "%load_ext tutormagic"
      ],
      "execution_count": null,
      "outputs": []
    },
    {
      "cell_type": "code",
      "metadata": {
        "id": "CB2ju_OCmy-5"
      },
      "source": [
        "%%tutor -s -h 500\n",
        "# Creación de conjuntos con ciclos, condiciones y operaciones 'add'.\n",
        "conjunto = set()\n",
        "\n",
        "for x in range(1, 30, 3):\n",
        "  if x % 4 == 0:\n",
        "    conjunto.add( x + x / 2 )\n",
        "print(conjunto)\n",
        "\n",
        "# Creación de conjuntos por comprensión.\n",
        "conjunto_comp = { x + x / 2 for x in range(1, 30, 3) if x % 4 == 0 }\n",
        "\n",
        "print(conjunto_comp)"
      ],
      "execution_count": null,
      "outputs": []
    },
    {
      "cell_type": "markdown",
      "metadata": {
        "id": "sr-kwA2DsdF9"
      },
      "source": [
        "Esta sintaxis nos permite generar conjuntos a partir de la operación entre conjuntos creados por comprensión. Veamos un ejemplo, en el que se realiza la diferencia de dos conjuntos numéricos."
      ]
    },
    {
      "cell_type": "code",
      "metadata": {
        "cellView": "form",
        "id": "Dfwh2Gn7uYpM"
      },
      "source": [
        "#@markdown * **Ejecute esta celda para instalar _Python Tutor_.**\n",
        "!pip3 -q install tutormagic\n",
        "%load_ext tutormagic"
      ],
      "execution_count": null,
      "outputs": []
    },
    {
      "cell_type": "code",
      "metadata": {
        "id": "MAzOfyM6svGq"
      },
      "source": [
        "%%tutor -s -h 500\n",
        "# Múltiplos de 2.\n",
        "mult2 = { x for x in range(0, 50, 2)}\n",
        "\n",
        "# Múltiplos de 4.\n",
        "mult4 = { x for x in range(0, 50, 4)}\n",
        "\n",
        "# Múltiplos de 2 que no son múltiplos de 4.\n",
        "mult2no4 = mult2 - mult4\n",
        "mult2no4"
      ],
      "execution_count": null,
      "outputs": []
    },
    {
      "cell_type": "markdown",
      "metadata": {
        "id": "DB_GPl1ou_YI"
      },
      "source": [
        "## **Referencias**\n",
        "---\n",
        "Este material fue tomado y adaptado del libro _How to Think Like a Computer Scientist: Learning with Python 3_, capítulo 11, 20 (versión en inglés) y  10 (versión en español).\n",
        "\n",
        " > _Copyright (C) Brad Miller, David Ranum, Jeffrey Elkner, Peter Wentworth, Allen B. Downey, Chris\n",
        "Meyers, and Dario Mitchell. Permission is granted to copy, distribute\n",
        "and/or modify this document under the terms of the GNU Free Documentation\n",
        "License, Version 1.3 or any later version published by the Free Software\n",
        "Foundation; with Invariant Sections being Forward, Prefaces, and\n",
        "Contributor List, no Front-Cover Texts, and no Back-Cover Texts. A copy of\n",
        "the license is included in the section entitled “GNU Free Documentation\n",
        "License”_\n",
        "\n",
        "*   [P. Wentworth, J. Elkner, A.B. Downey, C. Meyers - How to Think Like a Computer\n",
        "Scientist: Learning with Python 3\n",
        "Documentation (3rd Edition)](http://www.ict.ru.ac.za/Resources/cspw/thinkcspy3/thinkcspy3.pdf)\n",
        "*   [How to Think Like a Computer Scientist: Interactive Edition](http://interactivepython.org/courselib/static/thinkcspy/index.html)\n",
        "*   [Aprenda a Pensar Como un Programador\n",
        "con Python\n",
        " (español)](https://argentinaenpython.com/quiero-aprender-python/aprenda-a-pensar-como-un-programador-con-python.pdf)\n"
      ]
    },
    {
      "cell_type": "markdown",
      "metadata": {
        "id": "4r5hSQAz6d-g"
      },
      "source": [
        "## **Recursos adicionales**\n",
        "---\n",
        "\n",
        "En esta sección encontrará material adicional para reforzar los temas y conceptos discutidos:\n",
        "\n",
        "* [*Python* 3: documentación oficial.](https://docs.python.org/3/)\n",
        "* [_Python_ - Tutorial de _Python_ (Español)](https://docs.python.org/es/3.7/tutorial/)\n"
      ]
    },
    {
      "cell_type": "markdown",
      "metadata": {
        "id": "uJLF2Soq64YL"
      },
      "source": [
        "## **Créditos**\n",
        "---\n",
        "\n",
        "* **Profesores:**\n",
        "  * [Felipe Restrepo Calle, PhD](https://dis.unal.edu.co/~ferestrepoca/)\n",
        "  * [Fabio Augusto González, PhD](https://dis.unal.edu.co/~fgonza/)\n",
        "  * [Jorge Eliecer Camargo, PhD](https://dis.unal.edu.co/~jecamargom/)\n",
        "* **Asistentes docentes:**\n",
        "  - Alberto Nicolai Romero Martínez\n",
        "  - Edder Hernández Forero\n",
        "\n",
        "**Universidad Nacional de Colombia** - *Facultad de Ingeniería*"
      ]
    }
  ]
}