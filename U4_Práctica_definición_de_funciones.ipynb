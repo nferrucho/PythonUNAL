{
  "nbformat": 4,
  "nbformat_minor": 0,
  "metadata": {
    "colab": {
      "private_outputs": true,
      "provenance": [],
      "include_colab_link": true
    },
    "kernelspec": {
      "name": "python3",
      "display_name": "Python 3"
    },
    "language_info": {
      "name": "python"
    }
  },
  "cells": [
    {
      "cell_type": "markdown",
      "metadata": {
        "id": "view-in-github",
        "colab_type": "text"
      },
      "source": [
        "<a href=\"https://colab.research.google.com/github/nferrucho/PythonUNAL/blob/main/U4_Pr%C3%A1ctica_definici%C3%B3n_de_funciones.ipynb\" target=\"_parent\"><img src=\"https://colab.research.google.com/assets/colab-badge.svg\" alt=\"Open In Colab\"/></a>"
      ]
    },
    {
      "cell_type": "markdown",
      "metadata": {
        "id": "h0eAsZLrTsWn"
      },
      "source": [
        "<img src = \"https://drive.google.com/uc?export=view&id=1PLhcU-vfRKKcVCiesEbXigiJgCWknUtc\" alt = \"Encabezado MLDS\" width = \"100%\">  </img>"
      ]
    },
    {
      "cell_type": "markdown",
      "metadata": {
        "id": "BwfALRB1Txjt"
      },
      "source": [
        "# **Práctica: definición de funciones**\n",
        "***\n",
        "\n",
        "En esta práctica usted deberá aplicar los conceptos de definición e invocación de funciones en _Python_. La actividad consiste en implementar varias funciones que se encargan de realizar acciones que hacen parte de la solución final, y se debería poder invocar las funciones definidas previamente para así apoyar la solución de funciones posteriores.\n",
        "\n",
        "\n",
        "> **Nota:** Esta actividad va a ser calificada en la plataforma **[UNCode](https://juezun.github.io/)**. Para esto, en cada ejercicio se indicará si es calificable o no, también los lugares donde debe escribir su código sin modificar lo demás con un aproximado de la cantidad de líneas a escribir. No se preocupe si su código toma más líneas, esto es simplemente un aproximado destinado a que pueda replantear su estrategia si el código está tomando más de las esperadas. No es un requisito estricto y soluciones más largas también son válidas. Al finalizar, para realizar el envío (*submission*), descargue el notebook como un archivo **`.ipynb`** y haga su entrega a través de **_Edunext_**.\n",
        ">\n",
        "> **La actividad es incremental, es recomendable resolver los puntos en orden.**\n",
        "\n",
        "\n",
        "\n",
        "El objetivo de esta actividad es desarrollar un programa que nos permita calcular el dinero que se gastaría en combustible al realizar un viaje por carretera. Para esto, dividiremos el problema en varias partes y daremos solución a esos pequeños problemas para finalmente dar solución al problema principal.\n",
        "\n",
        "Los subproblemas relacionados con este objetivo son los siguientes:\n",
        "\n",
        "1. Calcular el precio de llenar el tanque del vehículo con $n$ litros de gasolina, dado el precio de un galón de gasolina.\n",
        "2. Calcular el consumo de litros de gasolina de un vehículo al recorrer $x$ kilómetros.\n",
        "3. Calcular el costo de gasolina necesaria para realizar un recorrido de $x$ kilómetros.\n",
        "\n",
        "\n",
        "\n",
        "\n"
      ]
    },
    {
      "cell_type": "markdown",
      "metadata": {
        "id": "mH_bTyByC89-"
      },
      "source": [
        "## **1. Costo de la gasolina ⛽**\n",
        "---\n",
        "En primer lugar, queremos conocer los costes que se tendrían que asumir al adquirir la gasolina necesaria para un viaje. Para diseñar el programa hemos identificado que los precios publicados del precio de la gasolina están dados con respecto a $1$ **galón** de este combustible. Debido a que la unidad que vamos a emplear para calcular el consumo de combustible es el **litro**, tenemos que empezar por realizar una **conversión de unidades**. Para esto deberá utilizar la siguiente equivalencia en el proceso de conversión de unidades:\n",
        "\n",
        "$$ 1\\ gal = 3.79\\ l $$\n",
        "\n",
        "> **Nota:** a pesar de no ser la conversión exacta entre [galón y litro](https://en.wikipedia.org/wiki/Gallon), este ejercicio debe realizarse con el valor dado en este enunciado o de lo contrario podría producir una respuesta incorrecta.\n",
        "\n",
        "En este primer punto se debe implementar la función **`calcular_costo_gasolina`** que, dado el precio de $1$ galón de gasolina y un número total **`num_litros`** de litros a llenar, retorne el costo total de comprar esa cantidad de gasolina.\n",
        "\n",
        "***\n",
        "###**Entrada**\n",
        "\n",
        "- **`num_litros`**: Número decimal de punto flotante (**`float`**) positivo que representa la cantidad de litros a llenar.\n",
        "- **`precio_galon`**: Número decimal de punto flotante (**`float`**) positivo que representa el precio de un galón de gasolina.\n",
        "\n",
        "***\n",
        "###**Salida**\n",
        "\n",
        "- **`costo_gasolina`**: Número decimal de punto flotante (**`float`**) positivo que representa el costo total de comprar **`num_litros`** litros de gasolina a partir del precio **`precio_galon`** de un galón.\n",
        "\n",
        "\n"
      ]
    },
    {
      "cell_type": "code",
      "metadata": {
        "id": "8oL03XRLxBiK"
      },
      "source": [
        "# FUNCIÓN CALIFICADA calcular_costo_gasolina\n",
        "\n",
        "def calcular_costo_gasolina(num_litros, precio_galon):\n",
        "  \"\"\"\n",
        "  Calcula el costo de n litros de gasolina a partir del precio del galón\n",
        "  de gasolina.\n",
        "\n",
        "  :param num_litros: número de litros a adquirir.\n",
        "  :param precio_galon: precio de 1 galón de gasolina.\n",
        "\n",
        "  :return: costo total de los 'num_litros' de gasolina.\n",
        "  \"\"\"\n",
        "  ###### ESCRIBA SU CÓDIGO AQUÍ ###### (~ 1-2 líneas de código)\n",
        "\n",
        "  costo_gasolina = 0\n",
        "\n",
        "  ###### FIN DEL CÓDIGO ######\n",
        "\n",
        "  return costo_gasolina"
      ],
      "execution_count": null,
      "outputs": []
    },
    {
      "cell_type": "markdown",
      "metadata": {
        "id": "vGrCnFv-x9KK"
      },
      "source": [
        "Usar la siguiente celda para probar su función:"
      ]
    },
    {
      "cell_type": "code",
      "metadata": {
        "id": "0XMVhA7ox9KS"
      },
      "source": [
        "#TEST_CELL\n",
        "\n",
        "print(round(calcular_costo_gasolina(1, 3790),    4))  #    1 L a 3790$ el galón.\n",
        "print(round(calcular_costo_gasolina(10,3790),    4))  #   10 L a 3790$ el galón.\n",
        "print(round(calcular_costo_gasolina(1.79, 1000), 4))  # 3.79 L a 1000$ el galón.\n",
        "print(round(calcular_costo_gasolina(48, 8700),   4))  #   48 L a 8700$ el galón."
      ],
      "execution_count": null,
      "outputs": []
    },
    {
      "cell_type": "markdown",
      "metadata": {
        "id": "vZ9_VtwAx9KS"
      },
      "source": [
        "**Salida esperada:**\n",
        "```python\n",
        "1000.0\n",
        "10000.0\n",
        "472.2955\n",
        "110184.6966\n",
        "```"
      ]
    },
    {
      "cell_type": "markdown",
      "metadata": {
        "id": "8Y2TktlBdD7Z"
      },
      "source": [
        "<details>    \n",
        "<summary>\n",
        "    <font size=\"5\" color=\"MediumOrchid\"><b>💡 ¡Pista! 💡</b></font>\n",
        "    <hr/>\n",
        "    Haga clic acá para revelar la pista.\n",
        "</summary>\n",
        "\n",
        "* Al realizar la conversión se sabe que 1 galón equivale a $3.79$ litros. Sin embargo, en este ejercicio las unidades consideradas son de **moneda** por **litro** y **moneda** por **galón**. Es decir, si un galón cuesta $1000\\$$ sabemos que ese precio también corresponde al precio de comprar $3.79$ litros, donde cada uno tendría un costo aproximado de $264\\$$.\n",
        "\n",
        "* Es importante que la respuesta sea retornada por la función con la sentencia **`return`**. A diferencia de otras actividades, en esta actividad **no se calificará la salida de texto del programa.**\n",
        "\n"
      ]
    },
    {
      "cell_type": "markdown",
      "metadata": {
        "id": "i_6XWND9aFdB"
      },
      "source": [
        "## **2. Consumo del vehículo 🚘**\n",
        "***\n",
        "Luego de conocer el costo de adquirir un número determinado de litros de gasolina, queremos determinar cuál es el número adecuado de acuerdo con el vehículo en el que nos vamos a movilizar y la distancia que vamos a recorrer. En particular, queremos calcular cuantos litros de gasolina deben ser empleados para llegar al destino, que está ubicado a $x$ kilómetros de distancia y que se van a recorrer en un vehículo con un **consumo** o **rendimiento** estimado.\n",
        "\n",
        "> **Nota:** en esta ocasión, vamos a definir el consumo de combustible del vehículo como la **cantidad de litros** de gasolina que consume el vehículo para cada **$100$ kilómetros**.\n",
        "\n",
        "En este segundo punto deberá implementar la función **`calcular_consumo_vehiculo`**, que reciba la **`distancia`** a recorrer y el **`consumo`** del vehículo en el que se va a viajar y retorne la cantidad de **`litros`** de gasolina necesarios para realizar el viaje.\n",
        "\n",
        "***\n",
        "###**Entrada**\n",
        "\n",
        "- **`distancia`**: Número decimal de punto flotante (**`float`**) positivo que representa la distancia en kilómetros que se va a recorrer.\n",
        "- **`consumo`**: Número decimal de punto flotante (**`float`**) positivo que representa el número de litros que el vehículo consume cada $100$ kilómetros.\n",
        "\n",
        "***\n",
        "###**Salida**\n",
        "\n",
        "- **`litros`**: Número decimal de punto flotante (**`float`**) positivo con la cantidad de litros que se consumirían en el trayecto\n"
      ]
    },
    {
      "cell_type": "code",
      "metadata": {
        "id": "mlpZ18xx1RLE"
      },
      "source": [
        "# FUNCIÓN CALIFICADA calcular_consumo_vehiculo\n",
        "\n",
        "def calcular_consumo_vehiculo(distancia, consumo):\n",
        "  \"\"\"\n",
        "  Calcula cuántos litros de gasolinas se consumen para recurrer una distancia\n",
        "  dada en un vehiculo con un consumo dado.\n",
        "\n",
        "  :param distancia: distancia de la cual se quiere saber cuantos litros\n",
        "  van a ser consumidos.\n",
        "  :param consumo: número de litros que se consumen por cada 100 km.\n",
        "\n",
        "  :return: número de litros que consumirá el trayecto\n",
        "  \"\"\"\n",
        "  ###### ESCRIBA SU CÓDIGO AQUÍ ###### (~ 1-2 líneas de código)\n",
        "\n",
        "  litros = None\n",
        "\n",
        "  ###### FIN DEL CÓDIGO ######\n",
        "\n",
        "  return litros"
      ],
      "execution_count": null,
      "outputs": []
    },
    {
      "cell_type": "markdown",
      "metadata": {
        "id": "8DCHkx3e1RLQ"
      },
      "source": [
        "Usar la siguiente celda para probar su función"
      ]
    },
    {
      "cell_type": "code",
      "metadata": {
        "id": "iGJmKIrV1RLR"
      },
      "source": [
        "#TEST_CELL\n",
        "print(calcular_consumo_vehiculo(1,7.8))   # 1 km y 7.8 cada 100 km.\n",
        "print(calcular_consumo_vehiculo(1000,15)) # 1000 km y 15 L cada 100 km.\n",
        "print(calcular_consumo_vehiculo(887,5))   # 887 km y 5 L cada 100 km.\n",
        "print(calcular_consumo_vehiculo(100,3))   # 100 km y 3 L cada 100 km."
      ],
      "execution_count": null,
      "outputs": []
    },
    {
      "cell_type": "markdown",
      "metadata": {
        "id": "DUzAGn1A1RLS"
      },
      "source": [
        "**Salida esperada:**\n",
        "```python\n",
        "0.078\n",
        "150.0\n",
        "44.35\n",
        "3.0\n",
        "```"
      ]
    },
    {
      "cell_type": "markdown",
      "metadata": {
        "id": "Y2E6dhFfdCvH"
      },
      "source": [
        "<details>    \n",
        "<summary>\n",
        "    <font size=\"5\" color=\"MediumOrchid\"><b>💡 ¡Pista! 💡</b></font>\n",
        "    <hr/>\n",
        "    Haga clic acá para revelar la pista.\n",
        "</summary>\n",
        "\n",
        "\n",
        "* Nuevamente, es muy importante utilizar de forma correcta las unidades de medida. En este caso, las unidades utilizadas son:\n",
        "  * **Consumo:** $\\frac{1\\ L}{100\\ km} = 0.01\\frac{L}{km}$\n",
        "  * **Distancia:** $km$\n",
        "\n",
        "  A partir de estos valores, tenemos que calcular la cantidad de litros necesarios para todo el recorrido. Si por ejemplo tuviéramos un vehículo con un consumo de $10\\ L$ por $100\\ km$, y recorriéramos $10\\ km$ solo se gastaría $1 L$ de los $10$ que se hubieran gastado al recorrer los $100\\ km$. De igual forma, si se recorren $200\\ km$, se consumiría el doble de gasolina que en la unidad de referencia para el consumo, para un total de $20\\ L$."
      ]
    },
    {
      "cell_type": "markdown",
      "metadata": {
        "id": "rcX0jWyWcKS1"
      },
      "source": [
        "## **3. Gasto del viaje 🎒**\n",
        "***\n",
        "Finalmente, queremos aprovechar el código creado en los puntos anteriores para determinar el costo total de gasolina necesaria para realizar nuestro viaje. Es decir, tenemos que:\n",
        "\n",
        "* Calcular cuántos litros debemos llenar para llegar a nuestro destino.\n",
        "* Determinar cuánto cuesta pagar esa cantidad de litros.\n",
        "* Reportar en un formato apropiado la respuesta.\n",
        "\n",
        "Además, dado que se quieren simplificar las cosas, vamos a definir un **consumo** por defecto que corresponda a nuestro vehículo habitual, pero que pueda también ser pasado como argumento de la función con consumos distintos.\n",
        "\n",
        "Deberá implementar la función **`reportar_gasto_viaje`**  que, dada la distancia de trayecto a recorrer (**`distancia`**), el precio de $1$ galón de gasolina (**`precio_galon`**) y opcionalmente el consumo del vehículo a utilizar dado en litros por cada 100 km (**`consumo`**), retornar el dinero total gastado en gasolina para el viaje indicado.\n",
        "\n",
        "\n",
        "***\n",
        "###**Entrada**\n",
        "- **`distancia`**: Número decimal de punto flotante (**`float`**) positivo que corresponde a la distancia en kilómetros que se va a recorrer.\n",
        "- **`precio_galon`**: Número decimal de punto flotante (**`float`**) positivo que representa el precio de un galón de gasolina.\n",
        "- **`consumo`**: Número decimal de punto flotante (**`float`**) positivo que representa el número de litros que el vehículo consume cada 100 kilómetros. Por defecto tiene un valor de $10$ litros por cada $100$ kilómetros recorridos.\n",
        "\n",
        "***\n",
        "###**Salida**\n",
        "- **`mensaje_costo`**: cadena de texto con un mensaje que reporte el costo de gasolina para realizar el trayecto. Este tendría el siguiente formato:\n",
        "  ```python\n",
        "  \"El viaje (<distancia> km) tiene un costo de <costo>$\"\n",
        "  ```\n",
        "\n",
        "  Además, tanto la **distancia** como el **costo** se deberán imprimir con $4$ **dígitos decimales**.\n",
        "\n",
        "\n",
        "***\n",
        "###**Notas**\n",
        "\n",
        "* Tenga en cuenta que en el texto anterior se describe la **salida de la función** y NO la **salida de texto del programa**. No deberá escribir el mensaje en pantalla con la función **`print`** sino retornarlo con la función **`return`**.\n",
        "\n",
        "* **Correcto✔️:**\n",
        "    ```python\n",
        "    def f():\n",
        "      # Solución...\n",
        "      return mensaje\n",
        "    ```\n",
        "\n",
        "* **Incorrecto❌:**\n",
        "    ```python\n",
        "    def f():\n",
        "      # Solución...\n",
        "      print(mensaje)\n",
        "      # Solución...\n",
        "    ```\n",
        "\n",
        "\n",
        "\n",
        "\n",
        "\n"
      ]
    },
    {
      "cell_type": "code",
      "metadata": {
        "id": "E3THEvCS30XJ"
      },
      "source": [
        "# FUNCIÓN CALIFICADA reportar_gasto_viaje\n",
        "\n",
        "def reportar_gasto_viaje(distancia, precio_galon,\n",
        "                         consumo_vehiculo = None): # Modifique el parámetro según corresponda.\n",
        "  \"\"\"\n",
        "  Calcula cuanto dinero se debe gastar en gasolina para realizar el viaje con\n",
        "  las condiciones ingresadas.\n",
        "\n",
        "  :param distancia: número de kilometros a recorrer.\n",
        "  :param precio_galon: costo que tiene 1 galón de gasolina.\n",
        "  :param consumo: número de litros que consume el vehículo cada 100 km.\n",
        "\n",
        "  :return: costo que se realizará en gasolina para completar el viaje\n",
        "  \"\"\"\n",
        "  ###### ESCRIBA SU CÓDIGO AQUÍ ###### (~ 2-4 líneas de código)\n",
        "\n",
        "  mensaje_costo = \"\"\n",
        "\n",
        "  ###### FIN DEL CÓDIGO ######\n",
        "\n",
        "  return mensaje_costo"
      ],
      "execution_count": null,
      "outputs": []
    },
    {
      "cell_type": "markdown",
      "metadata": {
        "id": "hvslZaw_30XO"
      },
      "source": [
        "Usar la siguiente celda para probar su función"
      ]
    },
    {
      "cell_type": "code",
      "metadata": {
        "id": "Xb3V8shz30XR"
      },
      "source": [
        "#TEST_CELL\n",
        "\n",
        "# Viaje con vehículo por defecto.\n",
        "print(reportar_gasto_viaje(1, 1000))\n",
        "print(reportar_gasto_viaje(100,3))\n",
        "print(reportar_gasto_viaje(1000,15, consumo_vehiculo=21))"
      ],
      "execution_count": null,
      "outputs": []
    },
    {
      "cell_type": "markdown",
      "metadata": {
        "id": "ccvR9Ra230XW"
      },
      "source": [
        "**Salida esperada:**\n",
        "```python\n",
        "El viaje (1 km) tiene un costo de 26.3852$\n",
        "El viaje (100 km) tiene un costo de 7.9156$\n",
        "El viaje (1000 km) tiene un costo de 831.1346$\n",
        "```"
      ]
    },
    {
      "cell_type": "markdown",
      "metadata": {
        "id": "saq493JvfqVk"
      },
      "source": [
        "<details>    \n",
        "<summary>\n",
        "    <font size=\"5\" color=\"MediumOrchid\"><b>💡 ¡Pista! 💡</b></font>\n",
        "    <hr/>\n",
        "    Haga clic acá para revelar la pista.\n",
        "</summary>\n",
        "\n",
        "* Su código debería llamar/invocar a las funciones definidas en los puntos anteriores. Lo invitamos a hacerlo de esta manera y aplicar la buena práctica de reutilización de código en sus programas, aún cuando este ejercicio se pueda resolver de forma sencilla repitiendo el contenido de las soluciones anteriores cuando sea necesario. En particular, puede reutilizar estas soluciones para:\n",
        "  * Determinar la cantidad de litros necesaria (**Punto 2: `calcular_costo_gasolina`**).\n",
        "  * Determinar el costo de esa cantidad de litros (**Punto 3: `calcular_consumo_vehiculo`**).\n",
        "\n",
        "  Tenga en cuenta que esta idea convierte el ejercicio en un **ejercicio acumulativo**, por lo que es necesario que la respuesta a los puntos anteriores sea correcta para que este punto sea correcto.\n",
        "\n",
        "* En _Python_, y tal como se discutió en el material de *Programación Funcional*, es posible definir funciones con argumentos por defecto. Estas son de la forma:\n",
        "\n",
        "  ```python\n",
        "  def ejemplo(num = 100):\n",
        "    print(\"El número es:\", num)\n",
        "  ```\n",
        "  Este tipo de funciones pueden ser llamadas con o sin los argumentos definidos de esta forma. En este ejercicio es necesario que el parámetro **`consumo`** tenga un valor por defecto de $10$.\n",
        "\n",
        "* Para reportar la respuesta tal como se indica en el enunciado, le recomendamos utilizar las cadenas de texto con formato o **_f-strings** con el modificador de dígitos decimales. Un ejemplo de este tipo de cadenas es el siguiente:\n",
        "\n",
        "  ```python\n",
        "      pi = 3.141592653589793\n",
        "      pi3digitos = f\"pi = {pi:.3f}\"\n",
        "      print(pi3digitos)\n",
        "      >>> pi = 3.1416\n",
        "  ```\n",
        "\n",
        "\n",
        "\n",
        "\n",
        "\n",
        "\n"
      ]
    },
    {
      "cell_type": "markdown",
      "metadata": {
        "id": "4luKKP58V-Qs"
      },
      "source": [
        "**¡Felicitaciones!** Ha terminado la práctica. ¡Buen trabajo!\n",
        "\n",
        "## **Entrega**\n",
        "---\n",
        "\n",
        "Para entregar el *notebook* por favor haga lo siguiente:\n",
        "1. Descargue el *notebook* (**`Archivo`** ⇒ **`Descargar .ipynb`**).\n",
        "2. Ingrese a la actividad en **_Edunext_**.\n",
        "3. Realice el envío del *notebook* que descargó en la actividad correspondiente.\n",
        "4. Recuerde que si tiene algún error, puede hacer múltiples intentos de envío en *UNCode*."
      ]
    },
    {
      "cell_type": "markdown",
      "metadata": {
        "id": "JJbV7A38uZhC"
      },
      "source": [
        "## **Créditos**\n",
        "---\n",
        "\n",
        "* **Profesores:**\n",
        "  * [Felipe Restrepo Calle, PhD](https://dis.unal.edu.co/~ferestrepoca/)\n",
        "  * [Fabio Augusto González, PhD](https://dis.unal.edu.co/~fgonza/)\n",
        "  * [Jorge Eliecer Camargo, PhD](https://dis.unal.edu.co/~jecamargom/)\n",
        "* **Asistentes docentes:**\n",
        "  - Edder Hernández Forero\n",
        "  - Alberto Nicolai Romero Martínez\n",
        "\n",
        "\n",
        "**Universidad Nacional de Colombia** - *Facultad de Ingeniería*\n"
      ]
    }
  ]
}