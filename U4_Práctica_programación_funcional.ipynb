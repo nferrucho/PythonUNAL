{
  "nbformat": 4,
  "nbformat_minor": 0,
  "metadata": {
    "colab": {
      "private_outputs": true,
      "provenance": [],
      "include_colab_link": true
    },
    "kernelspec": {
      "name": "python3",
      "display_name": "Python 3"
    },
    "language_info": {
      "name": "python"
    }
  },
  "cells": [
    {
      "cell_type": "markdown",
      "metadata": {
        "id": "view-in-github",
        "colab_type": "text"
      },
      "source": [
        "<a href=\"https://colab.research.google.com/github/nferrucho/PythonUNAL/blob/main/U4_Pr%C3%A1ctica_programaci%C3%B3n_funcional.ipynb\" target=\"_parent\"><img src=\"https://colab.research.google.com/assets/colab-badge.svg\" alt=\"Open In Colab\"/></a>"
      ]
    },
    {
      "cell_type": "markdown",
      "metadata": {
        "id": "h0eAsZLrTsWn"
      },
      "source": [
        "<img src = \"https://drive.google.com/uc?export=view&id=1-SkZq3IoLcRetEqaTlSkiHPVDEYmk9d0\" alt = \"Encabezado MLDS\" width = \"100%\">  </img>"
      ]
    },
    {
      "cell_type": "markdown",
      "metadata": {
        "id": "BwfALRB1Txjt"
      },
      "source": [
        "# **Práctica: programación funcional**\n",
        "***\n",
        "\n",
        "En esta práctica usted deberá aplicar los conceptos de programación funcional, diseñando y manipulando funciones para ser utilizadas con las funciones **`map`** y **`filter`**. Opcionalmente, lo invitamos a utilizar funciones anónimas por medio de la sentencia **`lambda`** para resolver los ejercicios dispuestos en la actividad.\n",
        "\n",
        "> **Nota:** Esta actividad va a ser calificada en la plataforma **[UNCode](https://juezun.github.io/)**. Para esto, en cada ejercicio se indicará si es calificable o no, también los lugares donde debe escribir su código sin modificar lo demás con un aproximado de la cantidad de líneas a escribir. No se preocupe si su código toma más líneas, esto es simplemente un aproximado destinado a que pueda replantear su estrategia si el código está tomando más de las esperadas. No es un requisito estricto y soluciones más largas también son válidas. Al finalizar, para realizar el envío (*submission*), descargue el notebook como un archivo **`.ipynb`** y haga su entrega a través de **_Edunext_**.\n",
        ">\n",
        "> **La actividad es incremental, es recomendable resolver los puntos en orden.**\n",
        "\n",
        "El objetivo de esta actividad es procesar una lista de registros de ventas de productos en un supermercado, aplicando un impuesto por medio de la función **`map`** y realizando una selección por tipo de producto de los registros por medio de la función **`filter`**."
      ]
    },
    {
      "cell_type": "markdown",
      "metadata": {
        "id": "Z2oJ13Z5EOCD"
      },
      "source": [
        "## **1. Aplicar impuesto 🧾**\n",
        "***\n",
        "Al trabajar en el equipo de desarrollo de una aplicación para el registro de las ventas de un supermercado, se identificó que el programa no aplica correctamente el impuesto al valor agregado (IVA, con un valor de $19\\%$) de cada uno de los registros.\n",
        "\n",
        "El listado de ventas está representado mediante una **lista de tuplas**, donde cada tupla tiene el **`nombre`** del producto en la primera posición y el **`precio`** (sin IVA) en la segunda posición.\n",
        "\n",
        "```python\n",
        "# Ejemplo de registros.\n",
        "[\n",
        "  ('Altavoces': 30000),\n",
        "  ('Borrador': 1000),\n",
        "  ('Cereal': 15000)\n",
        "]\n",
        "```\n",
        "\n",
        "Para corregir este problema, se decidió abordar el programa con un enfoque basado en programación funcional, de manera que se pueda procesar de manera más eficiente la colección de registros.\n",
        "\n",
        "En este primer punto deberá implementar la función **`aplicar_impuesto`**, que recibe un registro y lo retorna con el impuesto aplicado. Es decir, la función recibirá una tupla de tamaño 2 con un nombre y un precio, y retornará otra tupla nueva, con el mismo nombre y con el precio tras aplicar el impuesto del $19\\%$.\n",
        "\n",
        "\n",
        "> **Nota:** este ejercicio puede ser solucionado mediante la definición de la función con la **`def`** o en una expresión con la sentencia **`lambda`**. Sin importar cual sea el caso, usted deberá crear una función con el nombre **`aplicar_impuesto`**. Tenga en cuenta los siguientes dos escenarios:\n",
        "\n",
        "  ```python\n",
        "  # Opción 1 - Definición de función.\n",
        "  def aplicar_impuesto(registro):\n",
        "    # ...\n",
        "    return ...\n",
        "\n",
        "  # Opción 2 - Expresión lambda.\n",
        "  aplicar_impuesto = lambda ...\n",
        "  ```\n",
        "\n",
        "\n",
        "***\n",
        "###**Entrada**\n",
        "\n",
        "- **`producto`**: tupla de 2 elementos que contiene una cadena de texto (**`str`**) con el nombre del producto en la primera posición y un número real positivo (**`float`**) con el precio del producto sin IVA.\n",
        "\n",
        "***\n",
        "###**Salida**\n",
        "\n",
        "- **`producto_con_iva`**: tupla de 2 elementos que contiene una cadena de texto (**`str`**) con el nombre del producto en la primera posición y un número real positivo (**`float`**) con el precio del producto con IVA del $19\\%$.\n",
        "\n"
      ]
    },
    {
      "cell_type": "code",
      "metadata": {
        "id": "4OOqq_6mUr9u"
      },
      "source": [
        "# FUNCIÓN CALIFICADA aplicar_impuesto\n",
        "\n",
        "def aplicar_impuesto(registro_venta):\n",
        "  \"\"\"\n",
        "  Procesa un registro de un producto y lo retorna\n",
        "  tras obtener el precio con IVA de 19%.\n",
        "\n",
        "  :param registro_venta: tupla de tamaño 2 que representa una venta.\n",
        "  se compone de nombre del producto y el precio sin IVA.\n",
        "\n",
        "  :return: tupla de tamaño 2 con el nombre del producto y el precio con IVA.\n",
        "  \"\"\"\n",
        "\n",
        "  ###### ESCRIBA SU CÓDIGO AQUÍ ###### (~ 2-4 líneas de código)\n",
        "\n",
        "  registro_iva = (None, 0)  # Reemplace por su solución.\n",
        "\n",
        "  ###### FIN DEL CÓDIGO ######\n",
        "\n",
        "  return registro_iva"
      ],
      "execution_count": null,
      "outputs": []
    },
    {
      "cell_type": "markdown",
      "metadata": {
        "id": "urWO15AZVBPH"
      },
      "source": [
        "Tal como se mencionó antes, la función diseñada va a ser utilizada con la función **`map`** y una colección de registros. Use la siguiente celda para probar su función:"
      ]
    },
    {
      "cell_type": "code",
      "metadata": {
        "id": "7I9QI9nJVIVH"
      },
      "source": [
        "#TEST_CELL\n",
        "# Definimos una lista de registros de prueba.\n",
        "registros = [(\"Producto A\", 20.5),\n",
        "             (\"Producto B\", 92.3),\n",
        "             (\"Producto C\", 1000)]\n",
        "\n",
        "# Utilizamos la función 'map' e iteramos sobre el resultado.\n",
        "for producto, precio in map(aplicar_impuesto, registros):\n",
        "  print(f\"{producto}: {precio:10.4f}\")"
      ],
      "execution_count": null,
      "outputs": []
    },
    {
      "cell_type": "markdown",
      "metadata": {
        "id": "dR5TvMQxWG_R"
      },
      "source": [
        "**Salida esperada:**\n",
        "```python\n",
        "Producto A:    24.3950\n",
        "Producto B:   109.8370\n",
        "Producto C:  1190.0000\n",
        "```"
      ]
    },
    {
      "cell_type": "markdown",
      "metadata": {
        "id": "5FAut3Gj-mnW"
      },
      "source": [
        "<details>    \n",
        "<summary>\n",
        "    <font size=\"5\" color=\"MediumOrchid\"><b>💡 ¡Pista! 💡</b></font>\n",
        "    <hr/>\n",
        "    Haga clic para revelar la pista.\n",
        "</summary>\n",
        "\n",
        "* Al tratarse de un tupla, puede ser conveniente utilizar el concepto de **desempaquetado de tuplas** con el registro recibido como entrada para dar una mayor claridad al código utilizado. Recuerde que el desempaquetado de tuplas permite asignar múltiples variables a partir de los valores de una tupla, como se describe en el siguiente código:\n",
        "  ```python\n",
        "  # Desempaquetamos los valores de la tupla 'registro'.\n",
        "  nombre, precio = registro\n",
        "  ```\n",
        "* Aplicar el impuesto del IVA implica obtener un valor nuevo que corresponde a sumarle el $19\\%$ de su valor original. Es decir, un producto con un costo sin iva de $1000\\ \\$$ tendría un valor del impuesto de $190\\ \\$$, para un total de $1190\\ \\$$ más IVA.\n",
        "\n",
        "* Tenga en cuenta que el valor de retorno esperado es también una tupla de 2 elementos. Para esto, puede asignar la tupla a una variable o aprovechar que _Python_ permite retornar múltiples valores y empaquetarlos en una tupla simplemente usando el separador de coma **`,`**.\n",
        "  ```python\n",
        "  # Las siguientes dos alternativas son equivalentes.\n",
        "\n",
        "  # Opción 1. Asignar a una variable.\n",
        "  tupla = (a, b)\n",
        "  return tupla\n",
        "\n",
        "  # Opción 2. Retornar directamente.\n",
        "  return a, b\n",
        "  ```"
      ]
    },
    {
      "cell_type": "markdown",
      "metadata": {
        "id": "B166C4vhYI33"
      },
      "source": [
        "## **2. Selección por producto 🛒**\n",
        "***\n",
        "Después de solucionar el problema de aplicación del impuesto discutido en el punto anterior, se le asignó al equipo que está diseñando el proceso de selección de los productos por medio de filtros, que tienen como tarea actual permitir obtener únicamente los productos con un nombre dado. La idea es utilizar la función **`filter`** y utilizar una **función predicado** (es decir, que retorna un valor _booleano_) que determine si un registro corresponde con el nombre ingresado.\n",
        "\n",
        "Al empezar a plantear la solución se identifica un problema: las funciones que se usan al ejecutar la función **`filter`** tienen una estructura que recibe **1 único argumento** y retornan un valor lógico determinando si una condición se cumple. Sin embargo, el filtro deseado requiere tanto el **registro**, como el **nombre del producto**.\n",
        "\n",
        "Para solucionar esto, y aprovechando que las funciones son **un tipo de dato más** en _Python_, se plantea una solución que consiste en definir una función que **genere y retorne la función que necesitamos**.\n",
        "\n",
        "\n",
        "En esta actividad usted deberá implementar la función **`generar_filtro`**, que funcionará de la siguiente manera:\n",
        "\n",
        "1. Recibirá como argumento una cadena de texto **`consulta`**, con el nombre del producto que se desea filtrar. El objetivo final es obtener únicamente los registros que tengan exactamente este nombre.\n",
        "\n",
        "2. Definirá y retornará una función **`es_producto_consultado`**, que cumple con las condiciones de la función **`filter`**. Esta función cumple lo siguiente:\n",
        "  * **Entrada:** Recibe como entrada un registro con una cadena (**`nombre`**) y un número (**`precio`**).\n",
        "  * **Salida:** Retorna un valor _booleano_ que es verdadero si el nombre del registro es igual al valor de la **`consulta`**.\n",
        "\n",
        "\n",
        "> **Nota:** a diferencia del punto anterior, la función **`generar_filtro`** no va a ser usada con la función **`filter`**, sino que deberá crear y retornar una función apropiada para eso.\n",
        "\n",
        "***\n",
        "###**Entrada**\n",
        "\n",
        "- **`consulta`**: cadena de texto (**`str`**) con el nombre del producto del cuál se desean obtener los registros filtrados.\n",
        "\n",
        "***\n",
        "###**Salida**\n",
        "\n",
        "- **`es_producto_consultado`**: función (**`function`**) que cumple lo siguiente:\n",
        "    * **Entrada:** recibe como entrada una tupla de 2 elementos, donde el primero es una cadena de texto (**`str`**) con el **`nombre`** del producto y el segundo es un número real (**`float`**) con el **`precio`** de dicho producto.\n",
        "    * **Salida:** retorna un valor lógico (**`bool`**) que tiene valor **`True`** si el **`nombre`** del registro es igual que el valor de la **`consulta`**.\n"
      ]
    },
    {
      "cell_type": "code",
      "metadata": {
        "id": "x6AhKGo2fvK5"
      },
      "source": [
        "# FUNCIÓN CALIFICADA reportar_gasto_viaje\n",
        "\n",
        "def generar_filtro(consulta):\n",
        "  \"\"\"\n",
        "  Genera una función predicado que permite filtrar los registros de ventas\n",
        "  que tengan como nombre el valor dado en la variable 'consulta'.\n",
        "\n",
        "  :param consulta: cadena de texto con el nombre usado como consulta.\n",
        "  :return: función que recibe una tupla de dos valores y retorna un valor booleano\n",
        "  que indica si el registro coincide con el nombre que se consulta.\n",
        "  \"\"\"\n",
        "\n",
        "  ###### ESCRIBA SU CÓDIGO AQUÍ ###### (~ 2-6 líneas de código)\n",
        "\n",
        "  es_producto_consultado = (lambda x: False) # Reemplace por su solución.\n",
        "\n",
        "  ###### FIN DEL CÓDIGO ######\n",
        "\n",
        "  return es_producto_consultado"
      ],
      "execution_count": null,
      "outputs": []
    },
    {
      "cell_type": "markdown",
      "metadata": {
        "id": "B0GEgKdjhcvs"
      },
      "source": [
        "La función **`generar_filtro`** debería generar la función apropiada para ser usada con el método **`filter`**. En la plantilla dada se retorna la función **`lambda x: False`**, que sin importar cuál sea la entrada retorna un valor falso, resultando en un filtro que no retorna ningún valor. Elimine esta expresión y desarrolle su solución.\n",
        "\n",
        "\n",
        "Use la siguiente celda para probar su función:"
      ]
    },
    {
      "cell_type": "code",
      "metadata": {
        "id": "BPwxoNg8hcvv"
      },
      "source": [
        "#TEST_CELL\n",
        "\n",
        "# Registros de ejemplo.\n",
        "registros = [(\"Producto A\", 20.5),\n",
        "             (\"Producto B\", 92.3),\n",
        "             (\"Producto A\", 26.1),\n",
        "             (\"Producto A\", 39.3),\n",
        "             (\"Producto B\", 12.3),\n",
        "             (\"Producto C\", 843)]\n",
        "\n",
        "# Generamos la función para filtrar.\n",
        "filtro_A = generar_filtro(\"Producto A\")\n",
        "\n",
        "# Utilizamos el filtro con la función 'filter' e iteramos sobre el resultado.\n",
        "for producto, precio in filter(filtro_A, registros):\n",
        "  print(f\"{producto}: {precio:6.2f}\")"
      ],
      "execution_count": null,
      "outputs": []
    },
    {
      "cell_type": "markdown",
      "metadata": {
        "id": "qA3hXzfPhcvv"
      },
      "source": [
        "**Salida esperada**\n",
        "```python\n",
        "Producto A:  20.50\n",
        "Producto A:  26.10\n",
        "Producto A:  39.30\n",
        "```"
      ]
    },
    {
      "cell_type": "markdown",
      "metadata": {
        "id": "TnqmDrjrBCGo"
      },
      "source": [
        "<details>    \n",
        "<summary>\n",
        "    <font size=\"5\" color=\"MediumOrchid\"><b>💡 ¡Pista! 💡</b></font>\n",
        "    <hr/>\n",
        "    Haga clic para revelar la pista.\n",
        "</summary>\n",
        "\n",
        "* En este ejercicio es muy importante distinguir entre 2 funciones que hacen parte de la solución:\n",
        "  1. La función externa **`generar_filtro`** que se encarga de crear y retornar la función interna **`es_producto_consultado`**. Esta recibe una cadena y retorna una función, con las siguientes tipos involucrados:\n",
        "    > **`str`** -> **`function (tuple -> bool)`**\n",
        "  2. La función interna **`es_producto_consultado`** que se encarga de recibir un registro y determinar si cumple con la condición. Esta función SÍ puede ser usada como predicado en la función **`filter`**. Esta toma una tupla que debería tener una cadena de texto y un número real, tal como en el punto anterior, pero retorna únicamente un **valor _booleano_**. Por esta razón, no es necesario crear una tupla nueva que retornar y por lo tanto podemos evaluar la condición directamente.\n",
        "    > **`tuple (str, float)`** -> **`bool`**\n",
        "\n",
        "  Dado que queremos declarar y retornar una **función interna** a la función **`generar_filtro`** tenemos dos opciones. Por un lado, podemos usar un bloque de definición de funciones con la sentencia **`def`**. En esta alternativa es muy importante la indentación del código.\n",
        "\n",
        "  ```python\n",
        "  # Opción 1 - Definición de función.\n",
        "  def función_externa(...):\n",
        "      def función interna(...):\n",
        "          # ...\n",
        "      # Retornamos una función con su nombre.\n",
        "      return función_interna  # NO SE INVOCA, SOLO SE USA SU NOMBRE.\n",
        "  ```\n",
        "\n",
        " Por otro lado, podríamos generar la función con una expresión **`lambda`** y asignarla a una variable para después retornarla (o retornarla directamente).\n",
        "  ```python\n",
        "  # Opción 2 - Expresiones lambda.\n",
        "    def función_externa(...):\n",
        "        función interna = lambda x: ...\n",
        "\n",
        "        # Retornamos una función.\n",
        "        return función_interna # NO SE INVOCA, SOLO SE USA SU NOMBRE.     \n",
        "    ```\n",
        "\n",
        "\n",
        "* En ambos escenarios, todas las variables y nombres que hayan sido declarados (o en este caso **dados como entrada**) en la **función externa** también pueden ser accedidos en la **función interna**, que una vez **recuerda** su valor permanentemente, sin importar que la función externa sea ejecutada de nuevo o el valor usado cambie.\n",
        "\n",
        "  En nuestro caso, esto quiere decir que podemos usar el valor de la **`consulta`** directamente dentro de estas funciones, dado que estas recordarán el valor que contenía en el momento de crear la función interna. Por ejemplo, podemos crear una función que\n",
        "\n",
        "  ```python\n",
        "  def f(a):\n",
        "    def g(x):\n",
        "      # 'a' puede ser usado sin pasarlo como\n",
        "      # argumento de la función 'g'.\n",
        "      return a + x\n",
        "  ```\n",
        "\n",
        "\n",
        "\n",
        "\n",
        "  "
      ]
    },
    {
      "cell_type": "markdown",
      "metadata": {
        "id": "4luKKP58V-Qs"
      },
      "source": [
        "**¡Felicitaciones!** Ha terminado la práctica. ¡Buen trabajo!\n",
        "\n",
        "## **Entrega**\n",
        "---\n",
        "\n",
        "Para entregar el *notebook* por favor haga lo siguiente:\n",
        "1. Descargue el *notebook* (**`Archivo`** ⇒ **`Descargar .ipynb`**).\n",
        "2. Ingrese a la actividad en **_Edunext_**.\n",
        "3. Realice el envío del *notebook* que descargó en la actividad correspondiente.\n",
        "4. Recuerde que si tiene algún error, puede hacer múltiples intentos de envío en *UNCode*."
      ]
    },
    {
      "cell_type": "markdown",
      "metadata": {
        "id": "JJbV7A38uZhC"
      },
      "source": [
        "## **Créditos**\n",
        "---\n",
        "\n",
        "* **Profesores:**\n",
        "  * [Felipe Restrepo Calle, PhD](https://dis.unal.edu.co/~ferestrepoca/)\n",
        "  * [Fabio Augusto González, PhD](https://dis.unal.edu.co/~fgonza/)\n",
        "  * [Jorge Eliecer Camargo, PhD](https://dis.unal.edu.co/~jecamargom/)\n",
        "* **Asistentes docentes:**\n",
        "  - Edder Hernández Forero\n",
        "  - Alberto Nicolai Romero Martínez\n",
        "\n",
        "\n",
        "**Universidad Nacional de Colombia** - *Facultad de Ingeniería*\n"
      ]
    }
  ]
}